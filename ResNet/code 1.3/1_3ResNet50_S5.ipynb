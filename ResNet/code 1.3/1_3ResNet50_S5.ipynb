{
 "cells": [
  {
   "cell_type": "code",
   "execution_count": 1,
   "id": "8nVcdgB5XaVi",
   "metadata": {
    "execution": {
     "iopub.execute_input": "2025-05-19T18:02:19.807253Z",
     "iopub.status.busy": "2025-05-19T18:02:19.806966Z",
     "iopub.status.idle": "2025-05-19T18:09:00.702498Z",
     "shell.execute_reply": "2025-05-19T18:09:00.610531Z",
     "shell.execute_reply.started": "2025-05-19T18:02:19.807230Z"
    },
    "id": "8nVcdgB5XaVi",
    "tags": []
   },
   "outputs": [
    {
     "name": "stdout",
     "output_type": "stream",
     "text": [
      "Found existing installation: tensorflow 2.15.0\n",
      "Uninstalling tensorflow-2.15.0:\n",
      "  Successfully uninstalled tensorflow-2.15.0\n",
      "Found existing installation: keras 2.15.0\n",
      "Uninstalling keras-2.15.0:\n",
      "  Successfully uninstalled keras-2.15.0\n",
      "\u001b[33mWARNING: Skipping keras-nightly as it is not installed.\u001b[0m\u001b[33m\n",
      "\u001b[0m\u001b[33mWARNING: Skipping keras-Preprocessing as it is not installed.\u001b[0m\u001b[33m\n",
      "\u001b[0m\u001b[33mWARNING: Skipping keras-vis as it is not installed.\u001b[0m\u001b[33m\n",
      "\u001b[0mFound existing installation: h5py 3.13.0\n",
      "Uninstalling h5py-3.13.0:\n",
      "  Successfully uninstalled h5py-3.13.0\n",
      "\u001b[33mWARNING: Running pip as the 'root' user can result in broken permissions and conflicting behaviour with the system package manager. It is recommended to use a virtual environment instead: https://pip.pypa.io/warnings/venv\u001b[0m\u001b[33m\n",
      "\u001b[0mNote: you may need to restart the kernel to use updated packages.\n",
      "Found existing installation: protobuf 3.20.3\n",
      "Uninstalling protobuf-3.20.3:\n",
      "  Successfully uninstalled protobuf-3.20.3\n",
      "Found existing installation: numpy 1.24.3\n",
      "Uninstalling numpy-1.24.3:\n",
      "  Successfully uninstalled numpy-1.24.3\n",
      "Found existing installation: ml-dtypes 0.2.0\n",
      "Uninstalling ml-dtypes-0.2.0:\n",
      "  Successfully uninstalled ml-dtypes-0.2.0\n",
      "\u001b[33mWARNING: Running pip as the 'root' user can result in broken permissions and conflicting behaviour with the system package manager. It is recommended to use a virtual environment instead: https://pip.pypa.io/warnings/venv\u001b[0m\u001b[33m\n",
      "\u001b[0mNote: you may need to restart the kernel to use updated packages.\n",
      "Collecting numpy==1.24.3\n",
      "  Using cached numpy-1.24.3-cp39-cp39-manylinux_2_17_x86_64.manylinux2014_x86_64.whl (17.3 MB)\n",
      "Collecting protobuf==3.20.3\n",
      "  Using cached protobuf-3.20.3-cp39-cp39-manylinux_2_5_x86_64.manylinux1_x86_64.whl (1.0 MB)\n",
      "Collecting ml_dtypes==0.2.0\n",
      "  Using cached ml_dtypes-0.2.0-cp39-cp39-manylinux_2_17_x86_64.manylinux2014_x86_64.whl (1.0 MB)\n",
      "Installing collected packages: protobuf, numpy, ml_dtypes\n",
      "\u001b[31mERROR: pip's dependency resolver does not currently take into account all the packages that are installed. This behaviour is the source of the following dependency conflicts.\n",
      "numba 0.56.2 requires numpy<1.24,>=1.18, but you have numpy 1.24.3 which is incompatible.\u001b[0m\u001b[31m\n",
      "\u001b[0mSuccessfully installed ml_dtypes-0.2.0 numpy-1.24.3 protobuf-3.20.3\n",
      "\u001b[33mWARNING: Running pip as the 'root' user can result in broken permissions and conflicting behaviour with the system package manager. It is recommended to use a virtual environment instead: https://pip.pypa.io/warnings/venv\u001b[0m\u001b[33m\n",
      "\u001b[0mNote: you may need to restart the kernel to use updated packages.\n",
      "Collecting tensorflow==2.15.0\n",
      "  Using cached tensorflow-2.15.0-cp39-cp39-manylinux_2_17_x86_64.manylinux2014_x86_64.whl (475.2 MB)\n",
      "Requirement already satisfied: tensorflow-estimator<2.16,>=2.15.0 in /opt/conda/lib/python3.9/site-packages (from tensorflow==2.15.0) (2.15.0)\n",
      "Requirement already satisfied: astunparse>=1.6.0 in /opt/conda/lib/python3.9/site-packages (from tensorflow==2.15.0) (1.6.3)\n",
      "Requirement already satisfied: six>=1.12.0 in /opt/conda/lib/python3.9/site-packages (from tensorflow==2.15.0) (1.16.0)\n",
      "Requirement already satisfied: termcolor>=1.1.0 in /opt/conda/lib/python3.9/site-packages (from tensorflow==2.15.0) (3.0.1)\n",
      "Collecting h5py>=2.9.0\n",
      "  Using cached h5py-3.13.0-cp39-cp39-manylinux_2_17_x86_64.manylinux2014_x86_64.whl (4.6 MB)\n",
      "Collecting keras<2.16,>=2.15.0\n",
      "  Using cached keras-2.15.0-py3-none-any.whl (1.7 MB)\n",
      "Requirement already satisfied: tensorboard<2.16,>=2.15 in /opt/conda/lib/python3.9/site-packages (from tensorflow==2.15.0) (2.15.2)\n",
      "Requirement already satisfied: numpy<2.0.0,>=1.23.5 in /opt/conda/lib/python3.9/site-packages (from tensorflow==2.15.0) (1.24.3)\n",
      "Requirement already satisfied: grpcio<2.0,>=1.24.3 in /opt/conda/lib/python3.9/site-packages (from tensorflow==2.15.0) (1.70.0)\n",
      "Requirement already satisfied: libclang>=13.0.0 in /opt/conda/lib/python3.9/site-packages (from tensorflow==2.15.0) (18.1.1)\n",
      "Requirement already satisfied: setuptools in /opt/conda/lib/python3.9/site-packages (from tensorflow==2.15.0) (65.4.1)\n",
      "Requirement already satisfied: tensorflow-io-gcs-filesystem>=0.23.1 in /opt/conda/lib/python3.9/site-packages (from tensorflow==2.15.0) (0.37.1)\n",
      "Requirement already satisfied: typing-extensions>=3.6.6 in /opt/conda/lib/python3.9/site-packages (from tensorflow==2.15.0) (4.13.2)\n",
      "Requirement already satisfied: absl-py>=1.0.0 in /opt/conda/lib/python3.9/site-packages (from tensorflow==2.15.0) (2.1.0)\n",
      "Requirement already satisfied: flatbuffers>=23.5.26 in /opt/conda/lib/python3.9/site-packages (from tensorflow==2.15.0) (25.2.10)\n",
      "Requirement already satisfied: ml-dtypes~=0.2.0 in /opt/conda/lib/python3.9/site-packages (from tensorflow==2.15.0) (0.2.0)\n",
      "Requirement already satisfied: gast!=0.5.0,!=0.5.1,!=0.5.2,>=0.2.1 in /opt/conda/lib/python3.9/site-packages (from tensorflow==2.15.0) (0.6.0)\n",
      "Requirement already satisfied: wrapt<1.15,>=1.11.0 in /opt/conda/lib/python3.9/site-packages (from tensorflow==2.15.0) (1.14.1)\n",
      "Requirement already satisfied: opt-einsum>=2.3.2 in /opt/conda/lib/python3.9/site-packages (from tensorflow==2.15.0) (3.4.0)\n",
      "Requirement already satisfied: google-pasta>=0.1.1 in /opt/conda/lib/python3.9/site-packages (from tensorflow==2.15.0) (0.2.0)\n",
      "Requirement already satisfied: protobuf!=4.21.0,!=4.21.1,!=4.21.2,!=4.21.3,!=4.21.4,!=4.21.5,<5.0.0dev,>=3.20.3 in /opt/conda/lib/python3.9/site-packages (from tensorflow==2.15.0) (3.20.3)\n",
      "Requirement already satisfied: packaging in /opt/conda/lib/python3.9/site-packages (from tensorflow==2.15.0) (24.2)\n",
      "Requirement already satisfied: wheel<1.0,>=0.23.0 in /opt/conda/lib/python3.9/site-packages (from astunparse>=1.6.0->tensorflow==2.15.0) (0.37.1)\n",
      "Requirement already satisfied: requests<3,>=2.21.0 in /opt/conda/lib/python3.9/site-packages (from tensorboard<2.16,>=2.15->tensorflow==2.15.0) (2.32.3)\n",
      "Requirement already satisfied: markdown>=2.6.8 in /opt/conda/lib/python3.9/site-packages (from tensorboard<2.16,>=2.15->tensorflow==2.15.0) (3.7)\n",
      "Requirement already satisfied: tensorboard-data-server<0.8.0,>=0.7.0 in /opt/conda/lib/python3.9/site-packages (from tensorboard<2.16,>=2.15->tensorflow==2.15.0) (0.7.2)\n",
      "Requirement already satisfied: google-auth<3,>=1.6.3 in /opt/conda/lib/python3.9/site-packages (from tensorboard<2.16,>=2.15->tensorflow==2.15.0) (2.38.0)\n",
      "Requirement already satisfied: google-auth-oauthlib<2,>=0.5 in /opt/conda/lib/python3.9/site-packages (from tensorboard<2.16,>=2.15->tensorflow==2.15.0) (1.0.0)\n",
      "Requirement already satisfied: werkzeug>=1.0.1 in /opt/conda/lib/python3.9/site-packages (from tensorboard<2.16,>=2.15->tensorflow==2.15.0) (3.1.3)\n",
      "Requirement already satisfied: rsa<5,>=3.1.4 in /opt/conda/lib/python3.9/site-packages (from google-auth<3,>=1.6.3->tensorboard<2.16,>=2.15->tensorflow==2.15.0) (4.9)\n",
      "Requirement already satisfied: pyasn1-modules>=0.2.1 in /opt/conda/lib/python3.9/site-packages (from google-auth<3,>=1.6.3->tensorboard<2.16,>=2.15->tensorflow==2.15.0) (0.4.1)\n",
      "Requirement already satisfied: cachetools<6.0,>=2.0.0 in /opt/conda/lib/python3.9/site-packages (from google-auth<3,>=1.6.3->tensorboard<2.16,>=2.15->tensorflow==2.15.0) (5.5.1)\n",
      "Requirement already satisfied: requests-oauthlib>=0.7.0 in /opt/conda/lib/python3.9/site-packages (from google-auth-oauthlib<2,>=0.5->tensorboard<2.16,>=2.15->tensorflow==2.15.0) (2.0.0)\n",
      "Requirement already satisfied: importlib-metadata>=4.4 in /opt/conda/lib/python3.9/site-packages (from markdown>=2.6.8->tensorboard<2.16,>=2.15->tensorflow==2.15.0) (4.11.4)\n",
      "Requirement already satisfied: urllib3<3,>=1.21.1 in /opt/conda/lib/python3.9/site-packages (from requests<3,>=2.21.0->tensorboard<2.16,>=2.15->tensorflow==2.15.0) (2.4.0)\n",
      "Requirement already satisfied: charset-normalizer<4,>=2 in /opt/conda/lib/python3.9/site-packages (from requests<3,>=2.21.0->tensorboard<2.16,>=2.15->tensorflow==2.15.0) (2.1.1)\n",
      "Requirement already satisfied: idna<4,>=2.5 in /opt/conda/lib/python3.9/site-packages (from requests<3,>=2.21.0->tensorboard<2.16,>=2.15->tensorflow==2.15.0) (3.4)\n",
      "Requirement already satisfied: certifi>=2017.4.17 in /opt/conda/lib/python3.9/site-packages (from requests<3,>=2.21.0->tensorboard<2.16,>=2.15->tensorflow==2.15.0) (2025.1.31)\n",
      "Requirement already satisfied: MarkupSafe>=2.1.1 in /opt/conda/lib/python3.9/site-packages (from werkzeug>=1.0.1->tensorboard<2.16,>=2.15->tensorflow==2.15.0) (2.1.2)\n",
      "Requirement already satisfied: zipp>=0.5 in /opt/conda/lib/python3.9/site-packages (from importlib-metadata>=4.4->markdown>=2.6.8->tensorboard<2.16,>=2.15->tensorflow==2.15.0) (3.9.0)\n",
      "Requirement already satisfied: pyasn1<0.7.0,>=0.4.6 in /opt/conda/lib/python3.9/site-packages (from pyasn1-modules>=0.2.1->google-auth<3,>=1.6.3->tensorboard<2.16,>=2.15->tensorflow==2.15.0) (0.6.1)\n",
      "Requirement already satisfied: oauthlib>=3.0.0 in /opt/conda/lib/python3.9/site-packages (from requests-oauthlib>=0.7.0->google-auth-oauthlib<2,>=0.5->tensorboard<2.16,>=2.15->tensorflow==2.15.0) (3.2.2)\n",
      "Installing collected packages: keras, h5py, tensorflow\n",
      "Successfully installed h5py-3.13.0 keras-2.15.0 tensorflow-2.15.0\n",
      "\u001b[33mWARNING: Running pip as the 'root' user can result in broken permissions and conflicting behaviour with the system package manager. It is recommended to use a virtual environment instead: https://pip.pypa.io/warnings/venv\u001b[0m\u001b[33m\n",
      "\u001b[0mNote: you may need to restart the kernel to use updated packages.\n"
     ]
    }
   ],
   "source": [
    "# 在 notebook 第一格執行\n",
    "%pip uninstall -y tensorflow keras keras-nightly keras-Preprocessing keras-vis h5py\n",
    "%pip uninstall -y protobuf numpy ml_dtypes\n",
    "%pip install numpy==1.24.3 protobuf==3.20.3 ml_dtypes==0.2.0\n",
    "%pip install tensorflow==2.15.0"
   ]
  },
  {
   "cell_type": "code",
   "execution_count": 2,
   "id": "19dd142d-af4f-4cc4-a737-cb5cf859e92e",
   "metadata": {
    "colab": {
     "referenced_widgets": [
      "11eddfa851a543dd971b0f844c71741b"
     ]
    },
    "execution": {
     "iopub.execute_input": "2025-05-19T18:09:00.705620Z",
     "iopub.status.busy": "2025-05-19T18:09:00.705212Z",
     "iopub.status.idle": "2025-05-19T18:09:01.907235Z",
     "shell.execute_reply": "2025-05-19T18:09:01.906724Z",
     "shell.execute_reply.started": "2025-05-19T18:09:00.705575Z"
    },
    "id": "19dd142d-af4f-4cc4-a737-cb5cf859e92e",
    "outputId": "0f84b91d-09bf-467b-ef29-7437798f7bb4",
    "tags": []
   },
   "outputs": [
    {
     "data": {
      "application/vnd.jupyter.widget-view+json": {
       "model_id": "ae5fb73dd3fc41428434580bea8c4360",
       "version_major": 2,
       "version_minor": 0
      },
      "text/plain": [
       "FileUpload(value=(), description='Upload')"
      ]
     },
     "metadata": {},
     "output_type": "display_data"
    }
   ],
   "source": [
    "from IPython.display import display\n",
    "import os\n",
    "\n",
    "# 上傳檔案（會跳出檔案選擇器）\n",
    "from ipywidgets import FileUpload\n",
    "\n",
    "upload = FileUpload()\n",
    "display(upload)"
   ]
  },
  {
   "cell_type": "code",
   "execution_count": 3,
   "id": "172906a3-1dd5-4484-a903-2877d1e50ebc",
   "metadata": {
    "execution": {
     "iopub.execute_input": "2025-05-19T18:13:51.803381Z",
     "iopub.status.busy": "2025-05-19T18:13:51.802996Z",
     "iopub.status.idle": "2025-05-19T18:13:51.903775Z",
     "shell.execute_reply": "2025-05-19T18:13:51.903012Z",
     "shell.execute_reply.started": "2025-05-19T18:13:51.803355Z"
    },
    "id": "172906a3-1dd5-4484-a903-2877d1e50ebc",
    "outputId": "d911b214-4fca-45d4-d2b8-aec99db1c24e",
    "tags": []
   },
   "outputs": [
    {
     "name": "stdout",
     "output_type": "stream",
     "text": [
      "{'name': 'kaggle.json', 'type': 'application/json', 'size': 69, 'content': <memory at 0x7638f56bbe80>, 'last_modified': datetime.datetime(2025, 5, 17, 11, 46, 32, 106000, tzinfo=datetime.timezone.utc)}\n",
      "kaggle.json 已成功儲存至 /home/jovyan/.kaggle/kaggle.json\n"
     ]
    }
   ],
   "source": [
    "import os\n",
    "from pathlib import Path\n",
    "\n",
    "# 假設你只上傳了一個檔案\n",
    "fileinfo = upload.value[0]  # 通常是一個 dict，含 'name' 和 'content'\n",
    "\n",
    "# 顯示內容結構（除錯用）\n",
    "print(fileinfo)\n",
    "\n",
    "# 儲存 kaggle.json\n",
    "filename = fileinfo['name']\n",
    "content = fileinfo['content']\n",
    "\n",
    "kaggle_dir = Path.home() / \".kaggle\"\n",
    "kaggle_dir.mkdir(exist_ok=True)\n",
    "\n",
    "kaggle_json_path = kaggle_dir / \"kaggle.json\"\n",
    "with open(kaggle_json_path, \"wb\") as f:\n",
    "    f.write(content)\n",
    "\n",
    "# 設定權限（Linux/macOS 建議）\n",
    "os.chmod(kaggle_json_path, 0o600)\n",
    "\n",
    "print(f\"{filename} 已成功儲存至 {kaggle_json_path}\")"
   ]
  },
  {
   "cell_type": "code",
   "execution_count": 4,
   "id": "e13e384c-f12d-4c02-b891-80542dd9a6db",
   "metadata": {
    "execution": {
     "iopub.execute_input": "2025-05-19T18:13:52.402618Z",
     "iopub.status.busy": "2025-05-19T18:13:52.402288Z",
     "iopub.status.idle": "2025-05-19T18:13:59.007986Z",
     "shell.execute_reply": "2025-05-19T18:13:59.007130Z",
     "shell.execute_reply.started": "2025-05-19T18:13:52.402576Z"
    },
    "id": "e13e384c-f12d-4c02-b891-80542dd9a6db",
    "outputId": "f04bf468-9dbf-47f0-b8b9-da7766f6d289",
    "tags": []
   },
   "outputs": [
    {
     "name": "stdout",
     "output_type": "stream",
     "text": [
      "ref                                                     title                                                  size  lastUpdated                 downloadCount  voteCount  usabilityRating  \n",
      "------------------------------------------------------  ----------------------------------------------  -----------  --------------------------  -------------  ---------  ---------------  \n",
      "fedesoriano/cifar100                                    CIFAR-100 Python                                  168517809  2020-12-26 08:37:10.143000          12249        176  1.0              \n",
      "pankrzysiu/cifar10-python                               CIFAR-10 Python                                   340613496  2018-01-27 13:42:40.967000          14761        252  0.75             \n",
      "petitbonney/cifar10-image-recognition                   CIFAR-10                                         1007971063  2019-10-01 12:50:23.227000           2855         26  0.8235294        \n",
      "valentynsichkar/cifar10-preprocessed                    CIFAR10 Preprocessed                             1227571899  2019-07-13 13:43:11                  3351         63  1.0              \n",
      "swaroopkml/cifar10-pngs-in-folders                      CIFAR-10 PNGs in folders                          293479104  2019-02-10 11:16:19.507000          13405         96  0.6875           \n",
      "fedesoriano/cifar10-python-in-csv                       CIFAR-10 Python in CSV                            218807675  2021-06-22 09:07:55                  7014         52  1.0              \n",
      "ayush1220/cifar10                                       CIFAR-10                                          146259525  2022-01-11 21:03:48.427000           1257         12  0.6875           \n",
      "alincijov/cifar-100                                     CIFAR-100                                         168517809  2020-09-13 13:40:25.763000            370         16  0.625            \n",
      "quanbk/cifar10                                          Cifar-10                                          170062484  2017-11-22 01:12:26                  3617         26  0.25             \n",
      "emadtolba/cifar10-comp                                  Cifar-10 comp                                     706709151  2018-09-09 02:55:22.263000            384         12  0.64705884       \n",
      "birdy654/cifake-real-and-ai-generated-synthetic-images  CIFAKE: Real and AI-Generated Synthetic Images    109625224  2023-03-28 16:00:29                 19673        150  0.875            \n",
      "amishfaldu/cifar10dataset                               Cifar-10 Dataset                                 4989376312  2020-10-07 04:30:40                   344          6  1.0              \n",
      "ibraheemmoosa/cifar100-256x256                          CIFAR100 256x256                                 2817065558  2021-04-24 17:09:57                  1032         23  0.875            \n",
      "jessicali9530/stl10                                     STL-10 Image Recognition Dataset                 2017846807  2018-06-11 03:02:24.153000           6838        124  0.75             \n",
      "oxcdcd/cifar10                                          cifar10                                           183819211  2018-08-12 09:31:35.253000           3390         35  0.1875           \n",
      "gazu468/cifar10-classification-image                    Cifar10 Classification Image                      146259525  2022-10-29 18:47:18.453000            757         14  0.5              \n",
      "pavansanagapati/cifar100                                CIFAR-100                                         337036008  2018-06-21 12:23:51.707000            416          4  0.3125           \n",
      "ekaakurniawan/the-cifar10-dataset                       The CIFAR-10 Dataset                              170063312  2021-04-06 16:57:56                   510          4  0.9375           \n",
      "pypiahmad/cifar-100                                     CIFAR-100                                         168517947  2023-10-29 09:53:59                    80         11  0.6875           \n",
      "imsparsh/musicnet-dataset                               MusicNet Dataset                                23086004822  2021-02-18 14:12:19.753000          16090        527  1.0              \n"
     ]
    }
   ],
   "source": [
    "!kaggle datasets list -s cifar\n"
   ]
  },
  {
   "cell_type": "code",
   "execution_count": 7,
   "id": "2e5fb396-b2e8-4b41-a76c-81dcd0626c01",
   "metadata": {
    "execution": {
     "iopub.execute_input": "2025-05-19T18:30:17.802057Z",
     "iopub.status.busy": "2025-05-19T18:30:17.709343Z",
     "iopub.status.idle": "2025-05-19T18:49:29.105936Z",
     "shell.execute_reply": "2025-05-19T18:49:29.105117Z",
     "shell.execute_reply.started": "2025-05-19T18:30:17.802000Z"
    },
    "id": "2e5fb396-b2e8-4b41-a76c-81dcd0626c01",
    "outputId": "64f9492c-0a04-4d31-f780-42ba9524b19b",
    "tags": []
   },
   "outputs": [
    {
     "name": "stdout",
     "output_type": "stream",
     "text": [
      "Requirement already satisfied: kaggle in /opt/conda/lib/python3.9/site-packages (1.7.4.5)\n",
      "Requirement already satisfied: webencodings in /opt/conda/lib/python3.9/site-packages (from kaggle) (0.5.1)\n",
      "Requirement already satisfied: python-dateutil>=2.5.3 in /opt/conda/lib/python3.9/site-packages (from kaggle) (2.8.2)\n",
      "Requirement already satisfied: requests in /opt/conda/lib/python3.9/site-packages (from kaggle) (2.32.3)\n",
      "Requirement already satisfied: bleach in /opt/conda/lib/python3.9/site-packages (from kaggle) (5.0.1)\n",
      "Requirement already satisfied: urllib3>=1.15.1 in /opt/conda/lib/python3.9/site-packages (from kaggle) (2.4.0)\n",
      "Requirement already satisfied: tqdm in /opt/conda/lib/python3.9/site-packages (from kaggle) (4.64.1)\n",
      "Requirement already satisfied: setuptools>=21.0.0 in /opt/conda/lib/python3.9/site-packages (from kaggle) (65.4.1)\n",
      "Requirement already satisfied: protobuf in /opt/conda/lib/python3.9/site-packages (from kaggle) (3.20.3)\n",
      "Requirement already satisfied: certifi>=14.05.14 in /opt/conda/lib/python3.9/site-packages (from kaggle) (2025.1.31)\n",
      "Requirement already satisfied: text-unidecode in /opt/conda/lib/python3.9/site-packages (from kaggle) (1.3)\n",
      "Requirement already satisfied: idna in /opt/conda/lib/python3.9/site-packages (from kaggle) (3.4)\n",
      "Requirement already satisfied: charset-normalizer in /opt/conda/lib/python3.9/site-packages (from kaggle) (2.1.1)\n",
      "Requirement already satisfied: python-slugify in /opt/conda/lib/python3.9/site-packages (from kaggle) (8.0.4)\n",
      "Requirement already satisfied: six>=1.10 in /opt/conda/lib/python3.9/site-packages (from kaggle) (1.16.0)\n",
      "\u001b[33mWARNING: Running pip as the 'root' user can result in broken permissions and conflicting behaviour with the system package manager. It is recommended to use a virtual environment instead: https://pip.pypa.io/warnings/venv\u001b[0m\u001b[33m\n",
      "\u001b[0mRequirement already satisfied: pandas in /opt/conda/lib/python3.9/site-packages (2.2.3)\n",
      "Requirement already satisfied: python-dateutil>=2.8.2 in /opt/conda/lib/python3.9/site-packages (from pandas) (2.8.2)\n",
      "Requirement already satisfied: numpy>=1.22.4 in /opt/conda/lib/python3.9/site-packages (from pandas) (1.24.3)\n",
      "Requirement already satisfied: tzdata>=2022.7 in /opt/conda/lib/python3.9/site-packages (from pandas) (2025.2)\n",
      "Requirement already satisfied: pytz>=2020.1 in /opt/conda/lib/python3.9/site-packages (from pandas) (2022.4)\n",
      "Requirement already satisfied: six>=1.5 in /opt/conda/lib/python3.9/site-packages (from python-dateutil>=2.8.2->pandas) (1.16.0)\n",
      "\u001b[33mWARNING: Running pip as the 'root' user can result in broken permissions and conflicting behaviour with the system package manager. It is recommended to use a virtual environment instead: https://pip.pypa.io/warnings/venv\u001b[0m\u001b[33m\n",
      "\u001b[0mcp: cannot stat 'kaggle.json': No such file or directory\n",
      "Downloading dog-breed-identification.zip to /home/jovyan\n",
      "100%|███████████████████████████████████████▉| 690M/691M [00:35<00:00, 14.8MB/s]\n",
      "100%|████████████████████████████████████████| 691M/691M [00:35<00:00, 20.6MB/s]\n"
     ]
    }
   ],
   "source": [
    "!pip install -U kaggle\n",
    "!pip install --upgrade pandas\n",
    "import os\n",
    "import zipfile\n",
    "\n",
    "# 建立 Kaggle 資料夾\n",
    "!mkdir -p ~/.kaggle\n",
    "!cp kaggle.json ~/.kaggle/\n",
    "!chmod 600 ~/.kaggle/kaggle.json\n",
    "\n",
    "# 下載 Dog Breed Identification 資料集\n",
    "!kaggle competitions download -c dog-breed-identification --force\n",
    "!unzip -oq dog-breed-identification.zip -d dog-breed-identification\n",
    "\n",
    "\n",
    "import pandas as pd\n",
    "import numpy as np\n",
    "\n",
    "labels = pd.read_csv('dog-breed-identification/labels.csv')\n"
   ]
  },
  {
   "cell_type": "code",
   "execution_count": 8,
   "id": "730c9a46-2b61-48be-b907-137ded3ab21d",
   "metadata": {
    "execution": {
     "iopub.execute_input": "2025-05-19T18:49:29.107658Z",
     "iopub.status.busy": "2025-05-19T18:49:29.107365Z",
     "iopub.status.idle": "2025-05-19T18:55:25.105113Z",
     "shell.execute_reply": "2025-05-19T18:55:25.104097Z",
     "shell.execute_reply.started": "2025-05-19T18:49:29.107630Z"
    },
    "id": "730c9a46-2b61-48be-b907-137ded3ab21d",
    "outputId": "d070fd97-2a6f-4236-ba8a-df78c879d52a",
    "tags": []
   },
   "outputs": [
    {
     "name": "stderr",
     "output_type": "stream",
     "text": [
      "100%|██████████| 10222/10222 [05:55<00:00, 28.75it/s]\n"
     ]
    }
   ],
   "source": [
    "import os\n",
    "import shutil\n",
    "import pandas as pd\n",
    "from PIL import Image\n",
    "from tqdm import tqdm\n",
    "# 讀取標籤\n",
    "labels = pd.read_csv('dog-breed-identification/labels.csv')\n",
    "# 建立目標輸出資料夾\n",
    "output_dir = \"dog_images\"\n",
    "train_dir = os.path.join(output_dir, \"train\")\n",
    "os.makedirs(train_dir, exist_ok=True)\n",
    "\n",
    "# 根據標籤將圖片存入對應資料夾\n",
    "def organize_train_images(labels): # Pass labels as an argument\n",
    "    src_img_dir = \"dog-breed-identification/train\"\n",
    "    for idx, row in tqdm(labels.iterrows(), total=len(labels)):\n",
    "        img_id = row['id']\n",
    "        breed = row['breed']\n",
    "        src_path = os.path.join(src_img_dir, img_id + \".jpg\")\n",
    "\n",
    "        # 建立品種對應資料夾\n",
    "        breed_dir = os.path.join(train_dir, breed)\n",
    "        os.makedirs(breed_dir, exist_ok=True)\n",
    "\n",
    "        dst_path = os.path.join(breed_dir, img_id + \".jpg\")\n",
    "        shutil.copyfile(src_path, dst_path)\n",
    "\n",
    "# Load labels outside the function\n",
    "labels = pd.read_csv('dog-breed-identification/labels.csv')\n",
    "organize_train_images(labels) # Call the function with labels argument"
   ]
  },
  {
   "cell_type": "code",
   "execution_count": 9,
   "id": "53fafafb-66d1-417b-9603-84097d9b4686",
   "metadata": {
    "execution": {
     "iopub.execute_input": "2025-05-19T18:55:25.107704Z",
     "iopub.status.busy": "2025-05-19T18:55:25.106838Z",
     "iopub.status.idle": "2025-05-19T18:55:40.111739Z",
     "shell.execute_reply": "2025-05-19T18:55:40.110706Z",
     "shell.execute_reply.started": "2025-05-19T18:55:25.107664Z"
    },
    "id": "53fafafb-66d1-417b-9603-84097d9b4686",
    "tags": []
   },
   "outputs": [],
   "source": [
    " #自定義 Dataset 類別\n",
    "import torch\n",
    "from torch.utils.data import Dataset\n",
    "from torchvision import transforms\n",
    "from PIL import Image\n",
    "import os\n",
    "\n",
    "class DogBreedImageFolder(Dataset):\n",
    "    def __init__(self, root_dir, transform=None):\n",
    "        self.root_dir = root_dir\n",
    "        self.transform = transform\n",
    "        self.image_paths = []\n",
    "        self.labels = []\n",
    "\n",
    "        # 建立類別對應表：品種 → 數值 label\n",
    "        class_names = sorted(os.listdir(root_dir))\n",
    "        self.class_to_idx = {class_name: idx for idx, class_name in enumerate(class_names)}\n",
    "\n",
    "        for class_name in class_names:\n",
    "            class_folder = os.path.join(root_dir, class_name)\n",
    "            if not os.path.isdir(class_folder):\n",
    "                continue\n",
    "            for filename in os.listdir(class_folder):\n",
    "                if filename.endswith(('.jpg', '.png')):\n",
    "                    self.image_paths.append(os.path.join(class_folder, filename))\n",
    "                    self.labels.append(self.class_to_idx[class_name])\n",
    "\n",
    "    def __len__(self):\n",
    "        return len(self.image_paths)\n",
    "\n",
    "    def __getitem__(self, idx):\n",
    "        img_path = self.image_paths[idx]\n",
    "        label = self.labels[idx]\n",
    "        image = Image.open(img_path).convert(\"RGB\")\n",
    "        if self.transform:\n",
    "            image = self.transform(image)\n",
    "        return image, label"
   ]
  },
  {
   "cell_type": "code",
   "execution_count": 10,
   "id": "dbbeeba0-bf0d-4bd6-9a0d-970074bdae22",
   "metadata": {
    "execution": {
     "iopub.execute_input": "2025-05-19T18:55:40.113457Z",
     "iopub.status.busy": "2025-05-19T18:55:40.113213Z",
     "iopub.status.idle": "2025-05-19T18:55:40.120221Z",
     "shell.execute_reply": "2025-05-19T18:55:40.119101Z",
     "shell.execute_reply.started": "2025-05-19T18:55:40.113440Z"
    },
    "id": "dbbeeba0-bf0d-4bd6-9a0d-970074bdae22",
    "tags": []
   },
   "outputs": [],
   "source": [
    "# 定義 Transform\n",
    "from torchvision.transforms import RandomResizedCrop, RandomHorizontalFlip, ColorJitter, RandomRotation, ToTensor, Normalize\n",
    "\n",
    "train_transform = transforms.Compose([\n",
    "    transforms.RandomResizedCrop(224, scale=(0.7, 1.0)),  # 隨機縮放裁切\n",
    "    transforms.RandomHorizontalFlip(),\n",
    "    transforms.RandomRotation(10),\n",
    "    transforms.ColorJitter(brightness=0.3, contrast=0.3, saturation=0.3),\n",
    "    transforms.ToTensor(),\n",
    "    transforms.Normalize((0.485, 0.456, 0.406),  # 使用 ImageNet 的 mean/std\n",
    "                         (0.229, 0.224, 0.225)),\n",
    "])\n",
    "\n",
    "\n",
    "test_transform = transforms.Compose([\n",
    "    transforms.Resize((224, 224)),\n",
    "    transforms.ToTensor(),\n",
    "    transforms.Normalize((0.485, 0.456, 0.406), (0.229, 0.224, 0.225))\n",
    "])"
   ]
  },
  {
   "cell_type": "code",
   "execution_count": 11,
   "id": "23347d9e-a207-46c7-991b-7b7c9043c443",
   "metadata": {
    "execution": {
     "iopub.execute_input": "2025-05-19T18:55:40.202869Z",
     "iopub.status.busy": "2025-05-19T18:55:40.202287Z",
     "iopub.status.idle": "2025-05-19T18:55:40.518249Z",
     "shell.execute_reply": "2025-05-19T18:55:40.517719Z",
     "shell.execute_reply.started": "2025-05-19T18:55:40.202845Z"
    },
    "id": "23347d9e-a207-46c7-991b-7b7c9043c443",
    "outputId": "0549e703-37c9-4126-aeb8-c7ccbd15c6e5",
    "tags": []
   },
   "outputs": [
    {
     "name": "stdout",
     "output_type": "stream",
     "text": [
      "Train label distribution: Counter({11: 101, 97: 99, 73: 97, 1: 94, 7: 90, 87: 90, 3: 88, 109: 88, 52: 88, 100: 87, 42: 87, 9: 86, 26: 86, 69: 85, 94: 85, 68: 83, 59: 83, 61: 82, 75: 80, 70: 80, 78: 80, 101: 79, 86: 78, 6: 78, 117: 77, 93: 77, 55: 76, 13: 75, 95: 74, 102: 74, 84: 74, 17: 73, 20: 72, 30: 71, 60: 71, 15: 70, 119: 70, 88: 70, 92: 70, 64: 69, 62: 69, 58: 69, 39: 69, 90: 69, 98: 69, 56: 69, 28: 69, 67: 69, 114: 69, 54: 68, 53: 68, 2: 68, 105: 68, 111: 68, 35: 68, 14: 68, 118: 68, 71: 68, 0: 67, 80: 67, 85: 67, 82: 67, 74: 66, 47: 66, 79: 66, 63: 66, 76: 66, 19: 66, 50: 65, 57: 65, 115: 65, 38: 65, 41: 64, 116: 64, 8: 64, 33: 64, 37: 64, 104: 64, 21: 64, 12: 63, 31: 63, 10: 63, 77: 63, 110: 62, 25: 62, 27: 62, 81: 61, 18: 60, 96: 60, 32: 60, 113: 59, 91: 59, 51: 59, 40: 59, 107: 58, 34: 58, 36: 58, 5: 58, 99: 57, 112: 57, 89: 57, 44: 57, 103: 57, 48: 57, 29: 56, 4: 56, 24: 55, 72: 55, 65: 54, 49: 54, 23: 54, 22: 54, 16: 53, 45: 53, 43: 53, 108: 52, 46: 51, 83: 50, 106: 49, 66: 48})\n",
      "Val label distribution: Counter({80: 28, 42: 28, 13: 27, 97: 27, 10: 26, 100: 25, 40: 24, 6: 24, 88: 24, 94: 24, 61: 23, 106: 23, 52: 23, 66: 23, 33: 23, 93: 22, 84: 22, 1: 22, 30: 22, 96: 22, 75: 22, 69: 21, 35: 21, 87: 21, 19: 21, 60: 21, 7: 20, 73: 20, 5: 20, 107: 20, 63: 20, 82: 20, 26: 20, 99: 19, 3: 19, 98: 19, 109: 19, 9: 19, 16: 19, 83: 19, 90: 19, 56: 19, 4: 18, 117: 18, 24: 18, 36: 18, 110: 18, 72: 18, 2: 18, 8: 18, 46: 18, 59: 18, 17: 18, 79: 17, 39: 17, 81: 17, 14: 17, 91: 17, 57: 17, 45: 17, 31: 17, 116: 17, 108: 17, 37: 16, 68: 16, 101: 16, 102: 16, 114: 16, 51: 16, 50: 16, 77: 15, 15: 15, 104: 15, 29: 15, 55: 15, 44: 15, 89: 15, 18: 15, 67: 15, 103: 14, 32: 14, 115: 14, 34: 14, 28: 14, 54: 14, 12: 14, 27: 14, 53: 14, 118: 14, 86: 14, 74: 14, 92: 14, 20: 14, 22: 13, 65: 13, 71: 13, 49: 13, 112: 13, 76: 13, 25: 13, 0: 13, 43: 13, 64: 13, 11: 13, 48: 12, 95: 12, 62: 12, 23: 12, 119: 12, 21: 11, 78: 11, 111: 11, 41: 11, 105: 11, 113: 10, 70: 10, 47: 9, 38: 9, 58: 9, 85: 8})\n"
     ]
    }
   ],
   "source": [
    "# 建立 Dataset 與切分\n",
    "from torch.utils.data import random_split, DataLoader, WeightedRandomSampler\n",
    "import collections\n",
    "from collections import Counter\n",
    "\n",
    "# 讀取分類後資料\n",
    "dataset = DogBreedImageFolder(\"dog_images/train\", transform=train_transform)\n",
    "\n",
    "# 計算資料數量與切分比例\n",
    "val_ratio = 0.2\n",
    "val_size = int(len(dataset) * val_ratio)\n",
    "train_size = len(dataset) - val_size\n",
    "train_dataset, val_dataset = random_split(dataset, [train_size, val_size])\n",
    "\n",
    "# 取得 training set 的原始 indices\n",
    "train_indices = train_dataset.indices  # 是 dataset 中對應的索引\n",
    "train_labels = [dataset.labels[i] for i in train_indices]\n",
    "\n",
    "# 計算類別樣本數與每個 sample 權重\n",
    "label_counts = Counter(train_labels)\n",
    "class_sample_counts = [label_counts[i] for i in range(len(label_counts))]\n",
    "sample_weights = [1.0 / class_sample_counts[label] for label in train_labels]\n",
    "\n",
    "# 建立 WeightedRandomSampler\n",
    "sampler = WeightedRandomSampler(weights=sample_weights, num_samples=len(sample_weights), replacement=True)\n",
    "\n",
    "# 建立 DataLoader（train 用 sampler, val 用 shuffle=False）\n",
    "train_loader = DataLoader(train_dataset, batch_size=16, sampler=sampler, num_workers=2)\n",
    "val_loader = DataLoader(val_dataset, batch_size=32, shuffle=False, num_workers=2)\n",
    "\n",
    "# 顯示類別分布（驗證分布仍可看是否合理）\n",
    "val_labels = [dataset.labels[i] for i in val_dataset.indices]\n",
    "print(\"Train label distribution:\", Counter(train_labels))\n",
    "print(\"Val label distribution:\", Counter(val_labels))\n",
    "#這是調平衡的"
   ]
  },
  {
   "cell_type": "code",
   "execution_count": 12,
   "id": "3e1463af-eddd-4236-a9f1-cc18f2fa9062",
   "metadata": {
    "execution": {
     "iopub.execute_input": "2025-05-19T18:55:40.518875Z",
     "iopub.status.busy": "2025-05-19T18:55:40.518697Z",
     "iopub.status.idle": "2025-05-19T18:55:40.606088Z",
     "shell.execute_reply": "2025-05-19T18:55:40.605095Z",
     "shell.execute_reply.started": "2025-05-19T18:55:40.518852Z"
    },
    "id": "3e1463af-eddd-4236-a9f1-cc18f2fa9062",
    "tags": []
   },
   "outputs": [],
   "source": [
    "train_loader = DataLoader(train_dataset, batch_size=16, shuffle=True, num_workers=2)\n",
    "val_loader = DataLoader(val_dataset, batch_size=32, shuffle=False, num_workers=2)\n"
   ]
  },
  {
   "cell_type": "code",
   "execution_count": 13,
   "id": "642563ca-8cb7-4029-a485-77bd5307ced0",
   "metadata": {
    "execution": {
     "iopub.execute_input": "2025-05-19T18:55:40.607090Z",
     "iopub.status.busy": "2025-05-19T18:55:40.606871Z",
     "iopub.status.idle": "2025-05-19T18:55:44.505254Z",
     "shell.execute_reply": "2025-05-19T18:55:44.504493Z",
     "shell.execute_reply.started": "2025-05-19T18:55:40.607069Z"
    },
    "id": "642563ca-8cb7-4029-a485-77bd5307ced0",
    "outputId": "4c3ce06c-5bc6-4f2e-f34d-163781442642",
    "tags": []
   },
   "outputs": [
    {
     "name": "stdout",
     "output_type": "stream",
     "text": [
      "Images shape: torch.Size([16, 3, 224, 224])\n",
      "Labels shape: torch.Size([16])\n"
     ]
    }
   ],
   "source": [
    "#驗證資料載入\n",
    "# 驗證一個 batch\n",
    "for images, labels in train_loader:\n",
    "    print(\"Images shape:\", images.shape)  # [B, 3, 224, 224]\n",
    "    print(\"Labels shape:\", labels.shape)  # [B]\n",
    "    break"
   ]
  },
  {
   "cell_type": "code",
   "execution_count": 14,
   "id": "e2d5cb3c-7f1e-44bf-b0cc-5169d3d827d0",
   "metadata": {
    "execution": {
     "iopub.execute_input": "2025-05-19T18:55:44.506514Z",
     "iopub.status.busy": "2025-05-19T18:55:44.506263Z",
     "iopub.status.idle": "2025-05-19T18:55:53.617442Z",
     "shell.execute_reply": "2025-05-19T18:55:53.616901Z",
     "shell.execute_reply.started": "2025-05-19T18:55:44.506490Z"
    },
    "id": "e2d5cb3c-7f1e-44bf-b0cc-5169d3d827d0",
    "outputId": "fb111cb7-e29c-40b8-ca63-dcb47f6fe2a7",
    "tags": []
   },
   "outputs": [
    {
     "name": "stderr",
     "output_type": "stream",
     "text": [
      "Clipping input data to the valid range for imshow with RGB data ([0..1] for floats or [0..255] for integers).\n"
     ]
    },
    {
     "data": {
      "image/png": "[encoded data removed]",
      "text/plain": [
       "<Figure size 640x480 with 1 Axes>"
      ]
     },
     "metadata": {},
     "output_type": "display_data"
    }
   ],
   "source": [
    "# 如果需要視覺化一個 batch\n",
    "import matplotlib.pyplot as plt\n",
    "def show_batch(loader):\n",
    "    images, labels = next(iter(loader))\n",
    "    img = images[0].permute(1, 2, 0).numpy()\n",
    "    plt.imshow(img)\n",
    "    plt.title(f\"Label: {labels[0]}\")\n",
    "    plt.show()\n",
    "\n",
    "show_batch(train_loader)"
   ]
  },
  {
   "cell_type": "code",
   "execution_count": 15,
   "id": "414540cd-824c-4fd0-8866-2d506f86b17c",
   "metadata": {
    "execution": {
     "iopub.execute_input": "2025-05-19T18:55:53.618375Z",
     "iopub.status.busy": "2025-05-19T18:55:53.618120Z",
     "iopub.status.idle": "2025-05-19T18:56:12.206744Z",
     "shell.execute_reply": "2025-05-19T18:56:12.205904Z",
     "shell.execute_reply.started": "2025-05-19T18:55:53.618356Z"
    },
    "id": "414540cd-824c-4fd0-8866-2d506f86b17c",
    "tags": []
   },
   "outputs": [],
   "source": [
    "import torch\n",
    "import torch.nn as nn\n",
    "import torchvision.models as models\n",
    "\n",
    "num_classes = 120  # Dog Breed Identification 有 120 類別\n",
    "device = torch.device(\"cuda\" if torch.cuda.is_available() else \"cpu\")\n",
    "\n",
    "# 載入預訓練模型並修改最後一層\n",
    "model = models.resnet50(weights=models.ResNet50_Weights.DEFAULT)\n",
    "\n",
    "for param in model.parameters():\n",
    "    param.requires_grad = False\n",
    "\n",
    "num_classes = len(dataset.class_to_idx)\n",
    "\n",
    "model.fc = nn.Sequential(\n",
    "    nn.Linear(model.fc.in_features, 512),\n",
    "    nn.ReLU(),\n",
    "    nn.Dropout(0.3),\n",
    "    nn.Linear(512, 256),\n",
    "    nn.ReLU(),\n",
    "    nn.Dropout(0.3),\n",
    "    nn.Linear(256, num_classes)\n",
    ")\n",
    "\n",
    "# 搬移到裝置（GPU 或 CPU）\n",
    "model = model.to(device)"
   ]
  },
  {
   "cell_type": "code",
   "execution_count": 16,
   "id": "ac519f99-2c79-4f8d-bfb1-0943e5807ca6",
   "metadata": {
    "execution": {
     "iopub.execute_input": "2025-05-19T18:56:12.303245Z",
     "iopub.status.busy": "2025-05-19T18:56:12.302757Z",
     "iopub.status.idle": "2025-05-19T18:56:12.406686Z",
     "shell.execute_reply": "2025-05-19T18:56:12.406019Z",
     "shell.execute_reply.started": "2025-05-19T18:56:12.303218Z"
    },
    "id": "ac519f99-2c79-4f8d-bfb1-0943e5807ca6",
    "tags": []
   },
   "outputs": [],
   "source": [
    "from collections import Counter\n",
    "num_epochs = 50\n",
    "# 計算各類別的樣本數\n",
    "label_counts = Counter(dataset.labels)\n",
    "num_classes = len(label_counts)\n",
    "class_counts = [label_counts[i] for i in range(num_classes)]\n",
    "\n",
    "# 計算每個類別的權重：樣本數越少，權重越高\n",
    "weights = [1.0 / c for c in class_counts]\n",
    "weights = torch.tensor(weights, dtype=torch.float).to(device)\n",
    "\n",
    "# 使用 class weights + label smoothing\n",
    "criterion = nn.CrossEntropyLoss(weight=weights, label_smoothing=0.1)\n",
    "\n",
    "optimizer = torch.optim.Adam(model.parameters(), lr=1e-4)\n",
    "scheduler = torch.optim.lr_scheduler.CosineAnnealingLR(optimizer, T_max=num_epochs)\n"
   ]
  },
  {
   "cell_type": "code",
   "execution_count": 17,
   "id": "e8eaea27-b01b-4fb2-a4e2-8f0dc4a1f646",
   "metadata": {
    "execution": {
     "iopub.execute_input": "2025-05-19T18:56:12.407556Z",
     "iopub.status.busy": "2025-05-19T18:56:12.407361Z",
     "iopub.status.idle": "2025-05-19T18:56:12.603295Z",
     "shell.execute_reply": "2025-05-19T18:56:12.602628Z",
     "shell.execute_reply.started": "2025-05-19T18:56:12.407537Z"
    },
    "tags": []
   },
   "outputs": [],
   "source": [
    "import numpy as np\n",
    "\n",
    "def mixup_data(x, y, alpha=0.4):\n",
    "    '''混合兩張圖片與其標籤'''\n",
    "    if alpha > 0:\n",
    "        lam = np.random.beta(alpha, alpha)\n",
    "    else:\n",
    "        lam = 1\n",
    "\n",
    "    batch_size = x.size(0)\n",
    "    index = torch.randperm(batch_size)\n",
    "\n",
    "    mixed_x = lam * x + (1 - lam) * x[index, :]\n",
    "    y_a, y_b = y, y[index]\n",
    "    return mixed_x, y_a, y_b, lam\n",
    "\n",
    "def mixup_criterion(criterion, pred, y_a, y_b, lam):\n",
    "    '''計算 MixUp 混合損失'''\n",
    "    return lam * criterion(pred, y_a) + (1 - lam) * criterion(pred, y_b)\n"
   ]
  },
  {
   "cell_type": "code",
   "execution_count": 18,
   "id": "324f3936-1cd3-4cec-aa09-280f34f3de71",
   "metadata": {
    "execution": {
     "iopub.execute_input": "2025-05-19T18:56:12.604361Z",
     "iopub.status.busy": "2025-05-19T18:56:12.604043Z",
     "iopub.status.idle": "2025-05-19T18:56:12.608480Z",
     "shell.execute_reply": "2025-05-19T18:56:12.608022Z",
     "shell.execute_reply.started": "2025-05-19T18:56:12.604342Z"
    },
    "tags": []
   },
   "outputs": [],
   "source": [
    "from torchvision import transforms\n",
    "from torch.utils.data import DataLoader\n",
    "from torchvision.datasets import ImageFolder\n",
    "\n",
    "def get_dataloaders(image_size, batch_size):\n",
    "    transform_train = transforms.Compose([\n",
    "        transforms.Resize((image_size, image_size)),\n",
    "        transforms.RandomHorizontalFlip(),\n",
    "        transforms.ToTensor(),\n",
    "    ])\n",
    "    transform_val = transforms.Compose([\n",
    "        transforms.Resize((image_size, image_size)),\n",
    "        transforms.ToTensor(),\n",
    "    ])\n",
    "\n",
    "    train_dataset = ImageFolder(train_dir, transform=transform_train)\n",
    "    val_dataset = ImageFolder(val_dir, transform=transform_val)\n",
    "\n",
    "    train_loader = DataLoader(train_dataset, batch_size=batch_size, shuffle=True, num_workers=4)\n",
    "    val_loader = DataLoader(val_dataset, batch_size=batch_size, shuffle=False, num_workers=4)\n",
    "\n",
    "    return train_loader, val_loader\n"
   ]
  },
  {
   "cell_type": "code",
   "execution_count": 19,
   "id": "fa598f16-152c-4df2-9790-80a2647e4758",
   "metadata": {
    "execution": {
     "iopub.execute_input": "2025-05-19T18:56:12.609114Z",
     "iopub.status.busy": "2025-05-19T18:56:12.608953Z",
     "iopub.status.idle": "2025-05-19T18:56:12.708711Z",
     "shell.execute_reply": "2025-05-19T18:56:12.708093Z",
     "shell.execute_reply.started": "2025-05-19T18:56:12.609099Z"
    },
    "tags": []
   },
   "outputs": [],
   "source": [
    "from torchvision import transforms\n",
    "from PIL import Image\n",
    "\n",
    "def collate_with_resize(batch, image_size):\n",
    "    images, labels = zip(*batch)\n",
    "    transform = transforms.Compose([\n",
    "        transforms.Resize((image_size, image_size)),  # 直接縮放 tensor\n",
    "    ])\n",
    "    images = [transform(img) if isinstance(img, torch.Tensor) else transform(transforms.ToTensor()(img)) for img in images]\n",
    "    return torch.stack(images), torch.tensor(labels)\n"
   ]
  },
  {
   "cell_type": "code",
   "execution_count": 20,
   "id": "9eW-iKmR6xDv",
   "metadata": {
    "execution": {
     "iopub.execute_input": "2025-05-19T18:56:12.709501Z",
     "iopub.status.busy": "2025-05-19T18:56:12.709326Z",
     "iopub.status.idle": "2025-05-19T18:56:12.903656Z",
     "shell.execute_reply": "2025-05-19T18:56:12.822062Z",
     "shell.execute_reply.started": "2025-05-19T18:56:12.709484Z"
    },
    "id": "9eW-iKmR6xDv",
    "tags": []
   },
   "outputs": [],
   "source": [
    "class EarlyStopping:\n",
    "    def __init__(self, patience=5, verbose=False, delta=0, path='best_model.pth'):\n",
    "        self.patience = patience\n",
    "        self.verbose = verbose\n",
    "        self.counter = 0\n",
    "        self.best_score = None\n",
    "        self.early_stop = False\n",
    "        self.val_loss_min = float('inf')\n",
    "        self.delta = delta\n",
    "        self.path = path\n",
    "\n",
    "    def __call__(self, val_loss, model):\n",
    "        score = -val_loss\n",
    "\n",
    "        if self.best_score is None:\n",
    "            self.best_score = score\n",
    "            self.save_checkpoint(val_loss, model)\n",
    "        elif score < self.best_score + self.delta:\n",
    "            self.counter += 1\n",
    "            if self.verbose:\n",
    "                print(f\"EarlyStopping counter: {self.counter} out of {self.patience}\")\n",
    "            if self.counter >= self.patience:\n",
    "                self.early_stop = True\n",
    "        else:\n",
    "            self.best_score = score\n",
    "            self.save_checkpoint(val_loss, model)\n",
    "            self.counter = 0\n",
    "\n",
    "    def save_checkpoint(self, val_loss, model):\n",
    "        '''儲存目前最佳模型'''\n",
    "        if self.verbose:\n",
    "            print(f\"Validation loss decreased ({self.val_loss_min:.6f} → {val_loss:.6f}). Saving model...\")\n",
    "        torch.save(model.state_dict(), self.path)\n",
    "        self.val_loss_min = val_loss\n"
   ]
  },
  {
   "cell_type": "code",
   "execution_count": 21,
   "id": "25cf8137-76e5-484b-95d2-fbf22792cd72",
   "metadata": {
    "execution": {
     "iopub.execute_input": "2025-05-19T18:56:12.904997Z",
     "iopub.status.busy": "2025-05-19T18:56:12.904780Z",
     "iopub.status.idle": "2025-05-20T12:32:00.812577Z",
     "shell.execute_reply": "2025-05-20T12:32:00.811291Z",
     "shell.execute_reply.started": "2025-05-19T18:56:12.904978Z"
    },
    "id": "25cf8137-76e5-484b-95d2-fbf22792cd72",
    "outputId": "403ee953-43a5-4558-b341-c1d813182fda",
    "tags": []
   },
   "outputs": [
    {
     "name": "stdout",
     "output_type": "stream",
     "text": [
      "Epoch 1/50, Size: 128, Loss: 4.7237, Accuracy: 4.28%\n",
      "Validation Loss: 4.4742, Validation Accuracy: 34.54%\n",
      "Validation loss decreased (inf → 4.474195). Saving model...\n",
      "Epoch 2/50, Size: 128, Loss: 4.2264, Accuracy: 11.74%\n",
      "Validation Loss: 3.5372, Validation Accuracy: 49.22%\n",
      "Validation loss decreased (4.474195 → 3.537178). Saving model...\n",
      "Epoch 3/50, Size: 128, Loss: 3.6862, Accuracy: 18.26%\n",
      "Validation Loss: 2.9248, Validation Accuracy: 55.28%\n",
      "Validation loss decreased (3.537178 → 2.924801). Saving model...\n",
      "Epoch 4/50, Size: 128, Loss: 3.4802, Accuracy: 20.31%\n",
      "Validation Loss: 2.6423, Validation Accuracy: 59.69%\n",
      "Validation loss decreased (2.924801 → 2.642330). Saving model...\n",
      "Epoch 5/50, Size: 128, Loss: 3.2887, Accuracy: 24.83%\n",
      "Validation Loss: 2.4355, Validation Accuracy: 61.55%\n",
      "Validation loss decreased (2.642330 → 2.435471). Saving model...\n",
      "Epoch 6/50, Size: 128, Loss: 3.2177, Accuracy: 24.35%\n",
      "Validation Loss: 2.2984, Validation Accuracy: 64.04%\n",
      "Validation loss decreased (2.435471 → 2.298382). Saving model...\n",
      "Epoch 7/50, Size: 128, Loss: 3.0333, Accuracy: 28.47%\n",
      "Validation Loss: 2.1979, Validation Accuracy: 65.41%\n",
      "Validation loss decreased (2.298382 → 2.197851). Saving model...\n",
      "Epoch 8/50, Size: 224, Loss: 2.8679, Accuracy: 28.61%\n",
      "Validation Loss: 2.0892, Validation Accuracy: 79.79%\n",
      "Validation loss decreased (2.197851 → 2.089199). Saving model...\n",
      "Epoch 9/50, Size: 224, Loss: 2.6629, Accuracy: 35.97%\n",
      "Validation Loss: 1.8257, Validation Accuracy: 81.56%\n",
      "Validation loss decreased (2.089199 → 1.825726). Saving model...\n",
      "Epoch 10/50, Size: 224, Loss: 2.6025, Accuracy: 29.79%\n",
      "Validation Loss: 1.7416, Validation Accuracy: 80.82%\n",
      "Validation loss decreased (1.825726 → 1.741574). Saving model...\n",
      "Epoch 11/50, Size: 224, Loss: 2.5382, Accuracy: 38.95%\n",
      "Validation Loss: 1.6327, Validation Accuracy: 81.95%\n",
      "Validation loss decreased (1.741574 → 1.632680). Saving model...\n",
      "Epoch 12/50, Size: 224, Loss: 2.4952, Accuracy: 35.72%\n",
      "Validation Loss: 1.5784, Validation Accuracy: 82.24%\n",
      "Validation loss decreased (1.632680 → 1.578392). Saving model...\n",
      "Epoch 13/50, Size: 224, Loss: 2.4629, Accuracy: 35.16%\n",
      "Validation Loss: 1.6050, Validation Accuracy: 82.44%\n",
      "EarlyStopping counter: 1 out of 5\n",
      "Epoch 14/50, Size: 224, Loss: 2.3725, Accuracy: 36.61%\n",
      "Validation Loss: 1.5253, Validation Accuracy: 83.76%\n",
      "Validation loss decreased (1.578392 → 1.525257). Saving model...\n",
      "Epoch 15/50, Size: 224, Loss: 2.3829, Accuracy: 40.06%\n",
      "Validation Loss: 1.5326, Validation Accuracy: 83.90%\n",
      "EarlyStopping counter: 1 out of 5\n",
      "Epoch 16/50, Size: 224, Loss: 2.4153, Accuracy: 35.80%\n",
      "Validation Loss: 1.4641, Validation Accuracy: 83.95%\n",
      "Validation loss decreased (1.525257 → 1.464102). Saving model...\n",
      "Epoch 17/50, Size: 224, Loss: 2.3795, Accuracy: 39.28%\n",
      "Validation Loss: 1.5033, Validation Accuracy: 83.56%\n",
      "EarlyStopping counter: 1 out of 5\n",
      "Epoch 18/50, Size: 224, Loss: 2.4838, Accuracy: 38.87%\n",
      "Validation Loss: 1.5088, Validation Accuracy: 83.61%\n",
      "EarlyStopping counter: 2 out of 5\n",
      "Epoch 19/50, Size: 224, Loss: 2.3493, Accuracy: 38.52%\n",
      "Validation Loss: 1.4608, Validation Accuracy: 85.08%\n",
      "Validation loss decreased (1.464102 → 1.460765). Saving model...\n",
      "Epoch 20/50, Size: 224, Loss: 2.2960, Accuracy: 38.29%\n",
      "Validation Loss: 1.4588, Validation Accuracy: 84.39%\n",
      "Validation loss decreased (1.460765 → 1.458751). Saving model...\n",
      "Epoch 21/50, Size: 224, Loss: 2.2698, Accuracy: 38.82%\n",
      "Validation Loss: 1.3857, Validation Accuracy: 85.37%\n",
      "Validation loss decreased (1.458751 → 1.385705). Saving model...\n",
      "Epoch 22/50, Size: 224, Loss: 2.4087, Accuracy: 39.08%\n",
      "Validation Loss: 1.4350, Validation Accuracy: 85.86%\n",
      "EarlyStopping counter: 1 out of 5\n",
      "Epoch 23/50, Size: 224, Loss: 2.3006, Accuracy: 40.29%\n",
      "Validation Loss: 1.4419, Validation Accuracy: 85.67%\n",
      "EarlyStopping counter: 2 out of 5\n",
      "Epoch 24/50, Size: 224, Loss: 2.3215, Accuracy: 35.56%\n",
      "Validation Loss: 1.3853, Validation Accuracy: 85.27%\n",
      "Validation loss decreased (1.385705 → 1.385320). Saving model...\n",
      "Epoch 25/50, Size: 224, Loss: 2.2182, Accuracy: 42.83%\n",
      "Validation Loss: 1.3810, Validation Accuracy: 85.13%\n",
      "Validation loss decreased (1.385320 → 1.381019). Saving model...\n",
      "Epoch 26/50, Size: 224, Loss: 2.2471, Accuracy: 41.39%\n",
      "Validation Loss: 1.3789, Validation Accuracy: 85.27%\n",
      "Validation loss decreased (1.381019 → 1.378939). Saving model...\n",
      "Epoch 27/50, Size: 224, Loss: 2.2834, Accuracy: 35.84%\n",
      "Validation Loss: 1.4058, Validation Accuracy: 84.39%\n",
      "EarlyStopping counter: 1 out of 5\n",
      "Epoch 28/50, Size: 224, Loss: 2.3003, Accuracy: 37.21%\n",
      "Validation Loss: 1.3766, Validation Accuracy: 85.57%\n",
      "Validation loss decreased (1.378939 → 1.376568). Saving model...\n",
      "Epoch 29/50, Size: 224, Loss: 2.2942, Accuracy: 40.01%\n",
      "Validation Loss: 1.3800, Validation Accuracy: 86.20%\n",
      "EarlyStopping counter: 1 out of 5\n",
      "Epoch 30/50, Size: 224, Loss: 2.2829, Accuracy: 41.86%\n",
      "Validation Loss: 1.3670, Validation Accuracy: 85.52%\n",
      "Validation loss decreased (1.376568 → 1.367029). Saving model...\n",
      "Epoch 31/50, Size: 224, Loss: 2.2118, Accuracy: 45.29%\n",
      "Validation Loss: 1.3675, Validation Accuracy: 85.47%\n",
      "EarlyStopping counter: 1 out of 5\n",
      "Epoch 32/50, Size: 224, Loss: 2.1734, Accuracy: 39.73%\n",
      "Validation Loss: 1.3734, Validation Accuracy: 85.96%\n",
      "EarlyStopping counter: 2 out of 5\n",
      "Epoch 33/50, Size: 224, Loss: 2.1620, Accuracy: 35.84%\n",
      "Validation Loss: 1.3645, Validation Accuracy: 86.01%\n",
      "Validation loss decreased (1.367029 → 1.364541). Saving model...\n",
      "Epoch 34/50, Size: 224, Loss: 2.2564, Accuracy: 41.07%\n",
      "Validation Loss: 1.3565, Validation Accuracy: 85.32%\n",
      "Validation loss decreased (1.364541 → 1.356514). Saving model...\n",
      "Epoch 35/50, Size: 224, Loss: 2.2739, Accuracy: 38.59%\n",
      "Validation Loss: 1.3817, Validation Accuracy: 85.67%\n",
      "EarlyStopping counter: 1 out of 5\n",
      "Epoch 36/50, Size: 224, Loss: 2.2369, Accuracy: 40.78%\n",
      "Validation Loss: 1.3534, Validation Accuracy: 86.74%\n",
      "Validation loss decreased (1.356514 → 1.353363). Saving model...\n",
      "Epoch 37/50, Size: 224, Loss: 2.3932, Accuracy: 39.31%\n",
      "Validation Loss: 1.3678, Validation Accuracy: 85.23%\n",
      "EarlyStopping counter: 1 out of 5\n",
      "Epoch 38/50, Size: 224, Loss: 2.1895, Accuracy: 40.02%\n",
      "Validation Loss: 1.3653, Validation Accuracy: 85.13%\n",
      "EarlyStopping counter: 2 out of 5\n",
      "Epoch 39/50, Size: 224, Loss: 2.1883, Accuracy: 34.97%\n",
      "Validation Loss: 1.3606, Validation Accuracy: 85.62%\n",
      "EarlyStopping counter: 3 out of 5\n",
      "Epoch 40/50, Size: 224, Loss: 2.2481, Accuracy: 45.37%\n",
      "Validation Loss: 1.3474, Validation Accuracy: 85.57%\n",
      "Validation loss decreased (1.353363 → 1.347405). Saving model...\n",
      "Epoch 41/50, Size: 224, Loss: 2.2386, Accuracy: 40.07%\n",
      "Validation Loss: 1.3448, Validation Accuracy: 86.20%\n",
      "Validation loss decreased (1.347405 → 1.344816). Saving model...\n",
      "Epoch 42/50, Size: 224, Loss: 2.1960, Accuracy: 40.10%\n",
      "Validation Loss: 1.3707, Validation Accuracy: 86.30%\n",
      "EarlyStopping counter: 1 out of 5\n",
      "Epoch 43/50, Size: 224, Loss: 2.3071, Accuracy: 41.88%\n",
      "Validation Loss: 1.3977, Validation Accuracy: 85.57%\n",
      "EarlyStopping counter: 2 out of 5\n",
      "Epoch 44/50, Size: 224, Loss: 2.2271, Accuracy: 43.54%\n",
      "Validation Loss: 1.3586, Validation Accuracy: 85.96%\n",
      "EarlyStopping counter: 3 out of 5\n",
      "Epoch 45/50, Size: 224, Loss: 2.1992, Accuracy: 42.05%\n",
      "Validation Loss: 1.3555, Validation Accuracy: 86.11%\n",
      "EarlyStopping counter: 4 out of 5\n",
      "Epoch 46/50, Size: 224, Loss: 2.1367, Accuracy: 40.02%\n",
      "Validation Loss: 1.3485, Validation Accuracy: 86.15%\n",
      "EarlyStopping counter: 5 out of 5\n",
      "Early stopping triggered.\n"
     ]
    },
    {
     "data": {
      "text/plain": [
       "<All keys matched successfully>"
      ]
     },
     "execution_count": 21,
     "metadata": {},
     "output_type": "execute_result"
    }
   ],
   "source": [
    "small_image_epochs = 7\n",
    "small_size = 128\n",
    "large_size = 224\n",
    "batch_size = 32\n",
    "\n",
    "early_stopping = EarlyStopping(patience=5, verbose=True, path='best_resnet50.pth')\n",
    "\n",
    "full_dataset = DogBreedImageFolder(\"dog_images/train\", transform=train_transform)\n",
    "\n",
    "\n",
    "for epoch in range(num_epochs):\n",
    "    image_size = small_size if epoch < small_image_epochs else large_size\n",
    "\n",
    "    train_loader = DataLoader(train_dataset, batch_size=batch_size, shuffle=True,\n",
    "                              collate_fn=lambda batch: collate_with_resize(batch, image_size))\n",
    "    val_loader = DataLoader(val_dataset, batch_size=batch_size, shuffle=False,\n",
    "                            collate_fn=lambda batch: collate_with_resize(batch, image_size))\n",
    "\n",
    "    model.train()\n",
    "    running_loss = 0.0\n",
    "    correct = 0\n",
    "    total = 0\n",
    "\n",
    "    for images, labels in train_loader:\n",
    "        images, labels = images.to(device), labels.to(device)\n",
    "        inputs, targets_a, targets_b, lam = mixup_data(images, labels, alpha=0.4)\n",
    "        inputs, targets_a, targets_b = inputs.to(device), targets_a.to(device), targets_b.to(device)\n",
    "\n",
    "        optimizer.zero_grad()\n",
    "        outputs = model(inputs)\n",
    "        loss = mixup_criterion(criterion, outputs, targets_a, targets_b, lam)\n",
    "        loss.backward()\n",
    "        optimizer.step()\n",
    "\n",
    "        running_loss += loss.item()\n",
    "        _, predicted = torch.max(outputs, 1)\n",
    "        total += labels.size(0)\n",
    "        correct += (predicted == targets_a).sum().item()\n",
    "\n",
    "    scheduler.step()\n",
    "\n",
    "    epoch_loss = running_loss / len(train_loader)\n",
    "    epoch_acc = 100 * correct / total\n",
    "    print(f\"Epoch {epoch+1}/{num_epochs}, Size: {image_size}, Loss: {epoch_loss:.4f}, Accuracy: {epoch_acc:.2f}%\")\n",
    "\n",
    "    model.eval()\n",
    "    val_loss = 0.0\n",
    "    correct = 0\n",
    "    total = 0\n",
    "    with torch.no_grad():\n",
    "        for images, labels in val_loader:\n",
    "            images, labels = images.to(device), labels.to(device)\n",
    "            outputs = model(images)\n",
    "            loss = criterion(outputs, labels)\n",
    "            val_loss += loss.item()\n",
    "            _, predicted = torch.max(outputs, 1)\n",
    "            total += labels.size(0)\n",
    "            correct += (predicted == labels).sum().item()\n",
    "\n",
    "    val_loss /= len(val_loader)\n",
    "    val_acc = 100 * correct / total\n",
    "    print(f\"Validation Loss: {val_loss:.4f}, Validation Accuracy: {val_acc:.2f}%\")\n",
    "\n",
    "    early_stopping(val_loss, model)\n",
    "\n",
    "    if early_stopping.early_stop:\n",
    "        print(\"Early stopping triggered.\")\n",
    "        break\n",
    "\n",
    "# 載入最佳模型\n",
    "model.load_state_dict(torch.load(\"best_resnet50.pth\"))\n"
   ]
  },
  {
   "cell_type": "code",
   "execution_count": 22,
   "id": "8d306abf-c908-4307-afa8-ffd890aee88f",
   "metadata": {
    "execution": {
     "iopub.execute_input": "2025-05-20T12:32:00.814103Z",
     "iopub.status.busy": "2025-05-20T12:32:00.813838Z",
     "iopub.status.idle": "2025-05-20T12:32:01.078227Z",
     "shell.execute_reply": "2025-05-20T12:32:01.076719Z",
     "shell.execute_reply.started": "2025-05-20T12:32:00.814076Z"
    },
    "id": "8d306abf-c908-4307-afa8-ffd890aee88f",
    "tags": []
   },
   "outputs": [],
   "source": [
    "# 保存訓練後的模型\n",
    "torch.save(model.state_dict(), \"dog_breed_model.pth\")\n"
   ]
  },
  {
   "cell_type": "code",
   "execution_count": 23,
   "id": "bd237980-ad71-4780-8b12-3bf900b5abf9",
   "metadata": {
    "execution": {
     "iopub.execute_input": "2025-05-20T12:32:01.079499Z",
     "iopub.status.busy": "2025-05-20T12:32:01.079295Z",
     "iopub.status.idle": "2025-05-20T12:35:14.429557Z",
     "shell.execute_reply": "2025-05-20T12:35:14.428475Z",
     "shell.execute_reply.started": "2025-05-20T12:32:01.079478Z"
    },
    "id": "bd237980-ad71-4780-8b12-3bf900b5abf9",
    "outputId": "522dbeeb-39d2-4282-82d1-1981e811055b",
    "tags": []
   },
   "outputs": [
    {
     "name": "stdout",
     "output_type": "stream",
     "text": [
      "Test Accuracy: 85.52%\n"
     ]
    }
   ],
   "source": [
    "# 測試集的評估\n",
    "test_accuracy = 0\n",
    "with torch.no_grad():\n",
    "    for images, labels in val_loader:\n",
    "        images, labels = images.to(device), labels.to(device)\n",
    "\n",
    "        outputs = model(images)\n",
    "        _, predicted = torch.max(outputs, 1)\n",
    "\n",
    "        test_accuracy += (predicted == labels).sum().item()\n",
    "\n",
    "test_accuracy = 100 * test_accuracy / len(val_dataset)\n",
    "print(f\"Test Accuracy: {test_accuracy:.2f}%\")\n",
    "\n",
    "import os"
   ]
  },
  {
   "cell_type": "code",
   "execution_count": 24,
   "id": "BpW3rcCW7wwH",
   "metadata": {
    "execution": {
     "iopub.execute_input": "2025-05-20T12:35:14.430758Z",
     "iopub.status.busy": "2025-05-20T12:35:14.430564Z",
     "iopub.status.idle": "2025-05-20T12:42:20.431645Z",
     "shell.execute_reply": "2025-05-20T12:42:20.430397Z",
     "shell.execute_reply.started": "2025-05-20T12:35:14.430739Z"
    },
    "id": "BpW3rcCW7wwH",
    "tags": []
   },
   "outputs": [
    {
     "name": "stdout",
     "output_type": "stream",
     "text": [
      "TTA Test Accuracy: 3.77%\n"
     ]
    }
   ],
   "source": [
    "# 測試集的評估\n",
    "tta_transforms = [\n",
    "    transforms.Compose([transforms.Resize((224, 224)), transforms.ToTensor()]),\n",
    "    transforms.Compose([transforms.Resize((224, 224)), transforms.RandomHorizontalFlip(p=1.0), transforms.ToTensor()]),\n",
    "    transforms.Compose([transforms.Resize((224, 224)), transforms.ColorJitter(brightness=0.2), transforms.ToTensor()])\n",
    "]\n",
    "\n",
    "model.eval()\n",
    "total = 0\n",
    "correct = 0\n",
    "\n",
    "with torch.no_grad():\n",
    "    for images, labels in val_loader:\n",
    "        images, labels = images.to(device), labels.to(device)\n",
    "\n",
    "        tta_preds = []\n",
    "        for tform in tta_transforms:\n",
    "            aug_images = torch.stack([tform(transforms.ToPILImage()(img.cpu())) for img in images])\n",
    "            aug_images = aug_images.to(device)\n",
    "            outputs = model(aug_images)\n",
    "            tta_preds.append(torch.softmax(outputs, dim=1))\n",
    "\n",
    "        avg_preds = torch.mean(torch.stack(tta_preds), dim=0)\n",
    "        _, predicted = torch.max(avg_preds, 1)\n",
    "\n",
    "        total += labels.size(0)\n",
    "        correct += (predicted == labels).sum().item()\n",
    "\n",
    "accuracy = 100 * correct / total\n",
    "print(f\"TTA Test Accuracy: {accuracy:.2f}%\")\n"
   ]
  },
  {
   "cell_type": "code",
   "execution_count": 25,
   "id": "7ca7a9f2-4bb1-49ac-a672-b956ac8f78d3",
   "metadata": {
    "execution": {
     "iopub.execute_input": "2025-05-20T12:42:20.432721Z",
     "iopub.status.busy": "2025-05-20T12:42:20.432522Z",
     "iopub.status.idle": "2025-05-20T12:42:20.439366Z",
     "shell.execute_reply": "2025-05-20T12:42:20.438540Z",
     "shell.execute_reply.started": "2025-05-20T12:42:20.432703Z"
    },
    "id": "7ca7a9f2-4bb1-49ac-a672-b956ac8f78d3",
    "tags": []
   },
   "outputs": [],
   "source": [
    "from PIL import Image\n",
    "from torch.utils.data import Dataset, DataLoader\n",
    "from torchvision import transforms\n",
    "\n",
    "class TestImageDataset(Dataset):\n",
    "    def __init__(self, image_folder, transform=None):\n",
    "        self.image_folder = image_folder\n",
    "        self.image_filenames = sorted(os.listdir(image_folder))\n",
    "        self.transform = transform\n",
    "\n",
    "    def __len__(self):\n",
    "        return len(self.image_filenames)\n",
    "\n",
    "    def __getitem__(self, idx):\n",
    "        img_name = self.image_filenames[idx]\n",
    "        img_path = os.path.join(self.image_folder, img_name)\n",
    "        image = Image.open(img_path).convert('RGB')\n",
    "        if self.transform:\n",
    "            image = self.transform(image)\n",
    "        return image, img_name.split('.')[0]  # 傳回 image tensor 和 id（"
   ]
  },
  {
   "cell_type": "code",
   "execution_count": 26,
   "id": "b1813979-8cf3-431f-9fad-e31e729a397a",
   "metadata": {
    "execution": {
     "iopub.execute_input": "2025-05-20T12:42:20.440082Z",
     "iopub.status.busy": "2025-05-20T12:42:20.439936Z",
     "iopub.status.idle": "2025-05-20T12:42:20.451948Z",
     "shell.execute_reply": "2025-05-20T12:42:20.451128Z",
     "shell.execute_reply.started": "2025-05-20T12:42:20.440067Z"
    },
    "id": "b1813979-8cf3-431f-9fad-e31e729a397a",
    "tags": []
   },
   "outputs": [],
   "source": [
    "# 取得所有類別名稱，需排序以符合 submission 格式\n",
    "all_breeds = sorted(dataset.class_to_idx.keys())\n",
    "\n",
    "# 建立 mapping\n",
    "idx_to_class = {v: k for k, v in dataset.class_to_idx.items()}\n",
    "# 修正 Test transform 使用與訓練相同的 ImageNet 格式\n",
    "test_transform = transforms.Compose([\n",
    "    transforms.Resize((224, 224)),\n",
    "    transforms.ToTensor(),\n",
    "    transforms.Normalize((0.485, 0.456, 0.406),  # 與訓練相同\n",
    "                         (0.229, 0.224, 0.225))\n",
    "])\n",
    "\n",
    "\n",
    "# 設定測試資料夾路徑\n",
    "test_folder = 'dog-breed-identification/test'  # 請確認實際位置\n",
    "\n",
    "# 建立 DataLoader\n",
    "test_dataset = TestImageDataset(test_folder, transform=test_transform)\n",
    "test_loader = DataLoader(test_dataset, batch_size=64, shuffle=False)\n",
    "\n",
    "# 建立 DataFrame 儲存預測結果\n",
    "results = []"
   ]
  },
  {
   "cell_type": "code",
   "execution_count": 27,
   "id": "016331d2-68f7-459b-bdfb-ffaf026869c0",
   "metadata": {
    "execution": {
     "iopub.execute_input": "2025-05-20T12:42:20.452704Z",
     "iopub.status.busy": "2025-05-20T12:42:20.452550Z",
     "iopub.status.idle": "2025-05-20T12:53:48.551295Z",
     "shell.execute_reply": "2025-05-20T12:53:48.550112Z",
     "shell.execute_reply.started": "2025-05-20T12:42:20.452689Z"
    },
    "id": "016331d2-68f7-459b-bdfb-ffaf026869c0",
    "outputId": "b69368fe-99cd-4ec0-b93c-560a8c723519",
    "tags": []
   },
   "outputs": [
    {
     "name": "stdout",
     "output_type": "stream",
     "text": [
      "✅ submission.csv 轉換完成，可上傳至 Kaggle！\n"
     ]
    }
   ],
   "source": [
    "with torch.no_grad():\n",
    "    for inputs, image_ids in test_loader:\n",
    "        inputs = inputs.to(device)\n",
    "        outputs = model(inputs)\n",
    "        _, preds = torch.max(outputs, 1)\n",
    "        for img_id, pred in zip(image_ids, preds.cpu()):\n",
    "            breed = idx_to_class[pred.item()]\n",
    "            row = {\"id\": img_id}\n",
    "            for b in all_breeds:\n",
    "                row[b] = 1 if b == breed else 0\n",
    "            results.append(row)\n",
    "\n",
    "# 輸出為符合要求的 CSV\n",
    "df = pd.DataFrame(results)\n",
    "df.to_csv(\"submission1.3.csv\", index=False)\n",
    "print(\"✅ submission.csv 轉換完成，可上傳至 Kaggle！\")"
   ]
  },
  {
   "cell_type": "code",
   "execution_count": null,
   "id": "628d7fd6-d52e-4336-8f59-3d72d2e9f902",
   "metadata": {
    "id": "628d7fd6-d52e-4336-8f59-3d72d2e9f902"
   },
   "outputs": [],
   "source": []
  }
 ],
 "metadata": {
  "colab": {
   "provenance": []
  },
  "kernelspec": {
   "display_name": "Python 3 (ipykernel)",
   "language": "python",
   "name": "python3"
  },
  "language_info": {
   "codemirror_mode": {
    "name": "ipython",
    "version": 3
   },
   "file_extension": ".py",
   "mimetype": "text/x-python",
   "name": "python",
   "nbconvert_exporter": "python",
   "pygments_lexer": "ipython3",
   "version": "3.9.13"
  }
 },
 "nbformat": 4,
 "nbformat_minor": 5
}
