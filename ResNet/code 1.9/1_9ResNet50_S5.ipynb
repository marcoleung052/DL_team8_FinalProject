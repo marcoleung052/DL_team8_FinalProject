{
 "cells": [
  {
   "cell_type": "code",
   "execution_count": 1,
   "id": "19dd142d-af4f-4cc4-a737-cb5cf859e92e",
   "metadata": {
    "colab": {
     "referenced_widgets": [
      "11eddfa851a543dd971b0f844c71741b",
      "75d73772b08449fc8602a2c20d214379"
     ]
    },
    "execution": {
     "iopub.execute_input": "2025-05-30T12:49:50.746181Z",
     "iopub.status.busy": "2025-05-30T12:49:50.745919Z",
     "iopub.status.idle": "2025-05-30T12:49:50.852009Z",
     "shell.execute_reply": "2025-05-30T12:49:50.851186Z",
     "shell.execute_reply.started": "2025-05-30T12:49:50.746155Z"
    },
    "id": "19dd142d-af4f-4cc4-a737-cb5cf859e92e",
    "outputId": "0f84b91d-09bf-467b-ef29-7437798f7bb4",
    "tags": []
   },
   "outputs": [
    {
     "data": {
      "application/vnd.jupyter.widget-view+json": {
       "model_id": "98e7498a0df443d7bcb79d43026a5366",
       "version_major": 2,
       "version_minor": 0
      },
      "text/plain": [
       "FileUpload(value=(), description='Upload')"
      ]
     },
     "metadata": {},
     "output_type": "display_data"
    }
   ],
   "source": [
    "from IPython.display import display\n",
    "import os\n",
    "\n",
    "# 上傳檔案（會跳出檔案選擇器）\n",
    "from ipywidgets import FileUpload\n",
    "\n",
    "upload = FileUpload()\n",
    "display(upload)"
   ]
  },
  {
   "cell_type": "code",
   "execution_count": 2,
   "id": "172906a3-1dd5-4484-a903-2877d1e50ebc",
   "metadata": {
    "execution": {
     "iopub.execute_input": "2025-05-30T12:50:40.477177Z",
     "iopub.status.busy": "2025-05-30T12:50:40.476121Z",
     "iopub.status.idle": "2025-05-30T12:50:40.493273Z",
     "shell.execute_reply": "2025-05-30T12:50:40.491862Z",
     "shell.execute_reply.started": "2025-05-30T12:50:40.477133Z"
    },
    "id": "172906a3-1dd5-4484-a903-2877d1e50ebc",
    "outputId": "d911b214-4fca-45d4-d2b8-aec99db1c24e",
    "tags": []
   },
   "outputs": [
    {
     "name": "stdout",
     "output_type": "stream",
     "text": [
      "{'name': 'kaggle (1).json', 'type': 'application/json', 'size': 69, 'content': <memory at 0x75b456de6d00>, 'last_modified': datetime.datetime(2025, 5, 30, 12, 49, 35, 526000, tzinfo=datetime.timezone.utc)}\n",
      "kaggle (1).json 已成功儲存至 /home/jovyan/.kaggle/kaggle.json\n"
     ]
    }
   ],
   "source": [
    "import os\n",
    "from pathlib import Path\n",
    "\n",
    "# 假設你只上傳了一個檔案\n",
    "fileinfo = upload.value[0]  # 通常是一個 dict，含 'name' 和 'content'\n",
    "\n",
    "# 顯示內容結構（除錯用）\n",
    "print(fileinfo)\n",
    "\n",
    "# 儲存 kaggle.json\n",
    "filename = fileinfo['name']\n",
    "content = fileinfo['content']\n",
    "\n",
    "kaggle_dir = Path.home() / \".kaggle\"\n",
    "kaggle_dir.mkdir(exist_ok=True)\n",
    "\n",
    "kaggle_json_path = kaggle_dir / \"kaggle.json\"\n",
    "with open(kaggle_json_path, \"wb\") as f:\n",
    "    f.write(content)\n",
    "\n",
    "# 設定權限（Linux/macOS 建議）\n",
    "os.chmod(kaggle_json_path, 0o600)\n",
    "\n",
    "print(f\"{filename} 已成功儲存至 {kaggle_json_path}\")"
   ]
  },
  {
   "cell_type": "code",
   "execution_count": 3,
   "id": "2e5fb396-b2e8-4b41-a76c-81dcd0626c01",
   "metadata": {
    "execution": {
     "iopub.execute_input": "2025-05-30T12:50:41.488318Z",
     "iopub.status.busy": "2025-05-30T12:50:41.486777Z",
     "iopub.status.idle": "2025-05-30T12:50:42.114444Z",
     "shell.execute_reply": "2025-05-30T12:50:42.113053Z",
     "shell.execute_reply.started": "2025-05-30T12:50:41.488256Z"
    },
    "id": "2e5fb396-b2e8-4b41-a76c-81dcd0626c01",
    "outputId": "64f9492c-0a04-4d31-f780-42ba9524b19b",
    "tags": []
   },
   "outputs": [],
   "source": [
    "import os\n",
    "import zipfile\n",
    "import pandas as pd\n",
    "\n",
    "labels = pd.read_csv('dog-breed-identification/labels.csv')"
   ]
  },
  {
   "cell_type": "code",
   "execution_count": 5,
   "id": "4102e3ec-9ba7-4f0d-a85f-a025ff1078e3",
   "metadata": {
    "execution": {
     "iopub.execute_input": "2025-05-30T12:55:22.498853Z",
     "iopub.status.busy": "2025-05-30T12:55:22.498543Z",
     "iopub.status.idle": "2025-05-30T12:56:56.721369Z",
     "shell.execute_reply": "2025-05-30T12:56:56.720790Z",
     "shell.execute_reply.started": "2025-05-30T12:55:22.498830Z"
    },
    "tags": []
   },
   "outputs": [
    {
     "name": "stdout",
     "output_type": "stream",
     "text": [
      "✔️ 已合併 Stanford Dogs 圖片：20580 張，匹配品種數：120\n"
     ]
    }
   ],
   "source": [
    "import os\n",
    "import shutil\n",
    "\n",
    "def convert_stanford_images(stanford_dir, output_dir):\n",
    "    if not os.path.exists(stanford_dir):\n",
    "        raise FileNotFoundError(f\"Stanford 目錄不存在：{stanford_dir}\")\n",
    "    \n",
    "    added_count = 0\n",
    "    matched_breeds = 0\n",
    "    for folder in os.listdir(stanford_dir):\n",
    "        folder_path = os.path.join(stanford_dir, folder)\n",
    "        if not os.path.isdir(folder_path):\n",
    "            continue\n",
    "\n",
    "        # 解析品種名稱：n02085782-Japanese_spaniel → japanese_spaniel\n",
    "        if \"-\" in folder:\n",
    "            breed = folder.split(\"-\", 1)[1].lower().replace(\" \", \"_\")\n",
    "            target_dir = os.path.join(output_dir, breed)\n",
    "\n",
    "            if os.path.exists(target_dir):\n",
    "                os.makedirs(target_dir, exist_ok=True)\n",
    "                matched_breeds += 1\n",
    "                for img_file in os.listdir(folder_path):\n",
    "                    if img_file.lower().endswith(\".jpg\"):\n",
    "                        src = os.path.join(folder_path, img_file)\n",
    "                        dst = os.path.join(target_dir, f\"stanford_{img_file}\")\n",
    "                        shutil.copyfile(src, dst)\n",
    "                        added_count += 1\n",
    "\n",
    "    print(f\"✔️ 已合併 Stanford Dogs 圖片：{added_count} 張，匹配品種數：{matched_breeds}\")\n",
    "\n",
    "# 執行整合\n",
    "convert_stanford_images(\"Images\", \"dog_images/train\")\n"
   ]
  },
  {
   "cell_type": "code",
   "execution_count": 6,
   "id": "9baef067-4606-458d-86c0-3f917e353822",
   "metadata": {
    "execution": {
     "iopub.execute_input": "2025-05-30T12:56:56.729089Z",
     "iopub.status.busy": "2025-05-30T12:56:56.728932Z",
     "iopub.status.idle": "2025-05-30T12:56:56.733783Z",
     "shell.execute_reply": "2025-05-30T12:56:56.733394Z",
     "shell.execute_reply.started": "2025-05-30T12:56:56.729071Z"
    },
    "tags": []
   },
   "outputs": [
    {
     "name": "stdout",
     "output_type": "stream",
     "text": [
      "✅ Matched: ['affenpinscher', 'shetland_sheepdog', 'tibetan_mastiff', 'australian_terrier', 'kerry_blue_terrier', 'kuvasz', 'golden_retriever', 'newfoundland', 'gordon_setter', 'boxer', 'bluetick', 'standard_schnauzer', 'cairn', 'bedlington_terrier', 'english_setter', 'dandie_dinmont', 'beagle', 'norfolk_terrier', 'leonberg', 'vizsla', 'great_pyrenees', 'chesapeake_bay_retriever', 'malinois', 'dhole', 'weimaraner', 'french_bulldog', 'cardigan', 'sealyham_terrier', 'bloodhound', 'miniature_schnauzer', 'japanese_spaniel', 'airedale', 'brittany_spaniel', 'sussex_spaniel', 'scottish_deerhound', 'entlebucher', 'komondor', 'cocker_spaniel', 'collie', 'bull_mastiff', 'chihuahua', 'rhodesian_ridgeback', 'maltese_dog', 'siberian_husky', 'miniature_pinscher', 'otterhound', 'ibizan_hound', 'briard', 'lakeland_terrier', 'bernese_mountain_dog', 'chow', 'standard_poodle', 'border_terrier', 'greater_swiss_mountain_dog', 'brabancon_griffon', 'norwich_terrier', 'mexican_hairless', 'yorkshire_terrier', 'samoyed', 'saint_bernard', 'pekinese', 'silky_terrier', 'dingo', 'giant_schnauzer', 'groenendael', 'english_springer', 'boston_bull', 'irish_wolfhound', 'african_hunting_dog', 'toy_poodle', 'appenzeller', 'scotch_terrier', 'lhasa', 'rottweiler', 'basenji', 'border_collie', 'miniature_poodle', 'old_english_sheepdog', 'blenheim_spaniel', 'eskimo_dog', 'irish_terrier', 'pembroke', 'afghan_hound', 'toy_terrier', 'keeshond', 'pomeranian', 'doberman', 'english_foxhound', 'bouvier_des_flandres', 'pug', 'clumber', 'walker_hound', 'german_shepherd', 'welsh_springer_spaniel', 'irish_setter', 'whippet', 'schipperke', 'american_staffordshire_terrier', 'staffordshire_bullterrier', 'redbone', 'tibetan_terrier', 'great_dane', 'papillon', 'italian_greyhound', 'norwegian_elkhound', 'irish_water_spaniel', 'malamute', 'saluki', 'labrador_retriever', 'west_highland_white_terrier', 'borzoi', 'basset', 'kelpie']\n",
      "❌ Unmatched: ['soft', 'shih', 'curly', 'flat', 'black', 'wire', 'german_short']\n"
     ]
    }
   ],
   "source": [
    "kaggle_breeds = set(os.listdir(\"dog_images/train\"))\n",
    "stanford_folders = os.listdir(\"Images\")\n",
    "\n",
    "matched = []\n",
    "unmatched = []\n",
    "\n",
    "for folder in stanford_folders:\n",
    "    if \"-\" in folder:\n",
    "        breed = folder.split(\"-\")[1].lower().replace(\" \", \"_\")\n",
    "        if breed in kaggle_breeds:\n",
    "            matched.append(breed)\n",
    "        else:\n",
    "            unmatched.append(breed)\n",
    "\n",
    "print(\"✅ Matched:\", matched)\n",
    "print(\"❌ Unmatched:\", unmatched)\n"
   ]
  },
  {
   "cell_type": "code",
   "execution_count": 7,
   "id": "730c9a46-2b61-48be-b907-137ded3ab21d",
   "metadata": {
    "execution": {
     "iopub.execute_input": "2025-05-30T12:57:03.323888Z",
     "iopub.status.busy": "2025-05-30T12:57:03.323321Z",
     "iopub.status.idle": "2025-05-30T12:57:47.805846Z",
     "shell.execute_reply": "2025-05-30T12:57:47.805286Z",
     "shell.execute_reply.started": "2025-05-30T12:57:03.323854Z"
    },
    "id": "730c9a46-2b61-48be-b907-137ded3ab21d",
    "outputId": "d070fd97-2a6f-4236-ba8a-df78c879d52a",
    "tags": []
   },
   "outputs": [
    {
     "name": "stderr",
     "output_type": "stream",
     "text": [
      "100%|██████████| 10222/10222 [00:44<00:00, 230.14it/s]\n"
     ]
    }
   ],
   "source": [
    "import os\n",
    "import shutil\n",
    "import pandas as pd\n",
    "from PIL import Image\n",
    "from tqdm import tqdm\n",
    "# 讀取標籤\n",
    "labels = pd.read_csv('dog-breed-identification/labels.csv')\n",
    "# 建立目標輸出資料夾\n",
    "output_dir = \"dog_images\"\n",
    "train_dir = os.path.join(output_dir, \"train\")\n",
    "os.makedirs(train_dir, exist_ok=True)\n",
    "\n",
    "# 根據標籤將圖片存入對應資料夾\n",
    "def organize_train_images(labels): # Pass labels as an argument\n",
    "    src_img_dir = \"dog-breed-identification/train\"\n",
    "    for idx, row in tqdm(labels.iterrows(), total=len(labels)):\n",
    "        img_id = row['id']\n",
    "        breed = row['breed']\n",
    "        src_path = os.path.join(src_img_dir, img_id + \".jpg\")\n",
    "\n",
    "        # 建立品種對應資料夾\n",
    "        breed_dir = os.path.join(train_dir, breed)\n",
    "        os.makedirs(breed_dir, exist_ok=True)\n",
    "\n",
    "        dst_path = os.path.join(breed_dir, img_id + \".jpg\")\n",
    "        shutil.copyfile(src_path, dst_path)\n",
    "\n",
    "# Load labels outside the function\n",
    "labels = pd.read_csv('dog-breed-identification/labels.csv')\n",
    "organize_train_images(labels) # Call the function with labels argument"
   ]
  },
  {
   "cell_type": "code",
   "execution_count": 8,
   "id": "d90bdf74-ae45-472a-bac1-61be16e32eea",
   "metadata": {
    "execution": {
     "iopub.execute_input": "2025-05-30T12:57:47.807058Z",
     "iopub.status.busy": "2025-05-30T12:57:47.806876Z",
     "iopub.status.idle": "2025-05-30T12:57:47.816464Z",
     "shell.execute_reply": "2025-05-30T12:57:47.816066Z",
     "shell.execute_reply.started": "2025-05-30T12:57:47.807042Z"
    },
    "tags": []
   },
   "outputs": [
    {
     "name": "stdout",
     "output_type": "stream",
     "text": [
      "✅ Matched breeds:\n",
      "- bloodhound\n",
      "- doberman\n",
      "- african_hunting_dog\n",
      "- japanese_spaniel\n",
      "- keeshond\n",
      "- shetland_sheepdog\n",
      "- brittany_spaniel\n",
      "- weimaraner\n",
      "- welsh_springer_spaniel\n",
      "- lhasa\n",
      "- kuvasz\n",
      "- dingo\n",
      "- pembroke\n",
      "- bernese_mountain_dog\n",
      "- clumber\n",
      "- lakeland_terrier\n",
      "- kerry_blue_terrier\n",
      "- afghan_hound\n",
      "- pug\n",
      "- australian_terrier\n",
      "- saint_bernard\n",
      "- pekinese\n",
      "- whippet\n",
      "- scotch_terrier\n",
      "- standard_schnauzer\n",
      "- bedlington_terrier\n",
      "- vizsla\n",
      "- mexican_hairless\n",
      "- redbone\n",
      "- beagle\n",
      "- irish_wolfhound\n",
      "- basenji\n",
      "- groenendael\n",
      "- irish_setter\n",
      "- chesapeake_bay_retriever\n",
      "- gordon_setter\n",
      "- collie\n",
      "- appenzeller\n",
      "- affenpinscher\n",
      "- walker_hound\n",
      "- papillon\n",
      "- american_staffordshire_terrier\n",
      "- boston_bull\n",
      "- malamute\n",
      "- otterhound\n",
      "- staffordshire_bullterrier\n",
      "- german_shepherd\n",
      "- scottish_deerhound\n",
      "- tibetan_terrier\n",
      "- yorkshire_terrier\n",
      "- toy_terrier\n",
      "- brabancon_griffon\n",
      "- sealyham_terrier\n",
      "- briard\n",
      "- newfoundland\n",
      "- entlebucher\n",
      "- great_pyrenees\n",
      "- malinois\n",
      "- boxer\n",
      "- cairn\n",
      "- pomeranian\n",
      "- dandie_dinmont\n",
      "- english_setter\n",
      "- cardigan\n",
      "- norfolk_terrier\n",
      "- leonberg\n",
      "- maltese_dog\n",
      "- eskimo_dog\n",
      "- french_bulldog\n",
      "- rottweiler\n",
      "- samoyed\n",
      "- toy_poodle\n",
      "- dhole\n",
      "- tibetan_mastiff\n",
      "- chow\n",
      "- chihuahua\n",
      "- bull_mastiff\n",
      "- rhodesian_ridgeback\n",
      "- border_terrier\n",
      "- standard_poodle\n",
      "- labrador_retriever\n",
      "- norwegian_elkhound\n",
      "- english_springer\n",
      "- norwich_terrier\n",
      "- silky_terrier\n",
      "- miniature_schnauzer\n",
      "- old_english_sheepdog\n",
      "- italian_greyhound\n",
      "- great_dane\n",
      "- miniature_poodle\n",
      "- west_highland_white_terrier\n",
      "- kelpie\n",
      "- komondor\n",
      "- schipperke\n",
      "- blenheim_spaniel\n",
      "- sussex_spaniel\n",
      "- basset\n",
      "- bouvier_des_flandres\n",
      "- borzoi\n",
      "- siberian_husky\n",
      "- border_collie\n",
      "- airedale\n",
      "- ibizan_hound\n",
      "- saluki\n",
      "- english_foxhound\n",
      "- irish_terrier\n",
      "- cocker_spaniel\n"
     ]
    }
   ],
   "source": [
    "# 你的抓取標籤（示範）\n",
    "labels = [\n",
    "    'bloodhound', 'doberman', 'african_hunting_dog', 'japanese_spaniel', 'keeshond',\n",
    "    'shetland_sheepdog', 'brittany_spaniel', 'weimaraner', 'welsh_springer_spaniel', 'lhasa',\n",
    "    'kuvasz', 'dingo', 'pembroke', 'greater_swiss_mountain_dog', 'giant_schnauzer',\n",
    "    'bernese_mountain_dog', 'clumber', 'lakeland_terrier', 'kerry_blue_terrier', 'afghan_hound',\n",
    "    'pug', 'australian_terrier', 'saint_bernard', 'pekinese', 'whippet',\n",
    "    'scotch_terrier', 'standard_schnauzer', 'bedlington_terrier', 'vizsla', 'mexican_hairless',\n",
    "    'redbone', 'beagle', 'irish_wolfhound', 'basenji', 'groenendael',\n",
    "    'irish_setter', 'chesapeake_bay_retriever', 'gordon_setter', 'collie', 'appenzeller',\n",
    "    'affenpinscher', 'walker_hound', 'papillon', 'american_staffordshire_terrier', 'golden_retriever',\n",
    "    'boston_bull', 'malamute', 'otterhound', 'staffordshire_bullterrier', 'german_shepherd',\n",
    "    'scottish_deerhound', 'irish_water_spaniel', 'miniature_pinscher', 'tibetan_terrier', 'yorkshire_terrier',\n",
    "    'toy_terrier', 'brabancon_griffon', 'sealyham_terrier', 'briard', 'newfoundland',\n",
    "    'entlebucher', 'great_pyrenees', 'malinois', 'boxer', 'cairn',\n",
    "    'pomeranian', 'dandie_dinmont', 'english_setter', 'cardigan', 'norfolk_terrier',\n",
    "    'leonberg', 'maltese_dog', 'eskimo_dog', 'french_bulldog', 'rottweiler',\n",
    "    'samoyed', 'toy_poodle', 'dhole', 'tibetan_mastiff', 'bluetick',\n",
    "    'chow', 'chihuahua', 'bull_mastiff', 'rhodesian_ridgeback', 'border_terrier',\n",
    "    'standard_poodle', 'labrador_retriever', 'norwegian_elkhound', 'english_springer', 'norwich_terrier',\n",
    "    'silky_terrier', 'miniature_schnauzer', 'old_english_sheepdog', 'italian_greyhound', 'great_dane',\n",
    "    'miniature_poodle', 'west_highland_white_terrier', 'kelpie', 'komondor', 'schipperke',\n",
    "    'blenheim_spaniel', 'sussex_spaniel', 'basset', 'bouvier_des_flandres', 'borzoi',\n",
    "    'siberian_husky', 'border_collie', 'airedale', 'ibizan_hound', 'saluki',\n",
    "    'english_foxhound', 'irish_terrier', 'cocker_spaniel',\n",
    "    # 以下不是品種，留著供篩選用\n",
    "    'soft', 'curly', 'wire', 'black', 'shih', 'flat', 'german_short'\n",
    "]\n",
    "\n",
    "# 官方 Stanford Dogs 品種列表 (示範，完整約120品種，這裡你可自行補充)\n",
    "official_breeds = [\n",
    "    \"affenpinscher\", \"afghan_hound\", \"african_hunting_dog\", \"airedale\", \"american_staffordshire_terrier\",\n",
    "    \"appenzeller\", \"australian_terrier\", \"basenji\", \"basset\", \"beagle\",\n",
    "    \"bedlington_terrier\", \"bernese_mountain_dog\", \"black-and-tan_coonhound\", \"blenheim_spaniel\",\n",
    "    \"bloodhound\", \"border_collie\", \"border_terrier\", \"borzoi\", \"boston_bull\",\n",
    "    \"bouvier_des_flandres\", \"boxer\", \"brabancon_griffon\", \"briard\", \"brittany_spaniel\",\n",
    "    \"bull_mastiff\", \"cairn\", \"cardigan\", \"chesapeake_bay_retriever\", \"chihuahua\",\n",
    "    \"chow\", \"clumber\", \"cocker_spaniel\", \"collie\", \"curly-coated_retriever\",\n",
    "    \"dandie_dinmont\", \"dhole\", \"dingo\", \"doberman\", \"english_foxhound\",\n",
    "    \"english_setter\", \"english_springer\", \"entlebucher\", \"eskimo_dog\", \"flat-coated_retriever\",\n",
    "    \"french_bulldog\", \"german_shepherd\", \"gordon_setter\", \"great_dane\", \"great_pyrenees\",\n",
    "    \"groenendael\", \"ibizan_hound\", \"irish_setter\", \"irish_terrier\", \"irish_wolfhound\",\n",
    "    \"italian_greyhound\", \"japanese_spaniel\", \"keeshond\", \"kelpie\", \"kerry_blue_terrier\",\n",
    "    \"komondor\", \"kuvasz\", \"labrador_retriever\", \"lakeland_terrier\", \"leonberg\",\n",
    "    \"lhasa\", \"malamute\", \"malinois\", \"maltese_dog\", \"mexican_hairless\",\n",
    "    \"miniature_poodle\", \"miniature_schnauzer\", \"newfoundland\", \"norfolk_terrier\",\n",
    "    \"norwegian_elkhound\", \"norwich_terrier\", \"old_english_sheepdog\", \"otterhound\",\n",
    "    \"papillon\", \"pekinese\", \"pembroke\", \"pomeranian\", \"pug\",\n",
    "    \"redbone\", \"rhodesian_ridgeback\", \"rottweiler\", \"saint_bernard\", \"saluki\",\n",
    "    \"samoyed\", \"schipperke\", \"scotch_terrier\", \"scottish_deerhound\", \"sealyham_terrier\",\n",
    "    \"shetland_sheepdog\", \"shih-tzu\", \"siberian_husky\", \"silky_terrier\", \"soft-coated_wheaten_terrier\",\n",
    "    \"staffordshire_bullterrier\", \"standard_poodle\", \"standard_schnauzer\", \"sussex_spaniel\",\n",
    "    \"tibetan_mastiff\", \"tibetan_terrier\", \"toy_poodle\", \"toy_terrier\", \"vizsla\",\n",
    "    \"walker_hound\", \"weimaraner\", \"welsh_springer_spaniel\", \"west_highland_white_terrier\",\n",
    "    \"whippet\", \"wire-haired_fox_terrier\", \"yorkshire_terrier\"\n",
    "]\n",
    "\n",
    "# 篩選只留下官方品種\n",
    "matched_breeds = [label for label in labels if label in official_breeds]\n",
    "\n",
    "print(\"✅ Matched breeds:\")\n",
    "for breed in matched_breeds:\n",
    "    print(\"-\", breed)\n"
   ]
  },
  {
   "cell_type": "code",
   "execution_count": 9,
   "id": "7aed986b-3ea3-4561-a241-65f77851823f",
   "metadata": {
    "execution": {
     "iopub.execute_input": "2025-05-30T12:57:47.817178Z",
     "iopub.status.busy": "2025-05-30T12:57:47.816934Z",
     "iopub.status.idle": "2025-05-30T12:57:51.236597Z",
     "shell.execute_reply": "2025-05-30T12:57:51.236037Z",
     "shell.execute_reply.started": "2025-05-30T12:57:47.817164Z"
    },
    "tags": []
   },
   "outputs": [
    {
     "name": "stderr",
     "output_type": "stream",
     "text": [
      "100%|██████████| 10222/10222 [00:01<00:00, 6009.83it/s]\n"
     ]
    }
   ],
   "source": [
    "import os\n",
    "import shutil\n",
    "import pandas as pd\n",
    "from PIL import Image\n",
    "from tqdm import tqdm\n",
    "# 讀取標籤\n",
    "labels = pd.read_csv('dog-breed-identification/labels.csv')\n",
    "# 建立目標輸出資料夾\n",
    "output_dir = \"dog_images\"\n",
    "train_dir = os.path.join(output_dir, \"train\")\n",
    "os.makedirs(train_dir, exist_ok=True)\n",
    "\n",
    "def organize_kaggle_images(labels_csv, kaggle_img_dir, output_dir):\n",
    "    labels = pd.read_csv(labels_csv)\n",
    "    os.makedirs(output_dir, exist_ok=True)\n",
    "\n",
    "    for idx, row in tqdm(labels.iterrows(), total=len(labels)):\n",
    "        img_id = row['id']\n",
    "        breed = row['breed']\n",
    "        src_path = os.path.join(kaggle_img_dir, img_id + \".jpg\")\n",
    "        breed_dir = os.path.join(output_dir, breed)\n",
    "        os.makedirs(breed_dir, exist_ok=True)\n",
    "        dst_path = os.path.join(breed_dir, img_id + \".jpg\")\n",
    "        if os.path.exists(src_path) and not os.path.exists(dst_path):\n",
    "            shutil.copyfile(src_path, dst_path)\n",
    "def organize_stanford_images(stanford_dir, output_dir, kaggle_breeds_set):\n",
    "    for folder in os.listdir(stanford_dir):\n",
    "        folder_path = os.path.join(stanford_dir, folder)\n",
    "        if \"-\" in folder:\n",
    "            breed = folder.split(\"-\")[1].lower()  # 取第二段並小寫\n",
    "            breed = breed.replace(\" \", \"_\")\n",
    "\n",
    "            # 只複製有在 Kaggle 資料集裡的品種，避免新增不相關品種\n",
    "            if breed in kaggle_breeds_set:\n",
    "                breed_dir = os.path.join(output_dir, breed)\n",
    "                os.makedirs(breed_dir, exist_ok=True)\n",
    "\n",
    "                for img_file in os.listdir(folder_path):\n",
    "                    src = os.path.join(folder_path, img_file)\n",
    "                    dst = os.path.join(breed_dir, f\"stanford_{img_file}\")\n",
    "                    if not os.path.exists(dst):\n",
    "                        shutil.copyfile(src, dst)\n",
    "kaggle_labels_csv = \"dog-breed-identification/labels.csv\"\n",
    "kaggle_img_dir = \"dog-breed-identification/train\"\n",
    "output_dir = \"dog_images/train\"\n",
    "\n",
    "# 讀取 Kaggle 品種名稱集合\n",
    "kaggle_labels = pd.read_csv(kaggle_labels_csv)\n",
    "kaggle_breeds_set = set(kaggle_labels['breed'].unique())\n",
    "\n",
    "# 整理 Kaggle 圖片\n",
    "organize_kaggle_images(kaggle_labels_csv, kaggle_img_dir, output_dir)\n",
    "\n",
    "# 整理 Stanford Dogs 圖片，前提是你已經解壓 Stanford Dogs 到 Images/ 資料夾\n",
    "stanford_dir = \"Images\"\n",
    "organize_stanford_images(stanford_dir, output_dir, kaggle_breeds_set)\n"
   ]
  },
  {
   "cell_type": "code",
   "execution_count": 10,
   "id": "53fafafb-66d1-417b-9603-84097d9b4686",
   "metadata": {
    "execution": {
     "iopub.execute_input": "2025-05-30T12:57:51.238002Z",
     "iopub.status.busy": "2025-05-30T12:57:51.237813Z",
     "iopub.status.idle": "2025-05-30T12:57:52.222911Z",
     "shell.execute_reply": "2025-05-30T12:57:52.222431Z",
     "shell.execute_reply.started": "2025-05-30T12:57:51.237986Z"
    },
    "id": "53fafafb-66d1-417b-9603-84097d9b4686",
    "tags": []
   },
   "outputs": [],
   "source": [
    "import os\n",
    "from torch.utils.data import Dataset, ConcatDataset, random_split, DataLoader, WeightedRandomSampler\n",
    "from PIL import Image\n",
    "from collections import Counter\n",
    "import torch\n",
    "from torchvision import transforms\n",
    "root_dir = \"dog_images/train\"\n",
    "\n",
    "# 建立 class_to_idx\n",
    "class_names = sorted([d for d in os.listdir(root_dir) if os.path.isdir(os.path.join(root_dir, d))])\n",
    "class_to_idx = {cls_name: idx for idx, cls_name in enumerate(class_names)}\n",
    "\n",
    "# 自訂 Dataset，接受 class_to_idx 參數\n",
    "class DogBreedImageFolder(Dataset):\n",
    "    def __init__(self, root_dir, class_to_idx, transform=None):\n",
    "        self.root_dir = root_dir\n",
    "        self.transform = transform\n",
    "        self.image_paths = []\n",
    "        self.labels = []\n",
    "        self.class_to_idx = class_to_idx\n",
    "\n",
    "        for class_name in class_to_idx.keys():\n",
    "            class_folder = os.path.join(root_dir, class_name)\n",
    "            if not os.path.isdir(class_folder):\n",
    "                continue\n",
    "            for filename in os.listdir(class_folder):\n",
    "                if filename.endswith(('.jpg', '.png')):\n",
    "                    self.image_paths.append(os.path.join(class_folder, filename))\n",
    "                    self.labels.append(class_to_idx[class_name])\n",
    "\n",
    "    def __len__(self):\n",
    "        return len(self.image_paths)\n",
    "\n",
    "    def __getitem__(self, idx):\n",
    "        img_path = self.image_paths[idx]\n",
    "        label = self.labels[idx]\n",
    "        image = Image.open(img_path).convert(\"RGB\")\n",
    "        if self.transform:\n",
    "            image = self.transform(image)\n",
    "        return image, label\n"
   ]
  },
  {
   "cell_type": "code",
   "execution_count": 11,
   "id": "dbbeeba0-bf0d-4bd6-9a0d-970074bdae22",
   "metadata": {
    "execution": {
     "iopub.execute_input": "2025-05-30T12:57:52.223675Z",
     "iopub.status.busy": "2025-05-30T12:57:52.223439Z",
     "iopub.status.idle": "2025-05-30T12:57:52.227889Z",
     "shell.execute_reply": "2025-05-30T12:57:52.227481Z",
     "shell.execute_reply.started": "2025-05-30T12:57:52.223657Z"
    },
    "id": "dbbeeba0-bf0d-4bd6-9a0d-970074bdae22",
    "tags": []
   },
   "outputs": [],
   "source": [
    "# 定義 Transform\n",
    "from torchvision.transforms import RandomResizedCrop, RandomHorizontalFlip, ColorJitter, RandomRotation, ToTensor, Normalize\n",
    "\n",
    "train_transform = transforms.Compose([\n",
    "    transforms.RandomHorizontalFlip(),\n",
    "    transforms.RandomRotation(10),\n",
    "    transforms.ColorJitter(brightness=0.3, contrast=0.3, saturation=0.3),\n",
    "    transforms.ToTensor(),\n",
    "    transforms.Normalize((0.485, 0.456, 0.406),  # 使用 ImageNet 的 mean/std\n",
    "                         (0.229, 0.224, 0.225)),\n",
    "])\n",
    "\n",
    "\n",
    "test_transform = transforms.Compose([\n",
    "    transforms.Resize((320, 320)),\n",
    "    transforms.ToTensor(),\n",
    "    transforms.Normalize((0.485, 0.456, 0.406), (0.229, 0.224, 0.225))\n",
    "])"
   ]
  },
  {
   "cell_type": "code",
   "execution_count": 12,
   "id": "23347d9e-a207-46c7-991b-7b7c9043c443",
   "metadata": {
    "execution": {
     "iopub.execute_input": "2025-05-30T12:57:52.228615Z",
     "iopub.status.busy": "2025-05-30T12:57:52.228357Z",
     "iopub.status.idle": "2025-05-30T12:57:52.301675Z",
     "shell.execute_reply": "2025-05-30T12:57:52.301249Z",
     "shell.execute_reply.started": "2025-05-30T12:57:52.228594Z"
    },
    "id": "23347d9e-a207-46c7-991b-7b7c9043c443",
    "outputId": "0549e703-37c9-4126-aeb8-c7ccbd15c6e5",
    "tags": []
   },
   "outputs": [
    {
     "name": "stdout",
     "output_type": "stream",
     "text": [
      "Train label distribution: Counter({73: 297, 97: 289, 1: 284, 94: 270, 87: 267, 11: 265, 26: 264, 7: 262, 100: 262, 109: 257, 69: 256, 52: 255, 59: 251, 42: 250, 88: 249, 98: 243, 80: 240, 84: 237, 6: 235, 13: 235, 101: 234, 78: 234, 68: 234, 30: 233, 75: 233, 93: 232, 55: 230, 3: 229, 9: 229, 86: 228, 117: 227, 102: 222, 70: 222, 10: 221, 61: 216, 19: 214, 15: 212, 14: 210, 111: 210, 8: 210, 60: 210, 92: 209, 35: 208, 39: 205, 17: 205, 2: 203, 28: 203, 116: 202, 57: 202, 67: 202, 71: 201, 64: 200, 79: 200, 81: 200, 90: 200, 119: 199, 40: 199, 105: 199, 33: 198, 96: 197, 118: 197, 53: 197, 62: 195, 54: 195, 4: 194, 82: 193, 74: 193, 77: 193, 56: 192, 32: 192, 66: 192, 37: 191, 27: 191, 12: 191, 95: 189, 76: 188, 24: 187, 114: 186, 106: 185, 46: 185, 107: 185, 21: 185, 5: 184, 25: 184, 110: 184, 103: 183, 45: 182, 47: 182, 41: 182, 99: 182, 36: 181, 16: 181, 18: 181, 31: 181, 20: 181, 51: 180, 85: 180, 65: 179, 0: 179, 72: 179, 115: 179, 44: 179, 34: 179, 50: 178, 38: 178, 63: 178, 83: 177, 112: 176, 29: 176, 113: 175, 23: 175, 48: 174, 104: 174, 43: 174, 58: 174, 91: 171, 89: 171, 108: 169, 49: 168, 22: 166})\n",
      "Val label distribution: Counter({3: 80, 61: 74, 73: 72, 9: 71, 1: 71, 97: 69, 52: 69, 59: 68, 11: 67, 42: 67, 93: 67, 60: 64, 100: 64, 6: 63, 82: 63, 87: 63, 81: 63, 68: 62, 14: 62, 63: 61, 35: 61, 64: 61, 104: 60, 69: 60, 90: 60, 114: 59, 71: 58, 17: 58, 7: 57, 94: 57, 91: 57, 30: 56, 50: 56, 109: 56, 79: 55, 84: 55, 19: 55, 13: 55, 117: 55, 20: 55, 58: 54, 70: 54, 22: 54, 75: 53, 53: 53, 101: 53, 67: 53, 78: 52, 48: 52, 41: 52, 108: 52, 2: 52, 102: 51, 99: 51, 80: 51, 56: 51, 95: 51, 0: 51, 51: 51, 10: 50, 115: 50, 57: 49, 31: 49, 89: 49, 55: 49, 49: 49, 116: 48, 112: 48, 110: 47, 98: 47, 119: 47, 45: 47, 29: 47, 8: 47, 25: 47, 113: 47, 28: 47, 38: 46, 76: 46, 86: 45, 40: 45, 88: 45, 18: 45, 37: 45, 92: 45, 5: 45, 47: 45, 36: 45, 44: 45, 12: 45, 62: 44, 4: 44, 72: 44, 85: 44, 103: 44, 107: 44, 34: 44, 15: 44, 96: 43, 83: 43, 23: 43, 65: 42, 106: 42, 74: 42, 43: 42, 33: 42, 118: 42, 32: 41, 16: 41, 111: 41, 21: 41, 27: 40, 77: 39, 105: 39, 26: 39, 39: 38, 24: 38, 54: 37, 46: 36, 66: 29})\n"
     ]
    }
   ],
   "source": [
    "# 建立 Dataset 與切分\n",
    "from torch.utils.data import random_split, DataLoader, WeightedRandomSampler\n",
    "import collections\n",
    "from collections import Counter\n",
    "\n",
    "# 讀取分類後資料\n",
    "dataset = DogBreedImageFolder(root_dir=root_dir, class_to_idx=class_to_idx, transform=train_transform)\n",
    "\n",
    "# 計算資料數量與切分比例\n",
    "val_ratio = 0.2\n",
    "val_size = int(len(dataset) * val_ratio)\n",
    "train_size = len(dataset) - val_size\n",
    "train_dataset, val_dataset = random_split(dataset, [train_size, val_size])\n",
    "\n",
    "# 取得 training set 的原始 indices\n",
    "train_indices = train_dataset.indices  # 是 dataset 中對應的索引\n",
    "train_labels = [dataset.labels[i] for i in train_indices]\n",
    "\n",
    "# 計算類別樣本數與每個 sample 權重\n",
    "label_counts = Counter(train_labels)\n",
    "class_sample_counts = [label_counts[i] for i in range(len(label_counts))]\n",
    "sample_weights = [1.0 / class_sample_counts[label] for label in train_labels]\n",
    "\n",
    "# 建立 WeightedRandomSampler\n",
    "sampler = WeightedRandomSampler(weights=sample_weights, num_samples=len(sample_weights), replacement=True)\n",
    "\n",
    "# 建立 DataLoader（train 用 sampler, val 用 shuffle=False）\n",
    "train_loader = DataLoader(train_dataset, batch_size=16, sampler=sampler, num_workers=2)\n",
    "val_loader = DataLoader(val_dataset, batch_size=32, shuffle=False, num_workers=2)\n",
    "\n",
    "# 顯示類別分布（驗證分布仍可看是否合理）\n",
    "val_labels = [dataset.labels[i] for i in val_dataset.indices]\n",
    "print(\"Train label distribution:\", Counter(train_labels))\n",
    "print(\"Val label distribution:\", Counter(val_labels))\n",
    "#這是調平衡的"
   ]
  },
  {
   "cell_type": "code",
   "execution_count": 13,
   "id": "fa598f16-152c-4df2-9790-80a2647e4758",
   "metadata": {
    "execution": {
     "iopub.execute_input": "2025-05-30T12:57:52.302315Z",
     "iopub.status.busy": "2025-05-30T12:57:52.302152Z",
     "iopub.status.idle": "2025-05-30T12:57:52.305750Z",
     "shell.execute_reply": "2025-05-30T12:57:52.305340Z",
     "shell.execute_reply.started": "2025-05-30T12:57:52.302299Z"
    },
    "id": "fa598f16-152c-4df2-9790-80a2647e4758",
    "tags": []
   },
   "outputs": [],
   "source": [
    "from torchvision import transforms\n",
    "from PIL import Image\n",
    "\n",
    "def collate_with_resize(batch, image_size):\n",
    "    images, labels = zip(*batch)\n",
    "    transform = transforms.Compose([\n",
    "        transforms.Resize((image_size, image_size)),  # 直接縮放 tensor\n",
    "    ])\n",
    "    images = [transform(img) if isinstance(img, torch.Tensor) else transform(transforms.ToTensor()(img)) for img in images]\n",
    "    return torch.stack(images), torch.tensor(labels)\n"
   ]
  },
  {
   "cell_type": "code",
   "execution_count": 14,
   "id": "d81ac95f-a572-4dc2-9587-f3ee8af1a2bd",
   "metadata": {
    "execution": {
     "iopub.execute_input": "2025-05-30T12:57:52.306526Z",
     "iopub.status.busy": "2025-05-30T12:57:52.306362Z",
     "iopub.status.idle": "2025-05-30T12:57:54.026305Z",
     "shell.execute_reply": "2025-05-30T12:57:54.025753Z",
     "shell.execute_reply.started": "2025-05-30T12:57:52.306511Z"
    },
    "id": "d81ac95f-a572-4dc2-9587-f3ee8af1a2bd",
    "outputId": "e71bb747-0ccf-4c75-8bf1-6463ce425757",
    "tags": []
   },
   "outputs": [
    {
     "name": "stdout",
     "output_type": "stream",
     "text": [
      "Images shape: torch.Size([16, 3, 320, 320])\n",
      "Labels shape: torch.Size([16])\n"
     ]
    }
   ],
   "source": [
    "# ✅ 動態圖像大小\n",
    "image_size = 320  # or 320\n",
    "train_loader = DataLoader(train_dataset, batch_size=16, shuffle=True,\n",
    "                          collate_fn=lambda batch: collate_with_resize(batch, image_size))\n",
    "\n",
    "# 測試一個 batch\n",
    "for images, labels in train_loader:\n",
    "    print(\"Images shape:\", images.shape)\n",
    "    print(\"Labels shape:\", labels.shape)\n",
    "    break\n"
   ]
  },
  {
   "cell_type": "code",
   "execution_count": 15,
   "id": "e2d5cb3c-7f1e-44bf-b0cc-5169d3d827d0",
   "metadata": {
    "execution": {
     "iopub.execute_input": "2025-05-30T12:57:54.027315Z",
     "iopub.status.busy": "2025-05-30T12:57:54.026952Z",
     "iopub.status.idle": "2025-05-30T12:57:56.643238Z",
     "shell.execute_reply": "2025-05-30T12:57:56.642718Z",
     "shell.execute_reply.started": "2025-05-30T12:57:54.027292Z"
    },
    "id": "e2d5cb3c-7f1e-44bf-b0cc-5169d3d827d0",
    "outputId": "fb111cb7-e29c-40b8-ca63-dcb47f6fe2a7",
    "tags": []
   },
   "outputs": [
    {
     "name": "stderr",
     "output_type": "stream",
     "text": [
      "Clipping input data to the valid range for imshow with RGB data ([0..1] for floats or [0..255] for integers).\n"
     ]
    },
    {
     "data": {
      "image/png": "[encoded data removed]",
      "text/plain": [
       "<Figure size 640x480 with 1 Axes>"
      ]
     },
     "metadata": {},
     "output_type": "display_data"
    }
   ],
   "source": [
    "# 如果需要視覺化一個 batch\n",
    "import matplotlib.pyplot as plt\n",
    "def show_batch(loader):\n",
    "    images, labels = next(iter(loader))\n",
    "    img = images[0].permute(1, 2, 0).numpy()\n",
    "    plt.imshow(img)\n",
    "    plt.title(f\"Label: {labels[0]}\")\n",
    "    plt.show()\n",
    "\n",
    "show_batch(train_loader)"
   ]
  },
  {
   "cell_type": "code",
   "execution_count": 16,
   "id": "414540cd-824c-4fd0-8866-2d506f86b17c",
   "metadata": {
    "execution": {
     "iopub.execute_input": "2025-05-30T12:57:56.645408Z",
     "iopub.status.busy": "2025-05-30T12:57:56.645160Z",
     "iopub.status.idle": "2025-05-30T12:57:59.918075Z",
     "shell.execute_reply": "2025-05-30T12:57:59.917522Z",
     "shell.execute_reply.started": "2025-05-30T12:57:56.645390Z"
    },
    "id": "414540cd-824c-4fd0-8866-2d506f86b17c",
    "tags": []
   },
   "outputs": [],
   "source": [
    "import torch\n",
    "import torch.nn as nn\n",
    "import torchvision.models as models\n",
    "\n",
    "num_classes = 120  # Dog Breed Identification 有 120 類別\n",
    "device = torch.device(\"cuda\" if torch.cuda.is_available() else \"cpu\")\n",
    "\n",
    "# 載入預訓練模型並修改最後一層\n",
    "model = models.resnext101_32x8d(weights=models.ResNeXt101_32X8D_Weights.DEFAULT)\n",
    "\n",
    "for param in model.parameters():\n",
    "    param.requires_grad = False\n",
    "\n",
    "num_classes = len(dataset.class_to_idx)\n",
    "\n",
    "model.fc = nn.Sequential(\n",
    "    nn.Linear(model.fc.in_features, 512),\n",
    "    nn.ReLU(),\n",
    "    nn.Dropout(0.3),\n",
    "    nn.Linear(512, 256),\n",
    "    nn.ReLU(),\n",
    "    nn.Dropout(0.3),\n",
    "    nn.Linear(256, num_classes)\n",
    ")\n",
    "\n",
    "# 搬移到裝置（GPU 或 CPU）\n",
    "model = model.to(device)"
   ]
  },
  {
   "cell_type": "code",
   "execution_count": 17,
   "id": "23be5748-2b47-4a59-86fa-5b8542b86481",
   "metadata": {
    "execution": {
     "iopub.execute_input": "2025-05-30T12:57:59.918817Z",
     "iopub.status.busy": "2025-05-30T12:57:59.918643Z",
     "iopub.status.idle": "2025-05-30T12:57:59.923838Z",
     "shell.execute_reply": "2025-05-30T12:57:59.923413Z",
     "shell.execute_reply.started": "2025-05-30T12:57:59.918801Z"
    },
    "id": "23be5748-2b47-4a59-86fa-5b8542b86481",
    "tags": []
   },
   "outputs": [],
   "source": [
    "class LabelSmoothingCrossEntropy(nn.Module):\n",
    "    def __init__(self, smoothing=0.1):\n",
    "        super(LabelSmoothingCrossEntropy, self).__init__()\n",
    "        self.smoothing = smoothing\n",
    "        self.confidence = 1.0 - smoothing\n",
    "\n",
    "    def forward(self, logits, target):\n",
    "        log_probs = nn.functional.log_softmax(logits, dim=-1)\n",
    "        nll_loss = -log_probs.gather(dim=-1, index=target.unsqueeze(1)).squeeze(1)\n",
    "        smooth_loss = -log_probs.mean(dim=-1)\n",
    "        loss = self.confidence * nll_loss + self.smoothing * smooth_loss\n",
    "        return loss.mean()\n"
   ]
  },
  {
   "cell_type": "code",
   "execution_count": 18,
   "id": "fe67e232-f94b-4987-aa63-9c2b02b17a3b",
   "metadata": {
    "execution": {
     "iopub.execute_input": "2025-05-30T12:57:59.924448Z",
     "iopub.status.busy": "2025-05-30T12:57:59.924297Z",
     "iopub.status.idle": "2025-05-30T12:57:59.931429Z",
     "shell.execute_reply": "2025-05-30T12:57:59.930716Z",
     "shell.execute_reply.started": "2025-05-30T12:57:59.924434Z"
    },
    "id": "fe67e232-f94b-4987-aa63-9c2b02b17a3b",
    "tags": []
   },
   "outputs": [],
   "source": [
    "from torch.optim.lr_scheduler import _LRScheduler\n",
    "\n",
    "class GradualWarmupScheduler(_LRScheduler):\n",
    "    def __init__(self, optimizer, multiplier, total_epoch, after_scheduler=None, last_epoch=-1):\n",
    "        self.multiplier = multiplier\n",
    "        if self.multiplier <= 1.:\n",
    "            raise ValueError('multiplier should be greater than 1.')\n",
    "        self.total_epoch = total_epoch\n",
    "        self.after_scheduler = after_scheduler\n",
    "        self.finished = False\n",
    "        super(GradualWarmupScheduler, self).__init__(optimizer, last_epoch)\n",
    "\n",
    "    def get_lr(self):\n",
    "        if self.last_epoch >= self.total_epoch:\n",
    "            if self.after_scheduler:\n",
    "                if not self.finished:\n",
    "                    self.after_scheduler.base_lrs = [base_lr * self.multiplier for base_lr in self.base_lrs]\n",
    "                    self.finished = True\n",
    "                return self.after_scheduler.get_lr()\n",
    "            return [base_lr * self.multiplier for base_lr in self.base_lrs]\n",
    "\n",
    "        return [\n",
    "            base_lr * ((self.multiplier - 1.) * self.last_epoch / self.total_epoch + 1.)\n",
    "            for base_lr in self.base_lrs\n",
    "        ]\n",
    "\n",
    "    def step(self, epoch=None):\n",
    "        if self.finished and self.after_scheduler:\n",
    "            if epoch is None:\n",
    "                self.after_scheduler.step(None)\n",
    "            else:\n",
    "                self.after_scheduler.step(epoch - self.total_epoch)\n",
    "        else:\n",
    "            return super(GradualWarmupScheduler, self).step(epoch)\n"
   ]
  },
  {
   "cell_type": "code",
   "execution_count": 19,
   "id": "ac519f99-2c79-4f8d-bfb1-0943e5807ca6",
   "metadata": {
    "execution": {
     "iopub.execute_input": "2025-05-30T12:57:59.932100Z",
     "iopub.status.busy": "2025-05-30T12:57:59.931946Z",
     "iopub.status.idle": "2025-05-30T12:57:59.940871Z",
     "shell.execute_reply": "2025-05-30T12:57:59.940148Z",
     "shell.execute_reply.started": "2025-05-30T12:57:59.932085Z"
    },
    "id": "ac519f99-2c79-4f8d-bfb1-0943e5807ca6",
    "tags": []
   },
   "outputs": [],
   "source": [
    "from collections import Counter\n",
    "from torchvision import transforms\n",
    "from torch.optim.lr_scheduler import CosineAnnealingLR\n",
    "\n",
    "num_epochs = 50\n",
    "warmup_epochs = 5\n",
    "# 計算各類別的樣本數\n",
    "label_counts = Counter(dataset.labels)\n",
    "num_classes = len(label_counts)\n",
    "class_counts = [label_counts[i] for i in range(num_classes)]\n",
    "\n",
    "# 計算每個類別的權重：樣本數越少，權重越高\n",
    "weights = [1.0 / c for c in class_counts]\n",
    "weights = torch.tensor(weights, dtype=torch.float).to(device)\n",
    "\n",
    "# 使用 class weights + label smoothing\n",
    "criterion = LabelSmoothingCrossEntropy(smoothing=0.1)\n",
    "optimizer = torch.optim.AdamW(model.parameters(), lr=3e-4, weight_decay=1e-4)\n",
    "\n",
    "cosine_scheduler = CosineAnnealingLR(optimizer, T_max=num_epochs - warmup_epochs)\n",
    "scheduler = GradualWarmupScheduler(\n",
    "    optimizer,\n",
    "    multiplier=5.0,               # 最終學習率 = 初始 * 1.0\n",
    "    total_epoch=warmup_epochs,\n",
    "    after_scheduler=cosine_scheduler\n",
    ")\n"
   ]
  },
  {
   "cell_type": "code",
   "execution_count": 20,
   "id": "324f3936-1cd3-4cec-aa09-280f34f3de71",
   "metadata": {
    "execution": {
     "iopub.execute_input": "2025-05-30T12:57:59.941507Z",
     "iopub.status.busy": "2025-05-30T12:57:59.941331Z",
     "iopub.status.idle": "2025-05-30T12:57:59.946963Z",
     "shell.execute_reply": "2025-05-30T12:57:59.946247Z",
     "shell.execute_reply.started": "2025-05-30T12:57:59.941493Z"
    },
    "id": "324f3936-1cd3-4cec-aa09-280f34f3de71",
    "tags": []
   },
   "outputs": [],
   "source": [
    "from torchvision import transforms\n",
    "from torch.utils.data import DataLoader\n",
    "from torchvision.datasets import ImageFolder\n",
    "\n",
    "def get_dataloaders(image_size, batch_size):\n",
    "    transform_train = transforms.Compose([\n",
    "        transforms.Resize((image_size, image_size)),\n",
    "        transforms.RandomHorizontalFlip(),\n",
    "        transforms.ToTensor(),\n",
    "    ])\n",
    "    transform_val = transforms.Compose([\n",
    "        transforms.Resize((image_size, image_size)),\n",
    "        transforms.ToTensor(),\n",
    "    ])\n",
    "\n",
    "    train_dataset = ImageFolder(train_dir, transform=transform_train)\n",
    "    val_dataset = ImageFolder(val_dir, transform=transform_val)\n",
    "\n",
    "    train_loader = DataLoader(train_dataset, batch_size=batch_size, shuffle=True, num_workers=4)\n",
    "    val_loader = DataLoader(val_dataset, batch_size=batch_size, shuffle=False, num_workers=4)\n",
    "\n",
    "    return train_loader, val_loader\n"
   ]
  },
  {
   "cell_type": "code",
   "execution_count": 21,
   "id": "9eW-iKmR6xDv",
   "metadata": {
    "execution": {
     "iopub.execute_input": "2025-05-30T12:57:59.947491Z",
     "iopub.status.busy": "2025-05-30T12:57:59.947320Z",
     "iopub.status.idle": "2025-05-30T12:57:59.954540Z",
     "shell.execute_reply": "2025-05-30T12:57:59.953838Z",
     "shell.execute_reply.started": "2025-05-30T12:57:59.947477Z"
    },
    "id": "9eW-iKmR6xDv",
    "tags": []
   },
   "outputs": [],
   "source": [
    "class EarlyStopping:\n",
    "    def __init__(self, patience=8, verbose=False, delta=0, path='best_model.pth'):\n",
    "        self.patience = patience\n",
    "        self.verbose = verbose\n",
    "        self.counter = 0\n",
    "        self.best_score = None\n",
    "        self.early_stop = False\n",
    "        self.val_loss_min = float('inf')\n",
    "        self.delta = delta\n",
    "        self.path = path\n",
    "\n",
    "    def __call__(self, val_loss, model):\n",
    "        score = -val_loss\n",
    "\n",
    "        if self.best_score is None:\n",
    "            self.best_score = score\n",
    "            self.save_checkpoint(val_loss, model)\n",
    "        elif score < self.best_score + self.delta:\n",
    "            self.counter += 1\n",
    "            if self.verbose:\n",
    "                print(f\"EarlyStopping counter: {self.counter} out of {self.patience}\")\n",
    "            if self.counter >= self.patience:\n",
    "                self.early_stop = True\n",
    "        else:\n",
    "            self.best_score = score\n",
    "            self.save_checkpoint(val_loss, model)\n",
    "            self.counter = 0\n",
    "\n",
    "    def save_checkpoint(self, val_loss, model):\n",
    "        '''儲存目前最佳模型'''\n",
    "        if self.verbose:\n",
    "            print(f\"Validation loss decreased ({self.val_loss_min:.6f} → {val_loss:.6f}). Saving model...\")\n",
    "        torch.save(model.state_dict(), self.path)\n",
    "        self.val_loss_min = val_loss\n"
   ]
  },
  {
   "cell_type": "code",
   "execution_count": 22,
   "id": "25cf8137-76e5-484b-95d2-fbf22792cd72",
   "metadata": {
    "execution": {
     "iopub.execute_input": "2025-05-30T12:57:59.955153Z",
     "iopub.status.busy": "2025-05-30T12:57:59.955012Z",
     "iopub.status.idle": "2025-06-01T15:08:12.227753Z",
     "shell.execute_reply": "2025-06-01T15:08:12.227118Z",
     "shell.execute_reply.started": "2025-05-30T12:57:59.955139Z"
    },
    "id": "25cf8137-76e5-484b-95d2-fbf22792cd72",
    "outputId": "403ee953-43a5-4558-b341-c1d813182fda",
    "tags": []
   },
   "outputs": [
    {
     "name": "stdout",
     "output_type": "stream",
     "text": [
      "Epoch 1/50, Size: 224, Loss: 2.8368, Accuracy: 53.86%\n",
      "Validation Loss: 1.3613, Validation Accuracy: 89.37%\n",
      "Validation loss decreased (inf → 1.361312). Saving model...\n",
      "Epoch 2/50, Size: 224, Loss: 1.3526, Accuracy: 86.16%\n",
      "Validation Loss: 1.1142, Validation Accuracy: 92.31%\n",
      "Validation loss decreased (1.361312 → 1.114152). Saving model...\n",
      "Epoch 3/50, Size: 224, Loss: 1.2130, Accuracy: 90.34%\n",
      "Validation Loss: 1.0663, Validation Accuracy: 93.23%\n",
      "Validation loss decreased (1.114152 → 1.066275). Saving model...\n",
      "Epoch 4/50, Size: 224, Loss: 1.1667, Accuracy: 91.75%\n",
      "Validation Loss: 1.0587, Validation Accuracy: 93.65%\n",
      "Validation loss decreased (1.066275 → 1.058702). Saving model...\n"
     ]
    },
    {
     "name": "stderr",
     "output_type": "stream",
     "text": [
      "/opt/conda/lib/python3.9/site-packages/torch/optim/lr_scheduler.py:807: UserWarning: To get the last learning rate computed by the scheduler, please use `get_last_lr()`.\n",
      "  warnings.warn(\"To get the last learning rate computed by the scheduler, \"\n"
     ]
    },
    {
     "name": "stdout",
     "output_type": "stream",
     "text": [
      "Epoch 5/50, Size: 224, Loss: 1.1498, Accuracy: 92.55%\n",
      "Validation Loss: 1.0605, Validation Accuracy: 93.41%\n",
      "EarlyStopping counter: 1 out of 8\n",
      "Epoch 6/50, Size: 320, Loss: 1.1435, Accuracy: 93.35%\n",
      "Validation Loss: 1.0446, Validation Accuracy: 94.71%\n",
      "Validation loss decreased (1.058702 → 1.044575). Saving model...\n",
      "Epoch 7/50, Size: 320, Loss: 1.1005, Accuracy: 94.61%\n",
      "Validation Loss: 1.0427, Validation Accuracy: 94.66%\n",
      "Validation loss decreased (1.044575 → 1.042652). Saving model...\n",
      "Epoch 8/50, Size: 320, Loss: 1.0900, Accuracy: 95.23%\n",
      "Validation Loss: 1.0452, Validation Accuracy: 94.48%\n",
      "EarlyStopping counter: 1 out of 8\n",
      "Epoch 9/50, Size: 320, Loss: 1.0741, Accuracy: 95.82%\n",
      "Validation Loss: 1.0238, Validation Accuracy: 94.82%\n",
      "Validation loss decreased (1.042652 → 1.023772). Saving model...\n",
      "Epoch 10/50, Size: 320, Loss: 1.0623, Accuracy: 96.04%\n",
      "Validation Loss: 1.0117, Validation Accuracy: 95.55%\n",
      "Validation loss decreased (1.023772 → 1.011665). Saving model...\n",
      "Epoch 11/50, Size: 320, Loss: 1.0601, Accuracy: 96.51%\n",
      "Validation Loss: 1.0118, Validation Accuracy: 95.47%\n",
      "EarlyStopping counter: 1 out of 8\n",
      "Epoch 12/50, Size: 320, Loss: 1.0449, Accuracy: 97.05%\n",
      "Validation Loss: 1.0052, Validation Accuracy: 95.91%\n",
      "Validation loss decreased (1.011665 → 1.005197). Saving model...\n",
      "Epoch 13/50, Size: 320, Loss: 1.0494, Accuracy: 96.77%\n",
      "Validation Loss: 1.0061, Validation Accuracy: 95.73%\n",
      "EarlyStopping counter: 1 out of 8\n",
      "Epoch 14/50, Size: 320, Loss: 1.0401, Accuracy: 97.20%\n",
      "Validation Loss: 1.0031, Validation Accuracy: 95.57%\n",
      "Validation loss decreased (1.005197 → 1.003050). Saving model...\n",
      "Epoch 15/50, Size: 320, Loss: 1.0287, Accuracy: 97.41%\n",
      "Validation Loss: 1.0040, Validation Accuracy: 95.91%\n",
      "EarlyStopping counter: 1 out of 8\n",
      "Epoch 16/50, Size: 320, Loss: 1.0250, Accuracy: 97.68%\n",
      "Validation Loss: 0.9908, Validation Accuracy: 96.15%\n",
      "Validation loss decreased (1.003050 → 0.990777). Saving model...\n",
      "Epoch 17/50, Size: 320, Loss: 1.0188, Accuracy: 97.63%\n",
      "Validation Loss: 0.9862, Validation Accuracy: 96.01%\n",
      "Validation loss decreased (0.990777 → 0.986243). Saving model...\n",
      "Epoch 18/50, Size: 320, Loss: 1.0155, Accuracy: 97.75%\n",
      "Validation Loss: 0.9889, Validation Accuracy: 95.93%\n",
      "EarlyStopping counter: 1 out of 8\n",
      "Epoch 19/50, Size: 320, Loss: 1.0105, Accuracy: 97.86%\n",
      "Validation Loss: 0.9854, Validation Accuracy: 95.88%\n",
      "Validation loss decreased (0.986243 → 0.985363). Saving model...\n",
      "Epoch 20/50, Size: 320, Loss: 0.9966, Accuracy: 98.21%\n",
      "Validation Loss: 0.9822, Validation Accuracy: 96.02%\n",
      "Validation loss decreased (0.985363 → 0.982247). Saving model...\n",
      "Epoch 21/50, Size: 320, Loss: 1.0004, Accuracy: 98.20%\n",
      "Validation Loss: 0.9820, Validation Accuracy: 96.25%\n",
      "Validation loss decreased (0.982247 → 0.982009). Saving model...\n",
      "Epoch 22/50, Size: 320, Loss: 0.9965, Accuracy: 98.16%\n",
      "Validation Loss: 0.9792, Validation Accuracy: 95.81%\n",
      "Validation loss decreased (0.982009 → 0.979166). Saving model...\n",
      "Epoch 23/50, Size: 320, Loss: 0.9841, Accuracy: 98.49%\n",
      "Validation Loss: 0.9683, Validation Accuracy: 96.23%\n",
      "Validation loss decreased (0.979166 → 0.968339). Saving model...\n",
      "Epoch 24/50, Size: 320, Loss: 0.9810, Accuracy: 98.54%\n",
      "Validation Loss: 0.9762, Validation Accuracy: 96.36%\n",
      "EarlyStopping counter: 1 out of 8\n",
      "Epoch 25/50, Size: 320, Loss: 0.9765, Accuracy: 98.60%\n",
      "Validation Loss: 0.9677, Validation Accuracy: 96.20%\n",
      "Validation loss decreased (0.968339 → 0.967651). Saving model...\n",
      "Epoch 26/50, Size: 320, Loss: 0.9656, Accuracy: 98.74%\n",
      "Validation Loss: 0.9646, Validation Accuracy: 96.27%\n",
      "Validation loss decreased (0.967651 → 0.964564). Saving model...\n",
      "Epoch 27/50, Size: 320, Loss: 0.9651, Accuracy: 98.77%\n",
      "Validation Loss: 0.9636, Validation Accuracy: 96.28%\n",
      "Validation loss decreased (0.964564 → 0.963647). Saving model...\n",
      "Epoch 28/50, Size: 320, Loss: 0.9602, Accuracy: 98.81%\n",
      "Validation Loss: 0.9619, Validation Accuracy: 96.33%\n",
      "Validation loss decreased (0.963647 → 0.961895). Saving model...\n",
      "Epoch 29/50, Size: 320, Loss: 0.9545, Accuracy: 99.04%\n",
      "Validation Loss: 0.9585, Validation Accuracy: 96.28%\n",
      "Validation loss decreased (0.961895 → 0.958509). Saving model...\n",
      "Epoch 30/50, Size: 320, Loss: 0.9455, Accuracy: 98.99%\n",
      "Validation Loss: 0.9550, Validation Accuracy: 96.48%\n",
      "Validation loss decreased (0.958509 → 0.955050). Saving model...\n",
      "Epoch 31/50, Size: 320, Loss: 0.9454, Accuracy: 99.03%\n",
      "Validation Loss: 0.9487, Validation Accuracy: 96.64%\n",
      "Validation loss decreased (0.955050 → 0.948673). Saving model...\n",
      "Epoch 32/50, Size: 320, Loss: 0.9420, Accuracy: 99.12%\n",
      "Validation Loss: 0.9567, Validation Accuracy: 96.41%\n",
      "EarlyStopping counter: 1 out of 8\n",
      "Epoch 33/50, Size: 320, Loss: 0.9374, Accuracy: 99.28%\n",
      "Validation Loss: 0.9446, Validation Accuracy: 96.64%\n",
      "Validation loss decreased (0.948673 → 0.944578). Saving model...\n",
      "Epoch 34/50, Size: 320, Loss: 0.9299, Accuracy: 99.23%\n",
      "Validation Loss: 0.9518, Validation Accuracy: 96.44%\n",
      "EarlyStopping counter: 1 out of 8\n",
      "Epoch 35/50, Size: 320, Loss: 0.9261, Accuracy: 99.43%\n",
      "Validation Loss: 0.9479, Validation Accuracy: 96.79%\n",
      "EarlyStopping counter: 2 out of 8\n",
      "Epoch 36/50, Size: 320, Loss: 0.9270, Accuracy: 99.27%\n",
      "Validation Loss: 0.9485, Validation Accuracy: 96.66%\n",
      "EarlyStopping counter: 3 out of 8\n",
      "Epoch 37/50, Size: 320, Loss: 0.9275, Accuracy: 99.39%\n",
      "Validation Loss: 0.9461, Validation Accuracy: 96.40%\n",
      "EarlyStopping counter: 4 out of 8\n",
      "Epoch 38/50, Size: 320, Loss: 0.9260, Accuracy: 99.38%\n",
      "Validation Loss: 0.9461, Validation Accuracy: 96.62%\n",
      "EarlyStopping counter: 5 out of 8\n",
      "Epoch 39/50, Size: 320, Loss: 0.9175, Accuracy: 99.42%\n",
      "Validation Loss: 0.9443, Validation Accuracy: 96.54%\n",
      "Validation loss decreased (0.944578 → 0.944315). Saving model...\n",
      "Epoch 40/50, Size: 320, Loss: 0.9126, Accuracy: 99.44%\n",
      "Validation Loss: 0.9388, Validation Accuracy: 96.70%\n",
      "Validation loss decreased (0.944315 → 0.938824). Saving model...\n",
      "Epoch 41/50, Size: 320, Loss: 0.9157, Accuracy: 99.52%\n",
      "Validation Loss: 0.9436, Validation Accuracy: 96.46%\n",
      "EarlyStopping counter: 1 out of 8\n",
      "Epoch 42/50, Size: 320, Loss: 0.9133, Accuracy: 99.50%\n",
      "Validation Loss: 0.9455, Validation Accuracy: 96.49%\n",
      "EarlyStopping counter: 2 out of 8\n",
      "Epoch 43/50, Size: 320, Loss: 0.9145, Accuracy: 99.48%\n",
      "Validation Loss: 0.9443, Validation Accuracy: 96.46%\n",
      "EarlyStopping counter: 3 out of 8\n",
      "Epoch 44/50, Size: 320, Loss: 0.9086, Accuracy: 99.48%\n",
      "Validation Loss: 0.9394, Validation Accuracy: 96.57%\n",
      "EarlyStopping counter: 4 out of 8\n",
      "Epoch 45/50, Size: 320, Loss: 0.9077, Accuracy: 99.54%\n",
      "Validation Loss: 0.9424, Validation Accuracy: 96.44%\n",
      "EarlyStopping counter: 5 out of 8\n",
      "Epoch 46/50, Size: 320, Loss: 0.9115, Accuracy: 99.50%\n",
      "Validation Loss: 0.9384, Validation Accuracy: 96.69%\n",
      "Validation loss decreased (0.938824 → 0.938398). Saving model...\n",
      "Epoch 47/50, Size: 320, Loss: 0.9069, Accuracy: 99.51%\n",
      "Validation Loss: 0.9401, Validation Accuracy: 96.70%\n",
      "EarlyStopping counter: 1 out of 8\n",
      "Epoch 48/50, Size: 320, Loss: 0.9061, Accuracy: 99.55%\n",
      "Validation Loss: 0.9414, Validation Accuracy: 96.48%\n",
      "EarlyStopping counter: 2 out of 8\n",
      "Epoch 49/50, Size: 320, Loss: 0.9043, Accuracy: 99.56%\n",
      "Validation Loss: 0.9342, Validation Accuracy: 96.75%\n",
      "Validation loss decreased (0.938398 → 0.934178). Saving model...\n",
      "Epoch 50/50, Size: 320, Loss: 0.9062, Accuracy: 99.63%\n",
      "Validation Loss: 0.9411, Validation Accuracy: 96.43%\n",
      "EarlyStopping counter: 1 out of 8\n"
     ]
    },
    {
     "data": {
      "text/plain": [
       "<All keys matched successfully>"
      ]
     },
     "execution_count": 22,
     "metadata": {},
     "output_type": "execute_result"
    }
   ],
   "source": [
    "small_image_epochs = 5\n",
    "small_size = 224\n",
    "large_size = 320\n",
    "batch_size = 64\n",
    "\n",
    "early_stopping = EarlyStopping(patience=8, verbose=True, path='best_ResNeXt101.pth')\n",
    "\n",
    "full_dataset = DogBreedImageFolder(\"dog_images/train\", class_to_idx, transform=train_transform)\n",
    "\n",
    "for epoch in range(num_epochs):\n",
    "    image_size = small_size if epoch < small_image_epochs else large_size\n",
    "\n",
    "    train_loader = DataLoader(train_dataset, batch_size=batch_size, shuffle=True,\n",
    "                              collate_fn=lambda batch: collate_with_resize(batch, image_size))\n",
    "    val_loader = DataLoader(val_dataset, batch_size=batch_size, shuffle=False,\n",
    "                            collate_fn=lambda batch: collate_with_resize(batch, image_size))\n",
    "\n",
    "    model.train()\n",
    "    running_loss = 0.0\n",
    "    correct = 0\n",
    "    total = 0\n",
    "\n",
    "    for images, labels in train_loader:\n",
    "        images, labels = images.to(device), labels.to(device)\n",
    "\n",
    "        optimizer.zero_grad()\n",
    "        outputs = model(images)\n",
    "        loss = criterion(outputs, labels)\n",
    "        loss.backward()\n",
    "        optimizer.step()\n",
    "\n",
    "        running_loss += loss.item()\n",
    "        _, predicted = torch.max(outputs, 1)\n",
    "        total += labels.size(0)\n",
    "        correct += (predicted == labels).sum().item()\n",
    "\n",
    "    scheduler.step()\n",
    "\n",
    "    epoch_loss = running_loss / len(train_loader)\n",
    "    epoch_acc = 100 * correct / total\n",
    "    print(f\"Epoch {epoch+1}/{num_epochs}, Size: {image_size}, Loss: {epoch_loss:.4f}, Accuracy: {epoch_acc:.2f}%\")\n",
    "\n",
    "    model.eval()\n",
    "    val_loss = 0.0\n",
    "    correct = 0\n",
    "    total = 0\n",
    "    with torch.no_grad():\n",
    "        for images, labels in val_loader:\n",
    "            images, labels = images.to(device), labels.to(device)\n",
    "            outputs = model(images)\n",
    "            loss = criterion(outputs, labels)\n",
    "            val_loss += loss.item()\n",
    "            _, predicted = torch.max(outputs, 1)\n",
    "            total += labels.size(0)\n",
    "            correct += (predicted == labels).sum().item()\n",
    "\n",
    "    val_loss /= len(val_loader)\n",
    "    val_acc = 100 * correct / total\n",
    "    print(f\"Validation Loss: {val_loss:.4f}, Validation Accuracy: {val_acc:.2f}%\")\n",
    "\n",
    "    early_stopping(val_loss, model)\n",
    "\n",
    "    if early_stopping.early_stop:\n",
    "        print(\"Early stopping triggered.\")\n",
    "        break\n",
    "\n",
    "# 載入最佳模型\n",
    "model.load_state_dict(torch.load(\"best_ResNeXt101.pth\"))\n"
   ]
  },
  {
   "cell_type": "code",
   "execution_count": 23,
   "id": "8d306abf-c908-4307-afa8-ffd890aee88f",
   "metadata": {
    "execution": {
     "iopub.execute_input": "2025-06-01T15:08:12.228647Z",
     "iopub.status.busy": "2025-06-01T15:08:12.228456Z",
     "iopub.status.idle": "2025-06-01T15:08:13.026439Z",
     "shell.execute_reply": "2025-06-01T15:08:13.025596Z",
     "shell.execute_reply.started": "2025-06-01T15:08:12.228629Z"
    },
    "id": "8d306abf-c908-4307-afa8-ffd890aee88f",
    "tags": []
   },
   "outputs": [],
   "source": [
    "# 保存訓練後的模型\n",
    "torch.save(model.state_dict(), \"dog_breed_model.pth\")\n"
   ]
  },
  {
   "cell_type": "code",
   "execution_count": 24,
   "id": "bd237980-ad71-4780-8b12-3bf900b5abf9",
   "metadata": {
    "execution": {
     "iopub.execute_input": "2025-06-01T15:08:13.027579Z",
     "iopub.status.busy": "2025-06-01T15:08:13.027374Z",
     "iopub.status.idle": "2025-06-01T15:20:17.991303Z",
     "shell.execute_reply": "2025-06-01T15:20:17.990733Z",
     "shell.execute_reply.started": "2025-06-01T15:08:13.027562Z"
    },
    "id": "bd237980-ad71-4780-8b12-3bf900b5abf9",
    "outputId": "522dbeeb-39d2-4282-82d1-1981e811055b",
    "tags": []
   },
   "outputs": [
    {
     "name": "stdout",
     "output_type": "stream",
     "text": [
      "Test Accuracy: 96.66%\n"
     ]
    }
   ],
   "source": [
    "# 測試集的評估\n",
    "test_accuracy = 0\n",
    "with torch.no_grad():\n",
    "    for images, labels in val_loader:\n",
    "        images, labels = images.to(device), labels.to(device)\n",
    "\n",
    "        outputs = model(images)\n",
    "        _, predicted = torch.max(outputs, 1)\n",
    "\n",
    "        test_accuracy += (predicted == labels).sum().item()\n",
    "\n",
    "test_accuracy = 100 * test_accuracy / len(val_dataset)\n",
    "print(f\"Test Accuracy: {test_accuracy:.2f}%\")\n",
    "\n",
    "import os"
   ]
  },
  {
   "cell_type": "code",
   "execution_count": 25,
   "id": "BpW3rcCW7wwH",
   "metadata": {
    "execution": {
     "iopub.execute_input": "2025-06-01T15:20:17.992197Z",
     "iopub.status.busy": "2025-06-01T15:20:17.991984Z",
     "iopub.status.idle": "2025-06-01T15:53:56.588356Z",
     "shell.execute_reply": "2025-06-01T15:53:56.587831Z",
     "shell.execute_reply.started": "2025-06-01T15:20:17.992181Z"
    },
    "id": "BpW3rcCW7wwH",
    "outputId": "32b927e5-9368-45b2-d380-29ba1b3ab677",
    "tags": []
   },
   "outputs": [
    {
     "name": "stdout",
     "output_type": "stream",
     "text": [
      "TTA Test Accuracy: 8.33%\n"
     ]
    }
   ],
   "source": [
    "# 測試集的評估\n",
    "tta_transforms = [\n",
    "    transforms.Compose([transforms.Resize((320, 320)), transforms.ToTensor()]),\n",
    "    transforms.Compose([transforms.Resize((320, 320)), transforms.RandomHorizontalFlip(p=1.0), transforms.ToTensor()]),\n",
    "    transforms.Compose([transforms.Resize((320, 320)), transforms.ColorJitter(brightness=0.2), transforms.ToTensor()])\n",
    "]\n",
    "\n",
    "model.eval()\n",
    "total = 0\n",
    "correct = 0\n",
    "\n",
    "with torch.no_grad():\n",
    "    for images, labels in val_loader:\n",
    "        images, labels = images.to(device), labels.to(device)\n",
    "\n",
    "        tta_preds = []\n",
    "        for tform in tta_transforms:\n",
    "            aug_images = torch.stack([tform(transforms.ToPILImage()(img.cpu())) for img in images])\n",
    "            aug_images = aug_images.to(device)\n",
    "            outputs = model(aug_images)\n",
    "            tta_preds.append(torch.softmax(outputs, dim=1))\n",
    "\n",
    "        avg_preds = torch.mean(torch.stack(tta_preds), dim=0)\n",
    "        _, predicted = torch.max(avg_preds, 1)\n",
    "\n",
    "        total += labels.size(0)\n",
    "        correct += (predicted == labels).sum().item()\n",
    "\n",
    "accuracy = 100 * correct / total\n",
    "print(f\"TTA Test Accuracy: {accuracy:.2f}%\")\n"
   ]
  },
  {
   "cell_type": "code",
   "execution_count": 26,
   "id": "7ca7a9f2-4bb1-49ac-a672-b956ac8f78d3",
   "metadata": {
    "execution": {
     "iopub.execute_input": "2025-06-01T15:53:56.589156Z",
     "iopub.status.busy": "2025-06-01T15:53:56.588982Z",
     "iopub.status.idle": "2025-06-01T15:53:56.593837Z",
     "shell.execute_reply": "2025-06-01T15:53:56.593439Z",
     "shell.execute_reply.started": "2025-06-01T15:53:56.589138Z"
    },
    "id": "7ca7a9f2-4bb1-49ac-a672-b956ac8f78d3",
    "tags": []
   },
   "outputs": [],
   "source": [
    "from PIL import Image\n",
    "from torch.utils.data import Dataset, DataLoader\n",
    "from torchvision import transforms\n",
    "\n",
    "class TestImageDataset(Dataset):\n",
    "    def __init__(self, image_folder, transform=None):\n",
    "        self.image_folder = image_folder\n",
    "        self.image_filenames = sorted(os.listdir(image_folder))\n",
    "        self.transform = transform\n",
    "\n",
    "    def __len__(self):\n",
    "        return len(self.image_filenames)\n",
    "\n",
    "    def __getitem__(self, idx):\n",
    "        img_name = self.image_filenames[idx]\n",
    "        img_path = os.path.join(self.image_folder, img_name)\n",
    "        image = Image.open(img_path).convert('RGB')\n",
    "        if self.transform:\n",
    "            image = self.transform(image)\n",
    "        return image, img_name.split('.')[0]  # 傳回 image tensor 和 id（"
   ]
  },
  {
   "cell_type": "code",
   "execution_count": 27,
   "id": "b1813979-8cf3-431f-9fad-e31e729a397a",
   "metadata": {
    "execution": {
     "iopub.execute_input": "2025-06-01T15:53:56.594442Z",
     "iopub.status.busy": "2025-06-01T15:53:56.594292Z",
     "iopub.status.idle": "2025-06-01T15:53:57.749510Z",
     "shell.execute_reply": "2025-06-01T15:53:57.748263Z",
     "shell.execute_reply.started": "2025-06-01T15:53:56.594428Z"
    },
    "id": "b1813979-8cf3-431f-9fad-e31e729a397a",
    "tags": []
   },
   "outputs": [],
   "source": [
    "# 取得所有類別名稱，需排序以符合 submission 格式\n",
    "all_breeds = sorted(dataset.class_to_idx.keys())\n",
    "\n",
    "# 建立 mapping\n",
    "idx_to_class = {v: k for k, v in dataset.class_to_idx.items()}\n",
    "# 修正 Test transform 使用與訓練相同的 ImageNet 格式\n",
    "test_transform = transforms.Compose([\n",
    "    transforms.Resize((320, 320)),\n",
    "    transforms.ToTensor(),\n",
    "    transforms.Normalize((0.485, 0.456, 0.406),  # 與訓練相同\n",
    "                         (0.229, 0.224, 0.225))\n",
    "])\n",
    "\n",
    "\n",
    "# 設定測試資料夾路徑\n",
    "test_folder = 'dog-breed-identification/test'  # 請確認實際位置\n",
    "\n",
    "# 建立 DataLoader\n",
    "test_dataset = TestImageDataset(test_folder, transform=test_transform)\n",
    "test_loader = DataLoader(test_dataset, batch_size=64, shuffle=False)\n",
    "\n",
    "# 建立 DataFrame 儲存預測結果\n",
    "results = []"
   ]
  },
  {
   "cell_type": "code",
   "execution_count": 28,
   "id": "016331d2-68f7-459b-bdfb-ffaf026869c0",
   "metadata": {
    "execution": {
     "iopub.execute_input": "2025-06-01T15:53:57.750539Z",
     "iopub.status.busy": "2025-06-01T15:53:57.750255Z",
     "iopub.status.idle": "2025-06-01T16:10:09.243224Z",
     "shell.execute_reply": "2025-06-01T16:10:09.242333Z",
     "shell.execute_reply.started": "2025-06-01T15:53:57.750510Z"
    },
    "id": "016331d2-68f7-459b-bdfb-ffaf026869c0",
    "outputId": "b69368fe-99cd-4ec0-b93c-560a8c723519",
    "tags": []
   },
   "outputs": [
    {
     "name": "stdout",
     "output_type": "stream",
     "text": [
      "✅ submission1.9.csv 已成功輸出，格式符合 Kaggle 要求！\n"
     ]
    }
   ],
   "source": [
    "# 使用 softmax 輸出機率\n",
    "results = []\n",
    "\n",
    "with torch.no_grad():\n",
    "    for inputs, image_ids in test_loader:\n",
    "        inputs = inputs.to(device)\n",
    "        outputs = model(inputs)\n",
    "        probs = torch.softmax(outputs, dim=1).cpu().numpy()  # shape: (batch_size, 120)\n",
    "\n",
    "        for img_id, prob_vector in zip(image_ids, probs):\n",
    "            row = {\"id\": img_id}\n",
    "            for breed, prob in zip(all_breeds, prob_vector):\n",
    "                row[breed] = prob\n",
    "            results.append(row)\n",
    "\n",
    "# 轉成 DataFrame 並輸出\n",
    "df = pd.DataFrame(results)\n",
    "df = df[[\"id\"] + all_breeds]  # 確保順序符合要求\n",
    "df.to_csv(\"submission1.9.csv\", index=False)\n",
    "print(\"✅ submission1.9.csv 已成功輸出，格式符合 Kaggle 要求！\")"
   ]
  },
  {
   "cell_type": "code",
   "execution_count": null,
   "id": "628d7fd6-d52e-4336-8f59-3d72d2e9f902",
   "metadata": {
    "id": "628d7fd6-d52e-4336-8f59-3d72d2e9f902"
   },
   "outputs": [],
   "source": []
  },
  {
   "cell_type": "code",
   "execution_count": null,
   "id": "d674ef87-a830-4a55-84d1-9a8b944d3aad",
   "metadata": {},
   "outputs": [],
   "source": []
  },
  {
   "cell_type": "code",
   "execution_count": null,
   "id": "934dd87b-5df1-4fb1-9b9b-70183bbe000e",
   "metadata": {},
   "outputs": [],
   "source": []
  }
 ],
 "metadata": {
  "colab": {
   "provenance": []
  },
  "kernelspec": {
   "display_name": "Python 3 (ipykernel)",
   "language": "python",
   "name": "python3"
  },
  "language_info": {
   "codemirror_mode": {
    "name": "ipython",
    "version": 3
   },
   "file_extension": ".py",
   "mimetype": "text/x-python",
   "name": "python",
   "nbconvert_exporter": "python",
   "pygments_lexer": "ipython3",
   "version": "3.9.13"
  }
 },
 "nbformat": 4,
 "nbformat_minor": 5
}
