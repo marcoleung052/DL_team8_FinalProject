{
 "cells": [
  {
   "cell_type": "code",
   "execution_count": 1,
   "id": "8nVcdgB5XaVi",
   "metadata": {
    "execution": {
     "iopub.execute_input": "2025-05-20T13:40:31.651293Z",
     "iopub.status.busy": "2025-05-20T13:40:31.650947Z",
     "iopub.status.idle": "2025-05-20T13:41:11.205018Z",
     "shell.execute_reply": "2025-05-20T13:41:11.204252Z",
     "shell.execute_reply.started": "2025-05-20T13:40:31.651265Z"
    },
    "id": "8nVcdgB5XaVi",
    "tags": []
   },
   "outputs": [
    {
     "name": "stdout",
     "output_type": "stream",
     "text": [
      "\u001b[33mWARNING: Skipping tensorflow as it is not installed.\u001b[0m\u001b[33m\n",
      "\u001b[0m\u001b[33mWARNING: Skipping keras as it is not installed.\u001b[0m\u001b[33m\n",
      "\u001b[0m\u001b[33mWARNING: Skipping keras-nightly as it is not installed.\u001b[0m\u001b[33m\n",
      "\u001b[0m\u001b[33mWARNING: Skipping keras-Preprocessing as it is not installed.\u001b[0m\u001b[33m\n",
      "\u001b[0m\u001b[33mWARNING: Skipping keras-vis as it is not installed.\u001b[0m\u001b[33m\n",
      "\u001b[0mFound existing installation: h5py 3.7.0\n",
      "Uninstalling h5py-3.7.0:\n",
      "  Successfully uninstalled h5py-3.7.0\n",
      "\u001b[33mWARNING: Running pip as the 'root' user can result in broken permissions and conflicting behaviour with the system package manager. It is recommended to use a virtual environment instead: https://pip.pypa.io/warnings/venv\u001b[0m\u001b[33m\n",
      "\u001b[0mNote: you may need to restart the kernel to use updated packages.\n",
      "Found existing installation: protobuf 4.21.7\n",
      "Uninstalling protobuf-4.21.7:\n",
      "  Successfully uninstalled protobuf-4.21.7\n",
      "Found existing installation: numpy 1.23.3\n",
      "Uninstalling numpy-1.23.3:\n",
      "  Successfully uninstalled numpy-1.23.3\n",
      "\u001b[33mWARNING: Skipping ml_dtypes as it is not installed.\u001b[0m\u001b[33m\n",
      "\u001b[0m\u001b[33mWARNING: Running pip as the 'root' user can result in broken permissions and conflicting behaviour with the system package manager. It is recommended to use a virtual environment instead: https://pip.pypa.io/warnings/venv\u001b[0m\u001b[33m\n",
      "\u001b[0mNote: you may need to restart the kernel to use updated packages.\n",
      "Collecting numpy==1.24.3\n",
      "  Using cached numpy-1.24.3-cp39-cp39-manylinux_2_17_x86_64.manylinux2014_x86_64.whl (17.3 MB)\n",
      "Collecting protobuf==3.20.3\n",
      "  Using cached protobuf-3.20.3-cp39-cp39-manylinux_2_5_x86_64.manylinux1_x86_64.whl (1.0 MB)\n",
      "Collecting ml_dtypes==0.2.0\n",
      "  Using cached ml_dtypes-0.2.0-cp39-cp39-manylinux_2_17_x86_64.manylinux2014_x86_64.whl (1.0 MB)\n",
      "Installing collected packages: protobuf, numpy, ml_dtypes\n",
      "\u001b[31mERROR: pip's dependency resolver does not currently take into account all the packages that are installed. This behaviour is the source of the following dependency conflicts.\n",
      "numba 0.56.2 requires numpy<1.24,>=1.18, but you have numpy 1.24.3 which is incompatible.\u001b[0m\u001b[31m\n",
      "\u001b[0mSuccessfully installed ml_dtypes-0.2.0 numpy-1.24.3 protobuf-3.20.3\n",
      "\u001b[33mWARNING: Running pip as the 'root' user can result in broken permissions and conflicting behaviour with the system package manager. It is recommended to use a virtual environment instead: https://pip.pypa.io/warnings/venv\u001b[0m\u001b[33m\n",
      "\u001b[0mNote: you may need to restart the kernel to use updated packages.\n",
      "Collecting tensorflow==2.15.0\n",
      "  Using cached tensorflow-2.15.0-cp39-cp39-manylinux_2_17_x86_64.manylinux2014_x86_64.whl (475.2 MB)\n",
      "Collecting tensorboard<2.16,>=2.15\n",
      "  Using cached tensorboard-2.15.2-py3-none-any.whl (5.5 MB)\n",
      "Collecting google-pasta>=0.1.1\n",
      "  Using cached google_pasta-0.2.0-py3-none-any.whl (57 kB)\n",
      "Requirement already satisfied: absl-py>=1.0.0 in /opt/conda/lib/python3.9/site-packages (from tensorflow==2.15.0) (2.1.0)\n",
      "Collecting libclang>=13.0.0\n",
      "  Using cached libclang-18.1.1-py2.py3-none-manylinux2010_x86_64.whl (24.5 MB)\n",
      "Requirement already satisfied: termcolor>=1.1.0 in /opt/conda/lib/python3.9/site-packages (from tensorflow==2.15.0) (3.0.1)\n",
      "Requirement already satisfied: protobuf!=4.21.0,!=4.21.1,!=4.21.2,!=4.21.3,!=4.21.4,!=4.21.5,<5.0.0dev,>=3.20.3 in /opt/conda/lib/python3.9/site-packages (from tensorflow==2.15.0) (3.20.3)\n",
      "Requirement already satisfied: grpcio<2.0,>=1.24.3 in /opt/conda/lib/python3.9/site-packages (from tensorflow==2.15.0) (1.70.0)\n",
      "Requirement already satisfied: numpy<2.0.0,>=1.23.5 in /opt/conda/lib/python3.9/site-packages (from tensorflow==2.15.0) (1.24.3)\n",
      "Requirement already satisfied: ml-dtypes~=0.2.0 in /opt/conda/lib/python3.9/site-packages (from tensorflow==2.15.0) (0.2.0)\n",
      "Collecting flatbuffers>=23.5.26\n",
      "  Using cached flatbuffers-25.2.10-py2.py3-none-any.whl (30 kB)\n",
      "Requirement already satisfied: packaging in /opt/conda/lib/python3.9/site-packages (from tensorflow==2.15.0) (24.2)\n",
      "Requirement already satisfied: setuptools in /opt/conda/lib/python3.9/site-packages (from tensorflow==2.15.0) (65.4.1)\n",
      "Collecting wrapt<1.15,>=1.11.0\n",
      "  Using cached wrapt-1.14.1-cp39-cp39-manylinux_2_5_x86_64.manylinux1_x86_64.manylinux_2_17_x86_64.manylinux2014_x86_64.whl (77 kB)\n",
      "Collecting tensorflow-estimator<2.16,>=2.15.0\n",
      "  Using cached tensorflow_estimator-2.15.0-py2.py3-none-any.whl (441 kB)\n",
      "Collecting keras<2.16,>=2.15.0\n",
      "  Using cached keras-2.15.0-py3-none-any.whl (1.7 MB)\n",
      "Requirement already satisfied: typing-extensions>=3.6.6 in /opt/conda/lib/python3.9/site-packages (from tensorflow==2.15.0) (4.13.2)\n",
      "Collecting tensorflow-io-gcs-filesystem>=0.23.1\n",
      "  Using cached tensorflow_io_gcs_filesystem-0.37.1-cp39-cp39-manylinux_2_17_x86_64.manylinux2014_x86_64.whl (5.1 MB)\n",
      "Collecting h5py>=2.9.0\n",
      "  Using cached h5py-3.13.0-cp39-cp39-manylinux_2_17_x86_64.manylinux2014_x86_64.whl (4.6 MB)\n",
      "Requirement already satisfied: six>=1.12.0 in /opt/conda/lib/python3.9/site-packages (from tensorflow==2.15.0) (1.16.0)\n",
      "Collecting astunparse>=1.6.0\n",
      "  Using cached astunparse-1.6.3-py2.py3-none-any.whl (12 kB)\n",
      "Collecting opt-einsum>=2.3.2\n",
      "  Using cached opt_einsum-3.4.0-py3-none-any.whl (71 kB)\n",
      "Collecting gast!=0.5.0,!=0.5.1,!=0.5.2,>=0.2.1\n",
      "  Using cached gast-0.6.0-py3-none-any.whl (21 kB)\n",
      "Requirement already satisfied: wheel<1.0,>=0.23.0 in /opt/conda/lib/python3.9/site-packages (from astunparse>=1.6.0->tensorflow==2.15.0) (0.37.1)\n",
      "Requirement already satisfied: markdown>=2.6.8 in /opt/conda/lib/python3.9/site-packages (from tensorboard<2.16,>=2.15->tensorflow==2.15.0) (3.7)\n",
      "Requirement already satisfied: google-auth-oauthlib<2,>=0.5 in /opt/conda/lib/python3.9/site-packages (from tensorboard<2.16,>=2.15->tensorflow==2.15.0) (1.0.0)\n",
      "Requirement already satisfied: requests<3,>=2.21.0 in /opt/conda/lib/python3.9/site-packages (from tensorboard<2.16,>=2.15->tensorflow==2.15.0) (2.32.3)\n",
      "Requirement already satisfied: google-auth<3,>=1.6.3 in /opt/conda/lib/python3.9/site-packages (from tensorboard<2.16,>=2.15->tensorflow==2.15.0) (2.38.0)\n",
      "Requirement already satisfied: tensorboard-data-server<0.8.0,>=0.7.0 in /opt/conda/lib/python3.9/site-packages (from tensorboard<2.16,>=2.15->tensorflow==2.15.0) (0.7.2)\n",
      "Requirement already satisfied: werkzeug>=1.0.1 in /opt/conda/lib/python3.9/site-packages (from tensorboard<2.16,>=2.15->tensorflow==2.15.0) (3.1.3)\n",
      "Requirement already satisfied: rsa<5,>=3.1.4 in /opt/conda/lib/python3.9/site-packages (from google-auth<3,>=1.6.3->tensorboard<2.16,>=2.15->tensorflow==2.15.0) (4.9)\n",
      "Requirement already satisfied: pyasn1-modules>=0.2.1 in /opt/conda/lib/python3.9/site-packages (from google-auth<3,>=1.6.3->tensorboard<2.16,>=2.15->tensorflow==2.15.0) (0.4.1)\n",
      "Requirement already satisfied: cachetools<6.0,>=2.0.0 in /opt/conda/lib/python3.9/site-packages (from google-auth<3,>=1.6.3->tensorboard<2.16,>=2.15->tensorflow==2.15.0) (5.5.1)\n",
      "Requirement already satisfied: requests-oauthlib>=0.7.0 in /opt/conda/lib/python3.9/site-packages (from google-auth-oauthlib<2,>=0.5->tensorboard<2.16,>=2.15->tensorflow==2.15.0) (2.0.0)\n",
      "Requirement already satisfied: importlib-metadata>=4.4 in /opt/conda/lib/python3.9/site-packages (from markdown>=2.6.8->tensorboard<2.16,>=2.15->tensorflow==2.15.0) (4.11.4)\n",
      "Requirement already satisfied: idna<4,>=2.5 in /opt/conda/lib/python3.9/site-packages (from requests<3,>=2.21.0->tensorboard<2.16,>=2.15->tensorflow==2.15.0) (3.4)\n",
      "Requirement already satisfied: certifi>=2017.4.17 in /opt/conda/lib/python3.9/site-packages (from requests<3,>=2.21.0->tensorboard<2.16,>=2.15->tensorflow==2.15.0) (2025.1.31)\n",
      "Requirement already satisfied: urllib3<3,>=1.21.1 in /opt/conda/lib/python3.9/site-packages (from requests<3,>=2.21.0->tensorboard<2.16,>=2.15->tensorflow==2.15.0) (2.4.0)\n",
      "Requirement already satisfied: charset-normalizer<4,>=2 in /opt/conda/lib/python3.9/site-packages (from requests<3,>=2.21.0->tensorboard<2.16,>=2.15->tensorflow==2.15.0) (2.1.1)\n",
      "Requirement already satisfied: MarkupSafe>=2.1.1 in /opt/conda/lib/python3.9/site-packages (from werkzeug>=1.0.1->tensorboard<2.16,>=2.15->tensorflow==2.15.0) (2.1.2)\n",
      "Requirement already satisfied: zipp>=0.5 in /opt/conda/lib/python3.9/site-packages (from importlib-metadata>=4.4->markdown>=2.6.8->tensorboard<2.16,>=2.15->tensorflow==2.15.0) (3.9.0)\n",
      "Requirement already satisfied: pyasn1<0.7.0,>=0.4.6 in /opt/conda/lib/python3.9/site-packages (from pyasn1-modules>=0.2.1->google-auth<3,>=1.6.3->tensorboard<2.16,>=2.15->tensorflow==2.15.0) (0.6.1)\n",
      "Requirement already satisfied: oauthlib>=3.0.0 in /opt/conda/lib/python3.9/site-packages (from requests-oauthlib>=0.7.0->google-auth-oauthlib<2,>=0.5->tensorboard<2.16,>=2.15->tensorflow==2.15.0) (3.2.2)\n",
      "Installing collected packages: libclang, flatbuffers, wrapt, tensorflow-io-gcs-filesystem, tensorflow-estimator, opt-einsum, keras, h5py, google-pasta, gast, astunparse, tensorboard, tensorflow\n",
      "  Attempting uninstall: wrapt\n",
      "    Found existing installation: wrapt 1.17.2\n",
      "    Uninstalling wrapt-1.17.2:\n",
      "      Successfully uninstalled wrapt-1.17.2\n",
      "  Attempting uninstall: tensorboard\n",
      "    Found existing installation: tensorboard 2.13.0\n",
      "    Uninstalling tensorboard-2.13.0:\n",
      "      Successfully uninstalled tensorboard-2.13.0\n",
      "Successfully installed astunparse-1.6.3 flatbuffers-25.2.10 gast-0.6.0 google-pasta-0.2.0 h5py-3.13.0 keras-2.15.0 libclang-18.1.1 opt-einsum-3.4.0 tensorboard-2.15.2 tensorflow-2.15.0 tensorflow-estimator-2.15.0 tensorflow-io-gcs-filesystem-0.37.1 wrapt-1.14.1\n",
      "\u001b[33mWARNING: Running pip as the 'root' user can result in broken permissions and conflicting behaviour with the system package manager. It is recommended to use a virtual environment instead: https://pip.pypa.io/warnings/venv\u001b[0m\u001b[33m\n",
      "\u001b[0mNote: you may need to restart the kernel to use updated packages.\n"
     ]
    }
   ],
   "source": [
    "# 在 notebook 第一格執行\n",
    "%pip uninstall -y tensorflow keras keras-nightly keras-Preprocessing keras-vis h5py\n",
    "%pip uninstall -y protobuf numpy ml_dtypes\n",
    "%pip install numpy==1.24.3 protobuf==3.20.3 ml_dtypes==0.2.0\n",
    "%pip install tensorflow==2.15.0"
   ]
  },
  {
   "cell_type": "code",
   "execution_count": 2,
   "id": "19dd142d-af4f-4cc4-a737-cb5cf859e92e",
   "metadata": {
    "colab": {
     "referenced_widgets": [
      "11eddfa851a543dd971b0f844c71741b"
     ]
    },
    "execution": {
     "iopub.execute_input": "2025-05-20T13:41:11.206636Z",
     "iopub.status.busy": "2025-05-20T13:41:11.206363Z",
     "iopub.status.idle": "2025-05-20T13:41:11.261323Z",
     "shell.execute_reply": "2025-05-20T13:41:11.260901Z",
     "shell.execute_reply.started": "2025-05-20T13:41:11.206609Z"
    },
    "id": "19dd142d-af4f-4cc4-a737-cb5cf859e92e",
    "outputId": "0f84b91d-09bf-467b-ef29-7437798f7bb4",
    "tags": []
   },
   "outputs": [
    {
     "data": {
      "application/vnd.jupyter.widget-view+json": {
       "model_id": "23b188c894d84e428b812c3c2164e1a5",
       "version_major": 2,
       "version_minor": 0
      },
      "text/plain": [
       "FileUpload(value=(), description='Upload')"
      ]
     },
     "metadata": {},
     "output_type": "display_data"
    }
   ],
   "source": [
    "from IPython.display import display\n",
    "import os\n",
    "\n",
    "# 上傳檔案（會跳出檔案選擇器）\n",
    "from ipywidgets import FileUpload\n",
    "\n",
    "upload = FileUpload()\n",
    "display(upload)"
   ]
  },
  {
   "cell_type": "code",
   "execution_count": 3,
   "id": "172906a3-1dd5-4484-a903-2877d1e50ebc",
   "metadata": {
    "execution": {
     "iopub.execute_input": "2025-05-20T13:41:43.759265Z",
     "iopub.status.busy": "2025-05-20T13:41:43.758759Z",
     "iopub.status.idle": "2025-05-20T13:41:43.779901Z",
     "shell.execute_reply": "2025-05-20T13:41:43.778392Z",
     "shell.execute_reply.started": "2025-05-20T13:41:43.759225Z"
    },
    "id": "172906a3-1dd5-4484-a903-2877d1e50ebc",
    "outputId": "d911b214-4fca-45d4-d2b8-aec99db1c24e",
    "tags": []
   },
   "outputs": [
    {
     "name": "stdout",
     "output_type": "stream",
     "text": [
      "{'name': 'kaggle.json', 'type': 'application/json', 'size': 69, 'content': <memory at 0x7102d366adc0>, 'last_modified': datetime.datetime(2025, 5, 17, 11, 46, 32, 106000, tzinfo=datetime.timezone.utc)}\n",
      "kaggle.json 已成功儲存至 /home/jovyan/.kaggle/kaggle.json\n"
     ]
    }
   ],
   "source": [
    "import os\n",
    "from pathlib import Path\n",
    "\n",
    "# 假設你只上傳了一個檔案\n",
    "fileinfo = upload.value[0]  # 通常是一個 dict，含 'name' 和 'content'\n",
    "\n",
    "# 顯示內容結構（除錯用）\n",
    "print(fileinfo)\n",
    "\n",
    "# 儲存 kaggle.json\n",
    "filename = fileinfo['name']\n",
    "content = fileinfo['content']\n",
    "\n",
    "kaggle_dir = Path.home() / \".kaggle\"\n",
    "kaggle_dir.mkdir(exist_ok=True)\n",
    "\n",
    "kaggle_json_path = kaggle_dir / \"kaggle.json\"\n",
    "with open(kaggle_json_path, \"wb\") as f:\n",
    "    f.write(content)\n",
    "\n",
    "# 設定權限（Linux/macOS 建議）\n",
    "os.chmod(kaggle_json_path, 0o600)\n",
    "\n",
    "print(f\"{filename} 已成功儲存至 {kaggle_json_path}\")"
   ]
  },
  {
   "cell_type": "code",
   "execution_count": 4,
   "id": "e13e384c-f12d-4c02-b891-80542dd9a6db",
   "metadata": {
    "execution": {
     "iopub.execute_input": "2025-05-20T13:41:45.369585Z",
     "iopub.status.busy": "2025-05-20T13:41:45.365369Z",
     "iopub.status.idle": "2025-05-20T13:41:45.697586Z",
     "shell.execute_reply": "2025-05-20T13:41:45.695571Z",
     "shell.execute_reply.started": "2025-05-20T13:41:45.369429Z"
    },
    "id": "e13e384c-f12d-4c02-b891-80542dd9a6db",
    "outputId": "f04bf468-9dbf-47f0-b8b9-da7766f6d289",
    "tags": []
   },
   "outputs": [
    {
     "name": "stdout",
     "output_type": "stream",
     "text": [
      "/bin/bash: line 1: kaggle: command not found\n"
     ]
    }
   ],
   "source": [
    "!kaggle datasets list -s cifar\n"
   ]
  },
  {
   "cell_type": "code",
   "execution_count": 5,
   "id": "2e5fb396-b2e8-4b41-a76c-81dcd0626c01",
   "metadata": {
    "execution": {
     "iopub.execute_input": "2025-05-20T13:41:49.123220Z",
     "iopub.status.busy": "2025-05-20T13:41:49.121492Z",
     "iopub.status.idle": "2025-05-20T13:45:32.206928Z",
     "shell.execute_reply": "2025-05-20T13:45:32.205865Z",
     "shell.execute_reply.started": "2025-05-20T13:41:49.123150Z"
    },
    "id": "2e5fb396-b2e8-4b41-a76c-81dcd0626c01",
    "outputId": "64f9492c-0a04-4d31-f780-42ba9524b19b",
    "tags": []
   },
   "outputs": [
    {
     "name": "stdout",
     "output_type": "stream",
     "text": [
      "Collecting kaggle\n",
      "  Using cached kaggle-1.7.4.5-py3-none-any.whl (181 kB)\n",
      "Collecting python-slugify\n",
      "  Using cached python_slugify-8.0.4-py2.py3-none-any.whl (10 kB)\n",
      "Requirement already satisfied: setuptools>=21.0.0 in /opt/conda/lib/python3.9/site-packages (from kaggle) (65.4.1)\n",
      "Requirement already satisfied: bleach in /opt/conda/lib/python3.9/site-packages (from kaggle) (5.0.1)\n",
      "Requirement already satisfied: six>=1.10 in /opt/conda/lib/python3.9/site-packages (from kaggle) (1.16.0)\n",
      "Requirement already satisfied: charset-normalizer in /opt/conda/lib/python3.9/site-packages (from kaggle) (2.1.1)\n",
      "Requirement already satisfied: tqdm in /opt/conda/lib/python3.9/site-packages (from kaggle) (4.64.1)\n",
      "Requirement already satisfied: urllib3>=1.15.1 in /opt/conda/lib/python3.9/site-packages (from kaggle) (2.4.0)\n",
      "Requirement already satisfied: idna in /opt/conda/lib/python3.9/site-packages (from kaggle) (3.4)\n",
      "Requirement already satisfied: protobuf in /opt/conda/lib/python3.9/site-packages (from kaggle) (3.20.3)\n",
      "Requirement already satisfied: python-dateutil>=2.5.3 in /opt/conda/lib/python3.9/site-packages (from kaggle) (2.8.2)\n",
      "Collecting text-unidecode\n",
      "  Using cached text_unidecode-1.3-py2.py3-none-any.whl (78 kB)\n",
      "Requirement already satisfied: webencodings in /opt/conda/lib/python3.9/site-packages (from kaggle) (0.5.1)\n",
      "Requirement already satisfied: certifi>=14.05.14 in /opt/conda/lib/python3.9/site-packages (from kaggle) (2025.1.31)\n",
      "Requirement already satisfied: requests in /opt/conda/lib/python3.9/site-packages (from kaggle) (2.32.3)\n",
      "Installing collected packages: text-unidecode, python-slugify, kaggle\n",
      "Successfully installed kaggle-1.7.4.5 python-slugify-8.0.4 text-unidecode-1.3\n",
      "\u001b[33mWARNING: Running pip as the 'root' user can result in broken permissions and conflicting behaviour with the system package manager. It is recommended to use a virtual environment instead: https://pip.pypa.io/warnings/venv\u001b[0m\u001b[33m\n",
      "\u001b[0mRequirement already satisfied: pandas in /opt/conda/lib/python3.9/site-packages (1.5.0)\n",
      "Collecting pandas\n",
      "  Using cached pandas-2.2.3-cp39-cp39-manylinux_2_17_x86_64.manylinux2014_x86_64.whl (13.1 MB)\n",
      "Requirement already satisfied: numpy>=1.22.4 in /opt/conda/lib/python3.9/site-packages (from pandas) (1.24.3)\n",
      "Requirement already satisfied: python-dateutil>=2.8.2 in /opt/conda/lib/python3.9/site-packages (from pandas) (2.8.2)\n",
      "Collecting tzdata>=2022.7\n",
      "  Using cached tzdata-2025.2-py2.py3-none-any.whl (347 kB)\n",
      "Requirement already satisfied: pytz>=2020.1 in /opt/conda/lib/python3.9/site-packages (from pandas) (2022.4)\n",
      "Requirement already satisfied: six>=1.5 in /opt/conda/lib/python3.9/site-packages (from python-dateutil>=2.8.2->pandas) (1.16.0)\n",
      "Installing collected packages: tzdata, pandas\n",
      "  Attempting uninstall: tzdata\n",
      "    Found existing installation: tzdata 2022.4\n",
      "    Uninstalling tzdata-2022.4:\n",
      "      Successfully uninstalled tzdata-2022.4\n",
      "  Attempting uninstall: pandas\n",
      "    Found existing installation: pandas 1.5.0\n",
      "    Uninstalling pandas-1.5.0:\n",
      "      Successfully uninstalled pandas-1.5.0\n",
      "Successfully installed pandas-2.2.3 tzdata-2025.2\n",
      "\u001b[33mWARNING: Running pip as the 'root' user can result in broken permissions and conflicting behaviour with the system package manager. It is recommended to use a virtual environment instead: https://pip.pypa.io/warnings/venv\u001b[0m\u001b[33m\n",
      "\u001b[0mcp: cannot stat 'kaggle.json': No such file or directory\n",
      "Downloading dog-breed-identification.zip to /home/jovyan\n",
      " 98%|████████████████████████████████████████ | 675M/691M [00:03<00:00, 190MB/s]\n",
      "100%|█████████████████████████████████████████| 691M/691M [00:03<00:00, 184MB/s]\n"
     ]
    },
    {
     "name": "stderr",
     "output_type": "stream",
     "text": [
      "/opt/conda/lib/python3.9/site-packages/pandas/core/computation/expressions.py:21: UserWarning: Pandas requires version '2.8.4' or newer of 'numexpr' (version '2.8.3' currently installed).\n",
      "  from pandas.core.computation.check import NUMEXPR_INSTALLED\n",
      "/opt/conda/lib/python3.9/site-packages/pandas/core/arrays/masked.py:60: UserWarning: Pandas requires version '1.3.6' or newer of 'bottleneck' (version '1.3.5' currently installed).\n",
      "  from pandas.core import (\n"
     ]
    }
   ],
   "source": [
    "!pip install -U kaggle\n",
    "!pip install --upgrade pandas\n",
    "import os\n",
    "import zipfile\n",
    "\n",
    "# 建立 Kaggle 資料夾\n",
    "!mkdir -p ~/.kaggle\n",
    "!cp kaggle.json ~/.kaggle/\n",
    "!chmod 600 ~/.kaggle/kaggle.json\n",
    "\n",
    "# 下載 Dog Breed Identification 資料集\n",
    "!kaggle competitions download -c dog-breed-identification --force\n",
    "!unzip -oq dog-breed-identification.zip -d dog-breed-identification\n",
    "\n",
    "\n",
    "import pandas as pd\n",
    "import numpy as np\n",
    "\n",
    "labels = pd.read_csv('dog-breed-identification/labels.csv')\n"
   ]
  },
  {
   "cell_type": "code",
   "execution_count": 6,
   "id": "730c9a46-2b61-48be-b907-137ded3ab21d",
   "metadata": {
    "execution": {
     "iopub.execute_input": "2025-05-20T13:45:32.208541Z",
     "iopub.status.busy": "2025-05-20T13:45:32.208288Z",
     "iopub.status.idle": "2025-05-20T13:46:29.652498Z",
     "shell.execute_reply": "2025-05-20T13:46:29.651953Z",
     "shell.execute_reply.started": "2025-05-20T13:45:32.208518Z"
    },
    "id": "730c9a46-2b61-48be-b907-137ded3ab21d",
    "outputId": "d070fd97-2a6f-4236-ba8a-df78c879d52a",
    "tags": []
   },
   "outputs": [
    {
     "name": "stderr",
     "output_type": "stream",
     "text": [
      "100%|██████████| 10222/10222 [00:57<00:00, 178.13it/s]\n"
     ]
    }
   ],
   "source": [
    "import os\n",
    "import shutil\n",
    "import pandas as pd\n",
    "from PIL import Image\n",
    "from tqdm import tqdm\n",
    "# 讀取標籤\n",
    "labels = pd.read_csv('dog-breed-identification/labels.csv')\n",
    "# 建立目標輸出資料夾\n",
    "output_dir = \"dog_images\"\n",
    "train_dir = os.path.join(output_dir, \"train\")\n",
    "os.makedirs(train_dir, exist_ok=True)\n",
    "\n",
    "# 根據標籤將圖片存入對應資料夾\n",
    "def organize_train_images(labels): # Pass labels as an argument\n",
    "    src_img_dir = \"dog-breed-identification/train\"\n",
    "    for idx, row in tqdm(labels.iterrows(), total=len(labels)):\n",
    "        img_id = row['id']\n",
    "        breed = row['breed']\n",
    "        src_path = os.path.join(src_img_dir, img_id + \".jpg\")\n",
    "\n",
    "        # 建立品種對應資料夾\n",
    "        breed_dir = os.path.join(train_dir, breed)\n",
    "        os.makedirs(breed_dir, exist_ok=True)\n",
    "\n",
    "        dst_path = os.path.join(breed_dir, img_id + \".jpg\")\n",
    "        shutil.copyfile(src_path, dst_path)\n",
    "\n",
    "# Load labels outside the function\n",
    "labels = pd.read_csv('dog-breed-identification/labels.csv')\n",
    "organize_train_images(labels) # Call the function with labels argument"
   ]
  },
  {
   "cell_type": "code",
   "execution_count": 7,
   "id": "53fafafb-66d1-417b-9603-84097d9b4686",
   "metadata": {
    "execution": {
     "iopub.execute_input": "2025-05-20T13:46:29.653295Z",
     "iopub.status.busy": "2025-05-20T13:46:29.653112Z",
     "iopub.status.idle": "2025-05-20T13:46:30.823033Z",
     "shell.execute_reply": "2025-05-20T13:46:30.821923Z",
     "shell.execute_reply.started": "2025-05-20T13:46:29.653279Z"
    },
    "id": "53fafafb-66d1-417b-9603-84097d9b4686",
    "tags": []
   },
   "outputs": [],
   "source": [
    " #自定義 Dataset 類別\n",
    "import torch\n",
    "from torch.utils.data import Dataset\n",
    "from torchvision import transforms\n",
    "from PIL import Image\n",
    "import os\n",
    "\n",
    "class DogBreedImageFolder(Dataset):\n",
    "    def __init__(self, root_dir, transform=None):\n",
    "        self.root_dir = root_dir\n",
    "        self.transform = transform\n",
    "        self.image_paths = []\n",
    "        self.labels = []\n",
    "\n",
    "        # 建立類別對應表：品種 → 數值 label\n",
    "        class_names = sorted(os.listdir(root_dir))\n",
    "        self.class_to_idx = {class_name: idx for idx, class_name in enumerate(class_names)}\n",
    "\n",
    "        for class_name in class_names:\n",
    "            class_folder = os.path.join(root_dir, class_name)\n",
    "            if not os.path.isdir(class_folder):\n",
    "                continue\n",
    "            for filename in os.listdir(class_folder):\n",
    "                if filename.endswith(('.jpg', '.png')):\n",
    "                    self.image_paths.append(os.path.join(class_folder, filename))\n",
    "                    self.labels.append(self.class_to_idx[class_name])\n",
    "\n",
    "    def __len__(self):\n",
    "        return len(self.image_paths)\n",
    "\n",
    "    def __getitem__(self, idx):\n",
    "        img_path = self.image_paths[idx]\n",
    "        label = self.labels[idx]\n",
    "        image = Image.open(img_path).convert(\"RGB\")\n",
    "        if self.transform:\n",
    "            image = self.transform(image)\n",
    "        return image, label"
   ]
  },
  {
   "cell_type": "code",
   "execution_count": 8,
   "id": "dbbeeba0-bf0d-4bd6-9a0d-970074bdae22",
   "metadata": {
    "execution": {
     "iopub.execute_input": "2025-05-20T13:46:30.825185Z",
     "iopub.status.busy": "2025-05-20T13:46:30.824845Z",
     "iopub.status.idle": "2025-05-20T13:46:30.832429Z",
     "shell.execute_reply": "2025-05-20T13:46:30.831583Z",
     "shell.execute_reply.started": "2025-05-20T13:46:30.825161Z"
    },
    "id": "dbbeeba0-bf0d-4bd6-9a0d-970074bdae22",
    "tags": []
   },
   "outputs": [],
   "source": [
    "# 定義 Transform\n",
    "from torchvision.transforms import RandomResizedCrop, RandomHorizontalFlip, ColorJitter, RandomRotation, ToTensor, Normalize\n",
    "\n",
    "train_transform = transforms.Compose([\n",
    "    transforms.RandomResizedCrop(224, scale=(0.7, 1.0)),  # 隨機縮放裁切\n",
    "    transforms.RandomHorizontalFlip(),\n",
    "    transforms.RandomRotation(10),\n",
    "    transforms.ColorJitter(brightness=0.3, contrast=0.3, saturation=0.3),\n",
    "    transforms.ToTensor(),\n",
    "    transforms.Normalize((0.485, 0.456, 0.406),  # 使用 ImageNet 的 mean/std\n",
    "                         (0.229, 0.224, 0.225)),\n",
    "])\n",
    "\n",
    "\n",
    "test_transform = transforms.Compose([\n",
    "    transforms.Resize((224, 224)),\n",
    "    transforms.ToTensor(),\n",
    "    transforms.Normalize((0.485, 0.456, 0.406), (0.229, 0.224, 0.225))\n",
    "])"
   ]
  },
  {
   "cell_type": "code",
   "execution_count": 9,
   "id": "23347d9e-a207-46c7-991b-7b7c9043c443",
   "metadata": {
    "execution": {
     "iopub.execute_input": "2025-05-20T13:46:30.833309Z",
     "iopub.status.busy": "2025-05-20T13:46:30.833092Z",
     "iopub.status.idle": "2025-05-20T13:46:30.883587Z",
     "shell.execute_reply": "2025-05-20T13:46:30.882904Z",
     "shell.execute_reply.started": "2025-05-20T13:46:30.833288Z"
    },
    "id": "23347d9e-a207-46c7-991b-7b7c9043c443",
    "outputId": "0549e703-37c9-4126-aeb8-c7ccbd15c6e5",
    "tags": []
   },
   "outputs": [
    {
     "name": "stdout",
     "output_type": "stream",
     "text": [
      "Train label distribution: Counter({97: 101, 52: 98, 11: 95, 7: 93, 73: 92, 42: 89, 100: 89, 61: 89, 26: 87, 9: 87, 69: 87, 87: 87, 109: 87, 3: 86, 94: 86, 6: 85, 93: 85, 1: 84, 68: 81, 75: 78, 35: 78, 80: 77, 59: 76, 13: 76, 117: 76, 30: 76, 84: 76, 78: 76, 101: 75, 86: 75, 82: 74, 102: 73, 92: 73, 28: 73, 55: 73, 70: 72, 60: 72, 63: 72, 95: 72, 88: 72, 56: 71, 19: 71, 39: 70, 115: 70, 17: 69, 33: 69, 67: 69, 20: 69, 81: 68, 90: 68, 14: 68, 98: 68, 15: 68, 0: 67, 51: 67, 96: 67, 79: 67, 50: 67, 40: 66, 2: 66, 110: 66, 53: 66, 119: 66, 104: 65, 62: 65, 16: 65, 111: 65, 8: 65, 105: 65, 10: 65, 91: 65, 118: 64, 76: 63, 113: 63, 74: 63, 71: 63, 99: 63, 107: 63, 54: 62, 64: 62, 36: 62, 114: 62, 72: 62, 57: 62, 47: 62, 116: 61, 58: 60, 21: 60, 37: 60, 77: 60, 5: 60, 38: 59, 48: 59, 106: 59, 31: 59, 24: 58, 34: 58, 112: 58, 25: 57, 22: 57, 41: 57, 108: 57, 89: 56, 44: 56, 27: 56, 4: 56, 85: 56, 32: 55, 83: 55, 45: 55, 103: 54, 18: 54, 29: 53, 49: 53, 66: 53, 12: 52, 65: 52, 46: 51, 23: 51, 43: 49})\n",
      "Val label distribution: Counter({1: 32, 42: 26, 13: 26, 12: 25, 97: 25, 73: 25, 59: 25, 87: 24, 10: 24, 75: 24, 94: 23, 114: 23, 100: 23, 17: 22, 88: 22, 31: 21, 18: 21, 3: 21, 101: 20, 90: 20, 109: 20, 60: 20, 116: 20, 2: 20, 54: 20, 64: 20, 57: 20, 98: 20, 84: 20, 27: 20, 37: 20, 117: 19, 69: 19, 26: 19, 85: 19, 32: 19, 11: 19, 4: 18, 118: 18, 70: 18, 55: 18, 41: 18, 9: 18, 71: 18, 33: 18, 29: 18, 80: 18, 46: 18, 66: 18, 5: 18, 68: 18, 58: 18, 77: 18, 25: 18, 103: 17, 30: 17, 74: 17, 7: 17, 15: 17, 20: 17, 40: 17, 6: 17, 86: 17, 56: 17, 14: 17, 43: 17, 8: 17, 102: 17, 119: 16, 44: 16, 39: 16, 53: 16, 79: 16, 62: 16, 19: 16, 61: 16, 76: 16, 89: 16, 107: 15, 96: 15, 24: 15, 38: 15, 67: 15, 21: 15, 45: 15, 65: 15, 23: 15, 78: 15, 105: 14, 63: 14, 83: 14, 104: 14, 110: 14, 34: 14, 93: 14, 111: 14, 95: 14, 49: 14, 50: 14, 36: 14, 99: 13, 52: 13, 82: 13, 47: 13, 0: 13, 106: 13, 108: 12, 112: 12, 92: 11, 91: 11, 72: 11, 35: 11, 48: 10, 81: 10, 22: 10, 28: 10, 115: 9, 51: 8, 16: 7, 113: 6})\n"
     ]
    }
   ],
   "source": [
    "# 建立 Dataset 與切分\n",
    "from torch.utils.data import random_split, DataLoader, WeightedRandomSampler\n",
    "import collections\n",
    "from collections import Counter\n",
    "\n",
    "# 讀取分類後資料\n",
    "dataset = DogBreedImageFolder(\"dog_images/train\", transform=train_transform)\n",
    "\n",
    "# 計算資料數量與切分比例\n",
    "val_ratio = 0.2\n",
    "val_size = int(len(dataset) * val_ratio)\n",
    "train_size = len(dataset) - val_size\n",
    "train_dataset, val_dataset = random_split(dataset, [train_size, val_size])\n",
    "\n",
    "# 取得 training set 的原始 indices\n",
    "train_indices = train_dataset.indices  # 是 dataset 中對應的索引\n",
    "train_labels = [dataset.labels[i] for i in train_indices]\n",
    "\n",
    "# 計算類別樣本數與每個 sample 權重\n",
    "label_counts = Counter(train_labels)\n",
    "class_sample_counts = [label_counts[i] for i in range(len(label_counts))]\n",
    "sample_weights = [1.0 / class_sample_counts[label] for label in train_labels]\n",
    "\n",
    "# 建立 WeightedRandomSampler\n",
    "sampler = WeightedRandomSampler(weights=sample_weights, num_samples=len(sample_weights), replacement=True)\n",
    "\n",
    "# 建立 DataLoader（train 用 sampler, val 用 shuffle=False）\n",
    "train_loader = DataLoader(train_dataset, batch_size=16, sampler=sampler, num_workers=2)\n",
    "val_loader = DataLoader(val_dataset, batch_size=32, shuffle=False, num_workers=2)\n",
    "\n",
    "# 顯示類別分布（驗證分布仍可看是否合理）\n",
    "val_labels = [dataset.labels[i] for i in val_dataset.indices]\n",
    "print(\"Train label distribution:\", Counter(train_labels))\n",
    "print(\"Val label distribution:\", Counter(val_labels))\n",
    "#這是調平衡的"
   ]
  },
  {
   "cell_type": "code",
   "execution_count": 10,
   "id": "3e1463af-eddd-4236-a9f1-cc18f2fa9062",
   "metadata": {
    "execution": {
     "iopub.execute_input": "2025-05-20T13:46:30.884689Z",
     "iopub.status.busy": "2025-05-20T13:46:30.884449Z",
     "iopub.status.idle": "2025-05-20T13:46:30.889255Z",
     "shell.execute_reply": "2025-05-20T13:46:30.888350Z",
     "shell.execute_reply.started": "2025-05-20T13:46:30.884668Z"
    },
    "id": "3e1463af-eddd-4236-a9f1-cc18f2fa9062",
    "tags": []
   },
   "outputs": [],
   "source": [
    "train_loader = DataLoader(train_dataset, batch_size=16, shuffle=True, num_workers=2)\n",
    "val_loader = DataLoader(val_dataset, batch_size=32, shuffle=False, num_workers=2)\n"
   ]
  },
  {
   "cell_type": "code",
   "execution_count": 11,
   "id": "642563ca-8cb7-4029-a485-77bd5307ced0",
   "metadata": {
    "execution": {
     "iopub.execute_input": "2025-05-20T13:46:30.890193Z",
     "iopub.status.busy": "2025-05-20T13:46:30.889971Z",
     "iopub.status.idle": "2025-05-20T13:46:31.205333Z",
     "shell.execute_reply": "2025-05-20T13:46:31.203757Z",
     "shell.execute_reply.started": "2025-05-20T13:46:30.890172Z"
    },
    "id": "642563ca-8cb7-4029-a485-77bd5307ced0",
    "outputId": "4c3ce06c-5bc6-4f2e-f34d-163781442642",
    "tags": []
   },
   "outputs": [
    {
     "name": "stdout",
     "output_type": "stream",
     "text": [
      "Images shape: torch.Size([16, 3, 224, 224])\n",
      "Labels shape: torch.Size([16])\n"
     ]
    }
   ],
   "source": [
    "#驗證資料載入\n",
    "# 驗證一個 batch\n",
    "for images, labels in train_loader:\n",
    "    print(\"Images shape:\", images.shape)  # [B, 3, 224, 224]\n",
    "    print(\"Labels shape:\", labels.shape)  # [B]\n",
    "    break"
   ]
  },
  {
   "cell_type": "code",
   "execution_count": 12,
   "id": "e2d5cb3c-7f1e-44bf-b0cc-5169d3d827d0",
   "metadata": {
    "execution": {
     "iopub.execute_input": "2025-05-20T13:46:31.207825Z",
     "iopub.status.busy": "2025-05-20T13:46:31.207278Z",
     "iopub.status.idle": "2025-05-20T13:46:32.288860Z",
     "shell.execute_reply": "2025-05-20T13:46:32.287881Z",
     "shell.execute_reply.started": "2025-05-20T13:46:31.207773Z"
    },
    "id": "e2d5cb3c-7f1e-44bf-b0cc-5169d3d827d0",
    "outputId": "fb111cb7-e29c-40b8-ca63-dcb47f6fe2a7",
    "tags": []
   },
   "outputs": [
    {
     "name": "stderr",
     "output_type": "stream",
     "text": [
      "Clipping input data to the valid range for imshow with RGB data ([0..1] for floats or [0..255] for integers).\n"
     ]
    },
    {
     "data": {
      "image/png": "[encoded data removed]",
      "text/plain": [
       "<Figure size 640x480 with 1 Axes>"
      ]
     },
     "metadata": {},
     "output_type": "display_data"
    }
   ],
   "source": [
    "# 如果需要視覺化一個 batch\n",
    "import matplotlib.pyplot as plt\n",
    "def show_batch(loader):\n",
    "    images, labels = next(iter(loader))\n",
    "    img = images[0].permute(1, 2, 0).numpy()\n",
    "    plt.imshow(img)\n",
    "    plt.title(f\"Label: {labels[0]}\")\n",
    "    plt.show()\n",
    "\n",
    "show_batch(train_loader)"
   ]
  },
  {
   "cell_type": "code",
   "execution_count": 13,
   "id": "414540cd-824c-4fd0-8866-2d506f86b17c",
   "metadata": {
    "execution": {
     "iopub.execute_input": "2025-05-20T13:46:32.290181Z",
     "iopub.status.busy": "2025-05-20T13:46:32.289853Z",
     "iopub.status.idle": "2025-05-20T13:46:34.532205Z",
     "shell.execute_reply": "2025-05-20T13:46:34.530987Z",
     "shell.execute_reply.started": "2025-05-20T13:46:32.290156Z"
    },
    "id": "414540cd-824c-4fd0-8866-2d506f86b17c",
    "tags": []
   },
   "outputs": [],
   "source": [
    "import torch\n",
    "import torch.nn as nn\n",
    "import torchvision.models as models\n",
    "\n",
    "num_classes = 120  # Dog Breed Identification 有 120 類別\n",
    "device = torch.device(\"cuda\" if torch.cuda.is_available() else \"cpu\")\n",
    "\n",
    "# 載入預訓練模型並修改最後一層\n",
    "model = models.resnet50(weights=models.ResNet50_Weights.DEFAULT)\n",
    "\n",
    "for param in model.parameters():\n",
    "    param.requires_grad = False\n",
    "\n",
    "num_classes = len(dataset.class_to_idx)\n",
    "\n",
    "model.fc = nn.Sequential(\n",
    "    nn.Linear(model.fc.in_features, 512),\n",
    "    nn.ReLU(),\n",
    "    nn.Dropout(0.3),\n",
    "    nn.Linear(512, 256),\n",
    "    nn.ReLU(),\n",
    "    nn.Dropout(0.3),\n",
    "    nn.Linear(256, num_classes)\n",
    ")\n",
    "\n",
    "# 搬移到裝置（GPU 或 CPU）\n",
    "model = model.to(device)"
   ]
  },
  {
   "cell_type": "code",
   "execution_count": 14,
   "id": "23be5748-2b47-4a59-86fa-5b8542b86481",
   "metadata": {
    "execution": {
     "iopub.execute_input": "2025-05-20T13:46:38.986663Z",
     "iopub.status.busy": "2025-05-20T13:46:38.986330Z",
     "iopub.status.idle": "2025-05-20T13:46:38.994500Z",
     "shell.execute_reply": "2025-05-20T13:46:38.993510Z",
     "shell.execute_reply.started": "2025-05-20T13:46:38.986635Z"
    },
    "tags": []
   },
   "outputs": [],
   "source": [
    "class LabelSmoothingCrossEntropy(nn.Module):\n",
    "    def __init__(self, smoothing=0.1):\n",
    "        super(LabelSmoothingCrossEntropy, self).__init__()\n",
    "        self.smoothing = smoothing\n",
    "        self.confidence = 1.0 - smoothing\n",
    "\n",
    "    def forward(self, logits, target):\n",
    "        log_probs = nn.functional.log_softmax(logits, dim=-1)\n",
    "        nll_loss = -log_probs.gather(dim=-1, index=target.unsqueeze(1)).squeeze(1)\n",
    "        smooth_loss = -log_probs.mean(dim=-1)\n",
    "        loss = self.confidence * nll_loss + self.smoothing * smooth_loss\n",
    "        return loss.mean()\n"
   ]
  },
  {
   "cell_type": "code",
   "execution_count": 20,
   "id": "fe67e232-f94b-4987-aa63-9c2b02b17a3b",
   "metadata": {
    "execution": {
     "iopub.execute_input": "2025-05-20T13:55:16.927580Z",
     "iopub.status.busy": "2025-05-20T13:55:16.927270Z",
     "iopub.status.idle": "2025-05-20T13:55:16.940506Z",
     "shell.execute_reply": "2025-05-20T13:55:16.939064Z",
     "shell.execute_reply.started": "2025-05-20T13:55:16.927556Z"
    },
    "tags": []
   },
   "outputs": [],
   "source": [
    "from torch.optim.lr_scheduler import _LRScheduler\n",
    "\n",
    "class GradualWarmupScheduler(_LRScheduler):\n",
    "    def __init__(self, optimizer, multiplier, total_epoch, after_scheduler=None, last_epoch=-1):\n",
    "        self.multiplier = multiplier\n",
    "        if self.multiplier <= 1.:\n",
    "            raise ValueError('multiplier should be greater than 1.')\n",
    "        self.total_epoch = total_epoch\n",
    "        self.after_scheduler = after_scheduler\n",
    "        self.finished = False\n",
    "        super(GradualWarmupScheduler, self).__init__(optimizer, last_epoch)\n",
    "\n",
    "    def get_lr(self):\n",
    "        if self.last_epoch >= self.total_epoch:\n",
    "            if self.after_scheduler:\n",
    "                if not self.finished:\n",
    "                    self.after_scheduler.base_lrs = [base_lr * self.multiplier for base_lr in self.base_lrs]\n",
    "                    self.finished = True\n",
    "                return self.after_scheduler.get_lr()\n",
    "            return [base_lr * self.multiplier for base_lr in self.base_lrs]\n",
    "\n",
    "        return [\n",
    "            base_lr * ((self.multiplier - 1.) * self.last_epoch / self.total_epoch + 1.)\n",
    "            for base_lr in self.base_lrs\n",
    "        ]\n",
    "\n",
    "    def step(self, epoch=None):\n",
    "        if self.finished and self.after_scheduler:\n",
    "            if epoch is None:\n",
    "                self.after_scheduler.step(None)\n",
    "            else:\n",
    "                self.after_scheduler.step(epoch - self.total_epoch)\n",
    "        else:\n",
    "            return super(GradualWarmupScheduler, self).step(epoch)\n"
   ]
  },
  {
   "cell_type": "code",
   "execution_count": 25,
   "id": "ac519f99-2c79-4f8d-bfb1-0943e5807ca6",
   "metadata": {
    "execution": {
     "iopub.execute_input": "2025-05-20T13:57:52.149084Z",
     "iopub.status.busy": "2025-05-20T13:57:52.148230Z",
     "iopub.status.idle": "2025-05-20T13:57:52.173758Z",
     "shell.execute_reply": "2025-05-20T13:57:52.172995Z",
     "shell.execute_reply.started": "2025-05-20T13:57:52.149059Z"
    },
    "id": "ac519f99-2c79-4f8d-bfb1-0943e5807ca6",
    "tags": []
   },
   "outputs": [],
   "source": [
    "from collections import Counter\n",
    "from torchvision import transforms\n",
    "from torch.optim.lr_scheduler import CosineAnnealingLR\n",
    "\n",
    "num_epochs = 30\n",
    "warmup_epochs = 5\n",
    "# 計算各類別的樣本數\n",
    "label_counts = Counter(dataset.labels)\n",
    "num_classes = len(label_counts)\n",
    "class_counts = [label_counts[i] for i in range(num_classes)]\n",
    "\n",
    "# 計算每個類別的權重：樣本數越少，權重越高\n",
    "weights = [1.0 / c for c in class_counts]\n",
    "weights = torch.tensor(weights, dtype=torch.float).to(device)\n",
    "\n",
    "# 使用 class weights + label smoothing\n",
    "criterion = LabelSmoothingCrossEntropy(smoothing=0.1)\n",
    "optimizer = torch.optim.AdamW(model.parameters(), lr=3e-4, weight_decay=1e-4)\n",
    "\n",
    "cosine_scheduler = CosineAnnealingLR(optimizer, T_max=num_epochs - warmup_epochs)\n",
    "scheduler = GradualWarmupScheduler(\n",
    "    optimizer,\n",
    "    multiplier=5.0,               # 最終學習率 = 初始 * 1.0\n",
    "    total_epoch=warmup_epochs,\n",
    "    after_scheduler=cosine_scheduler\n",
    ")\n"
   ]
  },
  {
   "cell_type": "code",
   "execution_count": 26,
   "id": "e8eaea27-b01b-4fb2-a4e2-8f0dc4a1f646",
   "metadata": {
    "execution": {
     "iopub.execute_input": "2025-05-20T14:00:57.653488Z",
     "iopub.status.busy": "2025-05-20T14:00:57.652771Z",
     "iopub.status.idle": "2025-05-20T14:00:57.659059Z",
     "shell.execute_reply": "2025-05-20T14:00:57.658473Z",
     "shell.execute_reply.started": "2025-05-20T14:00:57.653461Z"
    },
    "tags": []
   },
   "outputs": [],
   "source": [
    "import numpy as np\n",
    "\n",
    "def mixup_data(x, y, alpha=0.4):\n",
    "    '''混合兩張圖片與其標籤'''\n",
    "    if alpha > 0:\n",
    "        lam = np.random.beta(alpha, alpha)\n",
    "    else:\n",
    "        lam = 1\n",
    "\n",
    "    batch_size = x.size(0)\n",
    "    index = torch.randperm(batch_size)\n",
    "\n",
    "    mixed_x = lam * x + (1 - lam) * x[index, :]\n",
    "    y_a, y_b = y, y[index]\n",
    "    return mixed_x, y_a, y_b, lam\n",
    "\n",
    "def mixup_criterion(criterion, pred, y_a, y_b, lam):\n",
    "    '''計算 MixUp 混合損失'''\n",
    "    return lam * criterion(pred, y_a) + (1 - lam) * criterion(pred, y_b)\n"
   ]
  },
  {
   "cell_type": "code",
   "execution_count": 27,
   "id": "324f3936-1cd3-4cec-aa09-280f34f3de71",
   "metadata": {
    "execution": {
     "iopub.execute_input": "2025-05-20T14:01:02.990344Z",
     "iopub.status.busy": "2025-05-20T14:01:02.990013Z",
     "iopub.status.idle": "2025-05-20T14:01:02.995900Z",
     "shell.execute_reply": "2025-05-20T14:01:02.995300Z",
     "shell.execute_reply.started": "2025-05-20T14:01:02.990320Z"
    },
    "tags": []
   },
   "outputs": [],
   "source": [
    "from torchvision import transforms\n",
    "from torch.utils.data import DataLoader\n",
    "from torchvision.datasets import ImageFolder\n",
    "\n",
    "def get_dataloaders(image_size, batch_size):\n",
    "    transform_train = transforms.Compose([\n",
    "        transforms.Resize((image_size, image_size)),\n",
    "        transforms.RandomHorizontalFlip(),\n",
    "        transforms.ToTensor(),\n",
    "    ])\n",
    "    transform_val = transforms.Compose([\n",
    "        transforms.Resize((image_size, image_size)),\n",
    "        transforms.ToTensor(),\n",
    "    ])\n",
    "\n",
    "    train_dataset = ImageFolder(train_dir, transform=transform_train)\n",
    "    val_dataset = ImageFolder(val_dir, transform=transform_val)\n",
    "\n",
    "    train_loader = DataLoader(train_dataset, batch_size=batch_size, shuffle=True, num_workers=4)\n",
    "    val_loader = DataLoader(val_dataset, batch_size=batch_size, shuffle=False, num_workers=4)\n",
    "\n",
    "    return train_loader, val_loader\n"
   ]
  },
  {
   "cell_type": "code",
   "execution_count": 28,
   "id": "fa598f16-152c-4df2-9790-80a2647e4758",
   "metadata": {
    "execution": {
     "iopub.execute_input": "2025-05-20T14:01:03.867768Z",
     "iopub.status.busy": "2025-05-20T14:01:03.867441Z",
     "iopub.status.idle": "2025-05-20T14:01:03.872902Z",
     "shell.execute_reply": "2025-05-20T14:01:03.872302Z",
     "shell.execute_reply.started": "2025-05-20T14:01:03.867743Z"
    },
    "tags": []
   },
   "outputs": [],
   "source": [
    "from torchvision import transforms\n",
    "from PIL import Image\n",
    "\n",
    "def collate_with_resize(batch, image_size):\n",
    "    images, labels = zip(*batch)\n",
    "    transform = transforms.Compose([\n",
    "        transforms.Resize((image_size, image_size)),  # 直接縮放 tensor\n",
    "    ])\n",
    "    images = [transform(img) if isinstance(img, torch.Tensor) else transform(transforms.ToTensor()(img)) for img in images]\n",
    "    return torch.stack(images), torch.tensor(labels)\n"
   ]
  },
  {
   "cell_type": "code",
   "execution_count": 29,
   "id": "9eW-iKmR6xDv",
   "metadata": {
    "execution": {
     "iopub.execute_input": "2025-05-20T14:01:04.638219Z",
     "iopub.status.busy": "2025-05-20T14:01:04.637585Z",
     "iopub.status.idle": "2025-05-20T14:01:04.645140Z",
     "shell.execute_reply": "2025-05-20T14:01:04.644550Z",
     "shell.execute_reply.started": "2025-05-20T14:01:04.638193Z"
    },
    "id": "9eW-iKmR6xDv",
    "tags": []
   },
   "outputs": [],
   "source": [
    "class EarlyStopping:\n",
    "    def __init__(self, patience=5, verbose=False, delta=0, path='best_model.pth'):\n",
    "        self.patience = patience\n",
    "        self.verbose = verbose\n",
    "        self.counter = 0\n",
    "        self.best_score = None\n",
    "        self.early_stop = False\n",
    "        self.val_loss_min = float('inf')\n",
    "        self.delta = delta\n",
    "        self.path = path\n",
    "\n",
    "    def __call__(self, val_loss, model):\n",
    "        score = -val_loss\n",
    "\n",
    "        if self.best_score is None:\n",
    "            self.best_score = score\n",
    "            self.save_checkpoint(val_loss, model)\n",
    "        elif score < self.best_score + self.delta:\n",
    "            self.counter += 1\n",
    "            if self.verbose:\n",
    "                print(f\"EarlyStopping counter: {self.counter} out of {self.patience}\")\n",
    "            if self.counter >= self.patience:\n",
    "                self.early_stop = True\n",
    "        else:\n",
    "            self.best_score = score\n",
    "            self.save_checkpoint(val_loss, model)\n",
    "            self.counter = 0\n",
    "\n",
    "    def save_checkpoint(self, val_loss, model):\n",
    "        '''儲存目前最佳模型'''\n",
    "        if self.verbose:\n",
    "            print(f\"Validation loss decreased ({self.val_loss_min:.6f} → {val_loss:.6f}). Saving model...\")\n",
    "        torch.save(model.state_dict(), self.path)\n",
    "        self.val_loss_min = val_loss\n"
   ]
  },
  {
   "cell_type": "code",
   "execution_count": 32,
   "id": "25cf8137-76e5-484b-95d2-fbf22792cd72",
   "metadata": {
    "execution": {
     "iopub.execute_input": "2025-05-20T14:02:47.282076Z",
     "iopub.status.busy": "2025-05-20T14:02:47.281572Z",
     "iopub.status.idle": "2025-05-20T18:03:20.120923Z",
     "shell.execute_reply": "2025-05-20T18:03:20.119790Z",
     "shell.execute_reply.started": "2025-05-20T14:02:47.282048Z"
    },
    "id": "25cf8137-76e5-484b-95d2-fbf22792cd72",
    "outputId": "403ee953-43a5-4558-b341-c1d813182fda",
    "tags": []
   },
   "outputs": [
    {
     "name": "stdout",
     "output_type": "stream",
     "text": [
      "Epoch 1/30, Size: 224, Loss: 4.5075, Accuracy: 11.44%\n",
      "Validation Loss: 3.6929, Validation Accuracy: 47.50%\n",
      "Validation loss decreased (inf → 3.692896). Saving model...\n",
      "Epoch 2/30, Size: 224, Loss: 3.1855, Accuracy: 40.83%\n",
      "Validation Loss: 1.9702, Validation Accuracy: 75.34%\n",
      "Validation loss decreased (3.692896 → 1.970174). Saving model...\n",
      "Epoch 3/30, Size: 224, Loss: 2.6429, Accuracy: 55.61%\n",
      "Validation Loss: 1.6045, Validation Accuracy: 79.89%\n",
      "Validation loss decreased (1.970174 → 1.604511). Saving model...\n",
      "Epoch 4/30, Size: 224, Loss: 2.5259, Accuracy: 59.35%\n",
      "Validation Loss: 1.4827, Validation Accuracy: 82.83%\n",
      "Validation loss decreased (1.604511 → 1.482656). Saving model...\n"
     ]
    },
    {
     "name": "stderr",
     "output_type": "stream",
     "text": [
      "/opt/conda/lib/python3.9/site-packages/torch/optim/lr_scheduler.py:807: UserWarning: To get the last learning rate computed by the scheduler, please use `get_last_lr()`.\n",
      "  warnings.warn(\"To get the last learning rate computed by the scheduler, \"\n"
     ]
    },
    {
     "name": "stdout",
     "output_type": "stream",
     "text": [
      "Epoch 5/30, Size: 224, Loss: 2.3665, Accuracy: 62.66%\n",
      "Validation Loss: 1.4516, Validation Accuracy: 83.07%\n",
      "Validation loss decreased (1.482656 → 1.451554). Saving model...\n",
      "Epoch 6/30, Size: 224, Loss: 2.3499, Accuracy: 64.64%\n",
      "Validation Loss: 1.4132, Validation Accuracy: 83.61%\n",
      "Validation loss decreased (1.451554 → 1.413205). Saving model...\n",
      "Epoch 7/30, Size: 224, Loss: 2.1144, Accuracy: 69.34%\n",
      "Validation Loss: 1.3980, Validation Accuracy: 84.54%\n",
      "Validation loss decreased (1.413205 → 1.398044). Saving model...\n",
      "Epoch 8/30, Size: 320, Loss: 2.4769, Accuracy: 60.98%\n",
      "Validation Loss: 1.4777, Validation Accuracy: 81.60%\n",
      "EarlyStopping counter: 1 out of 5\n",
      "Epoch 9/30, Size: 320, Loss: 2.2451, Accuracy: 66.59%\n",
      "Validation Loss: 1.4520, Validation Accuracy: 82.14%\n",
      "EarlyStopping counter: 2 out of 5\n",
      "Epoch 10/30, Size: 320, Loss: 2.4134, Accuracy: 63.10%\n",
      "Validation Loss: 1.4057, Validation Accuracy: 83.95%\n",
      "EarlyStopping counter: 3 out of 5\n",
      "Epoch 11/30, Size: 320, Loss: 2.3618, Accuracy: 64.04%\n",
      "Validation Loss: 1.4389, Validation Accuracy: 82.83%\n",
      "EarlyStopping counter: 4 out of 5\n",
      "Epoch 12/30, Size: 320, Loss: 2.2789, Accuracy: 66.47%\n",
      "Validation Loss: 1.4117, Validation Accuracy: 83.81%\n",
      "EarlyStopping counter: 5 out of 5\n",
      "Early stopping triggered.\n"
     ]
    },
    {
     "data": {
      "text/plain": [
       "<All keys matched successfully>"
      ]
     },
     "execution_count": 32,
     "metadata": {},
     "output_type": "execute_result"
    }
   ],
   "source": [
    "small_image_epochs = 7\n",
    "small_size = 224\n",
    "large_size = 320\n",
    "batch_size = 64\n",
    "num_epochs = 30\n",
    "\n",
    "early_stopping = EarlyStopping(patience=5, verbose=True, path='best_resnet50.pth')\n",
    "\n",
    "full_dataset = DogBreedImageFolder(\"dog_images/train\", transform=train_transform)\n",
    "\n",
    "\n",
    "for epoch in range(num_epochs):\n",
    "    image_size = small_size if epoch < small_image_epochs else large_size\n",
    "\n",
    "    train_loader = DataLoader(train_dataset, batch_size=batch_size, shuffle=True,\n",
    "                              collate_fn=lambda batch: collate_with_resize(batch, image_size))\n",
    "    val_loader = DataLoader(val_dataset, batch_size=batch_size, shuffle=False,\n",
    "                            collate_fn=lambda batch: collate_with_resize(batch, image_size))\n",
    "\n",
    "    model.train()\n",
    "    running_loss = 0.0\n",
    "    correct = 0\n",
    "    total = 0\n",
    "\n",
    "    for images, labels in train_loader:\n",
    "        images, labels = images.to(device), labels.to(device)\n",
    "        inputs, targets_a, targets_b, lam = mixup_data(images, labels, alpha=0.4)\n",
    "        inputs, targets_a, targets_b = inputs.to(device), targets_a.to(device), targets_b.to(device)\n",
    "\n",
    "        optimizer.zero_grad()\n",
    "        outputs = model(inputs)\n",
    "        loss = mixup_criterion(criterion, outputs, targets_a, targets_b, lam)\n",
    "        loss.backward()\n",
    "        optimizer.step()\n",
    "\n",
    "        running_loss += loss.item()\n",
    "        _, predicted = torch.max(outputs, 1)\n",
    "        total += labels.size(0)\n",
    "        correct += (lam * (predicted == targets_a).sum().item() +\n",
    "            (1 - lam) * (predicted == targets_b).sum().item())\n",
    "\n",
    "\n",
    "    scheduler.step()\n",
    "\n",
    "    epoch_loss = running_loss / len(train_loader)\n",
    "    epoch_acc = 100 * correct / total\n",
    "    print(f\"Epoch {epoch+1}/{num_epochs}, Size: {image_size}, Loss: {epoch_loss:.4f}, Accuracy: {epoch_acc:.2f}%\")\n",
    "\n",
    "    model.eval()\n",
    "    val_loss = 0.0\n",
    "    correct = 0\n",
    "    total = 0\n",
    "    with torch.no_grad():\n",
    "        for images, labels in val_loader:\n",
    "            images, labels = images.to(device), labels.to(device)\n",
    "            outputs = model(images)\n",
    "            loss = criterion(outputs, labels)\n",
    "            val_loss += loss.item()\n",
    "            _, predicted = torch.max(outputs, 1)\n",
    "            total += labels.size(0)\n",
    "            correct += (predicted == labels).sum().item()\n",
    "\n",
    "    val_loss /= len(val_loader)\n",
    "    val_acc = 100 * correct / total\n",
    "    print(f\"Validation Loss: {val_loss:.4f}, Validation Accuracy: {val_acc:.2f}%\")\n",
    "\n",
    "    early_stopping(val_loss, model)\n",
    "\n",
    "    if early_stopping.early_stop:\n",
    "        print(\"Early stopping triggered.\")\n",
    "        break\n",
    "\n",
    "# 載入最佳模型\n",
    "model.load_state_dict(torch.load(\"best_resnet50.pth\"))\n"
   ]
  },
  {
   "cell_type": "code",
   "execution_count": 33,
   "id": "8d306abf-c908-4307-afa8-ffd890aee88f",
   "metadata": {
    "execution": {
     "iopub.execute_input": "2025-05-20T18:48:24.313009Z",
     "iopub.status.busy": "2025-05-20T18:48:24.312461Z",
     "iopub.status.idle": "2025-05-20T18:48:24.562332Z",
     "shell.execute_reply": "2025-05-20T18:48:24.561417Z",
     "shell.execute_reply.started": "2025-05-20T18:48:24.312974Z"
    },
    "id": "8d306abf-c908-4307-afa8-ffd890aee88f",
    "tags": []
   },
   "outputs": [],
   "source": [
    "# 保存訓練後的模型\n",
    "torch.save(model.state_dict(), \"dog_breed_model.pth\")\n"
   ]
  },
  {
   "cell_type": "code",
   "execution_count": 34,
   "id": "bd237980-ad71-4780-8b12-3bf900b5abf9",
   "metadata": {
    "execution": {
     "iopub.execute_input": "2025-05-20T18:48:24.828519Z",
     "iopub.status.busy": "2025-05-20T18:48:24.827820Z",
     "iopub.status.idle": "2025-05-20T18:52:27.024846Z",
     "shell.execute_reply": "2025-05-20T18:52:27.023559Z",
     "shell.execute_reply.started": "2025-05-20T18:48:24.828492Z"
    },
    "id": "bd237980-ad71-4780-8b12-3bf900b5abf9",
    "outputId": "522dbeeb-39d2-4282-82d1-1981e811055b",
    "tags": []
   },
   "outputs": [
    {
     "name": "stdout",
     "output_type": "stream",
     "text": [
      "Test Accuracy: 76.76%\n"
     ]
    }
   ],
   "source": [
    "# 測試集的評估\n",
    "test_accuracy = 0\n",
    "with torch.no_grad():\n",
    "    for images, labels in val_loader:\n",
    "        images, labels = images.to(device), labels.to(device)\n",
    "\n",
    "        outputs = model(images)\n",
    "        _, predicted = torch.max(outputs, 1)\n",
    "\n",
    "        test_accuracy += (predicted == labels).sum().item()\n",
    "\n",
    "test_accuracy = 100 * test_accuracy / len(val_dataset)\n",
    "print(f\"Test Accuracy: {test_accuracy:.2f}%\")\n",
    "\n",
    "import os"
   ]
  },
  {
   "cell_type": "code",
   "execution_count": 35,
   "id": "BpW3rcCW7wwH",
   "metadata": {
    "execution": {
     "iopub.execute_input": "2025-05-20T18:52:27.026735Z",
     "iopub.status.busy": "2025-05-20T18:52:27.026528Z",
     "iopub.status.idle": "2025-05-20T19:04:01.667512Z",
     "shell.execute_reply": "2025-05-20T19:04:01.666420Z",
     "shell.execute_reply.started": "2025-05-20T18:52:27.026718Z"
    },
    "id": "BpW3rcCW7wwH",
    "tags": []
   },
   "outputs": [
    {
     "name": "stdout",
     "output_type": "stream",
     "text": [
      "TTA Test Accuracy: 1.71%\n"
     ]
    }
   ],
   "source": [
    "# 測試集的評估\n",
    "tta_transforms = [\n",
    "    transforms.Compose([transforms.Resize((224, 224)), transforms.ToTensor()]),\n",
    "    transforms.Compose([transforms.Resize((224, 224)), transforms.RandomHorizontalFlip(p=1.0), transforms.ToTensor()]),\n",
    "    transforms.Compose([transforms.Resize((224, 224)), transforms.ColorJitter(brightness=0.2), transforms.ToTensor()])\n",
    "]\n",
    "\n",
    "model.eval()\n",
    "total = 0\n",
    "correct = 0\n",
    "\n",
    "with torch.no_grad():\n",
    "    for images, labels in val_loader:\n",
    "        images, labels = images.to(device), labels.to(device)\n",
    "\n",
    "        tta_preds = []\n",
    "        for tform in tta_transforms:\n",
    "            aug_images = torch.stack([tform(transforms.ToPILImage()(img.cpu())) for img in images])\n",
    "            aug_images = aug_images.to(device)\n",
    "            outputs = model(aug_images)\n",
    "            tta_preds.append(torch.softmax(outputs, dim=1))\n",
    "\n",
    "        avg_preds = torch.mean(torch.stack(tta_preds), dim=0)\n",
    "        _, predicted = torch.max(avg_preds, 1)\n",
    "\n",
    "        total += labels.size(0)\n",
    "        correct += (predicted == labels).sum().item()\n",
    "\n",
    "accuracy = 100 * correct / total\n",
    "print(f\"TTA Test Accuracy: {accuracy:.2f}%\")\n"
   ]
  },
  {
   "cell_type": "code",
   "execution_count": 36,
   "id": "7ca7a9f2-4bb1-49ac-a672-b956ac8f78d3",
   "metadata": {
    "execution": {
     "iopub.execute_input": "2025-05-20T19:04:01.668966Z",
     "iopub.status.busy": "2025-05-20T19:04:01.668791Z",
     "iopub.status.idle": "2025-05-20T19:04:01.675495Z",
     "shell.execute_reply": "2025-05-20T19:04:01.674735Z",
     "shell.execute_reply.started": "2025-05-20T19:04:01.668949Z"
    },
    "id": "7ca7a9f2-4bb1-49ac-a672-b956ac8f78d3",
    "tags": []
   },
   "outputs": [],
   "source": [
    "from PIL import Image\n",
    "from torch.utils.data import Dataset, DataLoader\n",
    "from torchvision import transforms\n",
    "\n",
    "class TestImageDataset(Dataset):\n",
    "    def __init__(self, image_folder, transform=None):\n",
    "        self.image_folder = image_folder\n",
    "        self.image_filenames = sorted(os.listdir(image_folder))\n",
    "        self.transform = transform\n",
    "\n",
    "    def __len__(self):\n",
    "        return len(self.image_filenames)\n",
    "\n",
    "    def __getitem__(self, idx):\n",
    "        img_name = self.image_filenames[idx]\n",
    "        img_path = os.path.join(self.image_folder, img_name)\n",
    "        image = Image.open(img_path).convert('RGB')\n",
    "        if self.transform:\n",
    "            image = self.transform(image)\n",
    "        return image, img_name.split('.')[0]  # 傳回 image tensor 和 id（"
   ]
  },
  {
   "cell_type": "code",
   "execution_count": 37,
   "id": "b1813979-8cf3-431f-9fad-e31e729a397a",
   "metadata": {
    "execution": {
     "iopub.execute_input": "2025-05-20T19:04:01.676701Z",
     "iopub.status.busy": "2025-05-20T19:04:01.676542Z",
     "iopub.status.idle": "2025-05-20T19:04:02.797160Z",
     "shell.execute_reply": "2025-05-20T19:04:02.796037Z",
     "shell.execute_reply.started": "2025-05-20T19:04:01.676687Z"
    },
    "id": "b1813979-8cf3-431f-9fad-e31e729a397a",
    "tags": []
   },
   "outputs": [],
   "source": [
    "# 取得所有類別名稱，需排序以符合 submission 格式\n",
    "all_breeds = sorted(dataset.class_to_idx.keys())\n",
    "\n",
    "# 建立 mapping\n",
    "idx_to_class = {v: k for k, v in dataset.class_to_idx.items()}\n",
    "# 修正 Test transform 使用與訓練相同的 ImageNet 格式\n",
    "test_transform = transforms.Compose([\n",
    "    transforms.Resize((224, 224)),\n",
    "    transforms.ToTensor(),\n",
    "    transforms.Normalize((0.485, 0.456, 0.406),  # 與訓練相同\n",
    "                         (0.229, 0.224, 0.225))\n",
    "])\n",
    "\n",
    "\n",
    "# 設定測試資料夾路徑\n",
    "test_folder = 'dog-breed-identification/test'  # 請確認實際位置\n",
    "\n",
    "# 建立 DataLoader\n",
    "test_dataset = TestImageDataset(test_folder, transform=test_transform)\n",
    "test_loader = DataLoader(test_dataset, batch_size=64, shuffle=False)\n",
    "\n",
    "# 建立 DataFrame 儲存預測結果\n",
    "results = []"
   ]
  },
  {
   "cell_type": "code",
   "execution_count": 38,
   "id": "016331d2-68f7-459b-bdfb-ffaf026869c0",
   "metadata": {
    "execution": {
     "iopub.execute_input": "2025-05-20T19:04:02.799193Z",
     "iopub.status.busy": "2025-05-20T19:04:02.798647Z",
     "iopub.status.idle": "2025-05-20T19:17:14.344163Z",
     "shell.execute_reply": "2025-05-20T19:17:14.343019Z",
     "shell.execute_reply.started": "2025-05-20T19:04:02.799141Z"
    },
    "id": "016331d2-68f7-459b-bdfb-ffaf026869c0",
    "outputId": "b69368fe-99cd-4ec0-b93c-560a8c723519",
    "tags": []
   },
   "outputs": [
    {
     "name": "stdout",
     "output_type": "stream",
     "text": [
      "✅ submission.csv 轉換完成，可上傳至 Kaggle！\n"
     ]
    }
   ],
   "source": [
    "with torch.no_grad():\n",
    "    for inputs, image_ids in test_loader:\n",
    "        inputs = inputs.to(device)\n",
    "        outputs = model(inputs)\n",
    "        _, preds = torch.max(outputs, 1)\n",
    "        for img_id, pred in zip(image_ids, preds.cpu()):\n",
    "            breed = idx_to_class[pred.item()]\n",
    "            row = {\"id\": img_id}\n",
    "            for b in all_breeds:\n",
    "                row[b] = 1 if b == breed else 0\n",
    "            results.append(row)\n",
    "\n",
    "# 輸出為符合要求的 CSV\n",
    "df = pd.DataFrame(results)\n",
    "df.to_csv(\"submission1.3.csv\", index=False)\n",
    "print(\"✅ submission.csv 轉換完成，可上傳至 Kaggle！\")"
   ]
  },
  {
   "cell_type": "code",
   "execution_count": null,
   "id": "628d7fd6-d52e-4336-8f59-3d72d2e9f902",
   "metadata": {
    "id": "628d7fd6-d52e-4336-8f59-3d72d2e9f902"
   },
   "outputs": [],
   "source": []
  }
 ],
 "metadata": {
  "colab": {
   "provenance": []
  },
  "kernelspec": {
   "display_name": "Python 3 (ipykernel)",
   "language": "python",
   "name": "python3"
  },
  "language_info": {
   "codemirror_mode": {
    "name": "ipython",
    "version": 3
   },
   "file_extension": ".py",
   "mimetype": "text/x-python",
   "name": "python",
   "nbconvert_exporter": "python",
   "pygments_lexer": "ipython3",
   "version": "3.9.13"
  }
 },
 "nbformat": 4,
 "nbformat_minor": 5
}
