{
 "cells": [
  {
   "cell_type": "code",
   "execution_count": 9,
   "id": "19dd142d-af4f-4cc4-a737-cb5cf859e92e",
   "metadata": {
    "execution": {
     "iopub.execute_input": "2025-05-08T15:20:12.226135Z",
     "iopub.status.busy": "2025-05-08T15:20:12.225605Z",
     "iopub.status.idle": "2025-05-08T15:20:12.238602Z",
     "shell.execute_reply": "2025-05-08T15:20:12.236662Z",
     "shell.execute_reply.started": "2025-05-08T15:20:12.226095Z"
    },
    "tags": []
   },
   "outputs": [
    {
     "data": {
      "application/vnd.jupyter.widget-view+json": {
       "model_id": "c2c80cdb5a9548648bca0c49e20ab106",
       "version_major": 2,
       "version_minor": 0
      },
      "text/plain": [
       "FileUpload(value=(), description='Upload')"
      ]
     },
     "metadata": {},
     "output_type": "display_data"
    }
   ],
   "source": [
    "from IPython.display import display\n",
    "import os\n",
    "\n",
    "# 上傳檔案（會跳出檔案選擇器）\n",
    "from ipywidgets import FileUpload\n",
    "\n",
    "upload = FileUpload()\n",
    "display(upload)"
   ]
  },
  {
   "cell_type": "code",
   "execution_count": 10,
   "id": "172906a3-1dd5-4484-a903-2877d1e50ebc",
   "metadata": {
    "execution": {
     "iopub.execute_input": "2025-05-08T15:20:18.525803Z",
     "iopub.status.busy": "2025-05-08T15:20:18.525088Z",
     "iopub.status.idle": "2025-05-08T15:20:18.549535Z",
     "shell.execute_reply": "2025-05-08T15:20:18.547822Z",
     "shell.execute_reply.started": "2025-05-08T15:20:18.525744Z"
    },
    "tags": []
   },
   "outputs": [
    {
     "name": "stdout",
     "output_type": "stream",
     "text": [
      "{'name': 'kaggle.json', 'type': 'application/json', 'size': 64, 'content': <memory at 0x7773fc537f40>, 'last_modified': datetime.datetime(2025, 4, 21, 6, 7, 11, 972000, tzinfo=datetime.timezone.utc)}\n",
      "kaggle.json 已成功儲存至 /home/jovyan/.kaggle/kaggle.json\n"
     ]
    }
   ],
   "source": [
    "import os\n",
    "from pathlib import Path\n",
    "\n",
    "# 假設你只上傳了一個檔案\n",
    "fileinfo = upload.value[0]  # 通常是一個 dict，含 'name' 和 'content'\n",
    "\n",
    "# 顯示內容結構（除錯用）\n",
    "print(fileinfo)\n",
    "\n",
    "# 儲存 kaggle.json\n",
    "filename = fileinfo['name']\n",
    "content = fileinfo['content']\n",
    "\n",
    "kaggle_dir = Path.home() / \".kaggle\"\n",
    "kaggle_dir.mkdir(exist_ok=True)\n",
    "\n",
    "kaggle_json_path = kaggle_dir / \"kaggle.json\"\n",
    "with open(kaggle_json_path, \"wb\") as f:\n",
    "    f.write(content)\n",
    "\n",
    "# 設定權限（Linux/macOS 建議）\n",
    "os.chmod(kaggle_json_path, 0o600)\n",
    "\n",
    "print(f\"{filename} 已成功儲存至 {kaggle_json_path}\")"
   ]
  },
  {
   "cell_type": "code",
   "execution_count": 11,
   "id": "e13e384c-f12d-4c02-b891-80542dd9a6db",
   "metadata": {
    "execution": {
     "iopub.execute_input": "2025-05-08T15:20:19.544997Z",
     "iopub.status.busy": "2025-05-08T15:20:19.544318Z",
     "iopub.status.idle": "2025-05-08T15:20:20.574115Z",
     "shell.execute_reply": "2025-05-08T15:20:20.571419Z",
     "shell.execute_reply.started": "2025-05-08T15:20:19.544941Z"
    },
    "tags": []
   },
   "outputs": [
    {
     "name": "stdout",
     "output_type": "stream",
     "text": [
      "ref                                                     title                                                  size  lastUpdated                 downloadCount  voteCount  usabilityRating  \n",
      "------------------------------------------------------  ----------------------------------------------  -----------  --------------------------  -------------  ---------  ---------------  \n",
      "fedesoriano/cifar100                                    CIFAR-100 Python                                  168517809  2020-12-26 08:37:10.143000          12153        176  1.0              \n",
      "pankrzysiu/cifar10-python                               CIFAR-10 Python                                   340613496  2018-01-27 13:42:40.967000          14641        251  0.75             \n",
      "petitbonney/cifar10-image-recognition                   CIFAR-10                                         1007971063  2019-10-01 12:50:23.227000           2794         24  0.8235294        \n",
      "valentynsichkar/cifar10-preprocessed                    CIFAR10 Preprocessed                             1227571899  2019-07-13 13:43:11                  3324         63  1.0              \n",
      "swaroopkml/cifar10-pngs-in-folders                      CIFAR-10 PNGs in folders                          293479104  2019-02-10 11:16:19.507000          13306         96  0.6875           \n",
      "fedesoriano/cifar10-python-in-csv                       CIFAR-10 Python in CSV                            218807675  2021-06-22 09:07:55                  6912         51  1.0              \n",
      "ayush1220/cifar10                                       CIFAR-10                                          146259525  2022-01-11 21:03:48.427000           1112         12  0.6875           \n",
      "alincijov/cifar-100                                     CIFAR-100                                         168517809  2020-09-13 13:40:25.763000            367         16  0.625            \n",
      "quanbk/cifar10                                          Cifar-10                                          170062484  2017-11-22 01:12:26                  3580         26  0.25             \n",
      "emadtolba/cifar10-comp                                  Cifar-10 comp                                     706709151  2018-09-09 02:55:22.263000            379         12  0.64705884       \n",
      "birdy654/cifake-real-and-ai-generated-synthetic-images  CIFAKE: Real and AI-Generated Synthetic Images    109625224  2023-03-28 16:00:29                 19262        150  0.875            \n",
      "amishfaldu/cifar10dataset                               Cifar-10 Dataset                                 4989376312  2020-10-07 04:30:40                   343          6  1.0              \n",
      "ibraheemmoosa/cifar100-256x256                          CIFAR100 256x256                                 2817065558  2021-04-24 17:09:57                  1029         23  0.875            \n",
      "jessicali9530/stl10                                     STL-10 Image Recognition Dataset                 2017846807  2018-06-11 03:02:24.153000           6784        124  0.75             \n",
      "oxcdcd/cifar10                                          cifar10                                           183819211  2018-08-12 09:31:35.253000           3359         35  0.1875           \n",
      "pavansanagapati/cifar100                                CIFAR-100                                         337036008  2018-06-21 12:23:51.707000            416          4  0.3125           \n",
      "gazu468/cifar10-classification-image                    Cifar10 Classification Image                      146259525  2022-10-29 18:47:18.453000            739         13  0.5              \n",
      "imsparsh/musicnet-dataset                               MusicNet Dataset                                23086004822  2021-02-18 14:12:19.753000          16026        527  1.0              \n",
      "ekaakurniawan/the-cifar10-dataset                       The CIFAR-10 Dataset                              170063312  2021-04-06 16:57:56                   505          4  0.9375           \n",
      "pypiahmad/cifar-100                                     CIFAR-100                                         168517947  2023-10-29 09:53:59                    79         11  0.6875           \n"
     ]
    }
   ],
   "source": [
    "!kaggle datasets list -s cifar\n"
   ]
  },
  {
   "cell_type": "code",
   "execution_count": 12,
   "id": "2e5fb396-b2e8-4b41-a76c-81dcd0626c01",
   "metadata": {
    "execution": {
     "iopub.execute_input": "2025-05-08T15:20:20.577735Z",
     "iopub.status.busy": "2025-05-08T15:20:20.577043Z",
     "iopub.status.idle": "2025-05-08T15:25:39.330084Z",
     "shell.execute_reply": "2025-05-08T15:25:39.326662Z",
     "shell.execute_reply.started": "2025-05-08T15:20:20.577670Z"
    },
    "tags": []
   },
   "outputs": [
    {
     "name": "stdout",
     "output_type": "stream",
     "text": [
      "Requirement already satisfied: kaggle in /opt/conda/lib/python3.9/site-packages (1.7.4.2)\n",
      "Requirement already satisfied: six>=1.10 in /opt/conda/lib/python3.9/site-packages (from kaggle) (1.16.0)\n",
      "Requirement already satisfied: webencodings in /opt/conda/lib/python3.9/site-packages (from kaggle) (0.5.1)\n",
      "Requirement already satisfied: tqdm in /opt/conda/lib/python3.9/site-packages (from kaggle) (4.64.1)\n",
      "Requirement already satisfied: certifi>=14.05.14 in /opt/conda/lib/python3.9/site-packages (from kaggle) (2025.1.31)\n",
      "Requirement already satisfied: text-unidecode in /opt/conda/lib/python3.9/site-packages (from kaggle) (1.3)\n",
      "Requirement already satisfied: charset-normalizer in /opt/conda/lib/python3.9/site-packages (from kaggle) (2.1.1)\n",
      "Requirement already satisfied: python-dateutil>=2.5.3 in /opt/conda/lib/python3.9/site-packages (from kaggle) (2.8.2)\n",
      "Requirement already satisfied: python-slugify in /opt/conda/lib/python3.9/site-packages (from kaggle) (8.0.4)\n",
      "Requirement already satisfied: requests in /opt/conda/lib/python3.9/site-packages (from kaggle) (2.32.3)\n",
      "Requirement already satisfied: urllib3>=1.15.1 in /opt/conda/lib/python3.9/site-packages (from kaggle) (2.4.0)\n",
      "Requirement already satisfied: bleach in /opt/conda/lib/python3.9/site-packages (from kaggle) (5.0.1)\n",
      "Requirement already satisfied: idna in /opt/conda/lib/python3.9/site-packages (from kaggle) (3.4)\n",
      "Requirement already satisfied: setuptools>=21.0.0 in /opt/conda/lib/python3.9/site-packages (from kaggle) (65.4.1)\n",
      "Requirement already satisfied: protobuf in /opt/conda/lib/python3.9/site-packages (from kaggle) (4.21.7)\n",
      "\u001b[33mWARNING: Running pip as the 'root' user can result in broken permissions and conflicting behaviour with the system package manager. It is recommended to use a virtual environment instead: https://pip.pypa.io/warnings/venv\u001b[0m\u001b[33m\n",
      "\u001b[0mRequirement already satisfied: pandas in /opt/conda/lib/python3.9/site-packages (2.2.3)\n",
      "Requirement already satisfied: tzdata>=2022.7 in /opt/conda/lib/python3.9/site-packages (from pandas) (2025.2)\n",
      "Requirement already satisfied: pytz>=2020.1 in /opt/conda/lib/python3.9/site-packages (from pandas) (2022.4)\n",
      "Requirement already satisfied: python-dateutil>=2.8.2 in /opt/conda/lib/python3.9/site-packages (from pandas) (2.8.2)\n",
      "Requirement already satisfied: numpy>=1.22.4 in /opt/conda/lib/python3.9/site-packages (from pandas) (1.23.3)\n",
      "Requirement already satisfied: six>=1.5 in /opt/conda/lib/python3.9/site-packages (from python-dateutil>=2.8.2->pandas) (1.16.0)\n",
      "\u001b[33mWARNING: Running pip as the 'root' user can result in broken permissions and conflicting behaviour with the system package manager. It is recommended to use a virtual environment instead: https://pip.pypa.io/warnings/venv\u001b[0m\u001b[33m\n",
      "\u001b[0mcp: cannot stat 'kaggle.json': No such file or directory\n",
      "Downloading dog-breed-identification.zip to /home/jovyan\n",
      " 99%|████████████████████████████████████████▍| 682M/691M [00:04<00:00, 164MB/s]\n",
      "100%|█████████████████████████████████████████| 691M/691M [00:04<00:00, 160MB/s]\n"
     ]
    }
   ],
   "source": [
    "!pip install -U kaggle\n",
    "!pip install --upgrade pandas\n",
    "import os\n",
    "import zipfile\n",
    "\n",
    "# 建立 Kaggle 資料夾\n",
    "!mkdir -p ~/.kaggle\n",
    "!cp kaggle.json ~/.kaggle/\n",
    "!chmod 600 ~/.kaggle/kaggle.json\n",
    "\n",
    "# 下載 Dog Breed Identification 資料集\n",
    "!kaggle competitions download -c dog-breed-identification --force\n",
    "!unzip -oq dog-breed-identification.zip -d dog-breed-identification\n",
    "\n",
    "\n",
    "import pandas as pd\n",
    "import numpy as np\n",
    "\n",
    "labels = pd.read_csv('dog-breed-identification/labels.csv')\n"
   ]
  },
  {
   "cell_type": "code",
   "execution_count": 13,
   "id": "730c9a46-2b61-48be-b907-137ded3ab21d",
   "metadata": {
    "execution": {
     "iopub.execute_input": "2025-05-08T15:25:39.335056Z",
     "iopub.status.busy": "2025-05-08T15:25:39.334290Z",
     "iopub.status.idle": "2025-05-08T15:26:36.893509Z",
     "shell.execute_reply": "2025-05-08T15:26:36.892014Z",
     "shell.execute_reply.started": "2025-05-08T15:25:39.334969Z"
    },
    "tags": []
   },
   "outputs": [
    {
     "name": "stderr",
     "output_type": "stream",
     "text": [
      "100%|██████████| 10222/10222 [00:57<00:00, 177.79it/s]\n"
     ]
    }
   ],
   "source": [
    "import os\n",
    "import shutil\n",
    "import pandas as pd\n",
    "from PIL import Image\n",
    "from tqdm import tqdm\n",
    "# 讀取標籤\n",
    "labels = pd.read_csv('dog-breed-identification/labels.csv')\n",
    "# 建立目標輸出資料夾\n",
    "output_dir = \"dog_images\"\n",
    "train_dir = os.path.join(output_dir, \"train\")\n",
    "os.makedirs(train_dir, exist_ok=True)\n",
    "\n",
    "# 根據標籤將圖片存入對應資料夾\n",
    "def organize_train_images(labels): # Pass labels as an argument\n",
    "    src_img_dir = \"dog-breed-identification/train\"\n",
    "    for idx, row in tqdm(labels.iterrows(), total=len(labels)):\n",
    "        img_id = row['id']\n",
    "        breed = row['breed']\n",
    "        src_path = os.path.join(src_img_dir, img_id + \".jpg\")\n",
    "\n",
    "        # 建立品種對應資料夾\n",
    "        breed_dir = os.path.join(train_dir, breed)\n",
    "        os.makedirs(breed_dir, exist_ok=True)\n",
    "\n",
    "        dst_path = os.path.join(breed_dir, img_id + \".jpg\")\n",
    "        shutil.copyfile(src_path, dst_path)\n",
    "\n",
    "# Load labels outside the function\n",
    "labels = pd.read_csv('dog-breed-identification/labels.csv')\n",
    "organize_train_images(labels) # Call the function with labels argument"
   ]
  },
  {
   "cell_type": "code",
   "execution_count": 14,
   "id": "53fafafb-66d1-417b-9603-84097d9b4686",
   "metadata": {
    "execution": {
     "iopub.execute_input": "2025-05-08T15:26:36.895127Z",
     "iopub.status.busy": "2025-05-08T15:26:36.894874Z",
     "iopub.status.idle": "2025-05-08T15:26:36.906312Z",
     "shell.execute_reply": "2025-05-08T15:26:36.904581Z",
     "shell.execute_reply.started": "2025-05-08T15:26:36.895106Z"
    },
    "tags": []
   },
   "outputs": [],
   "source": [
    " #自定義 Dataset 類別\n",
    "import torch\n",
    "from torch.utils.data import Dataset\n",
    "from torchvision import transforms\n",
    "from PIL import Image\n",
    "import os\n",
    "\n",
    "class DogBreedImageFolder(Dataset):\n",
    "    def __init__(self, root_dir, transform=None):\n",
    "        self.root_dir = root_dir\n",
    "        self.transform = transform\n",
    "        self.image_paths = []\n",
    "        self.labels = []\n",
    "\n",
    "        # 建立類別對應表：品種 → 數值 label\n",
    "        class_names = sorted(os.listdir(root_dir))\n",
    "        self.class_to_idx = {class_name: idx for idx, class_name in enumerate(class_names)}\n",
    "\n",
    "        for class_name in class_names:\n",
    "            class_folder = os.path.join(root_dir, class_name)\n",
    "            if not os.path.isdir(class_folder):\n",
    "                continue\n",
    "            for filename in os.listdir(class_folder):\n",
    "                if filename.endswith(('.jpg', '.png')):\n",
    "                    self.image_paths.append(os.path.join(class_folder, filename))\n",
    "                    self.labels.append(self.class_to_idx[class_name])\n",
    "\n",
    "    def __len__(self):\n",
    "        return len(self.image_paths)\n",
    "\n",
    "    def __getitem__(self, idx):\n",
    "        img_path = self.image_paths[idx]\n",
    "        label = self.labels[idx]\n",
    "        image = Image.open(img_path).convert(\"RGB\")\n",
    "        if self.transform:\n",
    "            image = self.transform(image)\n",
    "        return image, label"
   ]
  },
  {
   "cell_type": "code",
   "execution_count": 15,
   "id": "dbbeeba0-bf0d-4bd6-9a0d-970074bdae22",
   "metadata": {
    "execution": {
     "iopub.execute_input": "2025-05-08T15:26:36.910931Z",
     "iopub.status.busy": "2025-05-08T15:26:36.910373Z",
     "iopub.status.idle": "2025-05-08T15:26:36.924836Z",
     "shell.execute_reply": "2025-05-08T15:26:36.922941Z",
     "shell.execute_reply.started": "2025-05-08T15:26:36.910885Z"
    },
    "tags": []
   },
   "outputs": [],
   "source": [
    "# 定義 Transform\n",
    "from torchvision.transforms import RandomResizedCrop, RandomHorizontalFlip, ColorJitter, RandomRotation, ToTensor, Normalize\n",
    "\n",
    "train_transform = transforms.Compose([\n",
    "    transforms.RandomResizedCrop(224, scale=(0.7, 1.0)),  # 隨機縮放裁切\n",
    "    transforms.RandomHorizontalFlip(),\n",
    "    transforms.RandomRotation(10),\n",
    "    transforms.ColorJitter(brightness=0.3, contrast=0.3, saturation=0.3),\n",
    "    transforms.ToTensor(),\n",
    "    transforms.Normalize((0.485, 0.456, 0.406),  # 使用 ImageNet 的 mean/std\n",
    "                         (0.229, 0.224, 0.225)),\n",
    "])\n",
    "\n",
    "\n",
    "test_transform = transforms.Compose([\n",
    "    transforms.Resize((224, 224)),\n",
    "    transforms.ToTensor(),\n",
    "    transforms.Normalize((0.5,)*3, (0.5,)*3),\n",
    "])"
   ]
  },
  {
   "cell_type": "code",
   "execution_count": 16,
   "id": "23347d9e-a207-46c7-991b-7b7c9043c443",
   "metadata": {
    "execution": {
     "iopub.execute_input": "2025-05-08T15:26:36.927756Z",
     "iopub.status.busy": "2025-05-08T15:26:36.927101Z",
     "iopub.status.idle": "2025-05-08T15:30:36.638786Z",
     "shell.execute_reply": "2025-05-08T15:30:36.637995Z",
     "shell.execute_reply.started": "2025-05-08T15:26:36.927705Z"
    },
    "tags": []
   },
   "outputs": [
    {
     "name": "stdout",
     "output_type": "stream",
     "text": [
      "Train label distribution: Counter({97: 96, 42: 94, 1: 93, 73: 92, 7: 91, 11: 90, 52: 90, 26: 90, 100: 89, 94: 89, 3: 88, 87: 86, 9: 86, 93: 85, 69: 85, 59: 85, 68: 84, 75: 83, 61: 83, 55: 81, 109: 80, 80: 79, 101: 79, 102: 79, 84: 78, 57: 77, 70: 77, 13: 77, 78: 74, 98: 74, 60: 73, 19: 73, 117: 73, 17: 72, 8: 72, 6: 72, 95: 72, 56: 72, 39: 71, 63: 71, 2: 71, 14: 70, 20: 70, 15: 70, 79: 69, 74: 69, 114: 69, 88: 69, 10: 69, 30: 69, 90: 69, 118: 68, 96: 68, 92: 68, 82: 67, 62: 67, 33: 67, 116: 67, 35: 67, 107: 66, 110: 66, 53: 66, 27: 65, 67: 65, 104: 65, 86: 65, 37: 64, 18: 64, 50: 64, 40: 63, 58: 63, 32: 63, 5: 63, 81: 63, 103: 62, 64: 62, 31: 62, 12: 62, 111: 62, 77: 61, 71: 61, 54: 61, 28: 61, 106: 61, 0: 61, 72: 61, 91: 61, 44: 61, 115: 61, 25: 60, 36: 60, 99: 60, 76: 60, 45: 60, 21: 60, 105: 59, 113: 59, 46: 58, 29: 58, 47: 58, 83: 57, 24: 57, 51: 57, 41: 57, 48: 56, 38: 56, 108: 56, 16: 56, 65: 56, 119: 56, 4: 55, 112: 54, 85: 54, 66: 53, 43: 53, 89: 52, 34: 52, 22: 51, 49: 49, 23: 46})\n",
      "Val label distribution: Counter({97: 30, 6: 30, 109: 27, 86: 27, 119: 26, 88: 25, 73: 25, 13: 25, 87: 25, 11: 24, 30: 24, 100: 23, 1: 23, 117: 22, 61: 22, 28: 22, 35: 22, 69: 21, 85: 21, 52: 21, 42: 21, 54: 21, 94: 20, 40: 20, 64: 20, 23: 20, 82: 20, 71: 20, 89: 20, 33: 20, 34: 20, 105: 20, 10: 20, 9: 19, 90: 19, 17: 19, 67: 19, 60: 19, 76: 19, 0: 19, 4: 19, 75: 19, 7: 19, 3: 19, 115: 18, 51: 18, 41: 18, 66: 18, 49: 18, 84: 18, 31: 18, 38: 18, 111: 17, 78: 17, 77: 17, 50: 17, 47: 17, 56: 16, 99: 16, 20: 16, 16: 16, 92: 16, 112: 16, 101: 16, 36: 16, 114: 16, 80: 16, 26: 16, 24: 16, 37: 16, 53: 16, 59: 16, 22: 16, 14: 15, 81: 15, 2: 15, 58: 15, 5: 15, 39: 15, 68: 15, 63: 15, 12: 15, 15: 15, 91: 15, 25: 15, 21: 15, 93: 14, 79: 14, 118: 14, 110: 14, 104: 14, 62: 14, 96: 14, 116: 14, 98: 14, 95: 14, 19: 14, 108: 13, 48: 13, 29: 13, 43: 13, 70: 13, 72: 12, 107: 12, 83: 12, 102: 11, 18: 11, 65: 11, 32: 11, 106: 11, 27: 11, 44: 11, 46: 11, 74: 11, 8: 10, 45: 10, 55: 10, 113: 10, 103: 9, 57: 5})\n"
     ]
    }
   ],
   "source": [
    "#建立 Dataset 與切分\n",
    "from torch.utils.data import random_split, DataLoader\n",
    "import collections\n",
    "\n",
    "# 讀取分類後資料\n",
    "dataset = DogBreedImageFolder(\"dog_images/train\", transform=train_transform)\n",
    "\n",
    "# 計算資料數量與切分比例\n",
    "val_ratio = 0.2\n",
    "val_size = int(len(dataset) * val_ratio)\n",
    "train_size = len(dataset) - val_size\n",
    "train_dataset, val_dataset = random_split(dataset, [train_size, val_size])\n",
    "\n",
    "# 測試集 Dataset（未提供 labels.csv 的 test set 可略過）\n",
    "# test_dataset = DogBreedImageFolder(\"dog_images/test\", transform=test_transform)\n",
    "\n",
    "# 檢查各類資料數量\n",
    "train_labels = [label for _, label in train_dataset]\n",
    "val_labels = [label for _, label in val_dataset]\n",
    "print(\"Train label distribution:\", collections.Counter(train_labels))\n",
    "print(\"Val label distribution:\", collections.Counter(val_labels))\n"
   ]
  },
  {
   "cell_type": "code",
   "execution_count": 17,
   "id": "3e1463af-eddd-4236-a9f1-cc18f2fa9062",
   "metadata": {
    "execution": {
     "iopub.execute_input": "2025-05-08T15:30:36.639938Z",
     "iopub.status.busy": "2025-05-08T15:30:36.639643Z",
     "iopub.status.idle": "2025-05-08T15:30:36.644792Z",
     "shell.execute_reply": "2025-05-08T15:30:36.643986Z",
     "shell.execute_reply.started": "2025-05-08T15:30:36.639918Z"
    },
    "tags": []
   },
   "outputs": [],
   "source": [
    "train_loader = DataLoader(train_dataset, batch_size=16, shuffle=True, num_workers=2)\n",
    "val_loader = DataLoader(val_dataset, batch_size=32, shuffle=False, num_workers=2)\n"
   ]
  },
  {
   "cell_type": "code",
   "execution_count": 18,
   "id": "642563ca-8cb7-4029-a485-77bd5307ced0",
   "metadata": {
    "execution": {
     "iopub.execute_input": "2025-05-08T15:30:36.645608Z",
     "iopub.status.busy": "2025-05-08T15:30:36.645440Z",
     "iopub.status.idle": "2025-05-08T15:30:37.033327Z",
     "shell.execute_reply": "2025-05-08T15:30:37.032813Z",
     "shell.execute_reply.started": "2025-05-08T15:30:36.645594Z"
    },
    "tags": []
   },
   "outputs": [
    {
     "name": "stdout",
     "output_type": "stream",
     "text": [
      "Images shape: torch.Size([16, 3, 224, 224])\n",
      "Labels shape: torch.Size([16])\n"
     ]
    }
   ],
   "source": [
    "#驗證資料載入\n",
    "# 驗證一個 batch\n",
    "for images, labels in train_loader:\n",
    "    print(\"Images shape:\", images.shape)  # [B, 3, 224, 224]\n",
    "    print(\"Labels shape:\", labels.shape)  # [B]\n",
    "    break"
   ]
  },
  {
   "cell_type": "code",
   "execution_count": 19,
   "id": "e2d5cb3c-7f1e-44bf-b0cc-5169d3d827d0",
   "metadata": {
    "execution": {
     "iopub.execute_input": "2025-05-08T15:30:37.034156Z",
     "iopub.status.busy": "2025-05-08T15:30:37.033985Z",
     "iopub.status.idle": "2025-05-08T15:30:37.964333Z",
     "shell.execute_reply": "2025-05-08T15:30:37.963678Z",
     "shell.execute_reply.started": "2025-05-08T15:30:37.034140Z"
    },
    "tags": []
   },
   "outputs": [
    {
     "name": "stderr",
     "output_type": "stream",
     "text": [
      "Clipping input data to the valid range for imshow with RGB data ([0..1] for floats or [0..255] for integers).\n"
     ]
    },
    {
     "data": {
      "image/png": "[encoded data removed]",
      "text/plain": [
       "<Figure size 640x480 with 1 Axes>"
      ]
     },
     "metadata": {},
     "output_type": "display_data"
    }
   ],
   "source": [
    "# 如果需要視覺化一個 batch\n",
    "import matplotlib.pyplot as plt\n",
    "def show_batch(loader):\n",
    "    images, labels = next(iter(loader))\n",
    "    img = images[0].permute(1, 2, 0).numpy()\n",
    "    plt.imshow(img)\n",
    "    plt.title(f\"Label: {labels[0]}\")\n",
    "    plt.show()\n",
    "\n",
    "show_batch(train_loader)"
   ]
  },
  {
   "cell_type": "code",
   "execution_count": 20,
   "id": "414540cd-824c-4fd0-8866-2d506f86b17c",
   "metadata": {
    "execution": {
     "iopub.execute_input": "2025-05-08T15:30:37.965441Z",
     "iopub.status.busy": "2025-05-08T15:30:37.965110Z",
     "iopub.status.idle": "2025-05-08T15:30:39.324324Z",
     "shell.execute_reply": "2025-05-08T15:30:39.323814Z",
     "shell.execute_reply.started": "2025-05-08T15:30:37.965424Z"
    },
    "tags": []
   },
   "outputs": [],
   "source": [
    "import torch\n",
    "import torch.nn as nn\n",
    "import torchvision.models as models\n",
    "\n",
    "num_classes = 120  # Dog Breed Identification 有 120 類別\n",
    "device = torch.device(\"cuda\" if torch.cuda.is_available() else \"cpu\")\n",
    "\n",
    "# 載入預訓練模型並修改最後一層\n",
    "model = models.resnet50(weights=models.ResNet50_Weights.DEFAULT)\n",
    "model.fc = nn.Linear(model.fc.in_features, num_classes)\n",
    "\n",
    "# 搬移到裝置（GPU 或 CPU）\n",
    "model = model.to(device)"
   ]
  },
  {
   "cell_type": "code",
   "execution_count": 21,
   "id": "ac519f99-2c79-4f8d-bfb1-0943e5807ca6",
   "metadata": {
    "execution": {
     "iopub.execute_input": "2025-05-08T15:30:39.325937Z",
     "iopub.status.busy": "2025-05-08T15:30:39.325769Z",
     "iopub.status.idle": "2025-05-08T15:30:39.329820Z",
     "shell.execute_reply": "2025-05-08T15:30:39.329407Z",
     "shell.execute_reply.started": "2025-05-08T15:30:39.325923Z"
    },
    "tags": []
   },
   "outputs": [],
   "source": [
    "num_epochs = 10\n",
    "criterion = nn.CrossEntropyLoss(label_smoothing=0.1)\n",
    "\n",
    "optimizer = torch.optim.Adam(model.parameters(), lr=1e-4)\n",
    "scheduler = torch.optim.lr_scheduler.CosineAnnealingLR(optimizer, T_max=num_epochs)\n"
   ]
  },
  {
   "cell_type": "code",
   "execution_count": 22,
   "id": "25cf8137-76e5-484b-95d2-fbf22792cd72",
   "metadata": {
    "execution": {
     "iopub.execute_input": "2025-05-08T15:30:39.330359Z",
     "iopub.status.busy": "2025-05-08T15:30:39.330221Z",
     "iopub.status.idle": "2025-05-08T15:39:48.791877Z",
     "shell.execute_reply": "2025-05-08T15:39:48.790479Z",
     "shell.execute_reply.started": "2025-05-08T15:30:39.330347Z"
    },
    "tags": []
   },
   "outputs": [
    {
     "name": "stdout",
     "output_type": "stream",
     "text": [
      "Epoch 1/10, Loss: 2.6331, Accuracy: 52.76%\n",
      "Validation Loss: 1.5149, Validation Accuracy: 77.10%\n",
      "Epoch 2/10, Loss: 1.5022, Accuracy: 77.95%\n",
      "Validation Loss: 1.3898, Validation Accuracy: 81.26%\n",
      "Epoch 3/10, Loss: 1.2911, Accuracy: 85.01%\n",
      "Validation Loss: 1.3721, Validation Accuracy: 81.31%\n",
      "Epoch 4/10, Loss: 1.1680, Accuracy: 88.65%\n",
      "Validation Loss: 1.3720, Validation Accuracy: 81.07%\n",
      "Epoch 5/10, Loss: 1.0747, Accuracy: 92.26%\n",
      "Validation Loss: 1.3596, Validation Accuracy: 82.39%\n",
      "Epoch 6/10, Loss: 1.0098, Accuracy: 94.56%\n",
      "Validation Loss: 1.3575, Validation Accuracy: 82.24%\n",
      "Epoch 7/10, Loss: 0.9602, Accuracy: 96.21%\n",
      "Validation Loss: 1.3535, Validation Accuracy: 82.29%\n",
      "Epoch 8/10, Loss: 0.9242, Accuracy: 97.54%\n",
      "Validation Loss: 1.3215, Validation Accuracy: 83.51%\n",
      "Epoch 9/10, Loss: 0.9073, Accuracy: 97.95%\n",
      "Validation Loss: 1.3030, Validation Accuracy: 84.25%\n",
      "Epoch 10/10, Loss: 0.8985, Accuracy: 98.42%\n",
      "Validation Loss: 1.3031, Validation Accuracy: 83.76%\n"
     ]
    }
   ],
   "source": [
    "for epoch in range(num_epochs):\n",
    "    model.train()  # 訓練模式\n",
    "    running_loss = 0.0\n",
    "    correct = 0\n",
    "    total = 0\n",
    "\n",
    "    for images, labels in train_loader:\n",
    "        images, labels = images.to(device), labels.to(device)\n",
    "\n",
    "        # 清零梯度\n",
    "        optimizer.zero_grad()\n",
    "\n",
    "        # 前向傳播\n",
    "        outputs = model(images)\n",
    "        loss = criterion(outputs, labels)\n",
    "\n",
    "        # 反向傳播\n",
    "        loss.backward()\n",
    "        optimizer.step()\n",
    "\n",
    "        running_loss += loss.item()\n",
    "\n",
    "        # 計算準確率\n",
    "        _, predicted = torch.max(outputs, 1)\n",
    "        total += labels.size(0)\n",
    "        correct += (predicted == labels).sum().item()\n",
    "\n",
    "    # 更新學習率\n",
    "    scheduler.step()\n",
    "\n",
    "    epoch_loss = running_loss / len(train_loader)\n",
    "    epoch_accuracy = 100 * correct / total\n",
    "\n",
    "    print(f\"Epoch {epoch+1}/{num_epochs}, Loss: {epoch_loss:.4f}, Accuracy: {epoch_accuracy:.2f}%\")\n",
    "\n",
    "    # 在每個 epoch 結束後評估模型在驗證集上的表現\n",
    "    model.eval()  # 評估模式\n",
    "    val_loss = 0.0\n",
    "    correct = 0\n",
    "    total = 0\n",
    "\n",
    "    with torch.no_grad():\n",
    "        for images, labels in val_loader:\n",
    "            images, labels = images.to(device), labels.to(device)\n",
    "\n",
    "            outputs = model(images)\n",
    "            loss = criterion(outputs, labels)\n",
    "\n",
    "            val_loss += loss.item()\n",
    "\n",
    "            _, predicted = torch.max(outputs, 1)\n",
    "            total += labels.size(0)\n",
    "            correct += (predicted == labels).sum().item()\n",
    "\n",
    "    val_loss /= len(val_loader)\n",
    "    val_accuracy = 100 * correct / total\n",
    "\n",
    "    print(f\"Validation Loss: {val_loss:.4f}, Validation Accuracy: {val_accuracy:.2f}%\")\n"
   ]
  },
  {
   "cell_type": "code",
   "execution_count": 23,
   "id": "8d306abf-c908-4307-afa8-ffd890aee88f",
   "metadata": {
    "execution": {
     "iopub.execute_input": "2025-05-08T15:39:48.793093Z",
     "iopub.status.busy": "2025-05-08T15:39:48.792888Z",
     "iopub.status.idle": "2025-05-08T15:39:49.072177Z",
     "shell.execute_reply": "2025-05-08T15:39:49.071130Z",
     "shell.execute_reply.started": "2025-05-08T15:39:48.793074Z"
    },
    "tags": []
   },
   "outputs": [],
   "source": [
    "# 保存訓練後的模型\n",
    "torch.save(model.state_dict(), \"dog_breed_model.pth\")\n"
   ]
  },
  {
   "cell_type": "code",
   "execution_count": 24,
   "id": "bd237980-ad71-4780-8b12-3bf900b5abf9",
   "metadata": {
    "execution": {
     "iopub.execute_input": "2025-05-08T15:39:49.073820Z",
     "iopub.status.busy": "2025-05-08T15:39:49.073385Z",
     "iopub.status.idle": "2025-05-08T15:39:55.150069Z",
     "shell.execute_reply": "2025-05-08T15:39:55.149056Z",
     "shell.execute_reply.started": "2025-05-08T15:39:49.073777Z"
    },
    "tags": []
   },
   "outputs": [
    {
     "name": "stdout",
     "output_type": "stream",
     "text": [
      "Test Accuracy: 82.88%\n"
     ]
    }
   ],
   "source": [
    "# 測試集的評估\n",
    "test_accuracy = 0\n",
    "with torch.no_grad():\n",
    "    for images, labels in val_loader:\n",
    "        images, labels = images.to(device), labels.to(device)\n",
    "\n",
    "        outputs = model(images)\n",
    "        _, predicted = torch.max(outputs, 1)\n",
    "\n",
    "        test_accuracy += (predicted == labels).sum().item()\n",
    "\n",
    "test_accuracy = 100 * test_accuracy / len(val_dataset)\n",
    "print(f\"Test Accuracy: {test_accuracy:.2f}%\")\n",
    "\n",
    "import os"
   ]
  },
  {
   "cell_type": "code",
   "execution_count": 25,
   "id": "7ca7a9f2-4bb1-49ac-a672-b956ac8f78d3",
   "metadata": {
    "execution": {
     "iopub.execute_input": "2025-05-08T15:39:55.151158Z",
     "iopub.status.busy": "2025-05-08T15:39:55.150962Z",
     "iopub.status.idle": "2025-05-08T15:39:55.158560Z",
     "shell.execute_reply": "2025-05-08T15:39:55.157493Z",
     "shell.execute_reply.started": "2025-05-08T15:39:55.151138Z"
    },
    "tags": []
   },
   "outputs": [],
   "source": [
    "from PIL import Image\n",
    "from torch.utils.data import Dataset, DataLoader\n",
    "from torchvision import transforms\n",
    "\n",
    "class TestImageDataset(Dataset):\n",
    "    def __init__(self, image_folder, transform=None):\n",
    "        self.image_folder = image_folder\n",
    "        self.image_filenames = sorted(os.listdir(image_folder))\n",
    "        self.transform = transform\n",
    "\n",
    "    def __len__(self):\n",
    "        return len(self.image_filenames)\n",
    "\n",
    "    def __getitem__(self, idx):\n",
    "        img_name = self.image_filenames[idx]\n",
    "        img_path = os.path.join(self.image_folder, img_name)\n",
    "        image = Image.open(img_path).convert('RGB')\n",
    "        if self.transform:\n",
    "            image = self.transform(image)\n",
    "        return image, img_name.split('.')[0]  # 傳回 image tensor 和 id（"
   ]
  },
  {
   "cell_type": "code",
   "execution_count": 26,
   "id": "b1813979-8cf3-431f-9fad-e31e729a397a",
   "metadata": {
    "execution": {
     "iopub.execute_input": "2025-05-08T15:39:55.159311Z",
     "iopub.status.busy": "2025-05-08T15:39:55.159149Z",
     "iopub.status.idle": "2025-05-08T15:39:55.251050Z",
     "shell.execute_reply": "2025-05-08T15:39:55.249251Z",
     "shell.execute_reply.started": "2025-05-08T15:39:55.159296Z"
    },
    "tags": []
   },
   "outputs": [],
   "source": [
    "# 取得所有類別名稱，需排序以符合 submission 格式\n",
    "all_breeds = sorted(dataset.class_to_idx.keys())\n",
    "\n",
    "# 建立 mapping\n",
    "idx_to_class = {v: k for k, v in dataset.class_to_idx.items()}\n",
    "# 修正 Test transform 使用與訓練相同的 ImageNet 格式\n",
    "test_transform = transforms.Compose([\n",
    "    transforms.Resize((224, 224)),\n",
    "    transforms.ToTensor(),\n",
    "    transforms.Normalize((0.485, 0.456, 0.406),  # 與訓練相同\n",
    "                         (0.229, 0.224, 0.225))\n",
    "])\n",
    "\n",
    "\n",
    "# 設定測試資料夾路徑\n",
    "test_folder = 'dog-breed-identification/test'  # 請確認實際位置\n",
    "\n",
    "# 建立 DataLoader\n",
    "test_dataset = TestImageDataset(test_folder, transform=test_transform)\n",
    "test_loader = DataLoader(test_dataset, batch_size=64, shuffle=False)\n",
    "\n",
    "# 建立 DataFrame 儲存預測結果\n",
    "results = []"
   ]
  },
  {
   "cell_type": "code",
   "execution_count": 27,
   "id": "016331d2-68f7-459b-bdfb-ffaf026869c0",
   "metadata": {
    "execution": {
     "iopub.execute_input": "2025-05-08T15:39:55.253395Z",
     "iopub.status.busy": "2025-05-08T15:39:55.252812Z",
     "iopub.status.idle": "2025-05-08T15:56:11.241108Z",
     "shell.execute_reply": "2025-05-08T15:56:11.239942Z",
     "shell.execute_reply.started": "2025-05-08T15:39:55.253345Z"
    },
    "tags": []
   },
   "outputs": [
    {
     "name": "stdout",
     "output_type": "stream",
     "text": [
      "✅ 使用 TTA 的 submission_tta.csv 已建立，可上傳！\n"
     ]
    }
   ],
   "source": [
    "tta_transforms = [\n",
    "    transforms.Compose([\n",
    "        transforms.Resize((224, 224)),\n",
    "        transforms.ToTensor(),\n",
    "        transforms.Normalize((0.485, 0.456, 0.406),\n",
    "                             (0.229, 0.224, 0.225))\n",
    "    ]),\n",
    "    transforms.Compose([\n",
    "        transforms.Resize((224, 224)),\n",
    "        transforms.RandomHorizontalFlip(p=1.0),\n",
    "        transforms.ToTensor(),\n",
    "        transforms.Normalize((0.485, 0.456, 0.406),\n",
    "                             (0.229, 0.224, 0.225))\n",
    "    ]),\n",
    "    transforms.Compose([\n",
    "        transforms.Resize((224, 224)),\n",
    "        transforms.RandomRotation(degrees=10),\n",
    "        transforms.ToTensor(),\n",
    "        transforms.Normalize((0.485, 0.456, 0.406),\n",
    "                             (0.229, 0.224, 0.225))\n",
    "    ]),\n",
    "]\n",
    "\n",
    "results = []\n",
    "\n",
    "model.eval()\n",
    "with torch.no_grad():\n",
    "    for inputs, image_ids in test_loader:\n",
    "        tta_preds = []\n",
    "\n",
    "        for t in tta_transforms:\n",
    "            augmented = torch.stack([t(transforms.ToPILImage()(img.cpu())) for img in inputs])\n",
    "            augmented = augmented.to(device)\n",
    "\n",
    "            outputs = model(augmented)\n",
    "            probs = torch.softmax(outputs, dim=1)\n",
    "            tta_preds.append(probs)\n",
    "\n",
    "        # 對 TTA 結果取平均\n",
    "        avg_probs = torch.stack(tta_preds).mean(dim=0)\n",
    "\n",
    "        # 找出預測類別\n",
    "        _, preds = torch.max(avg_probs, 1)\n",
    "\n",
    "        for img_id, pred in zip(image_ids, preds.cpu()):\n",
    "            breed = idx_to_class[pred.item()]\n",
    "            row = {\"id\": img_id}\n",
    "            for b in all_breeds:\n",
    "                row[b] = 1 if b == breed else 0\n",
    "            results.append(row)\n",
    "\n",
    "# 輸出 submission 檔案\n",
    "df = pd.DataFrame(results)\n",
    "df.to_csv(\"submission_tta.csv\", index=False)\n",
    "print(\"✅ 使用 TTA 的 submission_tta.csv 已建立，可上傳！\")\n"
   ]
  },
  {
   "cell_type": "code",
   "execution_count": null,
   "id": "628d7fd6-d52e-4336-8f59-3d72d2e9f902",
   "metadata": {},
   "outputs": [],
   "source": []
  }
 ],
 "metadata": {
  "kernelspec": {
   "display_name": "Python 3 (ipykernel)",
   "language": "python",
   "name": "python3"
  },
  "language_info": {
   "codemirror_mode": {
    "name": "ipython",
    "version": 3
   },
   "file_extension": ".py",
   "mimetype": "text/x-python",
   "name": "python",
   "nbconvert_exporter": "python",
   "pygments_lexer": "ipython3",
   "version": "3.9.13"
  }
 },
 "nbformat": 4,
 "nbformat_minor": 5
}
