{
 "cells": [
  {
   "cell_type": "code",
   "execution_count": 1,
   "id": "19dd142d-af4f-4cc4-a737-cb5cf859e92e",
   "metadata": {
    "colab": {
     "referenced_widgets": [
      "11eddfa851a543dd971b0f844c71741b",
      "75d73772b08449fc8602a2c20d214379"
     ]
    },
    "execution": {
     "iopub.execute_input": "2025-06-02T19:26:53.862889Z",
     "iopub.status.busy": "2025-06-02T19:26:53.862405Z",
     "iopub.status.idle": "2025-06-02T19:26:53.955165Z",
     "shell.execute_reply": "2025-06-02T19:26:53.954346Z",
     "shell.execute_reply.started": "2025-06-02T19:26:53.862848Z"
    },
    "id": "19dd142d-af4f-4cc4-a737-cb5cf859e92e",
    "outputId": "0f84b91d-09bf-467b-ef29-7437798f7bb4",
    "tags": []
   },
   "outputs": [
    {
     "data": {
      "application/vnd.jupyter.widget-view+json": {
       "model_id": "a78ac36d2a6b490ea49156fbd321c320",
       "version_major": 2,
       "version_minor": 0
      },
      "text/plain": [
       "FileUpload(value=(), description='Upload')"
      ]
     },
     "metadata": {},
     "output_type": "display_data"
    }
   ],
   "source": [
    "from IPython.display import display\n",
    "import os\n",
    "\n",
    "# 上傳檔案（會跳出檔案選擇器）\n",
    "from ipywidgets import FileUpload\n",
    "\n",
    "upload = FileUpload()\n",
    "display(upload)"
   ]
  },
  {
   "cell_type": "code",
   "execution_count": 2,
   "id": "172906a3-1dd5-4484-a903-2877d1e50ebc",
   "metadata": {
    "execution": {
     "iopub.execute_input": "2025-06-02T19:26:59.723180Z",
     "iopub.status.busy": "2025-06-02T19:26:59.722873Z",
     "iopub.status.idle": "2025-06-02T19:26:59.737451Z",
     "shell.execute_reply": "2025-06-02T19:26:59.736520Z",
     "shell.execute_reply.started": "2025-06-02T19:26:59.723156Z"
    },
    "id": "172906a3-1dd5-4484-a903-2877d1e50ebc",
    "outputId": "d911b214-4fca-45d4-d2b8-aec99db1c24e",
    "tags": []
   },
   "outputs": [
    {
     "name": "stdout",
     "output_type": "stream",
     "text": [
      "{'name': 'kaggle.json', 'type': 'application/json', 'size': 64, 'content': <memory at 0x7aa8ddddfe80>, 'last_modified': datetime.datetime(2025, 4, 21, 6, 7, 11, 972000, tzinfo=datetime.timezone.utc)}\n",
      "kaggle.json 已成功儲存至 /home/jovyan/.kaggle/kaggle.json\n"
     ]
    }
   ],
   "source": [
    "import os\n",
    "from pathlib import Path\n",
    "\n",
    "# 假設你只上傳了一個檔案\n",
    "fileinfo = upload.value[0]  # 通常是一個 dict，含 'name' 和 'content'\n",
    "\n",
    "# 顯示內容結構（除錯用）\n",
    "print(fileinfo)\n",
    "\n",
    "# 儲存 kaggle.json\n",
    "filename = fileinfo['name']\n",
    "content = fileinfo['content']\n",
    "\n",
    "kaggle_dir = Path.home() / \".kaggle\"\n",
    "kaggle_dir.mkdir(exist_ok=True)\n",
    "\n",
    "kaggle_json_path = kaggle_dir / \"kaggle.json\"\n",
    "with open(kaggle_json_path, \"wb\") as f:\n",
    "    f.write(content)\n",
    "\n",
    "# 設定權限（Linux/macOS 建議）\n",
    "os.chmod(kaggle_json_path, 0o600)\n",
    "\n",
    "print(f\"{filename} 已成功儲存至 {kaggle_json_path}\")"
   ]
  },
  {
   "cell_type": "code",
   "execution_count": 3,
   "id": "3d2de460-4d0b-4e79-bc58-a60380a54c99",
   "metadata": {
    "execution": {
     "iopub.execute_input": "2025-06-02T19:26:59.900799Z",
     "iopub.status.busy": "2025-06-02T19:26:59.900568Z",
     "iopub.status.idle": "2025-06-02T19:36:07.983786Z",
     "shell.execute_reply": "2025-06-02T19:36:07.981347Z",
     "shell.execute_reply.started": "2025-06-02T19:26:59.900784Z"
    },
    "tags": []
   },
   "outputs": [
    {
     "name": "stdout",
     "output_type": "stream",
     "text": [
      "Will not apply HSTS. The HSTS database must be a regular and non-world-writable file.\n",
      "ERROR: could not open HSTS store at '/home/jovyan/.wget-hsts'. HSTS will be disabled.\n",
      "--2025-06-02 19:27:00--  http://vision.stanford.edu/aditya86/ImageNetDogs/images.tar\n",
      "Resolving vision.stanford.edu (vision.stanford.edu)... 171.64.68.10\n",
      "Connecting to vision.stanford.edu (vision.stanford.edu)|171.64.68.10|:80... connected.\n",
      "HTTP request sent, awaiting response... 200 OK\n",
      "Length: 793579520 (757M) [application/x-tar]\n",
      "Saving to: ‘images.tar.4’\n",
      "\n",
      "images.tar.4        100%[===================>] 756.82M  4.02MB/s    in 4m 32s  \n",
      "\n",
      "2025-06-02 19:31:32 (2.78 MB/s) - ‘images.tar.4’ saved [793579520/793579520]\n",
      "\n"
     ]
    }
   ],
   "source": [
    "!wget http://vision.stanford.edu/aditya86/ImageNetDogs/images.tar\n",
    "!tar -xf images.tar\n"
   ]
  },
  {
   "cell_type": "code",
   "execution_count": 4,
   "id": "2e5fb396-b2e8-4b41-a76c-81dcd0626c01",
   "metadata": {
    "execution": {
     "iopub.execute_input": "2025-06-02T19:36:07.988108Z",
     "iopub.status.busy": "2025-06-02T19:36:07.987480Z",
     "iopub.status.idle": "2025-06-02T19:36:08.703227Z",
     "shell.execute_reply": "2025-06-02T19:36:08.702283Z",
     "shell.execute_reply.started": "2025-06-02T19:36:07.988043Z"
    },
    "id": "2e5fb396-b2e8-4b41-a76c-81dcd0626c01",
    "outputId": "64f9492c-0a04-4d31-f780-42ba9524b19b",
    "tags": []
   },
   "outputs": [],
   "source": [
    "import os\n",
    "import zipfile\n",
    "\n",
    "import pandas as pd\n",
    "\n",
    "labels = pd.read_csv('dog-breed-identification/labels.csv')\n",
    "\n",
    "import numpy as np\n"
   ]
  },
  {
   "cell_type": "code",
   "execution_count": 5,
   "id": "42ef42b4-5ccf-4e19-a643-5482cf42b057",
   "metadata": {
    "execution": {
     "iopub.execute_input": "2025-06-02T19:36:08.704199Z",
     "iopub.status.busy": "2025-06-02T19:36:08.703970Z",
     "iopub.status.idle": "2025-06-02T19:37:40.570240Z",
     "shell.execute_reply": "2025-06-02T19:37:40.569068Z",
     "shell.execute_reply.started": "2025-06-02T19:36:08.704178Z"
    },
    "tags": []
   },
   "outputs": [
    {
     "name": "stdout",
     "output_type": "stream",
     "text": [
      "✔️ 已合併 Stanford Dogs 圖片：20580 張，匹配品種數：120\n"
     ]
    }
   ],
   "source": [
    "import os\n",
    "import shutil\n",
    "\n",
    "def convert_stanford_images(stanford_dir, output_dir):\n",
    "    if not os.path.exists(stanford_dir):\n",
    "        raise FileNotFoundError(f\"Stanford 目錄不存在：{stanford_dir}\")\n",
    "    \n",
    "    added_count = 0\n",
    "    matched_breeds = 0\n",
    "    for folder in os.listdir(stanford_dir):\n",
    "        folder_path = os.path.join(stanford_dir, folder)\n",
    "        if not os.path.isdir(folder_path):\n",
    "            continue\n",
    "\n",
    "        # 解析品種名稱：n02085782-Japanese_spaniel → japanese_spaniel\n",
    "        if \"-\" in folder:\n",
    "            breed = folder.split(\"-\", 1)[1].lower().replace(\" \", \"_\")\n",
    "            target_dir = os.path.join(output_dir, breed)\n",
    "\n",
    "            if os.path.exists(target_dir):\n",
    "                os.makedirs(target_dir, exist_ok=True)\n",
    "                matched_breeds += 1\n",
    "                for img_file in os.listdir(folder_path):\n",
    "                    if img_file.lower().endswith(\".jpg\"):\n",
    "                        src = os.path.join(folder_path, img_file)\n",
    "                        dst = os.path.join(target_dir, f\"stanford_{img_file}\")\n",
    "                        shutil.copyfile(src, dst)\n",
    "                        added_count += 1\n",
    "\n",
    "    print(f\"✔️ 已合併 Stanford Dogs 圖片：{added_count} 張，匹配品種數：{matched_breeds}\")\n",
    "\n",
    "# 執行整合\n",
    "convert_stanford_images(\"Images\", \"dog_images/train\")\n"
   ]
  },
  {
   "cell_type": "code",
   "execution_count": 6,
   "id": "3f4b9bb5-c29b-4a16-9f78-2f86a431b436",
   "metadata": {
    "execution": {
     "iopub.execute_input": "2025-06-02T19:37:40.572632Z",
     "iopub.status.busy": "2025-06-02T19:37:40.572348Z",
     "iopub.status.idle": "2025-06-02T19:37:40.580761Z",
     "shell.execute_reply": "2025-06-02T19:37:40.579882Z",
     "shell.execute_reply.started": "2025-06-02T19:37:40.572587Z"
    },
    "tags": []
   },
   "outputs": [
    {
     "name": "stdout",
     "output_type": "stream",
     "text": [
      "✅ Matched: ['bloodhound', 'doberman', 'african_hunting_dog', 'japanese_spaniel', 'keeshond', 'shetland_sheepdog', 'brittany_spaniel', 'weimaraner', 'welsh_springer_spaniel', 'lhasa', 'kuvasz', 'dingo', 'pembroke', 'greater_swiss_mountain_dog', 'giant_schnauzer', 'bernese_mountain_dog', 'clumber', 'lakeland_terrier', 'kerry_blue_terrier', 'afghan_hound', 'pug', 'australian_terrier', 'saint_bernard', 'pekinese', 'whippet', 'scotch_terrier', 'standard_schnauzer', 'bedlington_terrier', 'vizsla', 'mexican_hairless', 'redbone', 'beagle', 'irish_wolfhound', 'basenji', 'groenendael', 'irish_setter', 'chesapeake_bay_retriever', 'gordon_setter', 'collie', 'appenzeller', 'affenpinscher', 'walker_hound', 'papillon', 'american_staffordshire_terrier', 'golden_retriever', 'boston_bull', 'malamute', 'otterhound', 'staffordshire_bullterrier', 'german_shepherd', 'scottish_deerhound', 'irish_water_spaniel', 'miniature_pinscher', 'tibetan_terrier', 'yorkshire_terrier', 'toy_terrier', 'brabancon_griffon', 'sealyham_terrier', 'briard', 'newfoundland', 'entlebucher', 'great_pyrenees', 'malinois', 'boxer', 'cairn', 'pomeranian', 'dandie_dinmont', 'english_setter', 'cardigan', 'norfolk_terrier', 'leonberg', 'maltese_dog', 'eskimo_dog', 'french_bulldog', 'rottweiler', 'samoyed', 'toy_poodle', 'dhole', 'tibetan_mastiff', 'bluetick', 'chow', 'chihuahua', 'bull_mastiff', 'rhodesian_ridgeback', 'border_terrier', 'standard_poodle', 'labrador_retriever', 'norwegian_elkhound', 'english_springer', 'norwich_terrier', 'silky_terrier', 'miniature_schnauzer', 'old_english_sheepdog', 'italian_greyhound', 'great_dane', 'miniature_poodle', 'west_highland_white_terrier', 'kelpie', 'komondor', 'schipperke', 'blenheim_spaniel', 'sussex_spaniel', 'basset', 'bouvier_des_flandres', 'borzoi', 'siberian_husky', 'border_collie', 'airedale', 'ibizan_hound', 'saluki', 'english_foxhound', 'irish_terrier', 'cocker_spaniel']\n",
      "❌ Unmatched: ['soft', 'curly', 'wire', 'black', 'shih', 'flat', 'german_short']\n"
     ]
    }
   ],
   "source": [
    "kaggle_breeds = set(os.listdir(\"dog_images/train\"))\n",
    "stanford_folders = os.listdir(\"Images\")\n",
    "\n",
    "matched = []\n",
    "unmatched = []\n",
    "\n",
    "for folder in stanford_folders:\n",
    "    if \"-\" in folder:\n",
    "        breed = folder.split(\"-\")[1].lower().replace(\" \", \"_\")\n",
    "        if breed in kaggle_breeds:\n",
    "            matched.append(breed)\n",
    "        else:\n",
    "            unmatched.append(breed)\n",
    "\n",
    "print(\"✅ Matched:\", matched)\n",
    "print(\"❌ Unmatched:\", unmatched)\n"
   ]
  },
  {
   "cell_type": "code",
   "execution_count": 7,
   "id": "f715c0ee-2144-48d4-a2e1-9c11c3d83c35",
   "metadata": {
    "execution": {
     "iopub.execute_input": "2025-06-02T19:37:40.581512Z",
     "iopub.status.busy": "2025-06-02T19:37:40.581308Z",
     "iopub.status.idle": "2025-06-02T19:37:40.598725Z",
     "shell.execute_reply": "2025-06-02T19:37:40.597889Z",
     "shell.execute_reply.started": "2025-06-02T19:37:40.581492Z"
    },
    "tags": []
   },
   "outputs": [
    {
     "name": "stdout",
     "output_type": "stream",
     "text": [
      "✅ Matched breeds:\n",
      "- bloodhound\n",
      "- doberman\n",
      "- african_hunting_dog\n",
      "- japanese_spaniel\n",
      "- keeshond\n",
      "- shetland_sheepdog\n",
      "- brittany_spaniel\n",
      "- weimaraner\n",
      "- welsh_springer_spaniel\n",
      "- lhasa\n",
      "- kuvasz\n",
      "- dingo\n",
      "- pembroke\n",
      "- bernese_mountain_dog\n",
      "- clumber\n",
      "- lakeland_terrier\n",
      "- kerry_blue_terrier\n",
      "- afghan_hound\n",
      "- pug\n",
      "- australian_terrier\n",
      "- saint_bernard\n",
      "- pekinese\n",
      "- whippet\n",
      "- scotch_terrier\n",
      "- standard_schnauzer\n",
      "- bedlington_terrier\n",
      "- vizsla\n",
      "- mexican_hairless\n",
      "- redbone\n",
      "- beagle\n",
      "- irish_wolfhound\n",
      "- basenji\n",
      "- groenendael\n",
      "- irish_setter\n",
      "- chesapeake_bay_retriever\n",
      "- gordon_setter\n",
      "- collie\n",
      "- appenzeller\n",
      "- affenpinscher\n",
      "- walker_hound\n",
      "- papillon\n",
      "- american_staffordshire_terrier\n",
      "- boston_bull\n",
      "- malamute\n",
      "- otterhound\n",
      "- staffordshire_bullterrier\n",
      "- german_shepherd\n",
      "- scottish_deerhound\n",
      "- tibetan_terrier\n",
      "- yorkshire_terrier\n",
      "- toy_terrier\n",
      "- brabancon_griffon\n",
      "- sealyham_terrier\n",
      "- briard\n",
      "- newfoundland\n",
      "- entlebucher\n",
      "- great_pyrenees\n",
      "- malinois\n",
      "- boxer\n",
      "- cairn\n",
      "- pomeranian\n",
      "- dandie_dinmont\n",
      "- english_setter\n",
      "- cardigan\n",
      "- norfolk_terrier\n",
      "- leonberg\n",
      "- maltese_dog\n",
      "- eskimo_dog\n",
      "- french_bulldog\n",
      "- rottweiler\n",
      "- samoyed\n",
      "- toy_poodle\n",
      "- dhole\n",
      "- tibetan_mastiff\n",
      "- chow\n",
      "- chihuahua\n",
      "- bull_mastiff\n",
      "- rhodesian_ridgeback\n",
      "- border_terrier\n",
      "- standard_poodle\n",
      "- labrador_retriever\n",
      "- norwegian_elkhound\n",
      "- english_springer\n",
      "- norwich_terrier\n",
      "- silky_terrier\n",
      "- miniature_schnauzer\n",
      "- old_english_sheepdog\n",
      "- italian_greyhound\n",
      "- great_dane\n",
      "- miniature_poodle\n",
      "- west_highland_white_terrier\n",
      "- kelpie\n",
      "- komondor\n",
      "- schipperke\n",
      "- blenheim_spaniel\n",
      "- sussex_spaniel\n",
      "- basset\n",
      "- bouvier_des_flandres\n",
      "- borzoi\n",
      "- siberian_husky\n",
      "- border_collie\n",
      "- airedale\n",
      "- ibizan_hound\n",
      "- saluki\n",
      "- english_foxhound\n",
      "- irish_terrier\n",
      "- cocker_spaniel\n"
     ]
    }
   ],
   "source": [
    "# 你的抓取標籤（示範）\n",
    "labels = [\n",
    "    'bloodhound', 'doberman', 'african_hunting_dog', 'japanese_spaniel', 'keeshond',\n",
    "    'shetland_sheepdog', 'brittany_spaniel', 'weimaraner', 'welsh_springer_spaniel', 'lhasa',\n",
    "    'kuvasz', 'dingo', 'pembroke', 'greater_swiss_mountain_dog', 'giant_schnauzer',\n",
    "    'bernese_mountain_dog', 'clumber', 'lakeland_terrier', 'kerry_blue_terrier', 'afghan_hound',\n",
    "    'pug', 'australian_terrier', 'saint_bernard', 'pekinese', 'whippet',\n",
    "    'scotch_terrier', 'standard_schnauzer', 'bedlington_terrier', 'vizsla', 'mexican_hairless',\n",
    "    'redbone', 'beagle', 'irish_wolfhound', 'basenji', 'groenendael',\n",
    "    'irish_setter', 'chesapeake_bay_retriever', 'gordon_setter', 'collie', 'appenzeller',\n",
    "    'affenpinscher', 'walker_hound', 'papillon', 'american_staffordshire_terrier', 'golden_retriever',\n",
    "    'boston_bull', 'malamute', 'otterhound', 'staffordshire_bullterrier', 'german_shepherd',\n",
    "    'scottish_deerhound', 'irish_water_spaniel', 'miniature_pinscher', 'tibetan_terrier', 'yorkshire_terrier',\n",
    "    'toy_terrier', 'brabancon_griffon', 'sealyham_terrier', 'briard', 'newfoundland',\n",
    "    'entlebucher', 'great_pyrenees', 'malinois', 'boxer', 'cairn',\n",
    "    'pomeranian', 'dandie_dinmont', 'english_setter', 'cardigan', 'norfolk_terrier',\n",
    "    'leonberg', 'maltese_dog', 'eskimo_dog', 'french_bulldog', 'rottweiler',\n",
    "    'samoyed', 'toy_poodle', 'dhole', 'tibetan_mastiff', 'bluetick',\n",
    "    'chow', 'chihuahua', 'bull_mastiff', 'rhodesian_ridgeback', 'border_terrier',\n",
    "    'standard_poodle', 'labrador_retriever', 'norwegian_elkhound', 'english_springer', 'norwich_terrier',\n",
    "    'silky_terrier', 'miniature_schnauzer', 'old_english_sheepdog', 'italian_greyhound', 'great_dane',\n",
    "    'miniature_poodle', 'west_highland_white_terrier', 'kelpie', 'komondor', 'schipperke',\n",
    "    'blenheim_spaniel', 'sussex_spaniel', 'basset', 'bouvier_des_flandres', 'borzoi',\n",
    "    'siberian_husky', 'border_collie', 'airedale', 'ibizan_hound', 'saluki',\n",
    "    'english_foxhound', 'irish_terrier', 'cocker_spaniel',\n",
    "    # 以下不是品種，留著供篩選用\n",
    "    'soft', 'curly', 'wire', 'black', 'shih', 'flat', 'german_short'\n",
    "]\n",
    "\n",
    "# 官方 Stanford Dogs 品種列表 (示範，完整約120品種，這裡你可自行補充)\n",
    "official_breeds = [\n",
    "    \"affenpinscher\", \"afghan_hound\", \"african_hunting_dog\", \"airedale\", \"american_staffordshire_terrier\",\n",
    "    \"appenzeller\", \"australian_terrier\", \"basenji\", \"basset\", \"beagle\",\n",
    "    \"bedlington_terrier\", \"bernese_mountain_dog\", \"black-and-tan_coonhound\", \"blenheim_spaniel\",\n",
    "    \"bloodhound\", \"border_collie\", \"border_terrier\", \"borzoi\", \"boston_bull\",\n",
    "    \"bouvier_des_flandres\", \"boxer\", \"brabancon_griffon\", \"briard\", \"brittany_spaniel\",\n",
    "    \"bull_mastiff\", \"cairn\", \"cardigan\", \"chesapeake_bay_retriever\", \"chihuahua\",\n",
    "    \"chow\", \"clumber\", \"cocker_spaniel\", \"collie\", \"curly-coated_retriever\",\n",
    "    \"dandie_dinmont\", \"dhole\", \"dingo\", \"doberman\", \"english_foxhound\",\n",
    "    \"english_setter\", \"english_springer\", \"entlebucher\", \"eskimo_dog\", \"flat-coated_retriever\",\n",
    "    \"french_bulldog\", \"german_shepherd\", \"gordon_setter\", \"great_dane\", \"great_pyrenees\",\n",
    "    \"groenendael\", \"ibizan_hound\", \"irish_setter\", \"irish_terrier\", \"irish_wolfhound\",\n",
    "    \"italian_greyhound\", \"japanese_spaniel\", \"keeshond\", \"kelpie\", \"kerry_blue_terrier\",\n",
    "    \"komondor\", \"kuvasz\", \"labrador_retriever\", \"lakeland_terrier\", \"leonberg\",\n",
    "    \"lhasa\", \"malamute\", \"malinois\", \"maltese_dog\", \"mexican_hairless\",\n",
    "    \"miniature_poodle\", \"miniature_schnauzer\", \"newfoundland\", \"norfolk_terrier\",\n",
    "    \"norwegian_elkhound\", \"norwich_terrier\", \"old_english_sheepdog\", \"otterhound\",\n",
    "    \"papillon\", \"pekinese\", \"pembroke\", \"pomeranian\", \"pug\",\n",
    "    \"redbone\", \"rhodesian_ridgeback\", \"rottweiler\", \"saint_bernard\", \"saluki\",\n",
    "    \"samoyed\", \"schipperke\", \"scotch_terrier\", \"scottish_deerhound\", \"sealyham_terrier\",\n",
    "    \"shetland_sheepdog\", \"shih-tzu\", \"siberian_husky\", \"silky_terrier\", \"soft-coated_wheaten_terrier\",\n",
    "    \"staffordshire_bullterrier\", \"standard_poodle\", \"standard_schnauzer\", \"sussex_spaniel\",\n",
    "    \"tibetan_mastiff\", \"tibetan_terrier\", \"toy_poodle\", \"toy_terrier\", \"vizsla\",\n",
    "    \"walker_hound\", \"weimaraner\", \"welsh_springer_spaniel\", \"west_highland_white_terrier\",\n",
    "    \"whippet\", \"wire-haired_fox_terrier\", \"yorkshire_terrier\"\n",
    "]\n",
    "\n",
    "# 篩選只留下官方品種\n",
    "matched_breeds = [label for label in labels if label in official_breeds]\n",
    "\n",
    "print(\"✅ Matched breeds:\")\n",
    "for breed in matched_breeds:\n",
    "    print(\"-\", breed)\n"
   ]
  },
  {
   "cell_type": "code",
   "execution_count": 8,
   "id": "730c9a46-2b61-48be-b907-137ded3ab21d",
   "metadata": {
    "execution": {
     "iopub.execute_input": "2025-06-02T19:37:40.599587Z",
     "iopub.status.busy": "2025-06-02T19:37:40.599379Z",
     "iopub.status.idle": "2025-06-02T19:37:46.773071Z",
     "shell.execute_reply": "2025-06-02T19:37:46.772015Z",
     "shell.execute_reply.started": "2025-06-02T19:37:40.599567Z"
    },
    "id": "730c9a46-2b61-48be-b907-137ded3ab21d",
    "outputId": "d070fd97-2a6f-4236-ba8a-df78c879d52a",
    "tags": []
   },
   "outputs": [
    {
     "name": "stderr",
     "output_type": "stream",
     "text": [
      "100%|██████████| 10222/10222 [00:05<00:00, 2025.19it/s]\n"
     ]
    }
   ],
   "source": [
    "import os\n",
    "import shutil\n",
    "import pandas as pd\n",
    "from PIL import Image\n",
    "from tqdm import tqdm\n",
    "# 讀取標籤\n",
    "labels = pd.read_csv('dog-breed-identification/labels.csv')\n",
    "# 建立目標輸出資料夾\n",
    "output_dir = \"dog_images\"\n",
    "train_dir = os.path.join(output_dir, \"train\")\n",
    "os.makedirs(train_dir, exist_ok=True)\n",
    "\n",
    "def organize_kaggle_images(labels_csv, kaggle_img_dir, output_dir):\n",
    "    labels = pd.read_csv(labels_csv)\n",
    "    os.makedirs(output_dir, exist_ok=True)\n",
    "\n",
    "    for idx, row in tqdm(labels.iterrows(), total=len(labels)):\n",
    "        img_id = row['id']\n",
    "        breed = row['breed']\n",
    "        src_path = os.path.join(kaggle_img_dir, img_id + \".jpg\")\n",
    "        breed_dir = os.path.join(output_dir, breed)\n",
    "        os.makedirs(breed_dir, exist_ok=True)\n",
    "        dst_path = os.path.join(breed_dir, img_id + \".jpg\")\n",
    "        if os.path.exists(src_path) and not os.path.exists(dst_path):\n",
    "            shutil.copyfile(src_path, dst_path)\n",
    "def organize_stanford_images(stanford_dir, output_dir, kaggle_breeds_set):\n",
    "    for folder in os.listdir(stanford_dir):\n",
    "        folder_path = os.path.join(stanford_dir, folder)\n",
    "        if \"-\" in folder:\n",
    "            breed = folder.split(\"-\")[1].lower()  # 取第二段並小寫\n",
    "            breed = breed.replace(\" \", \"_\")\n",
    "\n",
    "            # 只複製有在 Kaggle 資料集裡的品種，避免新增不相關品種\n",
    "            if breed in kaggle_breeds_set:\n",
    "                breed_dir = os.path.join(output_dir, breed)\n",
    "                os.makedirs(breed_dir, exist_ok=True)\n",
    "\n",
    "                for img_file in os.listdir(folder_path):\n",
    "                    src = os.path.join(folder_path, img_file)\n",
    "                    dst = os.path.join(breed_dir, f\"stanford_{img_file}\")\n",
    "                    if not os.path.exists(dst):\n",
    "                        shutil.copyfile(src, dst)\n",
    "kaggle_labels_csv = \"dog-breed-identification/labels.csv\"\n",
    "kaggle_img_dir = \"dog-breed-identification/train\"\n",
    "output_dir = \"dog_images/train\"\n",
    "\n",
    "# 讀取 Kaggle 品種名稱集合\n",
    "kaggle_labels = pd.read_csv(kaggle_labels_csv)\n",
    "kaggle_breeds_set = set(kaggle_labels['breed'].unique())\n",
    "\n",
    "# 整理 Kaggle 圖片\n",
    "organize_kaggle_images(kaggle_labels_csv, kaggle_img_dir, output_dir)\n",
    "\n",
    "# 整理 Stanford Dogs 圖片，前提是你已經解壓 Stanford Dogs 到 Images/ 資料夾\n",
    "stanford_dir = \"Images\"\n",
    "organize_stanford_images(stanford_dir, output_dir, kaggle_breeds_set)\n"
   ]
  },
  {
   "cell_type": "code",
   "execution_count": 9,
   "id": "53fafafb-66d1-417b-9603-84097d9b4686",
   "metadata": {
    "execution": {
     "iopub.execute_input": "2025-06-02T19:37:46.774294Z",
     "iopub.status.busy": "2025-06-02T19:37:46.774043Z",
     "iopub.status.idle": "2025-06-02T19:37:48.055262Z",
     "shell.execute_reply": "2025-06-02T19:37:48.054282Z",
     "shell.execute_reply.started": "2025-06-02T19:37:46.774273Z"
    },
    "id": "53fafafb-66d1-417b-9603-84097d9b4686",
    "tags": []
   },
   "outputs": [],
   "source": [
    "import os\n",
    "from torch.utils.data import Dataset, ConcatDataset, random_split, DataLoader, WeightedRandomSampler\n",
    "from PIL import Image\n",
    "from collections import Counter\n",
    "import torch\n",
    "from torchvision import transforms\n",
    "root_dir = \"dog_images/train\"\n",
    "\n",
    "# 建立 class_to_idx\n",
    "class_names = sorted([d for d in os.listdir(root_dir) if os.path.isdir(os.path.join(root_dir, d))])\n",
    "class_to_idx = {cls_name: idx for idx, cls_name in enumerate(class_names)}\n",
    "\n",
    "# 自訂 Dataset，接受 class_to_idx 參數\n",
    "class DogBreedImageFolder(Dataset):\n",
    "    def __init__(self, root_dir, class_to_idx, transform=None):\n",
    "        self.root_dir = root_dir\n",
    "        self.transform = transform\n",
    "        self.image_paths = []\n",
    "        self.labels = []\n",
    "        self.class_to_idx = class_to_idx\n",
    "\n",
    "        for class_name in class_to_idx.keys():\n",
    "            class_folder = os.path.join(root_dir, class_name)\n",
    "            if not os.path.isdir(class_folder):\n",
    "                continue\n",
    "            for filename in os.listdir(class_folder):\n",
    "                if filename.endswith(('.jpg', '.png')):\n",
    "                    self.image_paths.append(os.path.join(class_folder, filename))\n",
    "                    self.labels.append(class_to_idx[class_name])\n",
    "\n",
    "    def __len__(self):\n",
    "        return len(self.image_paths)\n",
    "\n",
    "    def __getitem__(self, idx):\n",
    "        img_path = self.image_paths[idx]\n",
    "        label = self.labels[idx]\n",
    "        image = Image.open(img_path).convert(\"RGB\")\n",
    "        if self.transform:\n",
    "            image = self.transform(image)\n",
    "        return image, label\n"
   ]
  },
  {
   "cell_type": "code",
   "execution_count": 10,
   "id": "dbbeeba0-bf0d-4bd6-9a0d-970074bdae22",
   "metadata": {
    "execution": {
     "iopub.execute_input": "2025-06-02T19:37:48.056265Z",
     "iopub.status.busy": "2025-06-02T19:37:48.055985Z",
     "iopub.status.idle": "2025-06-02T19:37:48.063205Z",
     "shell.execute_reply": "2025-06-02T19:37:48.062282Z",
     "shell.execute_reply.started": "2025-06-02T19:37:48.056244Z"
    },
    "id": "dbbeeba0-bf0d-4bd6-9a0d-970074bdae22",
    "tags": []
   },
   "outputs": [],
   "source": [
    "# 定義 Transform\n",
    "from torchvision.transforms import RandomResizedCrop, RandomHorizontalFlip, ColorJitter, RandomRotation, ToTensor, Normalize\n",
    "\n",
    "train_transform = transforms.Compose([\n",
    "    transforms.RandomHorizontalFlip(),\n",
    "    transforms.RandomRotation(10),\n",
    "    transforms.ColorJitter(brightness=0.3, contrast=0.3, saturation=0.3),\n",
    "    transforms.ToTensor(),\n",
    "    transforms.Normalize((0.485, 0.456, 0.406),  # 使用 ImageNet 的 mean/std\n",
    "                         (0.229, 0.224, 0.225)),\n",
    "])\n",
    "\n",
    "\n",
    "test_transform = transforms.Compose([\n",
    "    transforms.Resize((320, 320)),\n",
    "    transforms.ToTensor(),\n",
    "    transforms.Normalize((0.485, 0.456, 0.406), (0.229, 0.224, 0.225))\n",
    "])"
   ]
  },
  {
   "cell_type": "code",
   "execution_count": 11,
   "id": "23347d9e-a207-46c7-991b-7b7c9043c443",
   "metadata": {
    "execution": {
     "iopub.execute_input": "2025-06-02T19:37:48.064311Z",
     "iopub.status.busy": "2025-06-02T19:37:48.064080Z",
     "iopub.status.idle": "2025-06-02T19:37:48.207216Z",
     "shell.execute_reply": "2025-06-02T19:37:48.206279Z",
     "shell.execute_reply.started": "2025-06-02T19:37:48.064290Z"
    },
    "id": "23347d9e-a207-46c7-991b-7b7c9043c443",
    "outputId": "0549e703-37c9-4126-aeb8-c7ccbd15c6e5",
    "tags": []
   },
   "outputs": [
    {
     "name": "stdout",
     "output_type": "stream",
     "text": [
      "Train label distribution: Counter({1: 291, 97: 289, 73: 284, 11: 267, 100: 267, 69: 265, 87: 262, 94: 262, 42: 261, 59: 256, 88: 252, 3: 251, 7: 250, 26: 250, 52: 249, 109: 243, 98: 243, 68: 243, 93: 239, 80: 239, 13: 239, 9: 236, 61: 235, 55: 232, 35: 230, 101: 229, 30: 229, 70: 228, 117: 228, 6: 227, 10: 225, 60: 225, 75: 223, 84: 223, 78: 219, 102: 218, 14: 217, 71: 215, 86: 214, 8: 212, 17: 209, 82: 209, 79: 207, 53: 206, 111: 206, 90: 206, 19: 205, 15: 204, 28: 203, 40: 202, 64: 202, 37: 200, 2: 199, 67: 199, 81: 198, 32: 197, 57: 196, 116: 196, 92: 196, 20: 196, 105: 194, 62: 194, 119: 194, 18: 193, 4: 192, 39: 192, 76: 192, 104: 191, 58: 190, 25: 190, 103: 189, 41: 189, 56: 189, 38: 189, 74: 189, 77: 188, 33: 187, 27: 187, 95: 186, 0: 186, 63: 186, 113: 186, 24: 185, 115: 185, 47: 185, 50: 185, 99: 185, 118: 184, 107: 184, 96: 184, 51: 183, 45: 183, 89: 182, 110: 182, 83: 181, 12: 181, 5: 181, 34: 181, 106: 180, 85: 180, 44: 180, 48: 180, 31: 179, 29: 178, 66: 178, 43: 178, 54: 177, 36: 176, 23: 175, 114: 175, 22: 175, 72: 173, 112: 173, 108: 172, 21: 171, 91: 170, 65: 170, 49: 169, 46: 167, 16: 159})\n",
      "Val label distribution: Counter({73: 85, 52: 75, 6: 71, 114: 70, 109: 70, 7: 69, 97: 69, 84: 69, 87: 68, 78: 67, 81: 65, 94: 65, 11: 65, 19: 64, 9: 64, 1: 64, 75: 63, 16: 63, 59: 63, 93: 60, 30: 60, 64: 59, 86: 59, 100: 59, 3: 58, 91: 58, 92: 58, 101: 58, 96: 56, 67: 56, 2: 56, 42: 56, 54: 55, 102: 55, 12: 55, 21: 55, 57: 55, 61: 55, 14: 55, 118: 55, 90: 54, 17: 54, 117: 54, 56: 54, 46: 54, 116: 54, 95: 54, 63: 53, 68: 53, 26: 53, 33: 53, 119: 52, 15: 52, 80: 52, 31: 51, 13: 51, 69: 51, 65: 51, 112: 51, 39: 51, 36: 50, 72: 50, 50: 49, 110: 49, 108: 49, 60: 49, 99: 48, 5: 48, 79: 48, 49: 48, 51: 48, 70: 48, 82: 47, 28: 47, 98: 47, 55: 47, 106: 47, 48: 46, 10: 46, 74: 46, 4: 46, 45: 46, 22: 45, 41: 45, 8: 45, 107: 45, 62: 45, 29: 45, 111: 45, 27: 44, 115: 44, 71: 44, 105: 44, 44: 44, 53: 44, 85: 44, 77: 44, 0: 44, 23: 43, 104: 43, 66: 43, 88: 42, 34: 42, 40: 42, 76: 42, 47: 42, 25: 41, 24: 40, 20: 40, 83: 39, 35: 39, 58: 38, 103: 38, 89: 38, 43: 38, 113: 36, 32: 36, 37: 36, 38: 35, 18: 33})\n"
     ]
    }
   ],
   "source": [
    "# 建立 Dataset 與切分\n",
    "from torch.utils.data import random_split, DataLoader, WeightedRandomSampler\n",
    "import collections\n",
    "from collections import Counter\n",
    "\n",
    "# 讀取分類後資料\n",
    "dataset = DogBreedImageFolder(root_dir=root_dir, class_to_idx=class_to_idx, transform=train_transform)\n",
    "\n",
    "# 計算資料數量與切分比例\n",
    "val_ratio = 0.2\n",
    "val_size = int(len(dataset) * val_ratio)\n",
    "train_size = len(dataset) - val_size\n",
    "train_dataset, val_dataset = random_split(dataset, [train_size, val_size])\n",
    "\n",
    "# 取得 training set 的原始 indices\n",
    "train_indices = train_dataset.indices  # 是 dataset 中對應的索引\n",
    "train_labels = [dataset.labels[i] for i in train_indices]\n",
    "\n",
    "# 計算類別樣本數與每個 sample 權重\n",
    "label_counts = Counter(train_labels)\n",
    "class_sample_counts = [label_counts[i] for i in range(len(label_counts))]\n",
    "sample_weights = [1.0 / class_sample_counts[label] for label in train_labels]\n",
    "\n",
    "# 建立 WeightedRandomSampler\n",
    "sampler = WeightedRandomSampler(weights=sample_weights, num_samples=len(sample_weights), replacement=True)\n",
    "\n",
    "# 建立 DataLoader（train 用 sampler, val 用 shuffle=False）\n",
    "train_loader = DataLoader(train_dataset, batch_size=16, sampler=sampler, num_workers=2)\n",
    "val_loader = DataLoader(val_dataset, batch_size=32, shuffle=False, num_workers=2)\n",
    "\n",
    "# 顯示類別分布（驗證分布仍可看是否合理）\n",
    "val_labels = [dataset.labels[i] for i in val_dataset.indices]\n",
    "print(\"Train label distribution:\", Counter(train_labels))\n",
    "print(\"Val label distribution:\", Counter(val_labels))\n",
    "#這是調平衡的"
   ]
  },
  {
   "cell_type": "code",
   "execution_count": 12,
   "id": "fa598f16-152c-4df2-9790-80a2647e4758",
   "metadata": {
    "execution": {
     "iopub.execute_input": "2025-06-02T19:37:48.210116Z",
     "iopub.status.busy": "2025-06-02T19:37:48.209887Z",
     "iopub.status.idle": "2025-06-02T19:37:48.215928Z",
     "shell.execute_reply": "2025-06-02T19:37:48.215039Z",
     "shell.execute_reply.started": "2025-06-02T19:37:48.210095Z"
    },
    "id": "fa598f16-152c-4df2-9790-80a2647e4758",
    "tags": []
   },
   "outputs": [],
   "source": [
    "from torchvision import transforms\n",
    "from PIL import Image\n",
    "\n",
    "def collate_with_resize(batch, image_size):\n",
    "    images, labels = zip(*batch)\n",
    "    transform = transforms.Compose([\n",
    "        transforms.Resize((image_size, image_size)),  # 直接縮放 tensor\n",
    "    ])\n",
    "    images = [transform(img) if isinstance(img, torch.Tensor) else transform(transforms.ToTensor()(img)) for img in images]\n",
    "    return torch.stack(images), torch.tensor(labels)\n"
   ]
  },
  {
   "cell_type": "code",
   "execution_count": 13,
   "id": "d81ac95f-a572-4dc2-9587-f3ee8af1a2bd",
   "metadata": {
    "execution": {
     "iopub.execute_input": "2025-06-02T19:37:48.216922Z",
     "iopub.status.busy": "2025-06-02T19:37:48.216674Z",
     "iopub.status.idle": "2025-06-02T19:37:50.011827Z",
     "shell.execute_reply": "2025-06-02T19:37:50.011158Z",
     "shell.execute_reply.started": "2025-06-02T19:37:48.216901Z"
    },
    "id": "d81ac95f-a572-4dc2-9587-f3ee8af1a2bd",
    "outputId": "e71bb747-0ccf-4c75-8bf1-6463ce425757",
    "tags": []
   },
   "outputs": [
    {
     "name": "stdout",
     "output_type": "stream",
     "text": [
      "Images shape: torch.Size([16, 3, 320, 320])\n",
      "Labels shape: torch.Size([16])\n"
     ]
    }
   ],
   "source": [
    "# ✅ 動態圖像大小\n",
    "image_size = 320  # or 320\n",
    "train_loader = DataLoader(train_dataset, batch_size=16, shuffle=True,\n",
    "                          collate_fn=lambda batch: collate_with_resize(batch, image_size))\n",
    "\n",
    "# 測試一個 batch\n",
    "for images, labels in train_loader:\n",
    "    print(\"Images shape:\", images.shape)\n",
    "    print(\"Labels shape:\", labels.shape)\n",
    "    break\n"
   ]
  },
  {
   "cell_type": "code",
   "execution_count": 14,
   "id": "642563ca-8cb7-4029-a485-77bd5307ced0",
   "metadata": {
    "execution": {
     "iopub.execute_input": "2025-06-02T19:37:50.105441Z",
     "iopub.status.busy": "2025-06-02T19:37:50.012391Z",
     "iopub.status.idle": "2025-06-02T19:37:51.811859Z",
     "shell.execute_reply": "2025-06-02T19:37:51.811230Z",
     "shell.execute_reply.started": "2025-06-02T19:37:50.012592Z"
    },
    "id": "642563ca-8cb7-4029-a485-77bd5307ced0",
    "outputId": "4c3ce06c-5bc6-4f2e-f34d-163781442642",
    "tags": []
   },
   "outputs": [
    {
     "name": "stdout",
     "output_type": "stream",
     "text": [
      "Images shape: torch.Size([16, 3, 320, 320])\n",
      "Labels shape: torch.Size([16])\n"
     ]
    }
   ],
   "source": [
    "#驗證資料載入\n",
    "# 驗證一個 batch\n",
    "for images, labels in train_loader:\n",
    "    print(\"Images shape:\", images.shape)  # [B, 3, 224, 224]\n",
    "    print(\"Labels shape:\", labels.shape)  # [B]\n",
    "    break"
   ]
  },
  {
   "cell_type": "code",
   "execution_count": 15,
   "id": "e2d5cb3c-7f1e-44bf-b0cc-5169d3d827d0",
   "metadata": {
    "execution": {
     "iopub.execute_input": "2025-06-02T19:37:51.905931Z",
     "iopub.status.busy": "2025-06-02T19:37:51.905686Z",
     "iopub.status.idle": "2025-06-02T19:37:54.051413Z",
     "shell.execute_reply": "2025-06-02T19:37:54.050581Z",
     "shell.execute_reply.started": "2025-06-02T19:37:51.905910Z"
    },
    "id": "e2d5cb3c-7f1e-44bf-b0cc-5169d3d827d0",
    "outputId": "fb111cb7-e29c-40b8-ca63-dcb47f6fe2a7",
    "tags": []
   },
   "outputs": [
    {
     "name": "stderr",
     "output_type": "stream",
     "text": [
      "Clipping input data to the valid range for imshow with RGB data ([0..1] for floats or [0..255] for integers).\n"
     ]
    },
    {
     "data": {
      "image/png": "[encoded data removed]",
      "text/plain": [
       "<Figure size 640x480 with 1 Axes>"
      ]
     },
     "metadata": {},
     "output_type": "display_data"
    }
   ],
   "source": [
    "# 如果需要視覺化一個 batch\n",
    "import matplotlib.pyplot as plt\n",
    "def show_batch(loader):\n",
    "    images, labels = next(iter(loader))\n",
    "    img = images[0].permute(1, 2, 0).numpy()\n",
    "    plt.imshow(img)\n",
    "    plt.title(f\"Label: {labels[0]}\")\n",
    "    plt.show()\n",
    "\n",
    "show_batch(train_loader)"
   ]
  },
  {
   "cell_type": "code",
   "execution_count": 16,
   "id": "d89b2c9b-842c-48b8-9b81-b5972b5b66e2",
   "metadata": {
    "execution": {
     "iopub.execute_input": "2025-06-02T19:37:54.052029Z",
     "iopub.status.busy": "2025-06-02T19:37:54.051823Z",
     "iopub.status.idle": "2025-06-02T19:37:58.390084Z",
     "shell.execute_reply": "2025-06-02T19:37:58.387395Z",
     "shell.execute_reply.started": "2025-06-02T19:37:54.052014Z"
    },
    "tags": []
   },
   "outputs": [
    {
     "name": "stdout",
     "output_type": "stream",
     "text": [
      "Collecting timm\n",
      "  Using cached timm-1.0.15-py3-none-any.whl (2.4 MB)\n",
      "Requirement already satisfied: huggingface_hub in /opt/conda/lib/python3.9/site-packages (from timm) (0.30.2)\n",
      "Requirement already satisfied: torch in /opt/conda/lib/python3.9/site-packages (from timm) (1.13.1)\n",
      "Collecting safetensors\n",
      "  Using cached safetensors-0.5.3-cp38-abi3-manylinux_2_17_x86_64.manylinux2014_x86_64.whl (471 kB)\n",
      "Requirement already satisfied: torchvision in /opt/conda/lib/python3.9/site-packages (from timm) (0.14.1)\n",
      "Requirement already satisfied: pyyaml in /opt/conda/lib/python3.9/site-packages (from timm) (6.0)\n",
      "Requirement already satisfied: fsspec>=2023.5.0 in /opt/conda/lib/python3.9/site-packages (from huggingface_hub->timm) (2025.3.2)\n",
      "Requirement already satisfied: packaging>=20.9 in /opt/conda/lib/python3.9/site-packages (from huggingface_hub->timm) (24.2)\n",
      "Requirement already satisfied: filelock in /opt/conda/lib/python3.9/site-packages (from huggingface_hub->timm) (3.17.0)\n",
      "Requirement already satisfied: tqdm>=4.42.1 in /opt/conda/lib/python3.9/site-packages (from huggingface_hub->timm) (4.64.1)\n",
      "Requirement already satisfied: requests in /opt/conda/lib/python3.9/site-packages (from huggingface_hub->timm) (2.32.3)\n",
      "Requirement already satisfied: typing-extensions>=3.7.4.3 in /opt/conda/lib/python3.9/site-packages (from huggingface_hub->timm) (4.13.2)\n",
      "Requirement already satisfied: nvidia-cudnn-cu11==8.5.0.96 in /opt/conda/lib/python3.9/site-packages (from torch->timm) (8.5.0.96)\n",
      "Requirement already satisfied: nvidia-cuda-runtime-cu11==11.7.99 in /opt/conda/lib/python3.9/site-packages (from torch->timm) (11.7.99)\n",
      "Requirement already satisfied: nvidia-cublas-cu11==11.10.3.66 in /opt/conda/lib/python3.9/site-packages (from torch->timm) (11.10.3.66)\n",
      "Requirement already satisfied: nvidia-cuda-nvrtc-cu11==11.7.99 in /opt/conda/lib/python3.9/site-packages (from torch->timm) (11.7.99)\n",
      "Requirement already satisfied: setuptools in /opt/conda/lib/python3.9/site-packages (from nvidia-cublas-cu11==11.10.3.66->torch->timm) (65.4.1)\n",
      "Requirement already satisfied: wheel in /opt/conda/lib/python3.9/site-packages (from nvidia-cublas-cu11==11.10.3.66->torch->timm) (0.37.1)\n",
      "Requirement already satisfied: pillow!=8.3.*,>=5.3.0 in /opt/conda/lib/python3.9/site-packages (from torchvision->timm) (9.4.0)\n",
      "Requirement already satisfied: numpy in /opt/conda/lib/python3.9/site-packages (from torchvision->timm) (1.23.3)\n",
      "Requirement already satisfied: idna<4,>=2.5 in /opt/conda/lib/python3.9/site-packages (from requests->huggingface_hub->timm) (3.4)\n",
      "Requirement already satisfied: charset-normalizer<4,>=2 in /opt/conda/lib/python3.9/site-packages (from requests->huggingface_hub->timm) (2.1.1)\n",
      "Requirement already satisfied: certifi>=2017.4.17 in /opt/conda/lib/python3.9/site-packages (from requests->huggingface_hub->timm) (2025.1.31)\n",
      "Requirement already satisfied: urllib3<3,>=1.21.1 in /opt/conda/lib/python3.9/site-packages (from requests->huggingface_hub->timm) (2.4.0)\n",
      "Installing collected packages: safetensors, timm\n",
      "Successfully installed safetensors-0.5.3 timm-1.0.15\n",
      "\u001b[33mWARNING: Running pip as the 'root' user can result in broken permissions and conflicting behaviour with the system package manager. It is recommended to use a virtual environment instead: https://pip.pypa.io/warnings/venv\u001b[0m\u001b[33m\n",
      "\u001b[0m"
     ]
    }
   ],
   "source": [
    "!pip install timm"
   ]
  },
  {
   "cell_type": "code",
   "execution_count": 17,
   "id": "97c160ac-ad87-45ea-9b23-66eda298b1b1",
   "metadata": {
    "execution": {
     "iopub.execute_input": "2025-06-02T19:37:58.393888Z",
     "iopub.status.busy": "2025-06-02T19:37:58.393000Z",
     "iopub.status.idle": "2025-06-02T19:38:01.852707Z",
     "shell.execute_reply": "2025-06-02T19:38:01.851653Z",
     "shell.execute_reply.started": "2025-06-02T19:37:58.393805Z"
    },
    "tags": []
   },
   "outputs": [
    {
     "name": "stderr",
     "output_type": "stream",
     "text": [
      "/opt/conda/lib/python3.9/site-packages/timm/models/_factory.py:126: UserWarning: Mapping deprecated model name xception to current legacy_xception.\n",
      "  model = create_fn(\n"
     ]
    }
   ],
   "source": [
    "import torch\n",
    "import torch.nn as nn\n",
    "import timm\n",
    "\n",
    "class TwoModelFusionImproved(nn.Module):\n",
    "    def __init__(self, num_classes=120, pretrained=True, feat_dim=512):\n",
    "        super().__init__()\n",
    "        # Backbone 1: Xception\n",
    "        self.model1 = timm.create_model('xception', pretrained=pretrained, num_classes=0)\n",
    "        self.feat_dim1 = self.model1.num_features\n",
    "\n",
    "        # Backbone 2: ResNet50\n",
    "        self.model2 = timm.create_model('resnet50', pretrained=pretrained, num_classes=0)\n",
    "        self.feat_dim2 = self.model2.num_features\n",
    "\n",
    "        # 投影層（降維或升維，讓兩邊特徵統一維度）\n",
    "        self.proj1 = nn.Sequential(\n",
    "            nn.Linear(self.feat_dim1, feat_dim),\n",
    "            nn.ReLU(),\n",
    "            nn.Dropout(0.2)\n",
    "        )\n",
    "        self.proj2 = nn.Sequential(\n",
    "            nn.Linear(self.feat_dim2, feat_dim),\n",
    "            nn.ReLU(),\n",
    "            nn.Dropout(0.2)\n",
    "        )\n",
    "\n",
    "        # 可訓練的融合權重（softmax後加權融合）\n",
    "        self.fusion_weights = nn.Parameter(torch.randn(2))\n",
    "\n",
    "        # 最終分類器\n",
    "        self.classifier = nn.Sequential(\n",
    "            nn.Linear(feat_dim, 256),\n",
    "            nn.ReLU(),\n",
    "            nn.Dropout(0.3),\n",
    "            nn.Linear(256, num_classes)\n",
    "        )\n",
    "\n",
    "    def forward(self, x):\n",
    "        feat1 = self.model1(x)\n",
    "        feat2 = self.model2(x)\n",
    "\n",
    "        # flatten\n",
    "        if feat1.dim() > 2:\n",
    "            feat1 = torch.flatten(feat1, start_dim=1)\n",
    "        if feat2.dim() > 2:\n",
    "            feat2 = torch.flatten(feat2, start_dim=1)\n",
    "\n",
    "        # 投影到統一維度\n",
    "        proj_feat1 = self.proj1(feat1)\n",
    "        proj_feat2 = self.proj2(feat2)\n",
    "\n",
    "        # 融合權重 softmax\n",
    "        weights = torch.softmax(self.fusion_weights, dim=0)\n",
    "\n",
    "        # 加權融合\n",
    "        fused = weights[0] * proj_feat1 + weights[1] * proj_feat2\n",
    "\n",
    "        out = self.classifier(fused)\n",
    "        return out\n",
    "\n",
    "# Device setup\n",
    "device = torch.device(\"cuda\" if torch.cuda.is_available() else \"cpu\")\n",
    "\n",
    "# Instantiate model\n",
    "model = TwoModelFusionImproved(num_classes=120).to(device)\n",
    "\n",
    "# 可依需要凍結 backbone\n",
    "for param in model.model1.parameters():\n",
    "    param.requires_grad = False\n",
    "for param in model.model2.parameters():\n",
    "    param.requires_grad = False\n",
    "\n",
    "# classifier 和融合權重可訓練\n",
    "for param in model.classifier.parameters():\n",
    "    param.requires_grad = True\n",
    "for param in model.proj1.parameters():\n",
    "    param.requires_grad = True\n",
    "for param in model.proj2.parameters():\n",
    "    param.requires_grad = True\n",
    "model.fusion_weights.requires_grad = True\n"
   ]
  },
  {
   "cell_type": "code",
   "execution_count": 18,
   "id": "23be5748-2b47-4a59-86fa-5b8542b86481",
   "metadata": {
    "execution": {
     "iopub.execute_input": "2025-06-02T19:38:01.853956Z",
     "iopub.status.busy": "2025-06-02T19:38:01.853720Z",
     "iopub.status.idle": "2025-06-02T19:38:01.860780Z",
     "shell.execute_reply": "2025-06-02T19:38:01.859943Z",
     "shell.execute_reply.started": "2025-06-02T19:38:01.853932Z"
    },
    "id": "23be5748-2b47-4a59-86fa-5b8542b86481",
    "tags": []
   },
   "outputs": [],
   "source": [
    "class LabelSmoothingCrossEntropy(nn.Module):\n",
    "    def __init__(self, smoothing=0.1):\n",
    "        super(LabelSmoothingCrossEntropy, self).__init__()\n",
    "        self.smoothing = smoothing\n",
    "        self.confidence = 1.0 - smoothing\n",
    "\n",
    "    def forward(self, logits, target):\n",
    "        log_probs = nn.functional.log_softmax(logits, dim=-1)\n",
    "        nll_loss = -log_probs.gather(dim=-1, index=target.unsqueeze(1)).squeeze(1)\n",
    "        smooth_loss = -log_probs.mean(dim=-1)\n",
    "        loss = self.confidence * nll_loss + self.smoothing * smooth_loss\n",
    "        return loss.mean()\n"
   ]
  },
  {
   "cell_type": "code",
   "execution_count": 19,
   "id": "fe67e232-f94b-4987-aa63-9c2b02b17a3b",
   "metadata": {
    "execution": {
     "iopub.execute_input": "2025-06-02T19:38:01.861680Z",
     "iopub.status.busy": "2025-06-02T19:38:01.861461Z",
     "iopub.status.idle": "2025-06-02T19:38:01.872700Z",
     "shell.execute_reply": "2025-06-02T19:38:01.871874Z",
     "shell.execute_reply.started": "2025-06-02T19:38:01.861661Z"
    },
    "id": "fe67e232-f94b-4987-aa63-9c2b02b17a3b",
    "tags": []
   },
   "outputs": [],
   "source": [
    "from torch.optim.lr_scheduler import _LRScheduler\n",
    "\n",
    "class GradualWarmupScheduler(_LRScheduler):\n",
    "    def __init__(self, optimizer, multiplier, total_epoch, after_scheduler=None, last_epoch=-1):\n",
    "        self.multiplier = multiplier\n",
    "        if self.multiplier <= 1.:\n",
    "            raise ValueError('multiplier should be greater than 1.')\n",
    "        self.total_epoch = total_epoch\n",
    "        self.after_scheduler = after_scheduler\n",
    "        self.finished = False\n",
    "        super(GradualWarmupScheduler, self).__init__(optimizer, last_epoch)\n",
    "\n",
    "    def get_lr(self):\n",
    "        if self.last_epoch >= self.total_epoch:\n",
    "            if self.after_scheduler:\n",
    "                if not self.finished:\n",
    "                    self.after_scheduler.base_lrs = [base_lr * self.multiplier for base_lr in self.base_lrs]\n",
    "                    self.finished = True\n",
    "                return self.after_scheduler.get_lr()\n",
    "            return [base_lr * self.multiplier for base_lr in self.base_lrs]\n",
    "\n",
    "        return [\n",
    "            base_lr * ((self.multiplier - 1.) * self.last_epoch / self.total_epoch + 1.)\n",
    "            for base_lr in self.base_lrs\n",
    "        ]\n",
    "\n",
    "    def step(self, epoch=None):\n",
    "        if self.finished and self.after_scheduler:\n",
    "            if epoch is None:\n",
    "                self.after_scheduler.step(None)\n",
    "            else:\n",
    "                self.after_scheduler.step(epoch - self.total_epoch)\n",
    "        else:\n",
    "            return super(GradualWarmupScheduler, self).step(epoch)\n"
   ]
  },
  {
   "cell_type": "code",
   "execution_count": 20,
   "id": "ac519f99-2c79-4f8d-bfb1-0943e5807ca6",
   "metadata": {
    "execution": {
     "iopub.execute_input": "2025-06-02T19:38:01.873577Z",
     "iopub.status.busy": "2025-06-02T19:38:01.873368Z",
     "iopub.status.idle": "2025-06-02T19:38:01.885247Z",
     "shell.execute_reply": "2025-06-02T19:38:01.884436Z",
     "shell.execute_reply.started": "2025-06-02T19:38:01.873557Z"
    },
    "id": "ac519f99-2c79-4f8d-bfb1-0943e5807ca6",
    "tags": []
   },
   "outputs": [],
   "source": [
    "from collections import Counter\n",
    "from torchvision import transforms\n",
    "from torch.optim.lr_scheduler import CosineAnnealingLR\n",
    "\n",
    "num_epochs = 50\n",
    "warmup_epochs = 5\n",
    "# 計算各類別的樣本數\n",
    "label_counts = Counter(dataset.labels)\n",
    "num_classes = len(label_counts)\n",
    "class_counts = [label_counts[i] for i in range(num_classes)]\n",
    "\n",
    "# 計算每個類別的權重：樣本數越少，權重越高\n",
    "weights = [1.0 / c for c in class_counts]\n",
    "weights = torch.tensor(weights, dtype=torch.float).to(device)\n",
    "\n",
    "# 使用 class weights + label smoothing\n",
    "criterion = LabelSmoothingCrossEntropy(smoothing=0.1)\n",
    "optimizer = torch.optim.AdamW(model.parameters(), lr=3e-4, weight_decay=1e-4)\n",
    "\n",
    "cosine_scheduler = CosineAnnealingLR(optimizer, T_max=num_epochs - warmup_epochs)\n",
    "scheduler = GradualWarmupScheduler(\n",
    "    optimizer,\n",
    "    multiplier=5.0,               # 最終學習率 = 初始 * 1.0\n",
    "    total_epoch=warmup_epochs,\n",
    "    after_scheduler=cosine_scheduler\n",
    ")\n"
   ]
  },
  {
   "cell_type": "code",
   "execution_count": 21,
   "id": "324f3936-1cd3-4cec-aa09-280f34f3de71",
   "metadata": {
    "execution": {
     "iopub.execute_input": "2025-06-02T19:38:01.886142Z",
     "iopub.status.busy": "2025-06-02T19:38:01.885932Z",
     "iopub.status.idle": "2025-06-02T19:38:01.893746Z",
     "shell.execute_reply": "2025-06-02T19:38:01.892970Z",
     "shell.execute_reply.started": "2025-06-02T19:38:01.886123Z"
    },
    "id": "324f3936-1cd3-4cec-aa09-280f34f3de71",
    "tags": []
   },
   "outputs": [],
   "source": [
    "from torchvision import transforms\n",
    "from torch.utils.data import DataLoader\n",
    "from torchvision.datasets import ImageFolder\n",
    "\n",
    "def get_dataloaders(image_size, batch_size):\n",
    "    transform_train = transforms.Compose([\n",
    "        transforms.Resize((image_size, image_size)),\n",
    "        transforms.RandomHorizontalFlip(),\n",
    "        transforms.ToTensor(),\n",
    "    ])\n",
    "    transform_val = transforms.Compose([\n",
    "        transforms.Resize((image_size, image_size)),\n",
    "        transforms.ToTensor(),\n",
    "    ])\n",
    "\n",
    "    train_dataset = ImageFolder(train_dir, transform=transform_train)\n",
    "    val_dataset = ImageFolder(val_dir, transform=transform_val)\n",
    "\n",
    "    train_loader = DataLoader(train_dataset, batch_size=batch_size, shuffle=True, num_workers=4)\n",
    "    val_loader = DataLoader(val_dataset, batch_size=batch_size, shuffle=False, num_workers=4)\n",
    "\n",
    "    return train_loader, val_loader\n"
   ]
  },
  {
   "cell_type": "code",
   "execution_count": 22,
   "id": "9eW-iKmR6xDv",
   "metadata": {
    "execution": {
     "iopub.execute_input": "2025-06-02T19:38:01.894706Z",
     "iopub.status.busy": "2025-06-02T19:38:01.894490Z",
     "iopub.status.idle": "2025-06-02T19:38:01.904514Z",
     "shell.execute_reply": "2025-06-02T19:38:01.903710Z",
     "shell.execute_reply.started": "2025-06-02T19:38:01.894687Z"
    },
    "id": "9eW-iKmR6xDv",
    "tags": []
   },
   "outputs": [],
   "source": [
    "class EarlyStopping:\n",
    "    def __init__(self, patience=8, verbose=False, delta=0, path='best_model.pth'):\n",
    "        self.patience = patience\n",
    "        self.verbose = verbose\n",
    "        self.counter = 0\n",
    "        self.best_score = None\n",
    "        self.early_stop = False\n",
    "        self.val_loss_min = float('inf')\n",
    "        self.delta = delta\n",
    "        self.path = path\n",
    "\n",
    "    def __call__(self, val_loss, model):\n",
    "        score = -val_loss\n",
    "\n",
    "        if self.best_score is None:\n",
    "            self.best_score = score\n",
    "            self.save_checkpoint(val_loss, model)\n",
    "        elif score < self.best_score + self.delta:\n",
    "            self.counter += 1\n",
    "            if self.verbose:\n",
    "                print(f\"EarlyStopping counter: {self.counter} out of {self.patience}\")\n",
    "            if self.counter >= self.patience:\n",
    "                self.early_stop = True\n",
    "        else:\n",
    "            self.best_score = score\n",
    "            self.save_checkpoint(val_loss, model)\n",
    "            self.counter = 0\n",
    "\n",
    "    def save_checkpoint(self, val_loss, model):\n",
    "        '''儲存目前最佳模型'''\n",
    "        if self.verbose:\n",
    "            print(f\"Validation loss decreased ({self.val_loss_min:.6f} → {val_loss:.6f}). Saving model...\")\n",
    "        torch.save(model.state_dict(), self.path)\n",
    "        self.val_loss_min = val_loss\n"
   ]
  },
  {
   "cell_type": "code",
   "execution_count": 23,
   "id": "25cf8137-76e5-484b-95d2-fbf22792cd72",
   "metadata": {
    "execution": {
     "iopub.execute_input": "2025-06-02T19:38:01.905439Z",
     "iopub.status.busy": "2025-06-02T19:38:01.905225Z",
     "iopub.status.idle": "2025-06-04T21:30:10.235510Z",
     "shell.execute_reply": "2025-06-04T21:30:10.234137Z",
     "shell.execute_reply.started": "2025-06-02T19:38:01.905419Z"
    },
    "id": "25cf8137-76e5-484b-95d2-fbf22792cd72",
    "outputId": "403ee953-43a5-4558-b341-c1d813182fda",
    "tags": []
   },
   "outputs": [
    {
     "name": "stdout",
     "output_type": "stream",
     "text": [
      "Epoch 1/50, Size: 224, Loss: 3.1473, Accuracy: 40.16%\n",
      "Validation Loss: 1.8410, Validation Accuracy: 74.29%\n",
      "Validation loss decreased (inf → 1.840963). Saving model...\n",
      "Epoch 2/50, Size: 224, Loss: 1.8500, Accuracy: 71.50%\n",
      "Validation Loss: 1.5841, Validation Accuracy: 79.27%\n",
      "Validation loss decreased (1.840963 → 1.584130). Saving model...\n",
      "Epoch 3/50, Size: 224, Loss: 1.6505, Accuracy: 77.27%\n",
      "Validation Loss: 1.4858, Validation Accuracy: 81.69%\n",
      "Validation loss decreased (1.584130 → 1.485819). Saving model...\n",
      "Epoch 4/50, Size: 224, Loss: 1.5553, Accuracy: 80.29%\n",
      "Validation Loss: 1.4143, Validation Accuracy: 83.65%\n",
      "Validation loss decreased (1.485819 → 1.414349). Saving model...\n"
     ]
    },
    {
     "name": "stderr",
     "output_type": "stream",
     "text": [
      "/opt/conda/lib/python3.9/site-packages/torch/optim/lr_scheduler.py:807: UserWarning: To get the last learning rate computed by the scheduler, please use `get_last_lr()`.\n",
      "  warnings.warn(\"To get the last learning rate computed by the scheduler, \"\n"
     ]
    },
    {
     "name": "stdout",
     "output_type": "stream",
     "text": [
      "Epoch 5/50, Size: 224, Loss: 1.4825, Accuracy: 82.42%\n",
      "Validation Loss: 1.3902, Validation Accuracy: 83.99%\n",
      "Validation loss decreased (1.414349 → 1.390246). Saving model...\n",
      "Epoch 6/50, Size: 320, Loss: 1.2575, Accuracy: 89.68%\n",
      "Validation Loss: 1.2136, Validation Accuracy: 90.76%\n",
      "Validation loss decreased (1.390246 → 1.213641). Saving model...\n",
      "Epoch 7/50, Size: 320, Loss: 1.2187, Accuracy: 90.98%\n",
      "Validation Loss: 1.1545, Validation Accuracy: 91.61%\n",
      "Validation loss decreased (1.213641 → 1.154540). Saving model...\n",
      "Epoch 8/50, Size: 320, Loss: 1.1910, Accuracy: 91.88%\n",
      "Validation Loss: 1.1377, Validation Accuracy: 91.74%\n",
      "Validation loss decreased (1.154540 → 1.137683). Saving model...\n",
      "Epoch 9/50, Size: 320, Loss: 1.1628, Accuracy: 92.51%\n",
      "Validation Loss: 1.1546, Validation Accuracy: 91.88%\n",
      "EarlyStopping counter: 1 out of 8\n",
      "Epoch 10/50, Size: 320, Loss: 1.1341, Accuracy: 93.47%\n",
      "Validation Loss: 1.1087, Validation Accuracy: 92.84%\n",
      "Validation loss decreased (1.137683 → 1.108705). Saving model...\n",
      "Epoch 11/50, Size: 320, Loss: 1.1109, Accuracy: 94.20%\n",
      "Validation Loss: 1.1024, Validation Accuracy: 93.25%\n",
      "Validation loss decreased (1.108705 → 1.102361). Saving model...\n",
      "Epoch 12/50, Size: 320, Loss: 1.1097, Accuracy: 94.34%\n",
      "Validation Loss: 1.1048, Validation Accuracy: 93.00%\n",
      "EarlyStopping counter: 1 out of 8\n",
      "Epoch 13/50, Size: 320, Loss: 1.0980, Accuracy: 94.97%\n",
      "Validation Loss: 1.0828, Validation Accuracy: 93.49%\n",
      "Validation loss decreased (1.102361 → 1.082766). Saving model...\n",
      "Epoch 14/50, Size: 320, Loss: 1.0840, Accuracy: 95.35%\n",
      "Validation Loss: 1.0754, Validation Accuracy: 93.73%\n",
      "Validation loss decreased (1.082766 → 1.075418). Saving model...\n",
      "Epoch 15/50, Size: 320, Loss: 1.0621, Accuracy: 95.84%\n",
      "Validation Loss: 1.0770, Validation Accuracy: 93.52%\n",
      "EarlyStopping counter: 1 out of 8\n",
      "Epoch 16/50, Size: 320, Loss: 1.0593, Accuracy: 96.24%\n",
      "Validation Loss: 1.0511, Validation Accuracy: 94.07%\n",
      "Validation loss decreased (1.075418 → 1.051078). Saving model...\n",
      "Epoch 17/50, Size: 320, Loss: 1.0588, Accuracy: 96.26%\n",
      "Validation Loss: 1.0587, Validation Accuracy: 94.30%\n",
      "EarlyStopping counter: 1 out of 8\n",
      "Epoch 18/50, Size: 320, Loss: 1.0510, Accuracy: 96.46%\n",
      "Validation Loss: 1.0596, Validation Accuracy: 94.11%\n",
      "EarlyStopping counter: 2 out of 8\n",
      "Epoch 19/50, Size: 320, Loss: 1.0432, Accuracy: 96.65%\n",
      "Validation Loss: 1.0581, Validation Accuracy: 94.35%\n",
      "EarlyStopping counter: 3 out of 8\n",
      "Epoch 20/50, Size: 320, Loss: 1.0383, Accuracy: 96.86%\n",
      "Validation Loss: 1.0403, Validation Accuracy: 94.69%\n",
      "Validation loss decreased (1.051078 → 1.040333). Saving model...\n",
      "Epoch 21/50, Size: 320, Loss: 1.0252, Accuracy: 97.02%\n",
      "Validation Loss: 1.0328, Validation Accuracy: 94.53%\n",
      "Validation loss decreased (1.040333 → 1.032847). Saving model...\n",
      "Epoch 22/50, Size: 320, Loss: 1.0220, Accuracy: 97.19%\n",
      "Validation Loss: 1.0342, Validation Accuracy: 94.64%\n",
      "EarlyStopping counter: 1 out of 8\n",
      "Epoch 23/50, Size: 320, Loss: 1.0104, Accuracy: 97.51%\n",
      "Validation Loss: 1.0416, Validation Accuracy: 94.35%\n",
      "EarlyStopping counter: 2 out of 8\n",
      "Epoch 24/50, Size: 320, Loss: 1.0084, Accuracy: 97.67%\n",
      "Validation Loss: 1.0201, Validation Accuracy: 94.76%\n",
      "Validation loss decreased (1.032847 → 1.020139). Saving model...\n",
      "Epoch 25/50, Size: 320, Loss: 0.9967, Accuracy: 97.89%\n",
      "Validation Loss: 1.0066, Validation Accuracy: 95.23%\n",
      "Validation loss decreased (1.020139 → 1.006607). Saving model...\n",
      "Epoch 26/50, Size: 320, Loss: 0.9917, Accuracy: 97.96%\n",
      "Validation Loss: 1.0219, Validation Accuracy: 94.76%\n",
      "EarlyStopping counter: 1 out of 8\n",
      "Epoch 27/50, Size: 320, Loss: 0.9778, Accuracy: 98.15%\n",
      "Validation Loss: 1.0182, Validation Accuracy: 94.92%\n",
      "EarlyStopping counter: 2 out of 8\n",
      "Epoch 28/50, Size: 320, Loss: 0.9757, Accuracy: 98.38%\n",
      "Validation Loss: 1.0111, Validation Accuracy: 95.02%\n",
      "EarlyStopping counter: 3 out of 8\n",
      "Epoch 29/50, Size: 320, Loss: 0.9781, Accuracy: 98.37%\n",
      "Validation Loss: 1.0073, Validation Accuracy: 95.26%\n",
      "EarlyStopping counter: 4 out of 8\n",
      "Epoch 30/50, Size: 320, Loss: 0.9657, Accuracy: 98.51%\n",
      "Validation Loss: 1.0093, Validation Accuracy: 95.06%\n",
      "EarlyStopping counter: 5 out of 8\n",
      "Epoch 31/50, Size: 320, Loss: 0.9636, Accuracy: 98.71%\n",
      "Validation Loss: 1.0008, Validation Accuracy: 95.21%\n",
      "Validation loss decreased (1.006607 → 1.000762). Saving model...\n",
      "Epoch 32/50, Size: 320, Loss: 0.9595, Accuracy: 98.70%\n",
      "Validation Loss: 1.0048, Validation Accuracy: 95.15%\n",
      "EarlyStopping counter: 1 out of 8\n",
      "Epoch 33/50, Size: 320, Loss: 0.9562, Accuracy: 98.85%\n",
      "Validation Loss: 1.0027, Validation Accuracy: 95.11%\n",
      "EarlyStopping counter: 2 out of 8\n",
      "Epoch 34/50, Size: 320, Loss: 0.9446, Accuracy: 99.00%\n",
      "Validation Loss: 0.9978, Validation Accuracy: 95.28%\n",
      "Validation loss decreased (1.000762 → 0.997813). Saving model...\n",
      "Epoch 35/50, Size: 320, Loss: 0.9459, Accuracy: 99.04%\n",
      "Validation Loss: 0.9949, Validation Accuracy: 95.11%\n",
      "Validation loss decreased (0.997813 → 0.994905). Saving model...\n",
      "Epoch 36/50, Size: 320, Loss: 0.9394, Accuracy: 99.07%\n",
      "Validation Loss: 1.0044, Validation Accuracy: 94.97%\n",
      "EarlyStopping counter: 1 out of 8\n",
      "Epoch 37/50, Size: 320, Loss: 0.9387, Accuracy: 99.16%\n",
      "Validation Loss: 0.9904, Validation Accuracy: 95.67%\n",
      "Validation loss decreased (0.994905 → 0.990421). Saving model...\n",
      "Epoch 38/50, Size: 320, Loss: 0.9382, Accuracy: 99.24%\n",
      "Validation Loss: 0.9963, Validation Accuracy: 95.32%\n",
      "EarlyStopping counter: 1 out of 8\n",
      "Epoch 39/50, Size: 320, Loss: 0.9320, Accuracy: 99.23%\n",
      "Validation Loss: 0.9897, Validation Accuracy: 95.47%\n",
      "Validation loss decreased (0.990421 → 0.989686). Saving model...\n",
      "Epoch 40/50, Size: 320, Loss: 0.9295, Accuracy: 99.26%\n",
      "Validation Loss: 0.9861, Validation Accuracy: 95.37%\n",
      "Validation loss decreased (0.989686 → 0.986067). Saving model...\n",
      "Epoch 41/50, Size: 320, Loss: 0.9310, Accuracy: 99.26%\n",
      "Validation Loss: 0.9916, Validation Accuracy: 95.54%\n",
      "EarlyStopping counter: 1 out of 8\n",
      "Epoch 42/50, Size: 320, Loss: 0.9281, Accuracy: 99.27%\n",
      "Validation Loss: 0.9864, Validation Accuracy: 95.44%\n",
      "EarlyStopping counter: 2 out of 8\n",
      "Epoch 43/50, Size: 320, Loss: 0.9218, Accuracy: 99.33%\n",
      "Validation Loss: 0.9961, Validation Accuracy: 95.08%\n",
      "EarlyStopping counter: 3 out of 8\n",
      "Epoch 44/50, Size: 320, Loss: 0.9213, Accuracy: 99.37%\n",
      "Validation Loss: 0.9876, Validation Accuracy: 95.55%\n",
      "EarlyStopping counter: 4 out of 8\n",
      "Epoch 45/50, Size: 320, Loss: 0.9272, Accuracy: 99.35%\n",
      "Validation Loss: 0.9850, Validation Accuracy: 95.55%\n",
      "Validation loss decreased (0.986067 → 0.984993). Saving model...\n",
      "Epoch 46/50, Size: 320, Loss: 0.9199, Accuracy: 99.52%\n",
      "Validation Loss: 0.9897, Validation Accuracy: 95.31%\n",
      "EarlyStopping counter: 1 out of 8\n",
      "Epoch 47/50, Size: 320, Loss: 0.9198, Accuracy: 99.48%\n",
      "Validation Loss: 0.9934, Validation Accuracy: 95.19%\n",
      "EarlyStopping counter: 2 out of 8\n",
      "Epoch 48/50, Size: 320, Loss: 0.9177, Accuracy: 99.43%\n",
      "Validation Loss: 0.9863, Validation Accuracy: 95.39%\n",
      "EarlyStopping counter: 3 out of 8\n",
      "Epoch 49/50, Size: 320, Loss: 0.9176, Accuracy: 99.41%\n",
      "Validation Loss: 0.9819, Validation Accuracy: 95.44%\n",
      "Validation loss decreased (0.984993 → 0.981877). Saving model...\n",
      "Epoch 50/50, Size: 320, Loss: 0.9138, Accuracy: 99.50%\n",
      "Validation Loss: 0.9867, Validation Accuracy: 95.28%\n",
      "EarlyStopping counter: 1 out of 8\n"
     ]
    },
    {
     "data": {
      "text/plain": [
       "<All keys matched successfully>"
      ]
     },
     "execution_count": 23,
     "metadata": {},
     "output_type": "execute_result"
    }
   ],
   "source": [
    "small_image_epochs = 5\n",
    "small_size = 224\n",
    "large_size = 320\n",
    "batch_size = 64\n",
    "\n",
    "early_stopping = EarlyStopping(patience=8, verbose=True, path='best_resnet50.pth')\n",
    "\n",
    "full_dataset = DogBreedImageFolder(\"dog_images/train\", class_to_idx, transform=train_transform)\n",
    "\n",
    "\n",
    "for epoch in range(num_epochs):\n",
    "    image_size = small_size if epoch < small_image_epochs else large_size\n",
    "\n",
    "    train_loader = DataLoader(train_dataset, batch_size=batch_size, shuffle=True,\n",
    "                              collate_fn=lambda batch: collate_with_resize(batch, image_size))\n",
    "    val_loader = DataLoader(val_dataset, batch_size=batch_size, shuffle=False,\n",
    "                            collate_fn=lambda batch: collate_with_resize(batch, image_size))\n",
    "\n",
    "    model.train()\n",
    "    running_loss = 0.0\n",
    "    correct = 0\n",
    "    total = 0\n",
    "\n",
    "    for images, labels in train_loader:\n",
    "        images, labels = images.to(device), labels.to(device)\n",
    "\n",
    "        optimizer.zero_grad()\n",
    "        outputs = model(images)\n",
    "        loss = criterion(outputs, labels)\n",
    "        loss.backward()\n",
    "        optimizer.step()\n",
    "\n",
    "        running_loss += loss.item()\n",
    "        _, predicted = torch.max(outputs, 1)\n",
    "        total += labels.size(0)\n",
    "        correct += (predicted == labels).sum().item()\n",
    "\n",
    "    scheduler.step()\n",
    "\n",
    "    epoch_loss = running_loss / len(train_loader)\n",
    "    epoch_acc = 100 * correct / total\n",
    "    print(f\"Epoch {epoch+1}/{num_epochs}, Size: {image_size}, Loss: {epoch_loss:.4f}, Accuracy: {epoch_acc:.2f}%\")\n",
    "\n",
    "    model.eval()\n",
    "    val_loss = 0.0\n",
    "    correct = 0\n",
    "    total = 0\n",
    "    with torch.no_grad():\n",
    "        for images, labels in val_loader:\n",
    "            images, labels = images.to(device), labels.to(device)\n",
    "            outputs = model(images)\n",
    "            loss = criterion(outputs, labels)\n",
    "            val_loss += loss.item()\n",
    "            _, predicted = torch.max(outputs, 1)\n",
    "            total += labels.size(0)\n",
    "            correct += (predicted == labels).sum().item()\n",
    "\n",
    "    val_loss /= len(val_loader)\n",
    "    val_acc = 100 * correct / total\n",
    "    print(f\"Validation Loss: {val_loss:.4f}, Validation Accuracy: {val_acc:.2f}%\")\n",
    "\n",
    "    early_stopping(val_loss, model)\n",
    "\n",
    "    if early_stopping.early_stop:\n",
    "        print(\"Early stopping triggered.\")\n",
    "        break\n",
    "\n",
    "# 載入最佳模型\n",
    "model.load_state_dict(torch.load(\"best_resnet50.pth\"))\n"
   ]
  },
  {
   "cell_type": "code",
   "execution_count": 24,
   "id": "8d306abf-c908-4307-afa8-ffd890aee88f",
   "metadata": {
    "execution": {
     "iopub.execute_input": "2025-06-04T21:30:10.237069Z",
     "iopub.status.busy": "2025-06-04T21:30:10.236802Z",
     "iopub.status.idle": "2025-06-04T21:30:10.886347Z",
     "shell.execute_reply": "2025-06-04T21:30:10.884206Z",
     "shell.execute_reply.started": "2025-06-04T21:30:10.237045Z"
    },
    "id": "8d306abf-c908-4307-afa8-ffd890aee88f",
    "tags": []
   },
   "outputs": [],
   "source": [
    "# 保存訓練後的模型\n",
    "torch.save(model.state_dict(), \"dog_breed_model.pth\")\n"
   ]
  },
  {
   "cell_type": "code",
   "execution_count": 25,
   "id": "bd237980-ad71-4780-8b12-3bf900b5abf9",
   "metadata": {
    "execution": {
     "iopub.execute_input": "2025-06-04T21:30:10.889333Z",
     "iopub.status.busy": "2025-06-04T21:30:10.888858Z",
     "iopub.status.idle": "2025-06-04T21:41:59.518168Z",
     "shell.execute_reply": "2025-06-04T21:41:59.516825Z",
     "shell.execute_reply.started": "2025-06-04T21:30:10.889285Z"
    },
    "id": "bd237980-ad71-4780-8b12-3bf900b5abf9",
    "outputId": "522dbeeb-39d2-4282-82d1-1981e811055b",
    "tags": []
   },
   "outputs": [
    {
     "name": "stdout",
     "output_type": "stream",
     "text": [
      "Test Accuracy: 95.54%\n"
     ]
    }
   ],
   "source": [
    "# 測試集的評估\n",
    "test_accuracy = 0\n",
    "with torch.no_grad():\n",
    "    for images, labels in val_loader:\n",
    "        images, labels = images.to(device), labels.to(device)\n",
    "\n",
    "        outputs = model(images)\n",
    "        _, predicted = torch.max(outputs, 1)\n",
    "\n",
    "        test_accuracy += (predicted == labels).sum().item()\n",
    "\n",
    "test_accuracy = 100 * test_accuracy / len(val_dataset)\n",
    "print(f\"Test Accuracy: {test_accuracy:.2f}%\")\n",
    "\n",
    "import os"
   ]
  },
  {
   "cell_type": "code",
   "execution_count": 26,
   "id": "BpW3rcCW7wwH",
   "metadata": {
    "execution": {
     "iopub.execute_input": "2025-06-04T21:41:59.519757Z",
     "iopub.status.busy": "2025-06-04T21:41:59.519473Z",
     "iopub.status.idle": "2025-06-04T22:12:29.513837Z",
     "shell.execute_reply": "2025-06-04T22:12:29.512295Z",
     "shell.execute_reply.started": "2025-06-04T21:41:59.519724Z"
    },
    "id": "BpW3rcCW7wwH",
    "outputId": "32b927e5-9368-45b2-d380-29ba1b3ab677",
    "tags": []
   },
   "outputs": [
    {
     "name": "stdout",
     "output_type": "stream",
     "text": [
      "TTA Test Accuracy: 3.90%\n"
     ]
    }
   ],
   "source": [
    "# 測試集的評估\n",
    "tta_transforms = [\n",
    "    transforms.Compose([transforms.Resize((320, 320)), transforms.ToTensor()]),\n",
    "    transforms.Compose([transforms.Resize((320, 320)), transforms.RandomHorizontalFlip(p=1.0), transforms.ToTensor()]),\n",
    "    transforms.Compose([transforms.Resize((320, 320)), transforms.ColorJitter(brightness=0.2), transforms.ToTensor()])\n",
    "]\n",
    "\n",
    "model.eval()\n",
    "total = 0\n",
    "correct = 0\n",
    "\n",
    "with torch.no_grad():\n",
    "    for images, labels in val_loader:\n",
    "        images, labels = images.to(device), labels.to(device)\n",
    "\n",
    "        tta_preds = []\n",
    "        for tform in tta_transforms:\n",
    "            aug_images = torch.stack([tform(transforms.ToPILImage()(img.cpu())) for img in images])\n",
    "            aug_images = aug_images.to(device)\n",
    "            outputs = model(aug_images)\n",
    "            tta_preds.append(torch.softmax(outputs, dim=1))\n",
    "\n",
    "        avg_preds = torch.mean(torch.stack(tta_preds), dim=0)\n",
    "        _, predicted = torch.max(avg_preds, 1)\n",
    "\n",
    "        total += labels.size(0)\n",
    "        correct += (predicted == labels).sum().item()\n",
    "\n",
    "accuracy = 100 * correct / total\n",
    "print(f\"TTA Test Accuracy: {accuracy:.2f}%\")\n"
   ]
  },
  {
   "cell_type": "code",
   "execution_count": 27,
   "id": "7ca7a9f2-4bb1-49ac-a672-b956ac8f78d3",
   "metadata": {
    "execution": {
     "iopub.execute_input": "2025-06-04T22:12:29.514782Z",
     "iopub.status.busy": "2025-06-04T22:12:29.514588Z",
     "iopub.status.idle": "2025-06-04T22:12:29.521974Z",
     "shell.execute_reply": "2025-06-04T22:12:29.520949Z",
     "shell.execute_reply.started": "2025-06-04T22:12:29.514765Z"
    },
    "id": "7ca7a9f2-4bb1-49ac-a672-b956ac8f78d3",
    "tags": []
   },
   "outputs": [],
   "source": [
    "from PIL import Image\n",
    "from torch.utils.data import Dataset, DataLoader\n",
    "from torchvision import transforms\n",
    "\n",
    "class TestImageDataset(Dataset):\n",
    "    def __init__(self, image_folder, transform=None):\n",
    "        self.image_folder = image_folder\n",
    "        self.image_filenames = sorted(os.listdir(image_folder))\n",
    "        self.transform = transform\n",
    "\n",
    "    def __len__(self):\n",
    "        return len(self.image_filenames)\n",
    "\n",
    "    def __getitem__(self, idx):\n",
    "        img_name = self.image_filenames[idx]\n",
    "        img_path = os.path.join(self.image_folder, img_name)\n",
    "        image = Image.open(img_path).convert('RGB')\n",
    "        if self.transform:\n",
    "            image = self.transform(image)\n",
    "        return image, img_name.split('.')[0]  # 傳回 image tensor 和 id（"
   ]
  },
  {
   "cell_type": "code",
   "execution_count": 28,
   "id": "b1813979-8cf3-431f-9fad-e31e729a397a",
   "metadata": {
    "execution": {
     "iopub.execute_input": "2025-06-04T22:12:29.522770Z",
     "iopub.status.busy": "2025-06-04T22:12:29.522596Z",
     "iopub.status.idle": "2025-06-04T22:12:29.536248Z",
     "shell.execute_reply": "2025-06-04T22:12:29.535438Z",
     "shell.execute_reply.started": "2025-06-04T22:12:29.522754Z"
    },
    "id": "b1813979-8cf3-431f-9fad-e31e729a397a",
    "tags": []
   },
   "outputs": [],
   "source": [
    "# 取得所有類別名稱，需排序以符合 submission 格式\n",
    "all_breeds = sorted(dataset.class_to_idx.keys())\n",
    "\n",
    "# 建立 mapping\n",
    "idx_to_class = {v: k for k, v in dataset.class_to_idx.items()}\n",
    "# 修正 Test transform 使用與訓練相同的 ImageNet 格式\n",
    "test_transform = transforms.Compose([\n",
    "    transforms.Resize((320, 320)),\n",
    "    transforms.ToTensor(),\n",
    "    transforms.Normalize((0.485, 0.456, 0.406),  # 與訓練相同\n",
    "                         (0.229, 0.224, 0.225))\n",
    "])\n",
    "\n",
    "\n",
    "# 設定測試資料夾路徑\n",
    "test_folder = 'dog-breed-identification/test'  # 請確認實際位置\n",
    "\n",
    "# 建立 DataLoader\n",
    "test_dataset = TestImageDataset(test_folder, transform=test_transform)\n",
    "test_loader = DataLoader(test_dataset, batch_size=64, shuffle=False)\n",
    "\n",
    "# 建立 DataFrame 儲存預測結果\n",
    "results = []"
   ]
  },
  {
   "cell_type": "code",
   "execution_count": 29,
   "id": "016331d2-68f7-459b-bdfb-ffaf026869c0",
   "metadata": {
    "execution": {
     "iopub.execute_input": "2025-06-04T22:12:29.536877Z",
     "iopub.status.busy": "2025-06-04T22:12:29.536735Z",
     "iopub.status.idle": "2025-06-04T22:25:45.112153Z",
     "shell.execute_reply": "2025-06-04T22:25:45.111065Z",
     "shell.execute_reply.started": "2025-06-04T22:12:29.536865Z"
    },
    "id": "016331d2-68f7-459b-bdfb-ffaf026869c0",
    "outputId": "b69368fe-99cd-4ec0-b93c-560a8c723519",
    "tags": []
   },
   "outputs": [
    {
     "name": "stdout",
     "output_type": "stream",
     "text": [
      "✅ submission_Mix.csv 已成功輸出，格式符合 Kaggle 要求！\n"
     ]
    }
   ],
   "source": [
    "# 使用 softmax 輸出機率\n",
    "results = []\n",
    "\n",
    "with torch.no_grad():\n",
    "    for inputs, image_ids in test_loader:\n",
    "        inputs = inputs.to(device)\n",
    "        outputs = model(inputs)\n",
    "        probs = torch.softmax(outputs, dim=1).cpu().numpy()  # shape: (batch_size, 120)\n",
    "\n",
    "        for img_id, prob_vector in zip(image_ids, probs):\n",
    "            row = {\"id\": img_id}\n",
    "            for breed, prob in zip(all_breeds, prob_vector):\n",
    "                row[breed] = prob\n",
    "            results.append(row)\n",
    "\n",
    "# 轉成 DataFrame 並輸出\n",
    "df = pd.DataFrame(results)\n",
    "df = df[[\"id\"] + all_breeds]  # 確保順序符合要求\n",
    "df.to_csv(\"submission_Mix1.csv\", index=False)\n",
    "print(\"✅ submission_Mix.csv 已成功輸出，格式符合 Kaggle 要求！\")"
   ]
  },
  {
   "cell_type": "code",
   "execution_count": null,
   "id": "628d7fd6-d52e-4336-8f59-3d72d2e9f902",
   "metadata": {
    "id": "628d7fd6-d52e-4336-8f59-3d72d2e9f902"
   },
   "outputs": [],
   "source": []
  },
  {
   "cell_type": "code",
   "execution_count": null,
   "id": "d674ef87-a830-4a55-84d1-9a8b944d3aad",
   "metadata": {},
   "outputs": [],
   "source": []
  },
  {
   "cell_type": "code",
   "execution_count": null,
   "id": "e72e7933-2811-4f05-8092-db9a97604bbc",
   "metadata": {},
   "outputs": [],
   "source": []
  },
  {
   "cell_type": "code",
   "execution_count": null,
   "id": "bfb44130-8554-430e-86c8-f3e74889810f",
   "metadata": {},
   "outputs": [],
   "source": []
  }
 ],
 "metadata": {
  "colab": {
   "provenance": []
  },
  "kernelspec": {
   "display_name": "Python 3 (ipykernel)",
   "language": "python",
   "name": "python3"
  },
  "language_info": {
   "codemirror_mode": {
    "name": "ipython",
    "version": 3
   },
   "file_extension": ".py",
   "mimetype": "text/x-python",
   "name": "python",
   "nbconvert_exporter": "python",
   "pygments_lexer": "ipython3",
   "version": "3.9.13"
  }
 },
 "nbformat": 4,
 "nbformat_minor": 5
}
