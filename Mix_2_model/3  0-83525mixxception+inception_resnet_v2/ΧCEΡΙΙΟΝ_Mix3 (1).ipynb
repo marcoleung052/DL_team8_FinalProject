{
 "cells": [
  {
   "cell_type": "code",
   "execution_count": 1,
   "id": "19dd142d-af4f-4cc4-a737-cb5cf859e92e",
   "metadata": {
    "execution": {
     "iopub.execute_input": "2025-05-23T13:13:16.673363Z",
     "iopub.status.busy": "2025-05-23T13:13:16.672674Z",
     "iopub.status.idle": "2025-05-23T13:13:16.793392Z",
     "shell.execute_reply": "2025-05-23T13:13:16.792137Z",
     "shell.execute_reply.started": "2025-05-23T13:13:16.673307Z"
    },
    "tags": []
   },
   "outputs": [
    {
     "data": {
      "application/vnd.jupyter.widget-view+json": {
       "model_id": "a38075f82646489a9d07feac348ca067",
       "version_major": 2,
       "version_minor": 0
      },
      "text/plain": [
       "FileUpload(value=(), description='Upload')"
      ]
     },
     "metadata": {},
     "output_type": "display_data"
    }
   ],
   "source": [
    "from IPython.display import display\n",
    "import os\n",
    "\n",
    "# 上傳檔案（會跳出檔案選擇器）\n",
    "from ipywidgets import FileUpload\n",
    "\n",
    "upload = FileUpload()\n",
    "display(upload)"
   ]
  },
  {
   "cell_type": "code",
   "execution_count": 2,
   "id": "172906a3-1dd5-4484-a903-2877d1e50ebc",
   "metadata": {
    "execution": {
     "iopub.execute_input": "2025-05-23T13:13:34.512336Z",
     "iopub.status.busy": "2025-05-23T13:13:34.511978Z",
     "iopub.status.idle": "2025-05-23T13:13:34.527765Z",
     "shell.execute_reply": "2025-05-23T13:13:34.526467Z",
     "shell.execute_reply.started": "2025-05-23T13:13:34.512311Z"
    },
    "tags": []
   },
   "outputs": [
    {
     "name": "stdout",
     "output_type": "stream",
     "text": [
      "{'name': 'kaggle.json', 'type': 'application/json', 'size': 64, 'content': <memory at 0x7b3e52718d00>, 'last_modified': datetime.datetime(2025, 4, 21, 6, 7, 11, 972000, tzinfo=datetime.timezone.utc)}\n",
      "kaggle.json 已成功儲存至 /home/jovyan/.kaggle/kaggle.json\n"
     ]
    }
   ],
   "source": [
    "import os\n",
    "from pathlib import Path\n",
    "\n",
    "# 假設你只上傳了一個檔案\n",
    "fileinfo = upload.value[0]  # 通常是一個 dict，含 'name' 和 'content'\n",
    "\n",
    "# 顯示內容結構（除錯用）\n",
    "print(fileinfo)\n",
    "\n",
    "# 儲存 kaggle.json\n",
    "filename = fileinfo['name']\n",
    "content = fileinfo['content']\n",
    "\n",
    "kaggle_dir = Path.home() / \".kaggle\"\n",
    "kaggle_dir.mkdir(exist_ok=True)\n",
    "\n",
    "kaggle_json_path = kaggle_dir / \"kaggle.json\"\n",
    "with open(kaggle_json_path, \"wb\") as f:\n",
    "    f.write(content)\n",
    "\n",
    "# 設定權限（Linux/macOS 建議）\n",
    "os.chmod(kaggle_json_path, 0o600)\n",
    "\n",
    "print(f\"{filename} 已成功儲存至 {kaggle_json_path}\")"
   ]
  },
  {
   "cell_type": "code",
   "execution_count": 3,
   "id": "e13e384c-f12d-4c02-b891-80542dd9a6db",
   "metadata": {
    "execution": {
     "iopub.execute_input": "2025-05-23T13:13:35.053455Z",
     "iopub.status.busy": "2025-05-23T13:13:35.052774Z",
     "iopub.status.idle": "2025-05-23T13:13:35.312913Z",
     "shell.execute_reply": "2025-05-23T13:13:35.310918Z",
     "shell.execute_reply.started": "2025-05-23T13:13:35.053398Z"
    },
    "tags": []
   },
   "outputs": [
    {
     "name": "stdout",
     "output_type": "stream",
     "text": [
      "/bin/bash: line 1: kaggle: command not found\n"
     ]
    }
   ],
   "source": [
    "!kaggle datasets list -s cifar\n"
   ]
  },
  {
   "cell_type": "code",
   "execution_count": 4,
   "id": "2e5fb396-b2e8-4b41-a76c-81dcd0626c01",
   "metadata": {
    "execution": {
     "iopub.execute_input": "2025-05-23T13:13:35.653316Z",
     "iopub.status.busy": "2025-05-23T13:13:35.652580Z",
     "iopub.status.idle": "2025-05-23T13:17:03.283331Z",
     "shell.execute_reply": "2025-05-23T13:17:03.281742Z",
     "shell.execute_reply.started": "2025-05-23T13:13:35.653255Z"
    },
    "tags": []
   },
   "outputs": [
    {
     "name": "stdout",
     "output_type": "stream",
     "text": [
      "Collecting kaggle\n",
      "  Using cached kaggle-1.7.4.5-py3-none-any.whl (181 kB)\n",
      "Requirement already satisfied: setuptools>=21.0.0 in /opt/conda/lib/python3.9/site-packages (from kaggle) (65.4.1)\n",
      "Requirement already satisfied: six>=1.10 in /opt/conda/lib/python3.9/site-packages (from kaggle) (1.16.0)\n",
      "Requirement already satisfied: requests in /opt/conda/lib/python3.9/site-packages (from kaggle) (2.32.3)\n",
      "Requirement already satisfied: webencodings in /opt/conda/lib/python3.9/site-packages (from kaggle) (0.5.1)\n",
      "Requirement already satisfied: python-dateutil>=2.5.3 in /opt/conda/lib/python3.9/site-packages (from kaggle) (2.8.2)\n",
      "Requirement already satisfied: tqdm in /opt/conda/lib/python3.9/site-packages (from kaggle) (4.64.1)\n",
      "Collecting text-unidecode\n",
      "  Using cached text_unidecode-1.3-py2.py3-none-any.whl (78 kB)\n",
      "Requirement already satisfied: certifi>=14.05.14 in /opt/conda/lib/python3.9/site-packages (from kaggle) (2025.1.31)\n",
      "Requirement already satisfied: urllib3>=1.15.1 in /opt/conda/lib/python3.9/site-packages (from kaggle) (2.4.0)\n",
      "Requirement already satisfied: bleach in /opt/conda/lib/python3.9/site-packages (from kaggle) (5.0.1)\n",
      "Collecting python-slugify\n",
      "  Using cached python_slugify-8.0.4-py2.py3-none-any.whl (10 kB)\n",
      "Requirement already satisfied: charset-normalizer in /opt/conda/lib/python3.9/site-packages (from kaggle) (2.1.1)\n",
      "Requirement already satisfied: idna in /opt/conda/lib/python3.9/site-packages (from kaggle) (3.4)\n",
      "Requirement already satisfied: protobuf in /opt/conda/lib/python3.9/site-packages (from kaggle) (4.21.7)\n",
      "Installing collected packages: text-unidecode, python-slugify, kaggle\n",
      "Successfully installed kaggle-1.7.4.5 python-slugify-8.0.4 text-unidecode-1.3\n",
      "\u001b[33mWARNING: Running pip as the 'root' user can result in broken permissions and conflicting behaviour with the system package manager. It is recommended to use a virtual environment instead: https://pip.pypa.io/warnings/venv\u001b[0m\u001b[33m\n",
      "\u001b[0mRequirement already satisfied: pandas in /opt/conda/lib/python3.9/site-packages (1.5.0)\n",
      "Collecting pandas\n",
      "  Using cached pandas-2.2.3-cp39-cp39-manylinux_2_17_x86_64.manylinux2014_x86_64.whl (13.1 MB)\n",
      "Requirement already satisfied: numpy>=1.22.4 in /opt/conda/lib/python3.9/site-packages (from pandas) (1.23.3)\n",
      "Requirement already satisfied: pytz>=2020.1 in /opt/conda/lib/python3.9/site-packages (from pandas) (2022.4)\n",
      "Collecting tzdata>=2022.7\n",
      "  Using cached tzdata-2025.2-py2.py3-none-any.whl (347 kB)\n",
      "Requirement already satisfied: python-dateutil>=2.8.2 in /opt/conda/lib/python3.9/site-packages (from pandas) (2.8.2)\n",
      "Requirement already satisfied: six>=1.5 in /opt/conda/lib/python3.9/site-packages (from python-dateutil>=2.8.2->pandas) (1.16.0)\n",
      "Installing collected packages: tzdata, pandas\n",
      "  Attempting uninstall: tzdata\n",
      "    Found existing installation: tzdata 2022.4\n",
      "    Uninstalling tzdata-2022.4:\n",
      "      Successfully uninstalled tzdata-2022.4\n",
      "  Attempting uninstall: pandas\n",
      "    Found existing installation: pandas 1.5.0\n",
      "    Uninstalling pandas-1.5.0:\n",
      "      Successfully uninstalled pandas-1.5.0\n",
      "Successfully installed pandas-2.2.3 tzdata-2025.2\n",
      "\u001b[33mWARNING: Running pip as the 'root' user can result in broken permissions and conflicting behaviour with the system package manager. It is recommended to use a virtual environment instead: https://pip.pypa.io/warnings/venv\u001b[0m\u001b[33m\n",
      "\u001b[0mcp: cannot stat 'kaggle.json': No such file or directory\n",
      "Downloading dog-breed-identification.zip to /home/jovyan\n",
      " 99%|████████████████████████████████████████▍| 681M/691M [00:04<00:00, 181MB/s]\n",
      "100%|█████████████████████████████████████████| 691M/691M [00:04<00:00, 174MB/s]\n"
     ]
    },
    {
     "name": "stderr",
     "output_type": "stream",
     "text": [
      "/opt/conda/lib/python3.9/site-packages/pandas/core/computation/expressions.py:21: UserWarning: Pandas requires version '2.8.4' or newer of 'numexpr' (version '2.8.3' currently installed).\n",
      "  from pandas.core.computation.check import NUMEXPR_INSTALLED\n",
      "/opt/conda/lib/python3.9/site-packages/pandas/core/arrays/masked.py:60: UserWarning: Pandas requires version '1.3.6' or newer of 'bottleneck' (version '1.3.5' currently installed).\n",
      "  from pandas.core import (\n"
     ]
    }
   ],
   "source": [
    "!pip install -U kaggle\n",
    "!pip install --upgrade pandas\n",
    "import os\n",
    "import zipfile\n",
    "\n",
    "# 建立 Kaggle 資料夾\n",
    "!mkdir -p ~/.kaggle\n",
    "!cp kaggle.json ~/.kaggle/\n",
    "!chmod 600 ~/.kaggle/kaggle.json\n",
    "\n",
    "# 下載 Dog Breed Identification 資料集\n",
    "!kaggle competitions download -c dog-breed-identification --force\n",
    "!unzip -oq dog-breed-identification.zip -d dog-breed-identification\n",
    "\n",
    "\n",
    "import pandas as pd\n",
    "import numpy as np\n",
    "\n",
    "labels = pd.read_csv('dog-breed-identification/labels.csv')\n"
   ]
  },
  {
   "cell_type": "code",
   "execution_count": 5,
   "id": "730c9a46-2b61-48be-b907-137ded3ab21d",
   "metadata": {
    "execution": {
     "iopub.execute_input": "2025-05-23T13:17:03.285188Z",
     "iopub.status.busy": "2025-05-23T13:17:03.284957Z",
     "iopub.status.idle": "2025-05-23T13:17:48.998839Z",
     "shell.execute_reply": "2025-05-23T13:17:48.997314Z",
     "shell.execute_reply.started": "2025-05-23T13:17:03.285168Z"
    },
    "tags": []
   },
   "outputs": [
    {
     "name": "stderr",
     "output_type": "stream",
     "text": [
      "100%|██████████| 10222/10222 [00:45<00:00, 223.90it/s]\n"
     ]
    }
   ],
   "source": [
    "import os\n",
    "import shutil\n",
    "import pandas as pd\n",
    "from PIL import Image\n",
    "from tqdm import tqdm\n",
    "# 讀取標籤\n",
    "labels = pd.read_csv('dog-breed-identification/labels.csv')\n",
    "# 建立目標輸出資料夾\n",
    "output_dir = \"dog_images\"\n",
    "train_dir = os.path.join(output_dir, \"train\")\n",
    "os.makedirs(train_dir, exist_ok=True)\n",
    "\n",
    "# 根據標籤將圖片存入對應資料夾\n",
    "def organize_train_images(labels): # Pass labels as an argument\n",
    "    src_img_dir = \"dog-breed-identification/train\"\n",
    "    for idx, row in tqdm(labels.iterrows(), total=len(labels)):\n",
    "        img_id = row['id']\n",
    "        breed = row['breed']\n",
    "        src_path = os.path.join(src_img_dir, img_id + \".jpg\")\n",
    "\n",
    "        # 建立品種對應資料夾\n",
    "        breed_dir = os.path.join(train_dir, breed)\n",
    "        os.makedirs(breed_dir, exist_ok=True)\n",
    "\n",
    "        dst_path = os.path.join(breed_dir, img_id + \".jpg\")\n",
    "        shutil.copyfile(src_path, dst_path)\n",
    "\n",
    "# Load labels outside the function\n",
    "labels = pd.read_csv('dog-breed-identification/labels.csv')\n",
    "organize_train_images(labels) # Call the function with labels argument"
   ]
  },
  {
   "cell_type": "code",
   "execution_count": 30,
   "id": "53fafafb-66d1-417b-9603-84097d9b4686",
   "metadata": {
    "execution": {
     "iopub.execute_input": "2025-05-23T13:52:31.466761Z",
     "iopub.status.busy": "2025-05-23T13:52:31.466423Z",
     "iopub.status.idle": "2025-05-23T13:52:31.478966Z",
     "shell.execute_reply": "2025-05-23T13:52:31.476736Z",
     "shell.execute_reply.started": "2025-05-23T13:52:31.466731Z"
    },
    "tags": []
   },
   "outputs": [],
   "source": [
    "from PIL import UnidentifiedImageError, Image\n",
    "\n",
    "class DogBreedImageFolder(Dataset):\n",
    "    def __init__(self, root_dir, transform=None):\n",
    "        self.root_dir = root_dir\n",
    "        self.transform = transform\n",
    "        self.image_paths = []\n",
    "        self.labels = []\n",
    "\n",
    "        # 建立類別對應表：品種 → 數值 label\n",
    "        class_names = sorted(os.listdir(root_dir))\n",
    "        self.class_to_idx = {class_name: idx for idx, class_name in enumerate(class_names)}\n",
    "\n",
    "        for class_name in class_names:\n",
    "            class_folder = os.path.join(root_dir, class_name)\n",
    "            if not os.path.isdir(class_folder):\n",
    "                continue\n",
    "            for filename in os.listdir(class_folder):\n",
    "                if filename.endswith(('.jpg', '.png')):\n",
    "                    self.image_paths.append(os.path.join(class_folder, filename))\n",
    "                    self.labels.append(self.class_to_idx[class_name])\n",
    "\n",
    "    def __len__(self):\n",
    "        return len(self.image_paths)\n",
    "\n",
    "    def __getitem__(self, idx):\n",
    "        img_path = self.image_paths[idx]\n",
    "        label = self.labels[idx]\n",
    "        try:\n",
    "            image = Image.open(img_path).convert(\"RGB\")\n",
    "        except UnidentifiedImageError:\n",
    "            print(f\"警告：無法識別圖片檔案，已使用空白圖片代替：{img_path}\")\n",
    "            # 產生一張黑色空白圖 (大小可改成跟你的 transform 期待的尺寸)\n",
    "            image = Image.new(\"RGB\", (224, 224), (0, 0, 0))\n",
    "\n",
    "        if self.transform:\n",
    "            image = self.transform(image)\n",
    "        return image, label\n"
   ]
  },
  {
   "cell_type": "code",
   "execution_count": 31,
   "id": "dbbeeba0-bf0d-4bd6-9a0d-970074bdae22",
   "metadata": {
    "execution": {
     "iopub.execute_input": "2025-05-23T13:52:32.371474Z",
     "iopub.status.busy": "2025-05-23T13:52:32.370796Z",
     "iopub.status.idle": "2025-05-23T13:52:32.386098Z",
     "shell.execute_reply": "2025-05-23T13:52:32.384460Z",
     "shell.execute_reply.started": "2025-05-23T13:52:32.371420Z"
    },
    "tags": []
   },
   "outputs": [],
   "source": [
    "# 定義 Transform\n",
    "from torchvision.transforms import RandomResizedCrop, RandomHorizontalFlip, ColorJitter, RandomRotation, ToTensor, Normalize\n",
    "\n",
    "train_transform = transforms.Compose([\n",
    "    transforms.RandomResizedCrop(224, scale=(0.6, 1.0)),\n",
    "    transforms.RandomHorizontalFlip(p=0.5),\n",
    "    transforms.RandomRotation(20),\n",
    "    transforms.ColorJitter(brightness=0.4, contrast=0.4, saturation=0.4, hue=0.1),\n",
    "    transforms.RandomAffine(degrees=10, translate=(0.1, 0.1)),\n",
    "    transforms.ToTensor(),\n",
    "    transforms.Normalize((0.485, 0.456, 0.406),\n",
    "                         (0.229, 0.224, 0.225)),\n",
    "])\n",
    "\n",
    "\n",
    "\n",
    "test_transform = transforms.Compose([\n",
    "    transforms.Resize((224, 224)),\n",
    "    transforms.ToTensor(),\n",
    "    transforms.Normalize((0.5,)*3, (0.5,)*3),\n",
    "])"
   ]
  },
  {
   "cell_type": "code",
   "execution_count": 32,
   "id": "23347d9e-a207-46c7-991b-7b7c9043c443",
   "metadata": {
    "execution": {
     "iopub.execute_input": "2025-05-23T13:52:32.574164Z",
     "iopub.status.busy": "2025-05-23T13:52:32.573500Z",
     "iopub.status.idle": "2025-05-23T13:52:32.680844Z",
     "shell.execute_reply": "2025-05-23T13:52:32.679499Z",
     "shell.execute_reply.started": "2025-05-23T13:52:32.574110Z"
    },
    "tags": []
   },
   "outputs": [
    {
     "name": "stdout",
     "output_type": "stream",
     "text": [
      "Train label distribution: Counter({97: 108, 73: 98, 87: 94, 42: 91, 94: 91, 52: 88, 100: 88, 26: 88, 11: 87, 1: 86, 109: 86, 61: 85, 13: 84, 60: 83, 9: 83, 7: 81, 75: 81, 6: 81, 84: 81, 117: 80, 69: 80, 93: 78, 68: 78, 78: 78, 102: 76, 59: 76, 80: 75, 30: 75, 10: 74, 95: 74, 3: 74, 17: 73, 88: 73, 101: 72, 33: 72, 86: 72, 55: 71, 82: 71, 63: 71, 119: 71, 19: 70, 35: 70, 64: 70, 105: 69, 37: 69, 70: 69, 90: 69, 114: 69, 92: 69, 2: 68, 50: 68, 15: 68, 58: 68, 14: 68, 98: 67, 67: 67, 79: 67, 53: 67, 85: 67, 57: 66, 28: 66, 81: 65, 36: 65, 39: 65, 54: 65, 12: 65, 0: 64, 106: 63, 8: 63, 76: 63, 71: 63, 110: 63, 62: 63, 104: 63, 96: 63, 25: 63, 115: 63, 21: 63, 31: 63, 77: 62, 107: 62, 20: 62, 38: 62, 40: 62, 111: 62, 56: 62, 27: 62, 116: 61, 99: 61, 118: 61, 89: 61, 32: 60, 4: 60, 74: 60, 112: 59, 44: 59, 47: 59, 18: 59, 41: 59, 34: 58, 91: 58, 103: 58, 51: 57, 23: 57, 72: 57, 5: 57, 16: 57, 43: 57, 108: 57, 29: 56, 49: 56, 48: 56, 83: 55, 24: 54, 45: 53, 66: 52, 22: 52, 46: 51, 65: 51, 113: 50})\n",
      "Val label distribution: Counter({3: 33, 1: 30, 7: 29, 11: 27, 69: 26, 56: 26, 59: 25, 42: 24, 20: 24, 100: 24, 52: 23, 101: 23, 9: 22, 109: 21, 93: 21, 39: 21, 6: 21, 40: 21, 5: 21, 88: 21, 68: 21, 70: 21, 98: 21, 75: 21, 118: 21, 74: 20, 116: 20, 80: 20, 55: 20, 86: 20, 61: 20, 35: 19, 8: 19, 73: 19, 90: 19, 113: 19, 96: 19, 24: 19, 66: 19, 62: 18, 2: 18, 91: 18, 51: 18, 46: 18, 26: 18, 30: 18, 13: 18, 17: 18, 71: 18, 97: 18, 94: 18, 19: 17, 28: 17, 14: 17, 87: 17, 31: 17, 67: 17, 111: 17, 54: 17, 15: 17, 45: 17, 110: 17, 72: 16, 41: 16, 107: 16, 0: 16, 82: 16, 47: 16, 115: 16, 114: 16, 77: 16, 104: 16, 57: 16, 65: 16, 18: 16, 76: 16, 79: 16, 29: 15, 53: 15, 63: 15, 33: 15, 92: 15, 117: 15, 99: 15, 22: 15, 16: 15, 10: 15, 84: 15, 102: 14, 27: 14, 83: 14, 34: 14, 32: 14, 4: 14, 44: 13, 81: 13, 48: 13, 50: 13, 78: 13, 103: 13, 25: 12, 38: 12, 95: 12, 64: 12, 12: 12, 21: 12, 108: 12, 49: 11, 89: 11, 37: 11, 119: 11, 112: 11, 36: 11, 58: 10, 105: 10, 60: 9, 106: 9, 23: 9, 43: 9, 85: 8})\n"
     ]
    }
   ],
   "source": [
    "# 建立 Dataset 與切分\n",
    "from torch.utils.data import random_split, DataLoader, WeightedRandomSampler\n",
    "import collections\n",
    "from collections import Counter\n",
    "\n",
    "# 讀取分類後資料\n",
    "dataset = DogBreedImageFolder(\"dog_images/train\", transform=train_transform)\n",
    "\n",
    "# 計算資料數量與切分比例\n",
    "val_ratio = 0.2\n",
    "val_size = int(len(dataset) * val_ratio)\n",
    "train_size = len(dataset) - val_size\n",
    "train_dataset, val_dataset = random_split(dataset, [train_size, val_size])\n",
    "\n",
    "# 取得 training set 的原始 indices\n",
    "train_indices = train_dataset.indices  # 是 dataset 中對應的索引\n",
    "train_labels = [dataset.labels[i] for i in train_indices]\n",
    "\n",
    "# 計算類別樣本數與每個 sample 權重\n",
    "label_counts = Counter(train_labels)\n",
    "class_sample_counts = [label_counts[i] for i in range(len(label_counts))]\n",
    "sample_weights = [1.0 / class_sample_counts[label] for label in train_labels]\n",
    "\n",
    "# 建立 WeightedRandomSampler\n",
    "sampler = WeightedRandomSampler(weights=sample_weights, num_samples=len(sample_weights), replacement=True)\n",
    "\n",
    "train_loader = DataLoader(train_dataset, batch_size=32, shuffle=True, num_workers=2)\n",
    "val_loader = DataLoader(val_dataset, batch_size=32, shuffle=False, num_workers=2)\n",
    "\n",
    "# 顯示類別分布（驗證分布仍可看是否合理）\n",
    "val_labels = [dataset.labels[i] for i in val_dataset.indices]\n",
    "print(\"Train label distribution:\", Counter(train_labels))\n",
    "print(\"Val label distribution:\", Counter(val_labels))\n"
   ]
  },
  {
   "cell_type": "code",
   "execution_count": 33,
   "id": "642563ca-8cb7-4029-a485-77bd5307ced0",
   "metadata": {
    "execution": {
     "iopub.execute_input": "2025-05-23T13:52:33.207760Z",
     "iopub.status.busy": "2025-05-23T13:52:33.207175Z",
     "iopub.status.idle": "2025-05-23T13:52:34.134601Z",
     "shell.execute_reply": "2025-05-23T13:52:34.132301Z",
     "shell.execute_reply.started": "2025-05-23T13:52:33.207713Z"
    },
    "tags": []
   },
   "outputs": [
    {
     "name": "stdout",
     "output_type": "stream",
     "text": [
      "Images shape: torch.Size([32, 3, 224, 224])\n",
      "Labels shape: torch.Size([32])\n"
     ]
    }
   ],
   "source": [
    "#驗證資料載入\n",
    "# 驗證一個 batch\n",
    "for images, labels in train_loader:\n",
    "    print(\"Images shape:\", images.shape)  # [B, 3, 224, 224]\n",
    "    print(\"Labels shape:\", labels.shape)  # [B]\n",
    "    break"
   ]
  },
  {
   "cell_type": "code",
   "execution_count": 34,
   "id": "e2d5cb3c-7f1e-44bf-b0cc-5169d3d827d0",
   "metadata": {
    "execution": {
     "iopub.execute_input": "2025-05-23T13:52:34.138887Z",
     "iopub.status.busy": "2025-05-23T13:52:34.138242Z",
     "iopub.status.idle": "2025-05-23T13:52:35.418164Z",
     "shell.execute_reply": "2025-05-23T13:52:35.417220Z",
     "shell.execute_reply.started": "2025-05-23T13:52:34.138830Z"
    },
    "tags": []
   },
   "outputs": [
    {
     "name": "stderr",
     "output_type": "stream",
     "text": [
      "Clipping input data to the valid range for imshow with RGB data ([0..1] for floats or [0..255] for integers).\n"
     ]
    },
    {
     "data": {
      "image/png": "[encoded data removed]",
      "text/plain": [
       "<Figure size 640x480 with 1 Axes>"
      ]
     },
     "metadata": {},
     "output_type": "display_data"
    }
   ],
   "source": [
    "# 如果需要視覺化一個 batch\n",
    "import matplotlib.pyplot as plt\n",
    "def show_batch(loader):\n",
    "    images, labels = next(iter(loader))\n",
    "    img = images[0].permute(1, 2, 0).numpy()\n",
    "    plt.imshow(img)\n",
    "    plt.title(f\"Label: {labels[0]}\")\n",
    "    plt.show()\n",
    "\n",
    "show_batch(train_loader)"
   ]
  },
  {
   "cell_type": "code",
   "execution_count": 35,
   "id": "ec9f933f-3899-451f-acbf-7106f77d98a4",
   "metadata": {
    "execution": {
     "iopub.execute_input": "2025-05-23T13:52:35.419199Z",
     "iopub.status.busy": "2025-05-23T13:52:35.419005Z",
     "iopub.status.idle": "2025-05-23T13:52:35.643910Z",
     "shell.execute_reply": "2025-05-23T13:52:35.642930Z",
     "shell.execute_reply.started": "2025-05-23T13:52:35.419181Z"
    },
    "tags": []
   },
   "outputs": [],
   "source": [
    "import gc\n",
    "import torch\n",
    "\n",
    "gc.collect()\n",
    "torch.cuda.empty_cache()\n"
   ]
  },
  {
   "cell_type": "code",
   "execution_count": 36,
   "id": "b793fc78-ed65-466b-b81a-f2cfc6eff30b",
   "metadata": {
    "execution": {
     "iopub.execute_input": "2025-05-23T13:52:35.645624Z",
     "iopub.status.busy": "2025-05-23T13:52:35.645424Z",
     "iopub.status.idle": "2025-05-23T13:52:38.171055Z",
     "shell.execute_reply": "2025-05-23T13:52:38.169003Z",
     "shell.execute_reply.started": "2025-05-23T13:52:35.645607Z"
    },
    "tags": []
   },
   "outputs": [
    {
     "name": "stdout",
     "output_type": "stream",
     "text": [
      "Requirement already satisfied: timm in /opt/conda/lib/python3.9/site-packages (1.0.15)\n",
      "Requirement already satisfied: safetensors in /opt/conda/lib/python3.9/site-packages (from timm) (0.5.3)\n",
      "Requirement already satisfied: pyyaml in /opt/conda/lib/python3.9/site-packages (from timm) (6.0)\n",
      "Requirement already satisfied: torch in /opt/conda/lib/python3.9/site-packages (from timm) (1.13.1)\n",
      "Requirement already satisfied: torchvision in /opt/conda/lib/python3.9/site-packages (from timm) (0.14.1)\n",
      "Requirement already satisfied: huggingface_hub in /opt/conda/lib/python3.9/site-packages (from timm) (0.30.2)\n",
      "Requirement already satisfied: typing-extensions>=3.7.4.3 in /opt/conda/lib/python3.9/site-packages (from huggingface_hub->timm) (4.13.2)\n",
      "Requirement already satisfied: tqdm>=4.42.1 in /opt/conda/lib/python3.9/site-packages (from huggingface_hub->timm) (4.64.1)\n",
      "Requirement already satisfied: filelock in /opt/conda/lib/python3.9/site-packages (from huggingface_hub->timm) (3.17.0)\n",
      "Requirement already satisfied: requests in /opt/conda/lib/python3.9/site-packages (from huggingface_hub->timm) (2.32.3)\n",
      "Requirement already satisfied: packaging>=20.9 in /opt/conda/lib/python3.9/site-packages (from huggingface_hub->timm) (24.2)\n",
      "Requirement already satisfied: fsspec>=2023.5.0 in /opt/conda/lib/python3.9/site-packages (from huggingface_hub->timm) (2025.3.2)\n",
      "Requirement already satisfied: nvidia-cuda-nvrtc-cu11==11.7.99 in /opt/conda/lib/python3.9/site-packages (from torch->timm) (11.7.99)\n",
      "Requirement already satisfied: nvidia-cublas-cu11==11.10.3.66 in /opt/conda/lib/python3.9/site-packages (from torch->timm) (11.10.3.66)\n",
      "Requirement already satisfied: nvidia-cudnn-cu11==8.5.0.96 in /opt/conda/lib/python3.9/site-packages (from torch->timm) (8.5.0.96)\n",
      "Requirement already satisfied: nvidia-cuda-runtime-cu11==11.7.99 in /opt/conda/lib/python3.9/site-packages (from torch->timm) (11.7.99)\n",
      "Requirement already satisfied: wheel in /opt/conda/lib/python3.9/site-packages (from nvidia-cublas-cu11==11.10.3.66->torch->timm) (0.37.1)\n",
      "Requirement already satisfied: setuptools in /opt/conda/lib/python3.9/site-packages (from nvidia-cublas-cu11==11.10.3.66->torch->timm) (65.4.1)\n",
      "Requirement already satisfied: numpy in /opt/conda/lib/python3.9/site-packages (from torchvision->timm) (1.23.3)\n",
      "Requirement already satisfied: pillow!=8.3.*,>=5.3.0 in /opt/conda/lib/python3.9/site-packages (from torchvision->timm) (9.4.0)\n",
      "Requirement already satisfied: urllib3<3,>=1.21.1 in /opt/conda/lib/python3.9/site-packages (from requests->huggingface_hub->timm) (2.4.0)\n",
      "Requirement already satisfied: charset-normalizer<4,>=2 in /opt/conda/lib/python3.9/site-packages (from requests->huggingface_hub->timm) (2.1.1)\n",
      "Requirement already satisfied: idna<4,>=2.5 in /opt/conda/lib/python3.9/site-packages (from requests->huggingface_hub->timm) (3.4)\n",
      "Requirement already satisfied: certifi>=2017.4.17 in /opt/conda/lib/python3.9/site-packages (from requests->huggingface_hub->timm) (2025.1.31)\n",
      "\u001b[33mWARNING: Running pip as the 'root' user can result in broken permissions and conflicting behaviour with the system package manager. It is recommended to use a virtual environment instead: https://pip.pypa.io/warnings/venv\u001b[0m\u001b[33m\n",
      "\u001b[0m"
     ]
    }
   ],
   "source": [
    "!pip install timm\n"
   ]
  },
  {
   "cell_type": "code",
   "execution_count": 37,
   "id": "414540cd-824c-4fd0-8866-2d506f86b17c",
   "metadata": {
    "execution": {
     "iopub.execute_input": "2025-05-23T13:52:38.175636Z",
     "iopub.status.busy": "2025-05-23T13:52:38.174469Z",
     "iopub.status.idle": "2025-05-23T13:52:40.803451Z",
     "shell.execute_reply": "2025-05-23T13:52:40.802446Z",
     "shell.execute_reply.started": "2025-05-23T13:52:38.175572Z"
    },
    "tags": []
   },
   "outputs": [
    {
     "data": {
      "text/plain": [
       "Sequential(\n",
       "  (0): Linear(in_features=3584, out_features=512, bias=True)\n",
       "  (1): ReLU()\n",
       "  (2): Dropout(p=0.5, inplace=False)\n",
       "  (3): Linear(in_features=512, out_features=120, bias=True)\n",
       ")"
      ]
     },
     "execution_count": 37,
     "metadata": {},
     "output_type": "execute_result"
    }
   ],
   "source": [
    "class TwoModelFusion(nn.Module):\n",
    "    def __init__(self, num_classes=120, pretrained=True):\n",
    "        super().__init__()\n",
    "        # 模型先用 CPU 初始化\n",
    "        self.model1 = timm.create_model('xception', pretrained=pretrained, num_classes=0)\n",
    "        self.model2 = timm.create_model('inception_resnet_v2', pretrained=pretrained, num_classes=0)\n",
    "\n",
    "        self.fused_dim = self._get_fused_feature_dim()\n",
    "\n",
    "        self.classifier = nn.Sequential(\n",
    "            nn.Linear(self.fused_dim, 512),\n",
    "            nn.ReLU(),\n",
    "            nn.Dropout(0.5),\n",
    "            nn.Linear(512, num_classes)\n",
    "        )\n",
    "\n",
    "    def _get_fused_feature_dim(self):\n",
    "        with torch.no_grad():\n",
    "            dummy = torch.randn(1, 3, 299, 299)  # 注意使用 299x299\n",
    "            feat1 = self.model1(dummy)\n",
    "            feat2 = self.model2(dummy)\n",
    "\n",
    "            if feat1.ndim > 2: feat1 = torch.flatten(feat1, 1)\n",
    "            if feat2.ndim > 2: feat2 = torch.flatten(feat2, 1)\n",
    "\n",
    "            return feat1.shape[1] + feat2.shape[1]\n",
    "\n",
    "    def forward(self, x):\n",
    "        feat1 = self.model1(x)\n",
    "        feat2 = self.model2(x)\n",
    "\n",
    "        if feat1.ndim > 2:\n",
    "            feat1 = torch.flatten(feat1, 1)\n",
    "        if feat2.ndim > 2:\n",
    "            feat2 = torch.flatten(feat2, 1)\n",
    "\n",
    "        fused = torch.cat([feat1, feat2], dim=1)\n",
    "        return self.classifier(fused)\n",
    "\n",
    "# 初始化模型\n",
    "device = torch.device(\"cuda\" if torch.cuda.is_available() else \"cpu\")\n",
    "model = TwoModelFusion(num_classes=120)\n",
    "\n",
    "# 分批將子模型與 classifier 分配到 GPU\n",
    "model.model1.to(device)\n",
    "model.model2.to(device)\n",
    "model.classifier.to(device)\n",
    "\n",
    "# 訓練時也要確保 input 在 GPU\n",
    "# output = model(input_tensor.to(device))\n"
   ]
  },
  {
   "cell_type": "code",
   "execution_count": 38,
   "id": "ac519f99-2c79-4f8d-bfb1-0943e5807ca6",
   "metadata": {
    "execution": {
     "iopub.execute_input": "2025-05-23T13:52:40.804344Z",
     "iopub.status.busy": "2025-05-23T13:52:40.804168Z",
     "iopub.status.idle": "2025-05-23T13:52:40.820370Z",
     "shell.execute_reply": "2025-05-23T13:52:40.819447Z",
     "shell.execute_reply.started": "2025-05-23T13:52:40.804327Z"
    },
    "tags": []
   },
   "outputs": [],
   "source": [
    "from torch.optim import AdamW\n",
    "from torch.optim.lr_scheduler import LinearLR\n",
    "num_epochs = 30\n",
    "# 1. 計算 class weights（根據整體 dataset 分布）\n",
    "from collections import Counter\n",
    "\n",
    "label_counts = Counter(dataset.labels)\n",
    "num_classes = 120\n",
    "class_counts = [label_counts[i] for i in range(num_classes)]\n",
    "\n",
    "# 權重：類別樣本越少，損失權重越高\n",
    "weights = [1.0 / c for c in class_counts]\n",
    "weights = torch.tensor(weights, dtype=torch.float).to(device)\n",
    "import torch.optim as optim\n",
    "from torch.optim.lr_scheduler import ReduceLROnPlateau\n",
    "# 定義損失函數與優化器\n",
    "criterion = nn.CrossEntropyLoss()\n",
    "optimizer = optim.SGD(model.parameters(), lr=0.01, momentum=0.9)\n",
    "scheduler = ReduceLROnPlateau(optimizer, mode='min', patience=2, factor=0.5)\n"
   ]
  },
  {
   "cell_type": "code",
   "execution_count": 39,
   "id": "25cf8137-76e5-484b-95d2-fbf22792cd72",
   "metadata": {
    "execution": {
     "iopub.execute_input": "2025-05-23T13:52:40.822470Z",
     "iopub.status.busy": "2025-05-23T13:52:40.822281Z",
     "iopub.status.idle": "2025-05-23T14:24:34.404077Z",
     "shell.execute_reply": "2025-05-23T14:24:34.403432Z",
     "shell.execute_reply.started": "2025-05-23T13:52:40.822454Z"
    },
    "tags": []
   },
   "outputs": [
    {
     "name": "stdout",
     "output_type": "stream",
     "text": [
      "[Epoch 1/30] Train Loss: 2.5297, Accuracy: 42.66%\n",
      "Validation Loss: 1.0938, Accuracy: 69.08%\n",
      "✅ Saved new best model (Accuracy: 69.08%)\n",
      "[Epoch 2/30] Train Loss: 1.1067, Accuracy: 68.66%\n",
      "Validation Loss: 0.9100, Accuracy: 73.24%\n",
      "✅ Saved new best model (Accuracy: 73.24%)\n",
      "[Epoch 3/30] Train Loss: 0.8252, Accuracy: 75.48%\n",
      "Validation Loss: 0.9558, Accuracy: 74.17%\n",
      "✅ Saved new best model (Accuracy: 74.17%)\n",
      "[Epoch 4/30] Train Loss: 0.6643, Accuracy: 80.15%\n",
      "Validation Loss: 1.0695, Accuracy: 73.92%\n",
      "⚠️ EarlyStopping counter: 1/5\n",
      "[Epoch 5/30] Train Loss: 0.5560, Accuracy: 83.13%\n",
      "Validation Loss: 1.0129, Accuracy: 75.88%\n",
      "✅ Saved new best model (Accuracy: 75.88%)\n",
      "[Epoch 6/30] Train Loss: 0.3526, Accuracy: 89.06%\n",
      "Validation Loss: 0.7591, Accuracy: 80.14%\n",
      "✅ Saved new best model (Accuracy: 80.14%)\n",
      "[Epoch 7/30] Train Loss: 0.2709, Accuracy: 91.64%\n",
      "Validation Loss: 0.7677, Accuracy: 79.79%\n",
      "⚠️ EarlyStopping counter: 1/5\n",
      "[Epoch 8/30] Train Loss: 0.2180, Accuracy: 93.02%\n",
      "Validation Loss: 0.8127, Accuracy: 79.60%\n",
      "⚠️ EarlyStopping counter: 2/5\n",
      "[Epoch 9/30] Train Loss: 0.2042, Accuracy: 93.54%\n",
      "Validation Loss: 0.8179, Accuracy: 79.40%\n",
      "⚠️ EarlyStopping counter: 3/5\n",
      "[Epoch 10/30] Train Loss: 0.1474, Accuracy: 95.65%\n",
      "Validation Loss: 0.7433, Accuracy: 81.12%\n",
      "✅ Saved new best model (Accuracy: 81.12%)\n",
      "[Epoch 11/30] Train Loss: 0.1245, Accuracy: 96.22%\n",
      "Validation Loss: 0.7966, Accuracy: 81.21%\n",
      "✅ Saved new best model (Accuracy: 81.21%)\n",
      "[Epoch 12/30] Train Loss: 0.1203, Accuracy: 96.09%\n",
      "Validation Loss: 0.7731, Accuracy: 82.05%\n",
      "✅ Saved new best model (Accuracy: 82.05%)\n",
      "[Epoch 13/30] Train Loss: 0.1042, Accuracy: 96.91%\n",
      "Validation Loss: 0.8014, Accuracy: 80.19%\n",
      "⚠️ EarlyStopping counter: 1/5\n",
      "[Epoch 14/30] Train Loss: 0.0927, Accuracy: 97.33%\n",
      "Validation Loss: 0.7845, Accuracy: 81.16%\n",
      "⚠️ EarlyStopping counter: 2/5\n",
      "[Epoch 15/30] Train Loss: 0.0768, Accuracy: 97.88%\n",
      "Validation Loss: 0.7262, Accuracy: 81.70%\n",
      "⚠️ EarlyStopping counter: 3/5\n",
      "[Epoch 16/30] Train Loss: 0.0837, Accuracy: 97.54%\n",
      "Validation Loss: 0.7696, Accuracy: 81.70%\n",
      "⚠️ EarlyStopping counter: 4/5\n",
      "[Epoch 17/30] Train Loss: 0.0755, Accuracy: 97.79%\n",
      "Validation Loss: 0.7897, Accuracy: 81.07%\n",
      "⚠️ EarlyStopping counter: 5/5\n",
      "⛔ Early stopping triggered.\n"
     ]
    },
    {
     "data": {
      "text/plain": [
       "<All keys matched successfully>"
      ]
     },
     "execution_count": 39,
     "metadata": {},
     "output_type": "execute_result"
    }
   ],
   "source": [
    "import torch\n",
    "from torch.cuda.amp import autocast, GradScaler\n",
    "import numpy as np\n",
    "import copy\n",
    "\n",
    "scaler = GradScaler()\n",
    "\n",
    "best_val_acc = 0\n",
    "best_model_wts = copy.deepcopy(model.state_dict())\n",
    "early_stop_counter = 0\n",
    "early_stop_patience = 5  # 可自行調整\n",
    "save_path = \"best_model.pth\"\n",
    "\n",
    "for epoch in range(num_epochs):\n",
    "    model.train()\n",
    "    running_loss = 0.0\n",
    "    correct = 0\n",
    "    total = 0\n",
    "\n",
    "    torch.cuda.empty_cache()\n",
    "\n",
    "    for images, labels in train_loader:\n",
    "        images, labels = images.to(device), labels.to(device)\n",
    "\n",
    "        optimizer.zero_grad()\n",
    "\n",
    "        with autocast():\n",
    "            outputs = model(images)\n",
    "            loss = criterion(outputs, labels)\n",
    "\n",
    "        scaler.scale(loss).backward()\n",
    "        scaler.step(optimizer)\n",
    "        scaler.update()\n",
    "\n",
    "        running_loss += loss.item()\n",
    "        _, predicted = torch.max(outputs, 1)\n",
    "        total += labels.size(0)\n",
    "        correct += (predicted == labels).sum().item()\n",
    "\n",
    "    epoch_loss = running_loss / len(train_loader)\n",
    "    epoch_accuracy = 100 * correct / total\n",
    "    print(f\"[Epoch {epoch+1}/{num_epochs}] Train Loss: {epoch_loss:.4f}, Accuracy: {epoch_accuracy:.2f}%\")\n",
    "\n",
    "    # 驗證\n",
    "    model.eval()\n",
    "    val_loss = 0.0\n",
    "    correct = 0\n",
    "    total = 0\n",
    "\n",
    "    with torch.no_grad():\n",
    "        for images, labels in val_loader:\n",
    "            images, labels = images.to(device), labels.to(device)\n",
    "\n",
    "            with autocast():\n",
    "                outputs = model(images)\n",
    "                loss = criterion(outputs, labels)\n",
    "\n",
    "            val_loss += loss.item()\n",
    "            _, predicted = torch.max(outputs, 1)\n",
    "            total += labels.size(0)\n",
    "            correct += (predicted == labels).sum().item()\n",
    "\n",
    "    val_loss /= len(val_loader)\n",
    "    val_accuracy = 100 * correct / total\n",
    "    print(f\"Validation Loss: {val_loss:.4f}, Accuracy: {val_accuracy:.2f}%\")\n",
    "\n",
    "    # ReduceLROnPlateau\n",
    "    scheduler.step(val_loss)\n",
    "\n",
    "    # Save Best Model\n",
    "    if val_accuracy > best_val_acc:\n",
    "        best_val_acc = val_accuracy\n",
    "        best_model_wts = copy.deepcopy(model.state_dict())\n",
    "        torch.save(best_model_wts, save_path)\n",
    "        print(f\"✅ Saved new best model (Accuracy: {best_val_acc:.2f}%)\")\n",
    "        early_stop_counter = 0\n",
    "    else:\n",
    "        early_stop_counter += 1\n",
    "        print(f\"⚠️ EarlyStopping counter: {early_stop_counter}/{early_stop_patience}\")\n",
    "        if early_stop_counter >= early_stop_patience:\n",
    "            print(\"⛔ Early stopping triggered.\")\n",
    "            break\n",
    "\n",
    "# 載入最佳模型權重\n",
    "model.load_state_dict(torch.load(save_path))\n"
   ]
  },
  {
   "cell_type": "code",
   "execution_count": 40,
   "id": "8d306abf-c908-4307-afa8-ffd890aee88f",
   "metadata": {
    "execution": {
     "iopub.execute_input": "2025-05-23T14:24:34.404986Z",
     "iopub.status.busy": "2025-05-23T14:24:34.404810Z",
     "iopub.status.idle": "2025-05-23T14:24:35.087769Z",
     "shell.execute_reply": "2025-05-23T14:24:35.086432Z",
     "shell.execute_reply.started": "2025-05-23T14:24:34.404971Z"
    },
    "tags": []
   },
   "outputs": [],
   "source": [
    "# 保存訓練後的模型\n",
    "torch.save(model.state_dict(), \"dog_breed_model.pth\")\n"
   ]
  },
  {
   "cell_type": "code",
   "execution_count": 41,
   "id": "bd237980-ad71-4780-8b12-3bf900b5abf9",
   "metadata": {
    "execution": {
     "iopub.execute_input": "2025-05-23T14:24:35.090240Z",
     "iopub.status.busy": "2025-05-23T14:24:35.089830Z",
     "iopub.status.idle": "2025-05-23T14:24:47.058368Z",
     "shell.execute_reply": "2025-05-23T14:24:47.057334Z",
     "shell.execute_reply.started": "2025-05-23T14:24:35.090207Z"
    },
    "tags": []
   },
   "outputs": [
    {
     "name": "stdout",
     "output_type": "stream",
     "text": [
      "Test Accuracy: 93.88%\n"
     ]
    }
   ],
   "source": [
    "# 測試集的評估\n",
    "test_accuracy = 0\n",
    "with torch.no_grad():\n",
    "    for images, labels in val_loader:\n",
    "        images, labels = images.to(device), labels.to(device)\n",
    "\n",
    "        outputs = model(images)\n",
    "        _, predicted = torch.max(outputs, 1)\n",
    "\n",
    "        test_accuracy += (predicted == labels).sum().item()\n",
    "\n",
    "test_accuracy = 100 * test_accuracy / len(val_dataset)\n",
    "print(f\"Test Accuracy: {test_accuracy:.2f}%\")\n",
    "\n",
    "import os"
   ]
  },
  {
   "cell_type": "code",
   "execution_count": 42,
   "id": "7ca7a9f2-4bb1-49ac-a672-b956ac8f78d3",
   "metadata": {
    "execution": {
     "iopub.execute_input": "2025-05-23T14:24:47.059385Z",
     "iopub.status.busy": "2025-05-23T14:24:47.059215Z",
     "iopub.status.idle": "2025-05-23T14:24:47.065175Z",
     "shell.execute_reply": "2025-05-23T14:24:47.064420Z",
     "shell.execute_reply.started": "2025-05-23T14:24:47.059369Z"
    },
    "tags": []
   },
   "outputs": [],
   "source": [
    "from PIL import Image\n",
    "from torch.utils.data import Dataset, DataLoader\n",
    "from torchvision import transforms\n",
    "\n",
    "class TestImageDataset(Dataset):\n",
    "    def __init__(self, image_folder, transform=None):\n",
    "        self.image_folder = image_folder\n",
    "        self.image_filenames = sorted(os.listdir(image_folder))\n",
    "        self.transform = transform\n",
    "\n",
    "    def __len__(self):\n",
    "        return len(self.image_filenames)\n",
    "\n",
    "    def __getitem__(self, idx):\n",
    "        img_name = self.image_filenames[idx]\n",
    "        img_path = os.path.join(self.image_folder, img_name)\n",
    "        image = Image.open(img_path).convert('RGB')\n",
    "        if self.transform:\n",
    "            image = self.transform(image)\n",
    "        return image, img_name.split('.')[0]  # 傳回 image tensor 和 id（"
   ]
  },
  {
   "cell_type": "code",
   "execution_count": 43,
   "id": "b1813979-8cf3-431f-9fad-e31e729a397a",
   "metadata": {
    "execution": {
     "iopub.execute_input": "2025-05-23T14:24:47.065895Z",
     "iopub.status.busy": "2025-05-23T14:24:47.065758Z",
     "iopub.status.idle": "2025-05-23T14:24:47.188821Z",
     "shell.execute_reply": "2025-05-23T14:24:47.187416Z",
     "shell.execute_reply.started": "2025-05-23T14:24:47.065883Z"
    },
    "tags": []
   },
   "outputs": [],
   "source": [
    "# 取得所有類別名稱，需排序以符合 submission 格式\n",
    "all_breeds = sorted(dataset.class_to_idx.keys())\n",
    "\n",
    "# 建立 mapping\n",
    "idx_to_class = {v: k for k, v in dataset.class_to_idx.items()}\n",
    "# 修正 Test transform 使用與訓練相同的 ImageNet 格式\n",
    "test_transform = transforms.Compose([\n",
    "    transforms.Resize((224, 224)),\n",
    "    transforms.ToTensor(),\n",
    "    transforms.Normalize((0.485, 0.456, 0.406),  # 與訓練相同\n",
    "                         (0.229, 0.224, 0.225))\n",
    "])\n",
    "\n",
    "\n",
    "# 設定測試資料夾路徑\n",
    "test_folder = 'dog-breed-identification/test'  # 請確認實際位置\n",
    "\n",
    "# 建立 DataLoader\n",
    "test_dataset = TestImageDataset(test_folder, transform=test_transform)\n",
    "test_loader = DataLoader(test_dataset, batch_size=64, shuffle=False)\n",
    "\n",
    "# 建立 DataFrame 儲存預測結果\n",
    "results = []"
   ]
  },
  {
   "cell_type": "code",
   "execution_count": 44,
   "id": "016331d2-68f7-459b-bdfb-ffaf026869c0",
   "metadata": {
    "execution": {
     "iopub.execute_input": "2025-05-23T14:24:47.191183Z",
     "iopub.status.busy": "2025-05-23T14:24:47.190617Z",
     "iopub.status.idle": "2025-05-23T14:28:44.721665Z",
     "shell.execute_reply": "2025-05-23T14:28:44.720316Z",
     "shell.execute_reply.started": "2025-05-23T14:24:47.191132Z"
    },
    "tags": []
   },
   "outputs": [
    {
     "name": "stdout",
     "output_type": "stream",
     "text": [
      "✅ submission4.csv 已成功輸出，格式符合 Kaggle 要求！\n"
     ]
    }
   ],
   "source": [
    "# 使用 softmax 輸出機率\n",
    "results = []\n",
    "\n",
    "with torch.no_grad():\n",
    "    for inputs, image_ids in test_loader:\n",
    "        inputs = inputs.to(device)\n",
    "        outputs = model(inputs)\n",
    "        probs = torch.softmax(outputs, dim=1).cpu().numpy()  # shape: (batch_size, 120)\n",
    "\n",
    "        for img_id, prob_vector in zip(image_ids, probs):\n",
    "            row = {\"id\": img_id}\n",
    "            for breed, prob in zip(all_breeds, prob_vector):\n",
    "                row[breed] = prob\n",
    "            results.append(row)\n",
    "\n",
    "# 轉成 DataFrame 並輸出\n",
    "df = pd.DataFrame(results)\n",
    "df = df[[\"id\"] + all_breeds]  # 確保順序符合要求\n",
    "df.to_csv(\"submission_mix1.csv\", index=False)\n",
    "print(\"✅ submission4.csv 已成功輸出，格式符合 Kaggle 要求！\")\n"
   ]
  },
  {
   "cell_type": "code",
   "execution_count": null,
   "id": "1c3d06b3-47b2-495e-a7f4-7479bdf13961",
   "metadata": {},
   "outputs": [],
   "source": []
  },
  {
   "cell_type": "code",
   "execution_count": null,
   "id": "0bb9b984-5dde-417b-b18e-729bb2a54263",
   "metadata": {},
   "outputs": [],
   "source": []
  }
 ],
 "metadata": {
  "kernelspec": {
   "display_name": "Python 3 (ipykernel)",
   "language": "python",
   "name": "python3"
  },
  "language_info": {
   "codemirror_mode": {
    "name": "ipython",
    "version": 3
   },
   "file_extension": ".py",
   "mimetype": "text/x-python",
   "name": "python",
   "nbconvert_exporter": "python",
   "pygments_lexer": "ipython3",
   "version": "3.9.13"
  }
 },
 "nbformat": 4,
 "nbformat_minor": 5
}
