{
 "cells": [
  {
   "cell_type": "code",
   "execution_count": 1,
   "id": "19dd142d-af4f-4cc4-a737-cb5cf859e92e",
   "metadata": {
    "colab": {
     "referenced_widgets": [
      "11eddfa851a543dd971b0f844c71741b",
      "75d73772b08449fc8602a2c20d214379"
     ]
    },
    "execution": {
     "iopub.execute_input": "2025-05-22T23:42:10.054151Z",
     "iopub.status.busy": "2025-05-22T23:42:10.053422Z",
     "iopub.status.idle": "2025-05-22T23:42:10.138050Z",
     "shell.execute_reply": "2025-05-22T23:42:10.137368Z",
     "shell.execute_reply.started": "2025-05-22T23:42:10.054121Z"
    },
    "id": "19dd142d-af4f-4cc4-a737-cb5cf859e92e",
    "outputId": "0f84b91d-09bf-467b-ef29-7437798f7bb4",
    "tags": []
   },
   "outputs": [
    {
     "data": {
      "application/vnd.jupyter.widget-view+json": {
       "model_id": "15779606f8d14c33add76beb0cdc1e15",
       "version_major": 2,
       "version_minor": 0
      },
      "text/plain": [
       "FileUpload(value=(), description='Upload')"
      ]
     },
     "metadata": {},
     "output_type": "display_data"
    }
   ],
   "source": [
    "from IPython.display import display\n",
    "import os\n",
    "\n",
    "# 上傳檔案（會跳出檔案選擇器）\n",
    "from ipywidgets import FileUpload\n",
    "\n",
    "upload = FileUpload()\n",
    "display(upload)"
   ]
  },
  {
   "cell_type": "code",
   "execution_count": 2,
   "id": "172906a3-1dd5-4484-a903-2877d1e50ebc",
   "metadata": {
    "execution": {
     "iopub.execute_input": "2025-05-22T23:42:15.680287Z",
     "iopub.status.busy": "2025-05-22T23:42:15.679113Z",
     "iopub.status.idle": "2025-05-22T23:42:15.697252Z",
     "shell.execute_reply": "2025-05-22T23:42:15.696241Z",
     "shell.execute_reply.started": "2025-05-22T23:42:15.680227Z"
    },
    "id": "172906a3-1dd5-4484-a903-2877d1e50ebc",
    "outputId": "d911b214-4fca-45d4-d2b8-aec99db1c24e",
    "tags": []
   },
   "outputs": [
    {
     "name": "stdout",
     "output_type": "stream",
     "text": [
      "{'name': 'kaggle.json', 'type': 'application/json', 'size': 64, 'content': <memory at 0x7c5052764d00>, 'last_modified': datetime.datetime(2025, 4, 21, 6, 7, 11, 972000, tzinfo=datetime.timezone.utc)}\n",
      "kaggle.json 已成功儲存至 /home/jovyan/.kaggle/kaggle.json\n"
     ]
    }
   ],
   "source": [
    "import os\n",
    "from pathlib import Path\n",
    "\n",
    "# 假設你只上傳了一個檔案\n",
    "fileinfo = upload.value[0]  # 通常是一個 dict，含 'name' 和 'content'\n",
    "\n",
    "# 顯示內容結構（除錯用）\n",
    "print(fileinfo)\n",
    "\n",
    "# 儲存 kaggle.json\n",
    "filename = fileinfo['name']\n",
    "content = fileinfo['content']\n",
    "\n",
    "kaggle_dir = Path.home() / \".kaggle\"\n",
    "kaggle_dir.mkdir(exist_ok=True)\n",
    "\n",
    "kaggle_json_path = kaggle_dir / \"kaggle.json\"\n",
    "with open(kaggle_json_path, \"wb\") as f:\n",
    "    f.write(content)\n",
    "\n",
    "# 設定權限（Linux/macOS 建議）\n",
    "os.chmod(kaggle_json_path, 0o600)\n",
    "\n",
    "print(f\"{filename} 已成功儲存至 {kaggle_json_path}\")"
   ]
  },
  {
   "cell_type": "code",
   "execution_count": 3,
   "id": "e13e384c-f12d-4c02-b891-80542dd9a6db",
   "metadata": {
    "execution": {
     "iopub.execute_input": "2025-05-22T23:42:16.265971Z",
     "iopub.status.busy": "2025-05-22T23:42:16.264796Z",
     "iopub.status.idle": "2025-05-22T23:42:16.573497Z",
     "shell.execute_reply": "2025-05-22T23:42:16.572751Z",
     "shell.execute_reply.started": "2025-05-22T23:42:16.265914Z"
    },
    "id": "e13e384c-f12d-4c02-b891-80542dd9a6db",
    "outputId": "f04bf468-9dbf-47f0-b8b9-da7766f6d289",
    "tags": []
   },
   "outputs": [
    {
     "name": "stdout",
     "output_type": "stream",
     "text": [
      "/bin/bash: line 1: kaggle: command not found\n"
     ]
    }
   ],
   "source": [
    "!kaggle datasets list -s cifar\n"
   ]
  },
  {
   "cell_type": "code",
   "execution_count": 4,
   "id": "2e5fb396-b2e8-4b41-a76c-81dcd0626c01",
   "metadata": {
    "execution": {
     "iopub.execute_input": "2025-05-22T23:42:16.667348Z",
     "iopub.status.busy": "2025-05-22T23:42:16.666821Z",
     "iopub.status.idle": "2025-05-22T23:46:06.891401Z",
     "shell.execute_reply": "2025-05-22T23:46:06.890766Z",
     "shell.execute_reply.started": "2025-05-22T23:42:16.667321Z"
    },
    "id": "2e5fb396-b2e8-4b41-a76c-81dcd0626c01",
    "outputId": "64f9492c-0a04-4d31-f780-42ba9524b19b",
    "tags": []
   },
   "outputs": [
    {
     "name": "stdout",
     "output_type": "stream",
     "text": [
      "Collecting kaggle\n",
      "  Using cached kaggle-1.7.4.5-py3-none-any.whl (181 kB)\n",
      "Requirement already satisfied: tqdm in /opt/conda/lib/python3.9/site-packages (from kaggle) (4.64.1)\n",
      "Requirement already satisfied: idna in /opt/conda/lib/python3.9/site-packages (from kaggle) (3.4)\n",
      "Requirement already satisfied: setuptools>=21.0.0 in /opt/conda/lib/python3.9/site-packages (from kaggle) (65.4.1)\n",
      "Requirement already satisfied: urllib3>=1.15.1 in /opt/conda/lib/python3.9/site-packages (from kaggle) (2.4.0)\n",
      "Requirement already satisfied: certifi>=14.05.14 in /opt/conda/lib/python3.9/site-packages (from kaggle) (2025.1.31)\n",
      "Requirement already satisfied: requests in /opt/conda/lib/python3.9/site-packages (from kaggle) (2.32.3)\n",
      "Requirement already satisfied: python-dateutil>=2.5.3 in /opt/conda/lib/python3.9/site-packages (from kaggle) (2.8.2)\n",
      "Collecting text-unidecode\n",
      "  Using cached text_unidecode-1.3-py2.py3-none-any.whl (78 kB)\n",
      "Requirement already satisfied: webencodings in /opt/conda/lib/python3.9/site-packages (from kaggle) (0.5.1)\n",
      "Requirement already satisfied: bleach in /opt/conda/lib/python3.9/site-packages (from kaggle) (5.0.1)\n",
      "Collecting python-slugify\n",
      "  Using cached python_slugify-8.0.4-py2.py3-none-any.whl (10 kB)\n",
      "Requirement already satisfied: charset-normalizer in /opt/conda/lib/python3.9/site-packages (from kaggle) (2.1.1)\n",
      "Requirement already satisfied: protobuf in /opt/conda/lib/python3.9/site-packages (from kaggle) (4.21.7)\n",
      "Requirement already satisfied: six>=1.10 in /opt/conda/lib/python3.9/site-packages (from kaggle) (1.16.0)\n",
      "Installing collected packages: text-unidecode, python-slugify, kaggle\n",
      "Successfully installed kaggle-1.7.4.5 python-slugify-8.0.4 text-unidecode-1.3\n",
      "\u001b[33mWARNING: Running pip as the 'root' user can result in broken permissions and conflicting behaviour with the system package manager. It is recommended to use a virtual environment instead: https://pip.pypa.io/warnings/venv\u001b[0m\u001b[33m\n",
      "\u001b[0mRequirement already satisfied: pandas in /opt/conda/lib/python3.9/site-packages (1.5.0)\n",
      "Collecting pandas\n",
      "  Using cached pandas-2.2.3-cp39-cp39-manylinux_2_17_x86_64.manylinux2014_x86_64.whl (13.1 MB)\n",
      "Collecting tzdata>=2022.7\n",
      "  Using cached tzdata-2025.2-py2.py3-none-any.whl (347 kB)\n",
      "Requirement already satisfied: python-dateutil>=2.8.2 in /opt/conda/lib/python3.9/site-packages (from pandas) (2.8.2)\n",
      "Requirement already satisfied: pytz>=2020.1 in /opt/conda/lib/python3.9/site-packages (from pandas) (2022.4)\n",
      "Requirement already satisfied: numpy>=1.22.4 in /opt/conda/lib/python3.9/site-packages (from pandas) (1.23.3)\n",
      "Requirement already satisfied: six>=1.5 in /opt/conda/lib/python3.9/site-packages (from python-dateutil>=2.8.2->pandas) (1.16.0)\n",
      "Installing collected packages: tzdata, pandas\n",
      "  Attempting uninstall: tzdata\n",
      "    Found existing installation: tzdata 2022.4\n",
      "    Uninstalling tzdata-2022.4:\n",
      "      Successfully uninstalled tzdata-2022.4\n",
      "  Attempting uninstall: pandas\n",
      "    Found existing installation: pandas 1.5.0\n",
      "    Uninstalling pandas-1.5.0:\n",
      "      Successfully uninstalled pandas-1.5.0\n",
      "Successfully installed pandas-2.2.3 tzdata-2025.2\n",
      "\u001b[33mWARNING: Running pip as the 'root' user can result in broken permissions and conflicting behaviour with the system package manager. It is recommended to use a virtual environment instead: https://pip.pypa.io/warnings/venv\u001b[0m\u001b[33m\n",
      "\u001b[0mcp: cannot stat 'kaggle.json': No such file or directory\n",
      "Downloading dog-breed-identification.zip to /home/jovyan\n",
      " 98%|███████████████████████████████████████▉ | 674M/691M [00:03<00:00, 193MB/s]\n",
      "100%|█████████████████████████████████████████| 691M/691M [00:03<00:00, 190MB/s]\n"
     ]
    },
    {
     "name": "stderr",
     "output_type": "stream",
     "text": [
      "/opt/conda/lib/python3.9/site-packages/pandas/core/computation/expressions.py:21: UserWarning: Pandas requires version '2.8.4' or newer of 'numexpr' (version '2.8.3' currently installed).\n",
      "  from pandas.core.computation.check import NUMEXPR_INSTALLED\n",
      "/opt/conda/lib/python3.9/site-packages/pandas/core/arrays/masked.py:60: UserWarning: Pandas requires version '1.3.6' or newer of 'bottleneck' (version '1.3.5' currently installed).\n",
      "  from pandas.core import (\n"
     ]
    }
   ],
   "source": [
    "!pip install -U kaggle\n",
    "!pip install --upgrade pandas\n",
    "import os\n",
    "import zipfile\n",
    "\n",
    "# 建立 Kaggle 資料夾\n",
    "!mkdir -p ~/.kaggle\n",
    "!cp kaggle.json ~/.kaggle/\n",
    "!chmod 600 ~/.kaggle/kaggle.json\n",
    "\n",
    "# 下載 Dog Breed Identification 資料集\n",
    "!kaggle competitions download -c dog-breed-identification --force\n",
    "!unzip -oq dog-breed-identification.zip -d dog-breed-identification\n",
    "\n",
    "\n",
    "import pandas as pd\n",
    "\n",
    "labels = pd.read_csv('dog-breed-identification/labels.csv')\n",
    "\n",
    "import numpy as np\n"
   ]
  },
  {
   "cell_type": "code",
   "execution_count": 5,
   "id": "730c9a46-2b61-48be-b907-137ded3ab21d",
   "metadata": {
    "execution": {
     "iopub.execute_input": "2025-05-22T23:46:06.892667Z",
     "iopub.status.busy": "2025-05-22T23:46:06.892390Z",
     "iopub.status.idle": "2025-05-22T23:47:04.350845Z",
     "shell.execute_reply": "2025-05-22T23:47:04.350063Z",
     "shell.execute_reply.started": "2025-05-22T23:46:06.892648Z"
    },
    "id": "730c9a46-2b61-48be-b907-137ded3ab21d",
    "outputId": "d070fd97-2a6f-4236-ba8a-df78c879d52a",
    "tags": []
   },
   "outputs": [
    {
     "name": "stderr",
     "output_type": "stream",
     "text": [
      "100%|██████████| 10222/10222 [00:57<00:00, 178.05it/s]\n"
     ]
    }
   ],
   "source": [
    "import os\n",
    "import shutil\n",
    "import pandas as pd\n",
    "from PIL import Image\n",
    "from tqdm import tqdm\n",
    "# 讀取標籤\n",
    "labels = pd.read_csv('dog-breed-identification/labels.csv')\n",
    "# 建立目標輸出資料夾\n",
    "output_dir = \"dog_images\"\n",
    "train_dir = os.path.join(output_dir, \"train\")\n",
    "os.makedirs(train_dir, exist_ok=True)\n",
    "\n",
    "# 根據標籤將圖片存入對應資料夾\n",
    "def organize_train_images(labels): # Pass labels as an argument\n",
    "    src_img_dir = \"dog-breed-identification/train\"\n",
    "    for idx, row in tqdm(labels.iterrows(), total=len(labels)):\n",
    "        img_id = row['id']\n",
    "        breed = row['breed']\n",
    "        src_path = os.path.join(src_img_dir, img_id + \".jpg\")\n",
    "\n",
    "        # 建立品種對應資料夾\n",
    "        breed_dir = os.path.join(train_dir, breed)\n",
    "        os.makedirs(breed_dir, exist_ok=True)\n",
    "\n",
    "        dst_path = os.path.join(breed_dir, img_id + \".jpg\")\n",
    "        shutil.copyfile(src_path, dst_path)\n",
    "\n",
    "# Load labels outside the function\n",
    "labels = pd.read_csv('dog-breed-identification/labels.csv')\n",
    "organize_train_images(labels) # Call the function with labels argument"
   ]
  },
  {
   "cell_type": "code",
   "execution_count": 6,
   "id": "53fafafb-66d1-417b-9603-84097d9b4686",
   "metadata": {
    "execution": {
     "iopub.execute_input": "2025-05-22T23:47:04.352259Z",
     "iopub.status.busy": "2025-05-22T23:47:04.351969Z",
     "iopub.status.idle": "2025-05-22T23:47:06.428678Z",
     "shell.execute_reply": "2025-05-22T23:47:06.427963Z",
     "shell.execute_reply.started": "2025-05-22T23:47:04.352233Z"
    },
    "id": "53fafafb-66d1-417b-9603-84097d9b4686",
    "tags": []
   },
   "outputs": [],
   "source": [
    " #自定義 Dataset 類別\n",
    "import torch\n",
    "from torch.utils.data import Dataset\n",
    "from torchvision import transforms\n",
    "from PIL import Image\n",
    "import os\n",
    "\n",
    "class DogBreedImageFolder(Dataset):\n",
    "    def __init__(self, root_dir, transform=None):\n",
    "        self.root_dir = root_dir\n",
    "        self.transform = transform\n",
    "        self.image_paths = []\n",
    "        self.labels = []\n",
    "\n",
    "        # 建立類別對應表：品種 → 數值 label\n",
    "        class_names = sorted(os.listdir(root_dir))\n",
    "        self.class_to_idx = {class_name: idx for idx, class_name in enumerate(class_names)}\n",
    "\n",
    "        for class_name in class_names:\n",
    "            class_folder = os.path.join(root_dir, class_name)\n",
    "            if not os.path.isdir(class_folder):\n",
    "                continue\n",
    "            for filename in os.listdir(class_folder):\n",
    "                if filename.endswith(('.jpg', '.png')):\n",
    "                    self.image_paths.append(os.path.join(class_folder, filename))\n",
    "                    self.labels.append(self.class_to_idx[class_name])\n",
    "\n",
    "    def __len__(self):\n",
    "        return len(self.image_paths)\n",
    "\n",
    "    def __getitem__(self, idx):\n",
    "        img_path = self.image_paths[idx]\n",
    "        label = self.labels[idx]\n",
    "        image = Image.open(img_path).convert(\"RGB\")\n",
    "        if self.transform:\n",
    "            image = self.transform(image)\n",
    "        return image, label"
   ]
  },
  {
   "cell_type": "code",
   "execution_count": 7,
   "id": "dbbeeba0-bf0d-4bd6-9a0d-970074bdae22",
   "metadata": {
    "execution": {
     "iopub.execute_input": "2025-05-22T23:47:06.430529Z",
     "iopub.status.busy": "2025-05-22T23:47:06.430197Z",
     "iopub.status.idle": "2025-05-22T23:47:06.436190Z",
     "shell.execute_reply": "2025-05-22T23:47:06.435614Z",
     "shell.execute_reply.started": "2025-05-22T23:47:06.430504Z"
    },
    "id": "dbbeeba0-bf0d-4bd6-9a0d-970074bdae22",
    "tags": []
   },
   "outputs": [],
   "source": [
    "# 定義 Transform\n",
    "from torchvision.transforms import RandomResizedCrop, RandomHorizontalFlip, ColorJitter, RandomRotation, ToTensor, Normalize\n",
    "\n",
    "train_transform = transforms.Compose([\n",
    "    transforms.RandomHorizontalFlip(),\n",
    "    transforms.RandomRotation(10),\n",
    "    transforms.ColorJitter(brightness=0.3, contrast=0.3, saturation=0.3),\n",
    "    transforms.ToTensor(),\n",
    "    transforms.Normalize((0.485, 0.456, 0.406),  # 使用 ImageNet 的 mean/std\n",
    "                         (0.229, 0.224, 0.225)),\n",
    "])\n",
    "\n",
    "\n",
    "test_transform = transforms.Compose([\n",
    "    transforms.Resize((320, 320)),\n",
    "    transforms.ToTensor(),\n",
    "    transforms.Normalize((0.485, 0.456, 0.406), (0.229, 0.224, 0.225))\n",
    "])"
   ]
  },
  {
   "cell_type": "code",
   "execution_count": 8,
   "id": "23347d9e-a207-46c7-991b-7b7c9043c443",
   "metadata": {
    "execution": {
     "iopub.execute_input": "2025-05-22T23:47:06.437088Z",
     "iopub.status.busy": "2025-05-22T23:47:06.436860Z",
     "iopub.status.idle": "2025-05-22T23:47:06.485804Z",
     "shell.execute_reply": "2025-05-22T23:47:06.485158Z",
     "shell.execute_reply.started": "2025-05-22T23:47:06.437067Z"
    },
    "id": "23347d9e-a207-46c7-991b-7b7c9043c443",
    "outputId": "0549e703-37c9-4126-aeb8-c7ccbd15c6e5",
    "tags": []
   },
   "outputs": [
    {
     "name": "stdout",
     "output_type": "stream",
     "text": [
      "Train label distribution: Counter({97: 102, 26: 94, 87: 93, 73: 93, 42: 93, 109: 90, 7: 90, 52: 89, 100: 89, 11: 89, 68: 88, 75: 87, 61: 85, 3: 85, 69: 84, 6: 84, 1: 83, 93: 82, 94: 80, 13: 80, 59: 80, 30: 78, 56: 78, 88: 77, 9: 77, 80: 77, 78: 76, 39: 75, 71: 73, 60: 73, 102: 73, 114: 73, 117: 73, 90: 72, 98: 72, 101: 72, 33: 72, 8: 71, 35: 71, 92: 71, 95: 71, 70: 70, 10: 70, 55: 70, 37: 69, 14: 69, 79: 69, 107: 69, 115: 69, 119: 69, 76: 69, 82: 68, 19: 68, 118: 68, 111: 67, 67: 67, 74: 67, 40: 67, 84: 67, 0: 67, 62: 67, 28: 66, 77: 66, 63: 66, 86: 66, 15: 66, 47: 66, 31: 65, 96: 65, 57: 65, 2: 65, 20: 65, 104: 65, 64: 64, 5: 64, 17: 64, 24: 63, 116: 63, 4: 63, 50: 63, 105: 63, 91: 63, 99: 62, 25: 62, 110: 62, 54: 61, 32: 61, 53: 60, 58: 60, 16: 60, 18: 59, 66: 58, 103: 58, 65: 58, 38: 58, 85: 58, 72: 58, 44: 57, 27: 57, 46: 57, 113: 56, 22: 56, 45: 56, 106: 56, 12: 56, 23: 55, 51: 55, 36: 55, 34: 55, 48: 55, 81: 55, 41: 54, 89: 54, 83: 54, 112: 52, 21: 52, 108: 52, 29: 51, 43: 48, 49: 48})\n",
      "Val label distribution: Counter({1: 33, 84: 29, 94: 29, 9: 28, 17: 27, 86: 26, 11: 25, 73: 24, 97: 24, 101: 23, 81: 23, 100: 23, 21: 23, 42: 22, 53: 22, 52: 22, 69: 22, 13: 22, 117: 22, 3: 22, 20: 21, 36: 21, 55: 21, 59: 21, 12: 21, 2: 21, 41: 21, 54: 21, 63: 20, 51: 20, 61: 20, 7: 20, 70: 20, 29: 20, 49: 19, 27: 19, 10: 19, 60: 19, 19: 19, 15: 19, 82: 19, 116: 18, 89: 18, 58: 18, 50: 18, 112: 18, 35: 18, 110: 18, 87: 18, 80: 18, 6: 18, 43: 18, 64: 18, 93: 17, 88: 17, 108: 17, 67: 17, 85: 17, 96: 17, 28: 17, 102: 17, 34: 17, 57: 17, 109: 17, 14: 16, 98: 16, 105: 16, 38: 16, 90: 16, 18: 16, 106: 16, 40: 16, 95: 15, 75: 15, 78: 15, 44: 15, 83: 15, 33: 15, 72: 15, 30: 15, 31: 15, 104: 14, 62: 14, 5: 14, 118: 14, 45: 14, 99: 14, 79: 14, 48: 14, 103: 13, 113: 13, 74: 13, 32: 13, 119: 13, 25: 13, 91: 13, 0: 13, 92: 13, 66: 13, 114: 12, 26: 12, 16: 12, 111: 12, 77: 12, 46: 12, 4: 11, 68: 11, 8: 11, 23: 11, 39: 11, 22: 11, 37: 11, 76: 10, 115: 10, 56: 10, 24: 10, 65: 9, 47: 9, 107: 9, 71: 8})\n"
     ]
    }
   ],
   "source": [
    "# 建立 Dataset 與切分\n",
    "from torch.utils.data import random_split, DataLoader, WeightedRandomSampler\n",
    "import collections\n",
    "from collections import Counter\n",
    "\n",
    "# 讀取分類後資料\n",
    "dataset = DogBreedImageFolder(\"dog_images/train\", transform=train_transform)\n",
    "\n",
    "# 計算資料數量與切分比例\n",
    "val_ratio = 0.2\n",
    "val_size = int(len(dataset) * val_ratio)\n",
    "train_size = len(dataset) - val_size\n",
    "train_dataset, val_dataset = random_split(dataset, [train_size, val_size])\n",
    "\n",
    "# 取得 training set 的原始 indices\n",
    "train_indices = train_dataset.indices  # 是 dataset 中對應的索引\n",
    "train_labels = [dataset.labels[i] for i in train_indices]\n",
    "\n",
    "# 計算類別樣本數與每個 sample 權重\n",
    "label_counts = Counter(train_labels)\n",
    "class_sample_counts = [label_counts[i] for i in range(len(label_counts))]\n",
    "sample_weights = [1.0 / class_sample_counts[label] for label in train_labels]\n",
    "\n",
    "# 建立 WeightedRandomSampler\n",
    "sampler = WeightedRandomSampler(weights=sample_weights, num_samples=len(sample_weights), replacement=True)\n",
    "\n",
    "# 建立 DataLoader（train 用 sampler, val 用 shuffle=False）\n",
    "train_loader = DataLoader(train_dataset, batch_size=16, sampler=sampler, num_workers=2)\n",
    "val_loader = DataLoader(val_dataset, batch_size=32, shuffle=False, num_workers=2)\n",
    "\n",
    "# 顯示類別分布（驗證分布仍可看是否合理）\n",
    "val_labels = [dataset.labels[i] for i in val_dataset.indices]\n",
    "print(\"Train label distribution:\", Counter(train_labels))\n",
    "print(\"Val label distribution:\", Counter(val_labels))\n",
    "#這是調平衡的"
   ]
  },
  {
   "cell_type": "code",
   "execution_count": 9,
   "id": "3e1463af-eddd-4236-a9f1-cc18f2fa9062",
   "metadata": {
    "execution": {
     "iopub.execute_input": "2025-05-22T23:47:06.486819Z",
     "iopub.status.busy": "2025-05-22T23:47:06.486515Z",
     "iopub.status.idle": "2025-05-22T23:47:06.490385Z",
     "shell.execute_reply": "2025-05-22T23:47:06.489847Z",
     "shell.execute_reply.started": "2025-05-22T23:47:06.486794Z"
    },
    "id": "3e1463af-eddd-4236-a9f1-cc18f2fa9062",
    "tags": []
   },
   "outputs": [],
   "source": [
    "train_loader = DataLoader(train_dataset, batch_size=16, shuffle=True, num_workers=2)\n",
    "val_loader = DataLoader(val_dataset, batch_size=32, shuffle=False, num_workers=2)\n"
   ]
  },
  {
   "cell_type": "code",
   "execution_count": 10,
   "id": "fa598f16-152c-4df2-9790-80a2647e4758",
   "metadata": {
    "execution": {
     "iopub.execute_input": "2025-05-22T23:47:06.491265Z",
     "iopub.status.busy": "2025-05-22T23:47:06.491038Z",
     "iopub.status.idle": "2025-05-22T23:47:06.497491Z",
     "shell.execute_reply": "2025-05-22T23:47:06.496947Z",
     "shell.execute_reply.started": "2025-05-22T23:47:06.491244Z"
    },
    "id": "fa598f16-152c-4df2-9790-80a2647e4758",
    "tags": []
   },
   "outputs": [],
   "source": [
    "from torchvision import transforms\n",
    "from PIL import Image\n",
    "\n",
    "def collate_with_resize(batch, image_size):\n",
    "    images, labels = zip(*batch)\n",
    "    transform = transforms.Compose([\n",
    "        transforms.Resize((image_size, image_size)),  # 直接縮放 tensor\n",
    "    ])\n",
    "    images = [transform(img) if isinstance(img, torch.Tensor) else transform(transforms.ToTensor()(img)) for img in images]\n",
    "    return torch.stack(images), torch.tensor(labels)\n"
   ]
  },
  {
   "cell_type": "code",
   "execution_count": 11,
   "id": "d81ac95f-a572-4dc2-9587-f3ee8af1a2bd",
   "metadata": {
    "execution": {
     "iopub.execute_input": "2025-05-22T23:47:06.498363Z",
     "iopub.status.busy": "2025-05-22T23:47:06.498143Z",
     "iopub.status.idle": "2025-05-22T23:47:09.222122Z",
     "shell.execute_reply": "2025-05-22T23:47:09.221447Z",
     "shell.execute_reply.started": "2025-05-22T23:47:06.498343Z"
    },
    "id": "d81ac95f-a572-4dc2-9587-f3ee8af1a2bd",
    "outputId": "e71bb747-0ccf-4c75-8bf1-6463ce425757",
    "tags": []
   },
   "outputs": [
    {
     "name": "stdout",
     "output_type": "stream",
     "text": [
      "Images shape: torch.Size([16, 3, 320, 320])\n",
      "Labels shape: torch.Size([16])\n"
     ]
    }
   ],
   "source": [
    "# ✅ 動態圖像大小\n",
    "image_size = 320  # or 320\n",
    "train_loader = DataLoader(train_dataset, batch_size=16, shuffle=True,\n",
    "                          collate_fn=lambda batch: collate_with_resize(batch, image_size))\n",
    "\n",
    "# 測試一個 batch\n",
    "for images, labels in train_loader:\n",
    "    print(\"Images shape:\", images.shape)\n",
    "    print(\"Labels shape:\", labels.shape)\n",
    "    break\n"
   ]
  },
  {
   "cell_type": "code",
   "execution_count": 12,
   "id": "642563ca-8cb7-4029-a485-77bd5307ced0",
   "metadata": {
    "execution": {
     "iopub.execute_input": "2025-05-22T23:47:09.222975Z",
     "iopub.status.busy": "2025-05-22T23:47:09.222782Z",
     "iopub.status.idle": "2025-05-22T23:47:11.821932Z",
     "shell.execute_reply": "2025-05-22T23:47:11.821230Z",
     "shell.execute_reply.started": "2025-05-22T23:47:09.222957Z"
    },
    "id": "642563ca-8cb7-4029-a485-77bd5307ced0",
    "outputId": "4c3ce06c-5bc6-4f2e-f34d-163781442642",
    "tags": []
   },
   "outputs": [
    {
     "name": "stdout",
     "output_type": "stream",
     "text": [
      "Images shape: torch.Size([16, 3, 320, 320])\n",
      "Labels shape: torch.Size([16])\n"
     ]
    }
   ],
   "source": [
    "#驗證資料載入\n",
    "# 驗證一個 batch\n",
    "for images, labels in train_loader:\n",
    "    print(\"Images shape:\", images.shape)  # [B, 3, 224, 224]\n",
    "    print(\"Labels shape:\", labels.shape)  # [B]\n",
    "    break"
   ]
  },
  {
   "cell_type": "code",
   "execution_count": 13,
   "id": "e2d5cb3c-7f1e-44bf-b0cc-5169d3d827d0",
   "metadata": {
    "execution": {
     "iopub.execute_input": "2025-05-22T23:47:11.824799Z",
     "iopub.status.busy": "2025-05-22T23:47:11.824348Z",
     "iopub.status.idle": "2025-05-22T23:47:14.033449Z",
     "shell.execute_reply": "2025-05-22T23:47:14.032857Z",
     "shell.execute_reply.started": "2025-05-22T23:47:11.824776Z"
    },
    "id": "e2d5cb3c-7f1e-44bf-b0cc-5169d3d827d0",
    "outputId": "fb111cb7-e29c-40b8-ca63-dcb47f6fe2a7",
    "tags": []
   },
   "outputs": [
    {
     "name": "stderr",
     "output_type": "stream",
     "text": [
      "Clipping input data to the valid range for imshow with RGB data ([0..1] for floats or [0..255] for integers).\n"
     ]
    },
    {
     "data": {
      "image/png": "[encoded data removed]",
      "text/plain": [
       "<Figure size 640x480 with 1 Axes>"
      ]
     },
     "metadata": {},
     "output_type": "display_data"
    }
   ],
   "source": [
    "# 如果需要視覺化一個 batch\n",
    "import matplotlib.pyplot as plt\n",
    "def show_batch(loader):\n",
    "    images, labels = next(iter(loader))\n",
    "    img = images[0].permute(1, 2, 0).numpy()\n",
    "    plt.imshow(img)\n",
    "    plt.title(f\"Label: {labels[0]}\")\n",
    "    plt.show()\n",
    "\n",
    "show_batch(train_loader)"
   ]
  },
  {
   "cell_type": "code",
   "execution_count": 14,
   "id": "414540cd-824c-4fd0-8866-2d506f86b17c",
   "metadata": {
    "execution": {
     "iopub.execute_input": "2025-05-22T23:47:14.034327Z",
     "iopub.status.busy": "2025-05-22T23:47:14.034060Z",
     "iopub.status.idle": "2025-05-22T23:47:15.853943Z",
     "shell.execute_reply": "2025-05-22T23:47:15.853055Z",
     "shell.execute_reply.started": "2025-05-22T23:47:14.034309Z"
    },
    "id": "414540cd-824c-4fd0-8866-2d506f86b17c",
    "tags": []
   },
   "outputs": [],
   "source": [
    "import torch\n",
    "import torch.nn as nn\n",
    "import torchvision.models as models\n",
    "\n",
    "num_classes = 120  # Dog Breed Identification 有 120 類別\n",
    "device = torch.device(\"cuda\" if torch.cuda.is_available() else \"cpu\")\n",
    "\n",
    "# 載入預訓練模型並修改最後一層\n",
    "model = models.resnet50(weights=models.ResNet50_Weights.DEFAULT)\n",
    "\n",
    "for param in model.parameters():\n",
    "    param.requires_grad = False\n",
    "\n",
    "num_classes = len(dataset.class_to_idx)\n",
    "\n",
    "model.fc = nn.Sequential(\n",
    "    nn.Linear(model.fc.in_features, 512),\n",
    "    nn.ReLU(),\n",
    "    nn.Dropout(0.3),\n",
    "    nn.Linear(512, 256),\n",
    "    nn.ReLU(),\n",
    "    nn.Dropout(0.3),\n",
    "    nn.Linear(256, num_classes)\n",
    ")\n",
    "\n",
    "# 搬移到裝置（GPU 或 CPU）\n",
    "model = model.to(device)"
   ]
  },
  {
   "cell_type": "code",
   "execution_count": 15,
   "id": "23be5748-2b47-4a59-86fa-5b8542b86481",
   "metadata": {
    "execution": {
     "iopub.execute_input": "2025-05-22T23:47:15.854795Z",
     "iopub.status.busy": "2025-05-22T23:47:15.854613Z",
     "iopub.status.idle": "2025-05-22T23:47:15.860126Z",
     "shell.execute_reply": "2025-05-22T23:47:15.859330Z",
     "shell.execute_reply.started": "2025-05-22T23:47:15.854778Z"
    },
    "id": "23be5748-2b47-4a59-86fa-5b8542b86481",
    "tags": []
   },
   "outputs": [],
   "source": [
    "class LabelSmoothingCrossEntropy(nn.Module):\n",
    "    def __init__(self, smoothing=0.1):\n",
    "        super(LabelSmoothingCrossEntropy, self).__init__()\n",
    "        self.smoothing = smoothing\n",
    "        self.confidence = 1.0 - smoothing\n",
    "\n",
    "    def forward(self, logits, target):\n",
    "        log_probs = nn.functional.log_softmax(logits, dim=-1)\n",
    "        nll_loss = -log_probs.gather(dim=-1, index=target.unsqueeze(1)).squeeze(1)\n",
    "        smooth_loss = -log_probs.mean(dim=-1)\n",
    "        loss = self.confidence * nll_loss + self.smoothing * smooth_loss\n",
    "        return loss.mean()\n"
   ]
  },
  {
   "cell_type": "code",
   "execution_count": 16,
   "id": "fe67e232-f94b-4987-aa63-9c2b02b17a3b",
   "metadata": {
    "execution": {
     "iopub.execute_input": "2025-05-22T23:47:15.860813Z",
     "iopub.status.busy": "2025-05-22T23:47:15.860650Z",
     "iopub.status.idle": "2025-05-22T23:47:15.870170Z",
     "shell.execute_reply": "2025-05-22T23:47:15.869412Z",
     "shell.execute_reply.started": "2025-05-22T23:47:15.860798Z"
    },
    "id": "fe67e232-f94b-4987-aa63-9c2b02b17a3b",
    "tags": []
   },
   "outputs": [],
   "source": [
    "from torch.optim.lr_scheduler import _LRScheduler\n",
    "\n",
    "class GradualWarmupScheduler(_LRScheduler):\n",
    "    def __init__(self, optimizer, multiplier, total_epoch, after_scheduler=None, last_epoch=-1):\n",
    "        self.multiplier = multiplier\n",
    "        if self.multiplier <= 1.:\n",
    "            raise ValueError('multiplier should be greater than 1.')\n",
    "        self.total_epoch = total_epoch\n",
    "        self.after_scheduler = after_scheduler\n",
    "        self.finished = False\n",
    "        super(GradualWarmupScheduler, self).__init__(optimizer, last_epoch)\n",
    "\n",
    "    def get_lr(self):\n",
    "        if self.last_epoch >= self.total_epoch:\n",
    "            if self.after_scheduler:\n",
    "                if not self.finished:\n",
    "                    self.after_scheduler.base_lrs = [base_lr * self.multiplier for base_lr in self.base_lrs]\n",
    "                    self.finished = True\n",
    "                return self.after_scheduler.get_lr()\n",
    "            return [base_lr * self.multiplier for base_lr in self.base_lrs]\n",
    "\n",
    "        return [\n",
    "            base_lr * ((self.multiplier - 1.) * self.last_epoch / self.total_epoch + 1.)\n",
    "            for base_lr in self.base_lrs\n",
    "        ]\n",
    "\n",
    "    def step(self, epoch=None):\n",
    "        if self.finished and self.after_scheduler:\n",
    "            if epoch is None:\n",
    "                self.after_scheduler.step(None)\n",
    "            else:\n",
    "                self.after_scheduler.step(epoch - self.total_epoch)\n",
    "        else:\n",
    "            return super(GradualWarmupScheduler, self).step(epoch)\n"
   ]
  },
  {
   "cell_type": "code",
   "execution_count": 17,
   "id": "ac519f99-2c79-4f8d-bfb1-0943e5807ca6",
   "metadata": {
    "execution": {
     "iopub.execute_input": "2025-05-22T23:47:15.870749Z",
     "iopub.status.busy": "2025-05-22T23:47:15.870580Z",
     "iopub.status.idle": "2025-05-22T23:47:15.879423Z",
     "shell.execute_reply": "2025-05-22T23:47:15.878690Z",
     "shell.execute_reply.started": "2025-05-22T23:47:15.870733Z"
    },
    "id": "ac519f99-2c79-4f8d-bfb1-0943e5807ca6",
    "tags": []
   },
   "outputs": [],
   "source": [
    "from collections import Counter\n",
    "from torchvision import transforms\n",
    "from torch.optim.lr_scheduler import CosineAnnealingLR\n",
    "\n",
    "num_epochs = 50\n",
    "warmup_epochs = 5\n",
    "# 計算各類別的樣本數\n",
    "label_counts = Counter(dataset.labels)\n",
    "num_classes = len(label_counts)\n",
    "class_counts = [label_counts[i] for i in range(num_classes)]\n",
    "\n",
    "# 計算每個類別的權重：樣本數越少，權重越高\n",
    "weights = [1.0 / c for c in class_counts]\n",
    "weights = torch.tensor(weights, dtype=torch.float).to(device)\n",
    "\n",
    "# 使用 class weights + label smoothing\n",
    "criterion = LabelSmoothingCrossEntropy(smoothing=0.1)\n",
    "optimizer = torch.optim.AdamW(model.parameters(), lr=3e-4, weight_decay=1e-4)\n",
    "\n",
    "cosine_scheduler = CosineAnnealingLR(optimizer, T_max=num_epochs - warmup_epochs)\n",
    "scheduler = GradualWarmupScheduler(\n",
    "    optimizer,\n",
    "    multiplier=5.0,               # 最終學習率 = 初始 * 1.0\n",
    "    total_epoch=warmup_epochs,\n",
    "    after_scheduler=cosine_scheduler\n",
    ")\n"
   ]
  },
  {
   "cell_type": "code",
   "execution_count": 18,
   "id": "e8eaea27-b01b-4fb2-a4e2-8f0dc4a1f646",
   "metadata": {
    "execution": {
     "iopub.execute_input": "2025-05-22T23:47:15.880000Z",
     "iopub.status.busy": "2025-05-22T23:47:15.879834Z",
     "iopub.status.idle": "2025-05-22T23:47:15.886833Z",
     "shell.execute_reply": "2025-05-22T23:47:15.886095Z",
     "shell.execute_reply.started": "2025-05-22T23:47:15.879985Z"
    },
    "id": "e8eaea27-b01b-4fb2-a4e2-8f0dc4a1f646",
    "tags": []
   },
   "outputs": [],
   "source": [
    "import numpy as np\n",
    "\n",
    "def mixup_data(x, y, alpha=0.4):\n",
    "    '''混合兩張圖片與其標籤'''\n",
    "    if alpha > 0:\n",
    "        lam = np.random.beta(alpha, alpha)\n",
    "    else:\n",
    "        lam = 1\n",
    "\n",
    "    batch_size = x.size(0)\n",
    "    index = torch.randperm(batch_size)\n",
    "\n",
    "    mixed_x = lam * x + (1 - lam) * x[index, :]\n",
    "    y_a, y_b = y, y[index]\n",
    "    return mixed_x, y_a, y_b, lam\n",
    "\n",
    "def mixup_criterion(criterion, pred, y_a, y_b, lam):\n",
    "    '''計算 MixUp 混合損失'''\n",
    "    return lam * criterion(pred, y_a) + (1 - lam) * criterion(pred, y_b)\n"
   ]
  },
  {
   "cell_type": "code",
   "execution_count": 19,
   "id": "324f3936-1cd3-4cec-aa09-280f34f3de71",
   "metadata": {
    "execution": {
     "iopub.execute_input": "2025-05-22T23:47:15.887382Z",
     "iopub.status.busy": "2025-05-22T23:47:15.887226Z",
     "iopub.status.idle": "2025-05-22T23:47:15.894026Z",
     "shell.execute_reply": "2025-05-22T23:47:15.893288Z",
     "shell.execute_reply.started": "2025-05-22T23:47:15.887367Z"
    },
    "id": "324f3936-1cd3-4cec-aa09-280f34f3de71",
    "tags": []
   },
   "outputs": [],
   "source": [
    "from torchvision import transforms\n",
    "from torch.utils.data import DataLoader\n",
    "from torchvision.datasets import ImageFolder\n",
    "\n",
    "def get_dataloaders(image_size, batch_size):\n",
    "    transform_train = transforms.Compose([\n",
    "        transforms.Resize((image_size, image_size)),\n",
    "        transforms.RandomHorizontalFlip(),\n",
    "        transforms.ToTensor(),\n",
    "    ])\n",
    "    transform_val = transforms.Compose([\n",
    "        transforms.Resize((image_size, image_size)),\n",
    "        transforms.ToTensor(),\n",
    "    ])\n",
    "\n",
    "    train_dataset = ImageFolder(train_dir, transform=transform_train)\n",
    "    val_dataset = ImageFolder(val_dir, transform=transform_val)\n",
    "\n",
    "    train_loader = DataLoader(train_dataset, batch_size=batch_size, shuffle=True, num_workers=4)\n",
    "    val_loader = DataLoader(val_dataset, batch_size=batch_size, shuffle=False, num_workers=4)\n",
    "\n",
    "    return train_loader, val_loader\n"
   ]
  },
  {
   "cell_type": "code",
   "execution_count": 20,
   "id": "9eW-iKmR6xDv",
   "metadata": {
    "execution": {
     "iopub.execute_input": "2025-05-22T23:47:15.894708Z",
     "iopub.status.busy": "2025-05-22T23:47:15.894538Z",
     "iopub.status.idle": "2025-05-22T23:47:15.902889Z",
     "shell.execute_reply": "2025-05-22T23:47:15.902145Z",
     "shell.execute_reply.started": "2025-05-22T23:47:15.894693Z"
    },
    "id": "9eW-iKmR6xDv",
    "tags": []
   },
   "outputs": [],
   "source": [
    "class EarlyStopping:\n",
    "    def __init__(self, patience=8, verbose=False, delta=0, path='best_model.pth'):\n",
    "        self.patience = patience\n",
    "        self.verbose = verbose\n",
    "        self.counter = 0\n",
    "        self.best_score = None\n",
    "        self.early_stop = False\n",
    "        self.val_loss_min = float('inf')\n",
    "        self.delta = delta\n",
    "        self.path = path\n",
    "\n",
    "    def __call__(self, val_loss, model):\n",
    "        score = -val_loss\n",
    "\n",
    "        if self.best_score is None:\n",
    "            self.best_score = score\n",
    "            self.save_checkpoint(val_loss, model)\n",
    "        elif score < self.best_score + self.delta:\n",
    "            self.counter += 1\n",
    "            if self.verbose:\n",
    "                print(f\"EarlyStopping counter: {self.counter} out of {self.patience}\")\n",
    "            if self.counter >= self.patience:\n",
    "                self.early_stop = True\n",
    "        else:\n",
    "            self.best_score = score\n",
    "            self.save_checkpoint(val_loss, model)\n",
    "            self.counter = 0\n",
    "\n",
    "    def save_checkpoint(self, val_loss, model):\n",
    "        '''儲存目前最佳模型'''\n",
    "        if self.verbose:\n",
    "            print(f\"Validation loss decreased ({self.val_loss_min:.6f} → {val_loss:.6f}). Saving model...\")\n",
    "        torch.save(model.state_dict(), self.path)\n",
    "        self.val_loss_min = val_loss\n"
   ]
  },
  {
   "cell_type": "code",
   "execution_count": 21,
   "id": "25cf8137-76e5-484b-95d2-fbf22792cd72",
   "metadata": {
    "execution": {
     "iopub.execute_input": "2025-05-22T23:47:15.903607Z",
     "iopub.status.busy": "2025-05-22T23:47:15.903433Z",
     "iopub.status.idle": "2025-05-23T11:44:16.862063Z",
     "shell.execute_reply": "2025-05-23T11:44:16.861455Z",
     "shell.execute_reply.started": "2025-05-22T23:47:15.903584Z"
    },
    "id": "25cf8137-76e5-484b-95d2-fbf22792cd72",
    "outputId": "403ee953-43a5-4558-b341-c1d813182fda",
    "tags": []
   },
   "outputs": [
    {
     "name": "stdout",
     "output_type": "stream",
     "text": [
      "Epoch 1/50, Size: 224, Loss: 4.5506, Accuracy: 10.95%\n",
      "Validation Loss: 3.8729, Validation Accuracy: 48.73%\n",
      "Validation loss decreased (inf → 3.872878). Saving model...\n",
      "Epoch 2/50, Size: 224, Loss: 3.2720, Accuracy: 38.62%\n",
      "Validation Loss: 1.9543, Validation Accuracy: 76.86%\n",
      "Validation loss decreased (3.872878 → 1.954264). Saving model...\n",
      "Epoch 3/50, Size: 224, Loss: 2.6397, Accuracy: 55.52%\n",
      "Validation Loss: 1.5681, Validation Accuracy: 80.38%\n",
      "Validation loss decreased (1.954264 → 1.568108). Saving model...\n",
      "Epoch 4/50, Size: 224, Loss: 2.4697, Accuracy: 60.96%\n",
      "Validation Loss: 1.4659, Validation Accuracy: 82.09%\n",
      "Validation loss decreased (1.568108 → 1.465862). Saving model...\n"
     ]
    },
    {
     "name": "stderr",
     "output_type": "stream",
     "text": [
      "/opt/conda/lib/python3.9/site-packages/torch/optim/lr_scheduler.py:807: UserWarning: To get the last learning rate computed by the scheduler, please use `get_last_lr()`.\n",
      "  warnings.warn(\"To get the last learning rate computed by the scheduler, \"\n"
     ]
    },
    {
     "name": "stdout",
     "output_type": "stream",
     "text": [
      "Epoch 5/50, Size: 224, Loss: 2.4467, Accuracy: 61.02%\n",
      "Validation Loss: 1.4075, Validation Accuracy: 82.83%\n",
      "Validation loss decreased (1.465862 → 1.407504). Saving model...\n",
      "Epoch 6/50, Size: 320, Loss: 2.3672, Accuracy: 63.44%\n",
      "Validation Loss: 1.3901, Validation Accuracy: 84.39%\n",
      "Validation loss decreased (1.407504 → 1.390070). Saving model...\n",
      "Epoch 7/50, Size: 320, Loss: 2.3153, Accuracy: 65.82%\n",
      "Validation Loss: 1.3543, Validation Accuracy: 86.40%\n",
      "Validation loss decreased (1.390070 → 1.354338). Saving model...\n",
      "Epoch 8/50, Size: 320, Loss: 2.3985, Accuracy: 62.99%\n",
      "Validation Loss: 1.3507, Validation Accuracy: 85.96%\n",
      "Validation loss decreased (1.354338 → 1.350701). Saving model...\n",
      "Epoch 9/50, Size: 320, Loss: 2.1514, Accuracy: 69.85%\n",
      "Validation Loss: 1.3219, Validation Accuracy: 86.69%\n",
      "Validation loss decreased (1.350701 → 1.321864). Saving model...\n",
      "Epoch 10/50, Size: 320, Loss: 2.1221, Accuracy: 71.21%\n",
      "Validation Loss: 1.2686, Validation Accuracy: 87.77%\n",
      "Validation loss decreased (1.321864 → 1.268553). Saving model...\n",
      "Epoch 11/50, Size: 320, Loss: 2.1654, Accuracy: 70.07%\n",
      "Validation Loss: 1.3191, Validation Accuracy: 85.57%\n",
      "EarlyStopping counter: 1 out of 8\n",
      "Epoch 12/50, Size: 320, Loss: 2.1816, Accuracy: 69.27%\n",
      "Validation Loss: 1.2796, Validation Accuracy: 87.08%\n",
      "EarlyStopping counter: 2 out of 8\n",
      "Epoch 13/50, Size: 320, Loss: 2.0857, Accuracy: 72.50%\n",
      "Validation Loss: 1.2857, Validation Accuracy: 86.15%\n",
      "EarlyStopping counter: 3 out of 8\n",
      "Epoch 14/50, Size: 320, Loss: 2.1267, Accuracy: 71.76%\n",
      "Validation Loss: 1.3230, Validation Accuracy: 87.13%\n",
      "EarlyStopping counter: 4 out of 8\n",
      "Epoch 15/50, Size: 320, Loss: 2.1492, Accuracy: 71.09%\n",
      "Validation Loss: 1.2872, Validation Accuracy: 86.59%\n",
      "EarlyStopping counter: 5 out of 8\n",
      "Epoch 16/50, Size: 320, Loss: 2.1173, Accuracy: 72.36%\n",
      "Validation Loss: 1.2866, Validation Accuracy: 86.94%\n",
      "EarlyStopping counter: 6 out of 8\n",
      "Epoch 17/50, Size: 320, Loss: 2.0973, Accuracy: 72.81%\n",
      "Validation Loss: 1.2615, Validation Accuracy: 87.62%\n",
      "Validation loss decreased (1.268553 → 1.261530). Saving model...\n",
      "Epoch 18/50, Size: 320, Loss: 2.0233, Accuracy: 74.92%\n",
      "Validation Loss: 1.2595, Validation Accuracy: 87.23%\n",
      "Validation loss decreased (1.261530 → 1.259525). Saving model...\n",
      "Epoch 19/50, Size: 320, Loss: 2.1304, Accuracy: 71.96%\n",
      "Validation Loss: 1.3009, Validation Accuracy: 87.18%\n",
      "EarlyStopping counter: 1 out of 8\n",
      "Epoch 20/50, Size: 320, Loss: 2.0133, Accuracy: 75.23%\n",
      "Validation Loss: 1.3059, Validation Accuracy: 87.04%\n",
      "EarlyStopping counter: 2 out of 8\n",
      "Epoch 21/50, Size: 320, Loss: 2.2160, Accuracy: 70.04%\n",
      "Validation Loss: 1.2817, Validation Accuracy: 88.06%\n",
      "EarlyStopping counter: 3 out of 8\n",
      "Epoch 22/50, Size: 320, Loss: 2.0726, Accuracy: 74.07%\n",
      "Validation Loss: 1.2864, Validation Accuracy: 86.89%\n",
      "EarlyStopping counter: 4 out of 8\n",
      "Epoch 23/50, Size: 320, Loss: 2.0840, Accuracy: 73.65%\n",
      "Validation Loss: 1.3145, Validation Accuracy: 87.72%\n",
      "EarlyStopping counter: 5 out of 8\n",
      "Epoch 24/50, Size: 320, Loss: 2.1107, Accuracy: 72.45%\n",
      "Validation Loss: 1.2828, Validation Accuracy: 87.57%\n",
      "EarlyStopping counter: 6 out of 8\n",
      "Epoch 25/50, Size: 320, Loss: 2.0216, Accuracy: 75.67%\n",
      "Validation Loss: 1.2519, Validation Accuracy: 87.38%\n",
      "Validation loss decreased (1.259525 → 1.251919). Saving model...\n",
      "Epoch 26/50, Size: 320, Loss: 2.0367, Accuracy: 75.34%\n",
      "Validation Loss: 1.3032, Validation Accuracy: 88.06%\n",
      "EarlyStopping counter: 1 out of 8\n",
      "Epoch 27/50, Size: 320, Loss: 2.0069, Accuracy: 75.87%\n",
      "Validation Loss: 1.2870, Validation Accuracy: 87.28%\n",
      "EarlyStopping counter: 2 out of 8\n",
      "Epoch 28/50, Size: 320, Loss: 1.9778, Accuracy: 76.44%\n",
      "Validation Loss: 1.3020, Validation Accuracy: 87.67%\n",
      "EarlyStopping counter: 3 out of 8\n",
      "Epoch 29/50, Size: 320, Loss: 2.1756, Accuracy: 71.06%\n",
      "Validation Loss: 1.3715, Validation Accuracy: 87.77%\n",
      "EarlyStopping counter: 4 out of 8\n",
      "Epoch 30/50, Size: 320, Loss: 1.9428, Accuracy: 77.14%\n",
      "Validation Loss: 1.2730, Validation Accuracy: 87.13%\n",
      "EarlyStopping counter: 5 out of 8\n",
      "Epoch 31/50, Size: 320, Loss: 2.0345, Accuracy: 75.17%\n",
      "Validation Loss: 1.2472, Validation Accuracy: 89.33%\n",
      "Validation loss decreased (1.251919 → 1.247226). Saving model...\n",
      "Epoch 32/50, Size: 320, Loss: 1.9790, Accuracy: 76.18%\n",
      "Validation Loss: 1.3106, Validation Accuracy: 88.26%\n",
      "EarlyStopping counter: 1 out of 8\n",
      "Epoch 33/50, Size: 320, Loss: 2.0280, Accuracy: 75.71%\n",
      "Validation Loss: 1.2659, Validation Accuracy: 88.31%\n",
      "EarlyStopping counter: 2 out of 8\n",
      "Epoch 34/50, Size: 320, Loss: 1.9523, Accuracy: 77.31%\n",
      "Validation Loss: 1.3267, Validation Accuracy: 87.92%\n",
      "EarlyStopping counter: 3 out of 8\n",
      "Epoch 35/50, Size: 320, Loss: 1.9438, Accuracy: 77.61%\n",
      "Validation Loss: 1.2944, Validation Accuracy: 87.38%\n",
      "EarlyStopping counter: 4 out of 8\n",
      "Epoch 36/50, Size: 320, Loss: 1.8975, Accuracy: 78.75%\n",
      "Validation Loss: 1.3254, Validation Accuracy: 87.48%\n",
      "EarlyStopping counter: 5 out of 8\n",
      "Epoch 37/50, Size: 320, Loss: 1.8377, Accuracy: 80.48%\n",
      "Validation Loss: 1.2867, Validation Accuracy: 87.52%\n",
      "EarlyStopping counter: 6 out of 8\n",
      "Epoch 38/50, Size: 320, Loss: 1.9522, Accuracy: 77.59%\n",
      "Validation Loss: 1.2789, Validation Accuracy: 87.62%\n",
      "EarlyStopping counter: 7 out of 8\n",
      "Epoch 39/50, Size: 320, Loss: 1.8055, Accuracy: 81.05%\n",
      "Validation Loss: 1.2594, Validation Accuracy: 87.92%\n",
      "EarlyStopping counter: 8 out of 8\n",
      "Early stopping triggered.\n"
     ]
    },
    {
     "data": {
      "text/plain": [
       "<All keys matched successfully>"
      ]
     },
     "execution_count": 21,
     "metadata": {},
     "output_type": "execute_result"
    }
   ],
   "source": [
    "small_image_epochs = 5\n",
    "small_size = 224\n",
    "large_size = 320\n",
    "batch_size = 64\n",
    "\n",
    "early_stopping = EarlyStopping(patience=8, verbose=True, path='best_resnet50.pth')\n",
    "\n",
    "full_dataset = DogBreedImageFolder(\"dog_images/train\", transform=train_transform)\n",
    "\n",
    "\n",
    "for epoch in range(num_epochs):\n",
    "    image_size = small_size if epoch < small_image_epochs else large_size\n",
    "\n",
    "    train_loader = DataLoader(train_dataset, batch_size=batch_size, shuffle=True,\n",
    "                              collate_fn=lambda batch: collate_with_resize(batch, image_size))\n",
    "    val_loader = DataLoader(val_dataset, batch_size=batch_size, shuffle=False,\n",
    "                            collate_fn=lambda batch: collate_with_resize(batch, image_size))\n",
    "\n",
    "    model.train()\n",
    "    running_loss = 0.0\n",
    "    correct = 0\n",
    "    total = 0\n",
    "\n",
    "    for images, labels in train_loader:\n",
    "        images, labels = images.to(device), labels.to(device)\n",
    "        inputs, targets_a, targets_b, lam = mixup_data(images, labels, alpha=0.4)\n",
    "        inputs, targets_a, targets_b = inputs.to(device), targets_a.to(device), targets_b.to(device)\n",
    "\n",
    "        optimizer.zero_grad()\n",
    "        outputs = model(inputs)\n",
    "        loss = mixup_criterion(criterion, outputs, targets_a, targets_b, lam)\n",
    "        loss.backward()\n",
    "        optimizer.step()\n",
    "\n",
    "        running_loss += loss.item()\n",
    "        _, predicted = torch.max(outputs, 1)\n",
    "        total += labels.size(0)\n",
    "        correct += (lam * (predicted == targets_a).sum().item() +\n",
    "            (1 - lam) * (predicted == targets_b).sum().item())\n",
    "\n",
    "\n",
    "    scheduler.step()\n",
    "\n",
    "    epoch_loss = running_loss / len(train_loader)\n",
    "    epoch_acc = 100 * correct / total\n",
    "    print(f\"Epoch {epoch+1}/{num_epochs}, Size: {image_size}, Loss: {epoch_loss:.4f}, Accuracy: {epoch_acc:.2f}%\")\n",
    "\n",
    "    model.eval()\n",
    "    val_loss = 0.0\n",
    "    correct = 0\n",
    "    total = 0\n",
    "    with torch.no_grad():\n",
    "        for images, labels in val_loader:\n",
    "            images, labels = images.to(device), labels.to(device)\n",
    "            outputs = model(images)\n",
    "            loss = criterion(outputs, labels)\n",
    "            val_loss += loss.item()\n",
    "            _, predicted = torch.max(outputs, 1)\n",
    "            total += labels.size(0)\n",
    "            correct += (predicted == labels).sum().item()\n",
    "\n",
    "    val_loss /= len(val_loader)\n",
    "    val_acc = 100 * correct / total\n",
    "    print(f\"Validation Loss: {val_loss:.4f}, Validation Accuracy: {val_acc:.2f}%\")\n",
    "\n",
    "    early_stopping(val_loss, model)\n",
    "\n",
    "    if early_stopping.early_stop:\n",
    "        print(\"Early stopping triggered.\")\n",
    "        break\n",
    "\n",
    "# 載入最佳模型\n",
    "model.load_state_dict(torch.load(\"best_resnet50.pth\"))\n"
   ]
  },
  {
   "cell_type": "code",
   "execution_count": 22,
   "id": "8d306abf-c908-4307-afa8-ffd890aee88f",
   "metadata": {
    "execution": {
     "iopub.execute_input": "2025-05-23T11:44:16.862915Z",
     "iopub.status.busy": "2025-05-23T11:44:16.862740Z",
     "iopub.status.idle": "2025-05-23T11:44:17.086261Z",
     "shell.execute_reply": "2025-05-23T11:44:17.084875Z",
     "shell.execute_reply.started": "2025-05-23T11:44:16.862899Z"
    },
    "id": "8d306abf-c908-4307-afa8-ffd890aee88f",
    "tags": []
   },
   "outputs": [],
   "source": [
    "# 保存訓練後的模型\n",
    "torch.save(model.state_dict(), \"dog_breed_model.pth\")\n"
   ]
  },
  {
   "cell_type": "code",
   "execution_count": 23,
   "id": "bd237980-ad71-4780-8b12-3bf900b5abf9",
   "metadata": {
    "execution": {
     "iopub.execute_input": "2025-05-23T11:44:17.088435Z",
     "iopub.status.busy": "2025-05-23T11:44:17.088025Z",
     "iopub.status.idle": "2025-05-23T11:47:58.275270Z",
     "shell.execute_reply": "2025-05-23T11:47:58.274434Z",
     "shell.execute_reply.started": "2025-05-23T11:44:17.088397Z"
    },
    "id": "bd237980-ad71-4780-8b12-3bf900b5abf9",
    "outputId": "522dbeeb-39d2-4282-82d1-1981e811055b",
    "tags": []
   },
   "outputs": [
    {
     "name": "stdout",
     "output_type": "stream",
     "text": [
      "Test Accuracy: 88.50%\n"
     ]
    }
   ],
   "source": [
    "# 測試集的評估\n",
    "test_accuracy = 0\n",
    "with torch.no_grad():\n",
    "    for images, labels in val_loader:\n",
    "        images, labels = images.to(device), labels.to(device)\n",
    "\n",
    "        outputs = model(images)\n",
    "        _, predicted = torch.max(outputs, 1)\n",
    "\n",
    "        test_accuracy += (predicted == labels).sum().item()\n",
    "\n",
    "test_accuracy = 100 * test_accuracy / len(val_dataset)\n",
    "print(f\"Test Accuracy: {test_accuracy:.2f}%\")\n",
    "\n",
    "import os"
   ]
  },
  {
   "cell_type": "code",
   "execution_count": 24,
   "id": "BpW3rcCW7wwH",
   "metadata": {
    "execution": {
     "iopub.execute_input": "2025-05-23T11:47:58.276288Z",
     "iopub.status.busy": "2025-05-23T11:47:58.276092Z",
     "iopub.status.idle": "2025-05-23T11:58:09.782975Z",
     "shell.execute_reply": "2025-05-23T11:58:09.782008Z",
     "shell.execute_reply.started": "2025-05-23T11:47:58.276272Z"
    },
    "id": "BpW3rcCW7wwH",
    "outputId": "32b927e5-9368-45b2-d380-29ba1b3ab677",
    "tags": []
   },
   "outputs": [
    {
     "name": "stdout",
     "output_type": "stream",
     "text": [
      "TTA Test Accuracy: 3.08%\n"
     ]
    }
   ],
   "source": [
    "# 測試集的評估\n",
    "tta_transforms = [\n",
    "    transforms.Compose([transforms.Resize((320, 320)), transforms.ToTensor()]),\n",
    "    transforms.Compose([transforms.Resize((320, 320)), transforms.RandomHorizontalFlip(p=1.0), transforms.ToTensor()]),\n",
    "    transforms.Compose([transforms.Resize((320, 320)), transforms.ColorJitter(brightness=0.2), transforms.ToTensor()])\n",
    "]\n",
    "\n",
    "model.eval()\n",
    "total = 0\n",
    "correct = 0\n",
    "\n",
    "with torch.no_grad():\n",
    "    for images, labels in val_loader:\n",
    "        images, labels = images.to(device), labels.to(device)\n",
    "\n",
    "        tta_preds = []\n",
    "        for tform in tta_transforms:\n",
    "            aug_images = torch.stack([tform(transforms.ToPILImage()(img.cpu())) for img in images])\n",
    "            aug_images = aug_images.to(device)\n",
    "            outputs = model(aug_images)\n",
    "            tta_preds.append(torch.softmax(outputs, dim=1))\n",
    "\n",
    "        avg_preds = torch.mean(torch.stack(tta_preds), dim=0)\n",
    "        _, predicted = torch.max(avg_preds, 1)\n",
    "\n",
    "        total += labels.size(0)\n",
    "        correct += (predicted == labels).sum().item()\n",
    "\n",
    "accuracy = 100 * correct / total\n",
    "print(f\"TTA Test Accuracy: {accuracy:.2f}%\")\n"
   ]
  },
  {
   "cell_type": "code",
   "execution_count": 25,
   "id": "7ca7a9f2-4bb1-49ac-a672-b956ac8f78d3",
   "metadata": {
    "execution": {
     "iopub.execute_input": "2025-05-23T11:58:09.783759Z",
     "iopub.status.busy": "2025-05-23T11:58:09.783582Z",
     "iopub.status.idle": "2025-05-23T11:58:09.788869Z",
     "shell.execute_reply": "2025-05-23T11:58:09.788379Z",
     "shell.execute_reply.started": "2025-05-23T11:58:09.783745Z"
    },
    "id": "7ca7a9f2-4bb1-49ac-a672-b956ac8f78d3",
    "tags": []
   },
   "outputs": [],
   "source": [
    "from PIL import Image\n",
    "from torch.utils.data import Dataset, DataLoader\n",
    "from torchvision import transforms\n",
    "\n",
    "class TestImageDataset(Dataset):\n",
    "    def __init__(self, image_folder, transform=None):\n",
    "        self.image_folder = image_folder\n",
    "        self.image_filenames = sorted(os.listdir(image_folder))\n",
    "        self.transform = transform\n",
    "\n",
    "    def __len__(self):\n",
    "        return len(self.image_filenames)\n",
    "\n",
    "    def __getitem__(self, idx):\n",
    "        img_name = self.image_filenames[idx]\n",
    "        img_path = os.path.join(self.image_folder, img_name)\n",
    "        image = Image.open(img_path).convert('RGB')\n",
    "        if self.transform:\n",
    "            image = self.transform(image)\n",
    "        return image, img_name.split('.')[0]  # 傳回 image tensor 和 id（"
   ]
  },
  {
   "cell_type": "code",
   "execution_count": 26,
   "id": "b1813979-8cf3-431f-9fad-e31e729a397a",
   "metadata": {
    "execution": {
     "iopub.execute_input": "2025-05-23T11:58:09.789528Z",
     "iopub.status.busy": "2025-05-23T11:58:09.789374Z",
     "iopub.status.idle": "2025-05-23T11:58:10.365215Z",
     "shell.execute_reply": "2025-05-23T11:58:10.363687Z",
     "shell.execute_reply.started": "2025-05-23T11:58:09.789514Z"
    },
    "id": "b1813979-8cf3-431f-9fad-e31e729a397a",
    "tags": []
   },
   "outputs": [],
   "source": [
    "# 取得所有類別名稱，需排序以符合 submission 格式\n",
    "all_breeds = sorted(dataset.class_to_idx.keys())\n",
    "\n",
    "# 建立 mapping\n",
    "idx_to_class = {v: k for k, v in dataset.class_to_idx.items()}\n",
    "# 修正 Test transform 使用與訓練相同的 ImageNet 格式\n",
    "test_transform = transforms.Compose([\n",
    "    transforms.Resize((320, 320)),\n",
    "    transforms.ToTensor(),\n",
    "    transforms.Normalize((0.485, 0.456, 0.406),  # 與訓練相同\n",
    "                         (0.229, 0.224, 0.225))\n",
    "])\n",
    "\n",
    "\n",
    "# 設定測試資料夾路徑\n",
    "test_folder = 'dog-breed-identification/test'  # 請確認實際位置\n",
    "\n",
    "# 建立 DataLoader\n",
    "test_dataset = TestImageDataset(test_folder, transform=test_transform)\n",
    "test_loader = DataLoader(test_dataset, batch_size=64, shuffle=False)\n",
    "\n",
    "# 建立 DataFrame 儲存預測結果\n",
    "results = []"
   ]
  },
  {
   "cell_type": "code",
   "execution_count": 28,
   "id": "016331d2-68f7-459b-bdfb-ffaf026869c0",
   "metadata": {
    "execution": {
     "iopub.execute_input": "2025-05-23T12:13:11.277047Z",
     "iopub.status.busy": "2025-05-23T12:13:11.276871Z",
     "iopub.status.idle": "2025-05-23T12:27:05.803217Z",
     "shell.execute_reply": "2025-05-23T12:27:05.802376Z",
     "shell.execute_reply.started": "2025-05-23T12:13:11.277030Z"
    },
    "id": "016331d2-68f7-459b-bdfb-ffaf026869c0",
    "outputId": "b69368fe-99cd-4ec0-b93c-560a8c723519",
    "tags": []
   },
   "outputs": [
    {
     "name": "stdout",
     "output_type": "stream",
     "text": [
      "✅ submission7.csv 已成功輸出，格式符合 Kaggle 要求！\n"
     ]
    }
   ],
   "source": [
    "# 使用 softmax 輸出機率\n",
    "results = []\n",
    "\n",
    "with torch.no_grad():\n",
    "    for inputs, image_ids in test_loader:\n",
    "        inputs = inputs.to(device)\n",
    "        outputs = model(inputs)\n",
    "        probs = torch.softmax(outputs, dim=1).cpu().numpy()  # shape: (batch_size, 120)\n",
    "\n",
    "        for img_id, prob_vector in zip(image_ids, probs):\n",
    "            row = {\"id\": img_id}\n",
    "            for breed, prob in zip(all_breeds, prob_vector):\n",
    "                row[breed] = prob\n",
    "            results.append(row)\n",
    "\n",
    "# 轉成 DataFrame 並輸出\n",
    "df = pd.DataFrame(results)\n",
    "df = df[[\"id\"] + all_breeds]  # 確保順序符合要求\n",
    "df.to_csv(\"submission789.csv\", index=False)\n",
    "print(\"✅ submission7.csv 已成功輸出，格式符合 Kaggle 要求！\")"
   ]
  },
  {
   "cell_type": "code",
   "execution_count": null,
   "id": "628d7fd6-d52e-4336-8f59-3d72d2e9f902",
   "metadata": {
    "id": "628d7fd6-d52e-4336-8f59-3d72d2e9f902"
   },
   "outputs": [],
   "source": []
  },
  {
   "cell_type": "code",
   "execution_count": null,
   "id": "d674ef87-a830-4a55-84d1-9a8b944d3aad",
   "metadata": {},
   "outputs": [],
   "source": []
  }
 ],
 "metadata": {
  "colab": {
   "provenance": []
  },
  "kernelspec": {
   "display_name": "Python 3 (ipykernel)",
   "language": "python",
   "name": "python3"
  },
  "language_info": {
   "codemirror_mode": {
    "name": "ipython",
    "version": 3
   },
   "file_extension": ".py",
   "mimetype": "text/x-python",
   "name": "python",
   "nbconvert_exporter": "python",
   "pygments_lexer": "ipython3",
   "version": "3.9.13"
  }
 },
 "nbformat": 4,
 "nbformat_minor": 5
}
