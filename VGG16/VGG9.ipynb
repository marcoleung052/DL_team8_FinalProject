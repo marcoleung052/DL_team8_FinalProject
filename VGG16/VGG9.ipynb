{
  "cells": [
    {
      "cell_type": "code",
      "execution_count": 1,
      "id": "19dd142d-af4f-4cc4-a737-cb5cf859e92e",
      "metadata": {
        "execution": {
          "iopub.execute_input": "2025-05-08T07:41:18.244272Z",
          "iopub.status.busy": "2025-05-08T07:41:18.242351Z",
          "iopub.status.idle": "2025-05-08T07:41:18.340635Z",
          "shell.execute_reply": "2025-05-08T07:41:18.338962Z",
          "shell.execute_reply.started": "2025-05-08T07:41:18.244202Z"
        },
        "tags": [],
        "colab": {
          "base_uri": "https://localhost:8080/",
          "height": 49,
          "referenced_widgets": [
            "b807c14e44ea40d6a966b2c85b9be475",
            "782b4ae18f59407c93a6b5452d162f4b",
            "df0e1638cc3148a2abcaf3e64f9fc2cf"
          ]
        },
        "id": "19dd142d-af4f-4cc4-a737-cb5cf859e92e",
        "outputId": "ef570367-e6d3-46f3-9540-08dffa793419"
      },
      "outputs": [
        {
          "output_type": "display_data",
          "data": {
            "text/plain": [
              "FileUpload(value={}, description='Upload')"
            ],
            "application/vnd.jupyter.widget-view+json": {
              "version_major": 2,
              "version_minor": 0,
              "model_id": "b807c14e44ea40d6a966b2c85b9be475"
            }
          },
          "metadata": {}
        }
      ],
      "source": [
        "from IPython.display import display\n",
        "import os\n",
        "\n",
        "# 上傳檔案（會跳出檔案選擇器）\n",
        "from ipywidgets import FileUpload\n",
        "\n",
        "upload = FileUpload()\n",
        "display(upload)"
      ]
    },
    {
      "cell_type": "code",
      "execution_count": 2,
      "id": "172906a3-1dd5-4484-a903-2877d1e50ebc",
      "metadata": {
        "execution": {
          "iopub.execute_input": "2025-05-08T07:41:25.642301Z",
          "iopub.status.busy": "2025-05-08T07:41:25.641367Z",
          "iopub.status.idle": "2025-05-08T07:41:25.678931Z",
          "shell.execute_reply": "2025-05-08T07:41:25.676984Z",
          "shell.execute_reply.started": "2025-05-08T07:41:25.642244Z"
        },
        "tags": [],
        "colab": {
          "base_uri": "https://localhost:8080/"
        },
        "id": "172906a3-1dd5-4484-a903-2877d1e50ebc",
        "outputId": "066fdaf6-c51e-4635-a127-ce52253ba21e"
      },
      "outputs": [
        {
          "output_type": "stream",
          "name": "stdout",
          "text": [
            "{'metadata': {'name': 'kaggle.json', 'type': 'application/json', 'size': 64, 'lastModified': 1745215961986}, 'content': b'{\"username\":\"suchiwen\",\"key\":\"01a925cee9e9e9d232008524b0434fb9\"}'}\n",
            "kaggle.json 已成功儲存至 /root/.kaggle/kaggle.json\n"
          ]
        }
      ],
      "source": [
        "import os\n",
        "from pathlib import Path\n",
        "\n",
        "# 假設你只上傳了一個檔案\n",
        "# Check if any file is uploaded and get the filename\n",
        "if upload.value:\n",
        "    # Get the first (and likely only) filename from the dictionary keys\n",
        "    filename = list(upload.value.keys())[0]\n",
        "    fileinfo = upload.value[filename] # Access the file info dictionary using the filename as key\n",
        "else:\n",
        "    print(\"No file uploaded.\")\n",
        "    # Handle the case where no file is uploaded, perhaps by exiting or prompting the user.\n",
        "    # For this example, we'll assume a file was uploaded as per the traceback context.\n",
        "    raise FileNotFoundError(\"No file was uploaded.\")\n",
        "\n",
        "\n",
        "# 顯示內容結構（除錯用）\n",
        "print(fileinfo)\n",
        "\n",
        "# 儲存 kaggle.json\n",
        "# filename is already obtained above\n",
        "content = fileinfo['content']\n",
        "\n",
        "kaggle_dir = Path.home() / \".kaggle\"\n",
        "kaggle_dir.mkdir(exist_ok=True)\n",
        "\n",
        "kaggle_json_path = kaggle_dir / \"kaggle.json\"\n",
        "with open(kaggle_json_path, \"wb\") as f:\n",
        "    f.write(content)\n",
        "\n",
        "# 設定權限（Linux/macOS 建議）\n",
        "os.chmod(kaggle_json_path, 0o600)\n",
        "\n",
        "print(f\"{filename} 已成功儲存至 {kaggle_json_path}\")"
      ]
    },
    {
      "cell_type": "code",
      "execution_count": 3,
      "id": "e13e384c-f12d-4c02-b891-80542dd9a6db",
      "metadata": {
        "execution": {
          "iopub.execute_input": "2025-05-08T07:41:27.613483Z",
          "iopub.status.busy": "2025-05-08T07:41:27.612703Z",
          "iopub.status.idle": "2025-05-08T07:41:28.600387Z",
          "shell.execute_reply": "2025-05-08T07:41:28.597973Z",
          "shell.execute_reply.started": "2025-05-08T07:41:27.613424Z"
        },
        "tags": [],
        "colab": {
          "base_uri": "https://localhost:8080/"
        },
        "id": "e13e384c-f12d-4c02-b891-80542dd9a6db",
        "outputId": "e6dfada0-1dee-47d7-ba5a-196b2512dec9"
      },
      "outputs": [
        {
          "output_type": "stream",
          "name": "stdout",
          "text": [
            "ref                                                     title                                                  size  lastUpdated                 downloadCount  voteCount  usabilityRating  \n",
            "------------------------------------------------------  ----------------------------------------------  -----------  --------------------------  -------------  ---------  ---------------  \n",
            "fedesoriano/cifar100                                    CIFAR-100 Python                                  168517809  2020-12-26 08:37:10.143000          12526        178  1.0              \n",
            "pankrzysiu/cifar10-python                               CIFAR-10 Python                                   340613496  2018-01-27 13:42:40.967000          15068        256  0.75             \n",
            "petitbonney/cifar10-image-recognition                   CIFAR-10                                         1007971063  2019-10-01 12:50:23.227000           2979         27  0.8235294        \n",
            "valentynsichkar/cifar10-preprocessed                    CIFAR10 Preprocessed                             1227571899  2019-07-13 13:43:11.030000           3417         65  1.0              \n",
            "swaroopkml/cifar10-pngs-in-folders                      CIFAR-10 PNGs in folders                          293479104  2019-02-10 11:16:19.507000          13675         96  0.6875           \n",
            "ayush1220/cifar10                                       CIFAR-10                                          146259525  2022-01-11 21:03:48.427000           1436         13  0.6875           \n",
            "fedesoriano/cifar10-python-in-csv                       CIFAR-10 Python in CSV                            218807675  2021-06-22 09:07:55.670000           7201         53  1.0              \n",
            "alincijov/cifar-100                                     CIFAR-100                                         168517809  2020-09-13 13:40:25.763000            382         16  0.625            \n",
            "quanbk/cifar10                                          Cifar-10                                          170062484  2017-11-22 01:12:26.240000           3663         26  0.25             \n",
            "emadtolba/cifar10-comp                                  Cifar-10 comp                                     706709151  2018-09-09 02:55:22.263000            384         12  0.64705884       \n",
            "birdy654/cifake-real-and-ai-generated-synthetic-images  CIFAKE: Real and AI-Generated Synthetic Images    109625224  2023-03-28 16:00:29.500000          20631        152  0.875            \n",
            "amishfaldu/cifar10dataset                               Cifar-10 Dataset                                 4989376312  2020-10-07 04:30:40.600000            356          6  1.0              \n",
            "ibraheemmoosa/cifar100-256x256                          CIFAR100 256x256                                 2817065558  2021-04-24 17:09:57.140000           1040         23  0.875            \n",
            "jessicali9530/stl10                                     STL-10 Image Recognition Dataset                 2017846807  2018-06-11 03:02:24.153000           6901        125  0.75             \n",
            "gazu468/cifar10-classification-image                    Cifar10 Classification Image                      146259525  2022-10-29 18:47:18.453000            822         15  0.5              \n",
            "oxcdcd/cifar10                                          cifar10                                           183819211  2018-08-12 09:31:35.253000           3463         35  0.1875           \n",
            "pavansanagapati/cifar100                                CIFAR-100                                         337036008  2018-06-21 12:23:51.707000            417          4  0.3125           \n",
            "ekaakurniawan/the-cifar10-dataset                       The CIFAR-10 Dataset                              170063312  2021-04-06 16:57:56.220000            523          4  0.9375           \n",
            "pypiahmad/cifar-100                                     CIFAR-100                                         168517947  2023-10-29 09:53:59.520000             84         11  0.6875           \n",
            "imsparsh/musicnet-dataset                               MusicNet Dataset                                23086004822  2021-02-18 14:12:19.753000          16207        528  1.0              \n"
          ]
        }
      ],
      "source": [
        "!kaggle datasets list -s cifar\n"
      ]
    },
    {
      "cell_type": "code",
      "execution_count": 4,
      "id": "2e5fb396-b2e8-4b41-a76c-81dcd0626c01",
      "metadata": {
        "execution": {
          "iopub.execute_input": "2025-05-08T07:41:57.870318Z",
          "iopub.status.busy": "2025-05-08T07:41:57.868472Z",
          "iopub.status.idle": "2025-05-08T07:51:56.665414Z",
          "shell.execute_reply": "2025-05-08T07:51:56.664055Z",
          "shell.execute_reply.started": "2025-05-08T07:41:57.870233Z"
        },
        "tags": [],
        "colab": {
          "base_uri": "https://localhost:8080/"
        },
        "id": "2e5fb396-b2e8-4b41-a76c-81dcd0626c01",
        "outputId": "6418e861-4cc0-4430-a73d-3697b032410d"
      },
      "outputs": [
        {
          "output_type": "stream",
          "name": "stdout",
          "text": [
            "Requirement already satisfied: kaggle in /usr/local/lib/python3.11/dist-packages (1.7.4.5)\n",
            "Requirement already satisfied: bleach in /usr/local/lib/python3.11/dist-packages (from kaggle) (6.2.0)\n",
            "Requirement already satisfied: certifi>=14.05.14 in /usr/local/lib/python3.11/dist-packages (from kaggle) (2025.4.26)\n",
            "Requirement already satisfied: charset-normalizer in /usr/local/lib/python3.11/dist-packages (from kaggle) (3.4.2)\n",
            "Requirement already satisfied: idna in /usr/local/lib/python3.11/dist-packages (from kaggle) (3.10)\n",
            "Requirement already satisfied: protobuf in /usr/local/lib/python3.11/dist-packages (from kaggle) (5.29.5)\n",
            "Requirement already satisfied: python-dateutil>=2.5.3 in /usr/local/lib/python3.11/dist-packages (from kaggle) (2.9.0.post0)\n",
            "Requirement already satisfied: python-slugify in /usr/local/lib/python3.11/dist-packages (from kaggle) (8.0.4)\n",
            "Requirement already satisfied: requests in /usr/local/lib/python3.11/dist-packages (from kaggle) (2.32.3)\n",
            "Requirement already satisfied: setuptools>=21.0.0 in /usr/local/lib/python3.11/dist-packages (from kaggle) (75.2.0)\n",
            "Requirement already satisfied: six>=1.10 in /usr/local/lib/python3.11/dist-packages (from kaggle) (1.17.0)\n",
            "Requirement already satisfied: text-unidecode in /usr/local/lib/python3.11/dist-packages (from kaggle) (1.3)\n",
            "Requirement already satisfied: tqdm in /usr/local/lib/python3.11/dist-packages (from kaggle) (4.67.1)\n",
            "Requirement already satisfied: urllib3>=1.15.1 in /usr/local/lib/python3.11/dist-packages (from kaggle) (2.4.0)\n",
            "Requirement already satisfied: webencodings in /usr/local/lib/python3.11/dist-packages (from kaggle) (0.5.1)\n",
            "Requirement already satisfied: pandas in /usr/local/lib/python3.11/dist-packages (2.2.2)\n",
            "Collecting pandas\n",
            "  Downloading pandas-2.3.0-cp311-cp311-manylinux_2_17_x86_64.manylinux2014_x86_64.whl.metadata (91 kB)\n",
            "\u001b[2K     \u001b[90m━━━━━━━━━━━━━━━━━━━━━━━━━━━━━━━━━━━━━━━━\u001b[0m \u001b[32m91.2/91.2 kB\u001b[0m \u001b[31m4.7 MB/s\u001b[0m eta \u001b[36m0:00:00\u001b[0m\n",
            "\u001b[?25hRequirement already satisfied: numpy>=1.23.2 in /usr/local/lib/python3.11/dist-packages (from pandas) (2.0.2)\n",
            "Requirement already satisfied: python-dateutil>=2.8.2 in /usr/local/lib/python3.11/dist-packages (from pandas) (2.9.0.post0)\n",
            "Requirement already satisfied: pytz>=2020.1 in /usr/local/lib/python3.11/dist-packages (from pandas) (2025.2)\n",
            "Requirement already satisfied: tzdata>=2022.7 in /usr/local/lib/python3.11/dist-packages (from pandas) (2025.2)\n",
            "Requirement already satisfied: six>=1.5 in /usr/local/lib/python3.11/dist-packages (from python-dateutil>=2.8.2->pandas) (1.17.0)\n",
            "Downloading pandas-2.3.0-cp311-cp311-manylinux_2_17_x86_64.manylinux2014_x86_64.whl (12.4 MB)\n",
            "\u001b[2K   \u001b[90m━━━━━━━━━━━━━━━━━━━━━━━━━━━━━━━━━━━━━━━━\u001b[0m \u001b[32m12.4/12.4 MB\u001b[0m \u001b[31m84.2 MB/s\u001b[0m eta \u001b[36m0:00:00\u001b[0m\n",
            "\u001b[?25hInstalling collected packages: pandas\n",
            "  Attempting uninstall: pandas\n",
            "    Found existing installation: pandas 2.2.2\n",
            "    Uninstalling pandas-2.2.2:\n",
            "      Successfully uninstalled pandas-2.2.2\n",
            "\u001b[31mERROR: pip's dependency resolver does not currently take into account all the packages that are installed. This behaviour is the source of the following dependency conflicts.\n",
            "google-colab 1.0.0 requires pandas==2.2.2, but you have pandas 2.3.0 which is incompatible.\n",
            "cudf-cu12 25.2.1 requires pandas<2.2.4dev0,>=2.0, but you have pandas 2.3.0 which is incompatible.\n",
            "dask-cudf-cu12 25.2.2 requires pandas<2.2.4dev0,>=2.0, but you have pandas 2.3.0 which is incompatible.\u001b[0m\u001b[31m\n",
            "\u001b[0mSuccessfully installed pandas-2.3.0\n",
            "cp: cannot stat 'kaggle.json': No such file or directory\n",
            "Downloading dog-breed-identification.zip to /content\n",
            " 88% 607M/691M [00:03<00:01, 52.8MB/s]\n",
            "100% 691M/691M [00:03<00:00, 196MB/s] \n"
          ]
        }
      ],
      "source": [
        "!pip install -U kaggle\n",
        "!pip install --upgrade pandas\n",
        "import os\n",
        "import zipfile\n",
        "\n",
        "# 建立 Kaggle 資料夾\n",
        "!mkdir -p ~/.kaggle\n",
        "!cp kaggle.json ~/.kaggle/\n",
        "!chmod 600 ~/.kaggle/kaggle.json\n",
        "\n",
        "# 下載 Dog Breed Identification 資料集\n",
        "!kaggle competitions download -c dog-breed-identification --force\n",
        "!unzip -oq dog-breed-identification.zip -d dog-breed-identification\n",
        "\n",
        "\n",
        "import pandas as pd\n",
        "import numpy as np\n",
        "\n",
        "labels = pd.read_csv('dog-breed-identification/labels.csv')\n"
      ]
    },
    {
      "cell_type": "code",
      "source": [
        "import torch\n",
        "import torch.nn as nn\n",
        "import torch.optim as optim\n",
        "from torch.utils.data import DataLoader, Subset\n",
        "from torch.utils.data.sampler import WeightedRandomSampler\n",
        "from torchvision import models, transforms\n",
        "from torchvision.transforms import RandomErasing # Import RandomErasing\n",
        "from sklearn.model_selection import KFold\n",
        "from sklearn.metrics import classification_report, confusion_matrix\n",
        "import numpy as np\n",
        "import pandas as pd\n",
        "from PIL import Image\n",
        "from collections import Counter\n",
        "from tqdm import tqdm\n",
        "import os\n",
        "\n",
        "# ---------- 參數設定 ----------\n",
        "data_dir = \"dog-breed-identification\"\n",
        "train_dir = os.path.join(data_dir, \"train\")\n",
        "test_dir = os.path.join(data_dir, \"test\")\n",
        "labels_path = os.path.join(data_dir, \"labels.csv\")\n",
        "val_ratio = 0.2\n",
        "batch_size = 32\n",
        "num_workers = 2\n",
        "gamma = 1.5\n",
        "num_epochs = 30\n",
        "lr = 5e-4\n",
        "\n",
        "\n",
        "\n",
        "# ---------- 資料增強 ----------\n",
        "mean = [0.485, 0.456, 0.406]\n",
        "std = [0.229, 0.224, 0.225]\n",
        "\n",
        "def cutmix(data, targets, alpha=1.0):\n",
        "    indices = torch.randperm(data.size(0))\n",
        "    shuffled_data = data[indices]\n",
        "    shuffled_targets = targets[indices]\n",
        "    lam = np.random.beta(alpha, alpha)\n",
        "    bbx1, bby1, bbx2, bby2 = rand_bbox(data.size(), lam)\n",
        "    data[:, :, bbx1:bbx2, bby1:bby2] = shuffled_data[:, :, bbx1:bbx2, bby1:bby2]\n",
        "    lam = 1 - ((bbx2 - bbx1) * (bby2 - bby1) / (data.size(-1) * data.size(-2)))\n",
        "    return data, targets, shuffled_targets, lam\n",
        "\n",
        "def rand_bbox(size, lam):\n",
        "    W, H = size[2], size[3]\n",
        "    cut_rat = np.sqrt(1. - lam)\n",
        "    cut_w, cut_h = int(W * cut_rat), int(H * cut_rat)\n",
        "    cx, cy = np.random.randint(W), np.random.randint(H)\n",
        "    bbx1, bby1 = np.clip(cx - cut_w // 2, 0, W), np.clip(cy - cut_h // 2, 0, H)\n",
        "    bbx2, bby2 = np.clip(cx + cut_w // 2, 0, W), np.clip(cy + cut_h // 2, 0, H)\n",
        "    return bbx1, bby1, bbx2, bby2\n",
        "\n",
        "# Transformations\n",
        "mean = [0.485, 0.456, 0.406]\n",
        "std = [0.229, 0.224, 0.225]\n",
        "train_transform = transforms.Compose([\n",
        "    transforms.RandomResizedCrop(224),\n",
        "    transforms.RandomHorizontalFlip(),\n",
        "    transforms.ColorJitter(0.1, 0.1),\n",
        "    transforms.ToTensor(),\n",
        "    transforms.Normalize(mean, std),\n",
        "])\n",
        "tta_transforms = [\n",
        "    transforms.Compose([\n",
        "        transforms.Resize((224, 224)),\n",
        "        transforms.RandomHorizontalFlip(),\n",
        "        transforms.ToTensor(),\n",
        "        transforms.Normalize(mean, std),\n",
        "    ]) for _ in range(5)\n",
        "]\n",
        "val_transform = transforms.Compose([\n",
        "    transforms.Resize((224, 224)),\n",
        "    transforms.ToTensor(),\n",
        "    transforms.Normalize(mean, std),\n",
        "])\n"
      ],
      "metadata": {
        "id": "WgWfz5uF5BT1"
      },
      "id": "WgWfz5uF5BT1",
      "execution_count": 8,
      "outputs": []
    },
    {
      "cell_type": "code",
      "source": [
        "# ---------- Dataset ----------\n",
        "from torch.utils.data import Dataset, random_split\n",
        "\n",
        "class DogBreedDataset(Dataset):\n",
        "    def __init__(self, image_dir, labels_df, transform=None):\n",
        "        self.image_dir = image_dir\n",
        "        self.transform = transform\n",
        "        self.labels_df = labels_df\n",
        "        self.breed2idx = {breed: idx for idx, breed in enumerate(sorted(labels_df['breed'].unique()))}\n",
        "        self.labels_df['label'] = self.labels_df['breed'].map(self.breed2idx)\n",
        "\n",
        "    def __len__(self):\n",
        "        return len(self.labels_df)\n",
        "\n",
        "    def __getitem__(self, idx):\n",
        "        row = self.labels_df.iloc[idx]\n",
        "        img_path = os.path.join(self.image_dir, row['id'] + \".jpg\")\n",
        "        image = Image.open(img_path).convert(\"RGB\")\n",
        "        label = row['label']\n",
        "        if self.transform:\n",
        "            image = self.transform(image)\n",
        "        return image, label\n",
        "\n",
        "class TestDataset(Dataset):\n",
        "    def __init__(self, image_dir, transform=None):\n",
        "        self.image_dir = image_dir\n",
        "        self.transform = transform\n",
        "        self.image_files = [f for f in os.listdir(image_dir) if f.endswith(\".jpg\")]\n",
        "\n",
        "    def __len__(self):\n",
        "        return len(self.image_files)\n",
        "\n",
        "    def __getitem__(self, idx):\n",
        "        img_name = self.image_files[idx]\n",
        "        img_path = os.path.join(self.image_dir, img_name)\n",
        "        image = Image.open(img_path).convert(\"RGB\")\n",
        "        if self.transform:\n",
        "            image = self.transform(image)\n",
        "        return image, img_name\n",
        "\n",
        "# ---------- 讀入標籤 ----------\n",
        "labels_df = pd.read_csv(labels_path)\n",
        "full_dataset = DogBreedDataset(train_dir, labels_df, transform=train_transform)\n",
        "val_size = int(len(full_dataset) * val_ratio)\n",
        "train_size = len(full_dataset) - val_size\n",
        "train_dataset, val_dataset = random_split(full_dataset, [train_size, val_size])\n",
        "val_dataset.dataset.transform = val_transform\n",
        "\n",
        "train_labels = [full_dataset.labels_df.iloc[i]['label'] for i in train_dataset.indices]\n",
        "label_counts = Counter(train_labels)\n",
        "sample_weights = [1.0 / label_counts[label] for label in train_labels]\n",
        "sampler = WeightedRandomSampler(sample_weights, len(sample_weights), replacement=True)\n",
        "\n",
        "train_loader = DataLoader(train_dataset, batch_size=batch_size, sampler=sampler, num_workers=num_workers)\n",
        "val_loader = DataLoader(val_dataset, batch_size=batch_size, shuffle=False, num_workers=num_workers)\n",
        "test_dataset = TestDataset(test_dir, transform=val_transform)\n",
        "test_loader = DataLoader(test_dataset, batch_size=batch_size, shuffle=False, num_workers=num_workers)\n",
        "\n",
        "# Combined Loss: Focal + Label Smoothing\n",
        "class FocalLabelSmoothingLoss(nn.Module):\n",
        "    def __init__(self, smoothing=0.1, gamma=2.0):\n",
        "        super().__init__()\n",
        "        self.smoothing = smoothing\n",
        "        self.gamma = gamma\n",
        "\n",
        "    def forward(self, input, target):\n",
        "        log_probs = torch.nn.functional.log_softmax(input, dim=-1)\n",
        "        targets = torch.zeros_like(log_probs).scatter_(1, target.unsqueeze(1), 1)\n",
        "        targets = (1 - self.smoothing) * targets + self.smoothing / input.size(1)\n",
        "        pt = torch.exp(log_probs)\n",
        "        loss = -((1 - pt) ** self.gamma) * log_probs * targets\n",
        "        return loss.sum(dim=1).mean()"
      ],
      "metadata": {
        "id": "QYC7Jleg00Ld"
      },
      "id": "QYC7Jleg00Ld",
      "execution_count": 10,
      "outputs": []
    },
    {
      "cell_type": "code",
      "source": [
        "# ---------- 模型建立 ----------\n",
        "def get_model(num_classes):\n",
        "    model = models.vgg16(pretrained=True)\n",
        "    for param in model.features.parameters():\n",
        "        param.requires_grad = False\n",
        "    model.classifier = nn.Sequential(\n",
        "        nn.Linear(25088, 4096), nn.ReLU(True), nn.Dropout(0.5),\n",
        "        nn.Linear(4096, 4096), nn.ReLU(True), nn.Dropout(0.5),\n",
        "        nn.Linear(4096, num_classes)\n",
        "    )\n",
        "    return model"
      ],
      "metadata": {
        "id": "rBnkJQ7W167V"
      },
      "id": "rBnkJQ7W167V",
      "execution_count": 11,
      "outputs": []
    },
    {
      "cell_type": "code",
      "source": [
        "# K-Fold Training + TTA\n",
        "def train_kfold(dataset, n_splits=5):\n",
        "    kfold = KFold(n_splits=n_splits, shuffle=True, random_state=42)\n",
        "    for fold, (train_idx, val_idx) in enumerate(kfold.split(dataset)):\n",
        "        print(f\"Fold {fold+1}/{n_splits}\")\n",
        "\n",
        "        train_subset = Subset(dataset, train_idx)\n",
        "        val_subset = Subset(dataset, val_idx)\n",
        "\n",
        "        # Weighted Sampling\n",
        "        train_labels = [dataset.labels_df.iloc[i]['label'] for i in train_idx]\n",
        "        label_counts = Counter(train_labels)\n",
        "        weights = [1.0 / label_counts[label] for label in train_labels]\n",
        "        sampler = WeightedRandomSampler(weights, len(weights))\n",
        "\n",
        "        train_loader = DataLoader(train_subset, batch_size=128, sampler=sampler, num_workers=2)\n",
        "        val_loader = DataLoader(val_subset, batch_size=128, shuffle=False, num_workers=2)\n",
        "\n",
        "        model = get_model(len(label_counts)).to(device)\n",
        "        criterion = FocalLabelSmoothingLoss(smoothing=0.1, gamma=2.0)\n",
        "        optimizer = optim.SGD(model.parameters(), lr=0.01, momentum=0.9, nesterov=True)\n",
        "        scheduler = optim.lr_scheduler.CosineAnnealingWarmRestarts(optimizer, T_0=5, T_mult=2)\n",
        "\n",
        "        best_acc = 0\n",
        "        patience, counter = 5, 0\n",
        "        for epoch in range(30):\n",
        "            model.train()\n",
        "            total_loss = 0\n",
        "            for images, labels in tqdm(train_loader):\n",
        "                images, labels = images.to(device), labels.to(device)\n",
        "                optimizer.zero_grad()\n",
        "                outputs = model(images)\n",
        "                loss = criterion(outputs, labels)\n",
        "                loss.backward()\n",
        "                optimizer.step()\n",
        "                total_loss += loss.item()\n",
        "            scheduler.step()\n",
        "\n",
        "            # Validation\n",
        "            model.eval()\n",
        "            correct, total = 0, 0\n",
        "            all_preds, all_targets = [], []\n",
        "            with torch.no_grad():\n",
        "                for images, labels in val_loader:\n",
        "                    images, labels = images.to(device), labels.to(device)\n",
        "                    outputs = model(images)\n",
        "                    preds = outputs.argmax(dim=1)\n",
        "                    correct += (preds == labels).sum().item()\n",
        "                    total += labels.size(0)\n",
        "                    all_preds.extend(preds.cpu().numpy())\n",
        "                    all_targets.extend(labels.cpu().numpy())\n",
        "\n",
        "            val_acc = correct / total\n",
        "            print(f\"Epoch {epoch+1} - Val Accuracy: {val_acc:.4f}\")\n",
        "            if val_acc > best_acc:\n",
        "                best_acc = val_acc\n",
        "                torch.save(model.state_dict(), f\"best_model_fold{fold}.pth\")\n",
        "                counter = 0\n",
        "                print(\"Model saved\")\n",
        "            else:\n",
        "                counter += 1\n",
        "                if counter >= patience:\n",
        "                    print(\"Early stopping\")\n",
        "                    break\n",
        "\n",
        "        # Confusion Matrix\n",
        "        print(confusion_matrix(all_targets, all_preds))\n",
        "        print(classification_report(all_targets, all_preds))\n"
      ],
      "metadata": {
        "id": "l8aCPptgLpFT"
      },
      "id": "l8aCPptgLpFT",
      "execution_count": 12,
      "outputs": []
    },
    {
      "cell_type": "code",
      "source": [
        "# Inference with TTA\n",
        "@torch.no_grad()\n",
        "def tta_inference(model, image, transforms_list):\n",
        "    model.eval()\n",
        "    image = image.to(device)\n",
        "    preds = torch.zeros((len(class_names),), device=device)\n",
        "    for tform in transforms_list:\n",
        "        augmented = tform(image.cpu())\n",
        "        augmented = augmented.unsqueeze(0).to(device)\n",
        "        output = model(augmented)\n",
        "        preds += torch.softmax(output, dim=1).squeeze(0)\n",
        "    return preds / len(transforms_list)\n",
        "\n",
        "# Example Usage\n",
        "labels_df = pd.read_csv(\"dog-breed-identification/labels.csv\")\n",
        "train_dataset = DogBreedDataset(\"dog-breed-identification/train\", labels_df, transform=train_transform)\n",
        "device = torch.device(\"cuda\" if torch.cuda.is_available() else \"cpu\")\n",
        "class_names = sorted(labels_df['breed'].unique())\n",
        "train_kfold(train_dataset)"
      ],
      "metadata": {
        "colab": {
          "base_uri": "https://localhost:8080/"
        },
        "id": "7f91ds9jLqwm",
        "outputId": "c5bb28da-8cb9-4c91-944e-e44d42f44a32"
      },
      "id": "7f91ds9jLqwm",
      "execution_count": 13,
      "outputs": [
        {
          "output_type": "stream",
          "name": "stdout",
          "text": [
            "Fold 1/5\n"
          ]
        },
        {
          "output_type": "stream",
          "name": "stderr",
          "text": [
            "/usr/local/lib/python3.11/dist-packages/torchvision/models/_utils.py:208: UserWarning: The parameter 'pretrained' is deprecated since 0.13 and may be removed in the future, please use 'weights' instead.\n",
            "  warnings.warn(\n",
            "/usr/local/lib/python3.11/dist-packages/torchvision/models/_utils.py:223: UserWarning: Arguments other than a weight enum or `None` for 'weights' are deprecated since 0.13 and may be removed in the future. The current behavior is equivalent to passing `weights=VGG16_Weights.IMAGENET1K_V1`. You can also use `weights=VGG16_Weights.DEFAULT` to get the most up-to-date weights.\n",
            "  warnings.warn(msg)\n",
            "Downloading: \"https://download.pytorch.org/models/vgg16-397923af.pth\" to /root/.cache/torch/hub/checkpoints/vgg16-397923af.pth\n",
            "100%|██████████| 528M/528M [00:05<00:00, 95.7MB/s]\n",
            "100%|██████████| 64/64 [00:50<00:00,  1.28it/s]\n"
          ]
        },
        {
          "output_type": "stream",
          "name": "stdout",
          "text": [
            "Epoch 1 - Val Accuracy: 0.4132\n",
            "Model saved\n"
          ]
        },
        {
          "output_type": "stream",
          "name": "stderr",
          "text": [
            "100%|██████████| 64/64 [00:50<00:00,  1.26it/s]\n"
          ]
        },
        {
          "output_type": "stream",
          "name": "stdout",
          "text": [
            "Epoch 2 - Val Accuracy: 0.5604\n",
            "Model saved\n"
          ]
        },
        {
          "output_type": "stream",
          "name": "stderr",
          "text": [
            "100%|██████████| 64/64 [00:49<00:00,  1.30it/s]\n"
          ]
        },
        {
          "output_type": "stream",
          "name": "stdout",
          "text": [
            "Epoch 3 - Val Accuracy: 0.5692\n",
            "Model saved\n"
          ]
        },
        {
          "output_type": "stream",
          "name": "stderr",
          "text": [
            "100%|██████████| 64/64 [00:49<00:00,  1.28it/s]\n"
          ]
        },
        {
          "output_type": "stream",
          "name": "stdout",
          "text": [
            "Epoch 4 - Val Accuracy: 0.6098\n",
            "Model saved\n"
          ]
        },
        {
          "output_type": "stream",
          "name": "stderr",
          "text": [
            "100%|██████████| 64/64 [00:50<00:00,  1.27it/s]\n"
          ]
        },
        {
          "output_type": "stream",
          "name": "stdout",
          "text": [
            "Epoch 5 - Val Accuracy: 0.6284\n",
            "Model saved\n"
          ]
        },
        {
          "output_type": "stream",
          "name": "stderr",
          "text": [
            "100%|██████████| 64/64 [00:51<00:00,  1.24it/s]\n"
          ]
        },
        {
          "output_type": "stream",
          "name": "stdout",
          "text": [
            "Epoch 6 - Val Accuracy: 0.6098\n"
          ]
        },
        {
          "output_type": "stream",
          "name": "stderr",
          "text": [
            "100%|██████████| 64/64 [00:51<00:00,  1.25it/s]\n"
          ]
        },
        {
          "output_type": "stream",
          "name": "stdout",
          "text": [
            "Epoch 7 - Val Accuracy: 0.5795\n"
          ]
        },
        {
          "output_type": "stream",
          "name": "stderr",
          "text": [
            "100%|██████████| 64/64 [00:52<00:00,  1.22it/s]\n"
          ]
        },
        {
          "output_type": "stream",
          "name": "stdout",
          "text": [
            "Epoch 8 - Val Accuracy: 0.6176\n"
          ]
        },
        {
          "output_type": "stream",
          "name": "stderr",
          "text": [
            "100%|██████████| 64/64 [00:51<00:00,  1.25it/s]\n"
          ]
        },
        {
          "output_type": "stream",
          "name": "stdout",
          "text": [
            "Epoch 9 - Val Accuracy: 0.6147\n"
          ]
        },
        {
          "output_type": "stream",
          "name": "stderr",
          "text": [
            "100%|██████████| 64/64 [00:49<00:00,  1.29it/s]\n"
          ]
        },
        {
          "output_type": "stream",
          "name": "stdout",
          "text": [
            "Epoch 10 - Val Accuracy: 0.6318\n",
            "Model saved\n"
          ]
        },
        {
          "output_type": "stream",
          "name": "stderr",
          "text": [
            "100%|██████████| 64/64 [00:51<00:00,  1.24it/s]\n"
          ]
        },
        {
          "output_type": "stream",
          "name": "stdout",
          "text": [
            "Epoch 11 - Val Accuracy: 0.6323\n",
            "Model saved\n"
          ]
        },
        {
          "output_type": "stream",
          "name": "stderr",
          "text": [
            "100%|██████████| 64/64 [00:51<00:00,  1.25it/s]\n"
          ]
        },
        {
          "output_type": "stream",
          "name": "stdout",
          "text": [
            "Epoch 12 - Val Accuracy: 0.6421\n",
            "Model saved\n"
          ]
        },
        {
          "output_type": "stream",
          "name": "stderr",
          "text": [
            "100%|██████████| 64/64 [00:51<00:00,  1.23it/s]\n"
          ]
        },
        {
          "output_type": "stream",
          "name": "stdout",
          "text": [
            "Epoch 13 - Val Accuracy: 0.6455\n",
            "Model saved\n"
          ]
        },
        {
          "output_type": "stream",
          "name": "stderr",
          "text": [
            "100%|██████████| 64/64 [00:51<00:00,  1.25it/s]\n"
          ]
        },
        {
          "output_type": "stream",
          "name": "stdout",
          "text": [
            "Epoch 14 - Val Accuracy: 0.6469\n",
            "Model saved\n"
          ]
        },
        {
          "output_type": "stream",
          "name": "stderr",
          "text": [
            "100%|██████████| 64/64 [00:52<00:00,  1.23it/s]\n"
          ]
        },
        {
          "output_type": "stream",
          "name": "stdout",
          "text": [
            "Epoch 15 - Val Accuracy: 0.6494\n",
            "Model saved\n"
          ]
        },
        {
          "output_type": "stream",
          "name": "stderr",
          "text": [
            "100%|██████████| 64/64 [00:51<00:00,  1.23it/s]\n"
          ]
        },
        {
          "output_type": "stream",
          "name": "stdout",
          "text": [
            "Epoch 16 - Val Accuracy: 0.6425\n"
          ]
        },
        {
          "output_type": "stream",
          "name": "stderr",
          "text": [
            "100%|██████████| 64/64 [00:52<00:00,  1.23it/s]\n"
          ]
        },
        {
          "output_type": "stream",
          "name": "stdout",
          "text": [
            "Epoch 17 - Val Accuracy: 0.6308\n"
          ]
        },
        {
          "output_type": "stream",
          "name": "stderr",
          "text": [
            "100%|██████████| 64/64 [00:52<00:00,  1.23it/s]\n"
          ]
        },
        {
          "output_type": "stream",
          "name": "stdout",
          "text": [
            "Epoch 18 - Val Accuracy: 0.6636\n",
            "Model saved\n"
          ]
        },
        {
          "output_type": "stream",
          "name": "stderr",
          "text": [
            "100%|██████████| 64/64 [00:51<00:00,  1.25it/s]\n"
          ]
        },
        {
          "output_type": "stream",
          "name": "stdout",
          "text": [
            "Epoch 19 - Val Accuracy: 0.6504\n"
          ]
        },
        {
          "output_type": "stream",
          "name": "stderr",
          "text": [
            "100%|██████████| 64/64 [00:52<00:00,  1.22it/s]\n"
          ]
        },
        {
          "output_type": "stream",
          "name": "stdout",
          "text": [
            "Epoch 20 - Val Accuracy: 0.6308\n"
          ]
        },
        {
          "output_type": "stream",
          "name": "stderr",
          "text": [
            "100%|██████████| 64/64 [00:50<00:00,  1.26it/s]\n"
          ]
        },
        {
          "output_type": "stream",
          "name": "stdout",
          "text": [
            "Epoch 21 - Val Accuracy: 0.6465\n"
          ]
        },
        {
          "output_type": "stream",
          "name": "stderr",
          "text": [
            "100%|██████████| 64/64 [00:50<00:00,  1.27it/s]\n"
          ]
        },
        {
          "output_type": "stream",
          "name": "stdout",
          "text": [
            "Epoch 22 - Val Accuracy: 0.6611\n"
          ]
        },
        {
          "output_type": "stream",
          "name": "stderr",
          "text": [
            "100%|██████████| 64/64 [00:51<00:00,  1.25it/s]\n"
          ]
        },
        {
          "output_type": "stream",
          "name": "stdout",
          "text": [
            "Epoch 23 - Val Accuracy: 0.6528\n",
            "Early stopping\n",
            "[[10  0  0 ...  0  0  0]\n",
            " [ 0 19  0 ...  0  0  0]\n",
            " [ 0  0 21 ...  0  0  0]\n",
            " ...\n",
            " [ 0  0  0 ... 10  0  0]\n",
            " [ 0  0  0 ...  0 11  0]\n",
            " [ 0  0  0 ...  0  0  7]]\n",
            "              precision    recall  f1-score   support\n",
            "\n",
            "           0       0.83      0.50      0.62        20\n",
            "           1       0.68      0.86      0.76        22\n",
            "           2       0.95      0.81      0.88        26\n",
            "           3       0.79      0.81      0.80        27\n",
            "           4       0.38      0.25      0.30        12\n",
            "           5       0.35      0.37      0.36        19\n",
            "           6       0.68      0.58      0.62        26\n",
            "           7       0.64      0.70      0.67        20\n",
            "           8       1.00      0.67      0.80        15\n",
            "           9       0.67      0.53      0.59        19\n",
            "          10       0.92      0.79      0.85        29\n",
            "          11       0.82      0.88      0.85        26\n",
            "          12       0.69      0.64      0.67        14\n",
            "          13       0.64      0.81      0.71        26\n",
            "          14       0.80      0.57      0.67        21\n",
            "          15       0.65      0.76      0.70        17\n",
            "          16       0.73      0.67      0.70        12\n",
            "          17       0.82      0.72      0.77        25\n",
            "          18       0.60      0.55      0.57        11\n",
            "          19       0.58      0.50      0.54        14\n",
            "          20       0.77      0.53      0.62        19\n",
            "          21       0.79      0.69      0.73        16\n",
            "          22       0.90      0.64      0.75        14\n",
            "          23       0.56      0.38      0.45        13\n",
            "          24       0.83      0.67      0.74        15\n",
            "          25       0.71      0.71      0.71        14\n",
            "          26       0.83      0.65      0.73        23\n",
            "          27       0.69      0.61      0.65        18\n",
            "          28       0.81      0.72      0.76        18\n",
            "          29       0.58      0.69      0.63        16\n",
            "          30       0.75      0.86      0.80        21\n",
            "          31       0.75      0.80      0.77        15\n",
            "          32       0.88      0.64      0.74        22\n",
            "          33       0.31      0.36      0.33        11\n",
            "          34       0.88      0.70      0.78        20\n",
            "          35       0.65      0.62      0.63        21\n",
            "          36       0.56      0.71      0.62        14\n",
            "          37       0.71      0.71      0.71        14\n",
            "          38       0.55      0.79      0.65        14\n",
            "          39       0.54      0.54      0.54        13\n",
            "          40       0.90      0.53      0.67        17\n",
            "          41       0.76      0.94      0.84        17\n",
            "          42       0.70      0.48      0.57        29\n",
            "          43       0.38      0.33      0.36        15\n",
            "          44       0.60      0.64      0.62        14\n",
            "          45       0.50      0.45      0.48        11\n",
            "          46       0.62      0.42      0.50        19\n",
            "          47       0.83      0.62      0.71        16\n",
            "          48       0.43      0.79      0.56        19\n",
            "          49       0.47      0.54      0.50        13\n",
            "          50       0.65      0.69      0.67        16\n",
            "          51       0.77      0.62      0.69        16\n",
            "          52       0.62      0.64      0.63        25\n",
            "          53       0.50      0.54      0.52        13\n",
            "          54       0.84      0.80      0.82        20\n",
            "          55       0.88      0.64      0.74        22\n",
            "          56       0.59      0.72      0.65        18\n",
            "          57       0.82      0.69      0.75        13\n",
            "          58       0.55      0.73      0.63        15\n",
            "          59       0.50      0.59      0.54        17\n",
            "          60       0.56      0.71      0.62        14\n",
            "          61       0.88      0.62      0.73        24\n",
            "          62       0.93      1.00      0.97        14\n",
            "          63       0.80      0.57      0.67        14\n",
            "          64       0.44      0.79      0.56        14\n",
            "          65       0.78      0.82      0.80        17\n",
            "          66       0.50      0.67      0.57         6\n",
            "          67       0.75      0.50      0.60        18\n",
            "          68       0.67      0.41      0.51        29\n",
            "          69       0.67      0.78      0.72        18\n",
            "          70       0.62      0.33      0.43        15\n",
            "          71       0.57      0.47      0.52        17\n",
            "          72       0.61      0.69      0.65        16\n",
            "          73       0.79      0.55      0.65        20\n",
            "          74       0.55      0.85      0.67        13\n",
            "          75       0.92      0.55      0.69        22\n",
            "          76       0.09      0.08      0.08        13\n",
            "          77       0.67      0.43      0.52        14\n",
            "          78       0.50      0.79      0.61        14\n",
            "          79       0.75      0.17      0.27        18\n",
            "          80       0.70      0.82      0.76        17\n",
            "          81       0.43      0.60      0.50        10\n",
            "          82       0.54      0.83      0.65        18\n",
            "          83       0.70      0.88      0.78        16\n",
            "          84       0.73      0.68      0.70        28\n",
            "          85       0.89      0.67      0.76        12\n",
            "          86       0.78      0.70      0.74        20\n",
            "          87       0.79      0.90      0.84        21\n",
            "          88       0.53      0.71      0.61        14\n",
            "          89       0.53      0.73      0.62        11\n",
            "          90       0.22      0.40      0.29        10\n",
            "          91       0.62      0.73      0.67        11\n",
            "          92       0.75      0.90      0.82        10\n",
            "          93       1.00      0.76      0.86        21\n",
            "          94       0.76      0.84      0.80        19\n",
            "          95       0.68      0.88      0.76        24\n",
            "          96       0.83      0.56      0.67         9\n",
            "          97       0.92      0.67      0.77        36\n",
            "          98       0.47      0.90      0.62        10\n",
            "          99       0.60      0.46      0.52        13\n",
            "         100       0.64      0.73      0.68        22\n",
            "         101       0.36      0.56      0.43        18\n",
            "         102       0.37      0.65      0.47        17\n",
            "         103       0.35      0.50      0.41        12\n",
            "         104       0.40      0.40      0.40        15\n",
            "         105       0.91      0.50      0.65        20\n",
            "         106       0.33      0.50      0.40        10\n",
            "         107       0.81      0.93      0.87        14\n",
            "         108       0.40      0.44      0.42         9\n",
            "         109       0.67      0.84      0.74        19\n",
            "         110       0.33      0.31      0.32        16\n",
            "         111       0.75      0.64      0.69        14\n",
            "         112       0.68      0.75      0.71        20\n",
            "         113       0.46      0.46      0.46        13\n",
            "         114       0.76      0.94      0.84        17\n",
            "         115       0.59      0.77      0.67        13\n",
            "         116       0.56      0.71      0.62        14\n",
            "         117       0.77      0.67      0.71        15\n",
            "         118       0.61      0.79      0.69        14\n",
            "         119       0.44      0.44      0.44        16\n",
            "\n",
            "    accuracy                           0.65      2045\n",
            "   macro avg       0.66      0.64      0.64      2045\n",
            "weighted avg       0.68      0.65      0.65      2045\n",
            "\n",
            "Fold 2/5\n"
          ]
        },
        {
          "output_type": "stream",
          "name": "stderr",
          "text": [
            "/usr/local/lib/python3.11/dist-packages/torchvision/models/_utils.py:208: UserWarning: The parameter 'pretrained' is deprecated since 0.13 and may be removed in the future, please use 'weights' instead.\n",
            "  warnings.warn(\n",
            "/usr/local/lib/python3.11/dist-packages/torchvision/models/_utils.py:223: UserWarning: Arguments other than a weight enum or `None` for 'weights' are deprecated since 0.13 and may be removed in the future. The current behavior is equivalent to passing `weights=VGG16_Weights.IMAGENET1K_V1`. You can also use `weights=VGG16_Weights.DEFAULT` to get the most up-to-date weights.\n",
            "  warnings.warn(msg)\n",
            "100%|██████████| 64/64 [00:51<00:00,  1.25it/s]\n"
          ]
        },
        {
          "output_type": "stream",
          "name": "stdout",
          "text": [
            "Epoch 1 - Val Accuracy: 0.4132\n",
            "Model saved\n"
          ]
        },
        {
          "output_type": "stream",
          "name": "stderr",
          "text": [
            "100%|██████████| 64/64 [00:51<00:00,  1.24it/s]\n"
          ]
        },
        {
          "output_type": "stream",
          "name": "stdout",
          "text": [
            "Epoch 2 - Val Accuracy: 0.5203\n",
            "Model saved\n"
          ]
        },
        {
          "output_type": "stream",
          "name": "stderr",
          "text": [
            "100%|██████████| 64/64 [00:52<00:00,  1.23it/s]\n"
          ]
        },
        {
          "output_type": "stream",
          "name": "stdout",
          "text": [
            "Epoch 3 - Val Accuracy: 0.5760\n",
            "Model saved\n"
          ]
        },
        {
          "output_type": "stream",
          "name": "stderr",
          "text": [
            "100%|██████████| 64/64 [00:52<00:00,  1.21it/s]\n"
          ]
        },
        {
          "output_type": "stream",
          "name": "stdout",
          "text": [
            "Epoch 4 - Val Accuracy: 0.6029\n",
            "Model saved\n"
          ]
        },
        {
          "output_type": "stream",
          "name": "stderr",
          "text": [
            "100%|██████████| 64/64 [00:51<00:00,  1.24it/s]\n"
          ]
        },
        {
          "output_type": "stream",
          "name": "stdout",
          "text": [
            "Epoch 5 - Val Accuracy: 0.6279\n",
            "Model saved\n"
          ]
        },
        {
          "output_type": "stream",
          "name": "stderr",
          "text": [
            "100%|██████████| 64/64 [00:51<00:00,  1.24it/s]\n"
          ]
        },
        {
          "output_type": "stream",
          "name": "stdout",
          "text": [
            "Epoch 6 - Val Accuracy: 0.5873\n"
          ]
        },
        {
          "output_type": "stream",
          "name": "stderr",
          "text": [
            "100%|██████████| 64/64 [00:51<00:00,  1.23it/s]\n"
          ]
        },
        {
          "output_type": "stream",
          "name": "stdout",
          "text": [
            "Epoch 7 - Val Accuracy: 0.6117\n"
          ]
        },
        {
          "output_type": "stream",
          "name": "stderr",
          "text": [
            "100%|██████████| 64/64 [00:52<00:00,  1.22it/s]\n"
          ]
        },
        {
          "output_type": "stream",
          "name": "stdout",
          "text": [
            "Epoch 8 - Val Accuracy: 0.6000\n"
          ]
        },
        {
          "output_type": "stream",
          "name": "stderr",
          "text": [
            "100%|██████████| 64/64 [00:52<00:00,  1.23it/s]\n"
          ]
        },
        {
          "output_type": "stream",
          "name": "stdout",
          "text": [
            "Epoch 9 - Val Accuracy: 0.6039\n"
          ]
        },
        {
          "output_type": "stream",
          "name": "stderr",
          "text": [
            "100%|██████████| 64/64 [00:52<00:00,  1.23it/s]\n"
          ]
        },
        {
          "output_type": "stream",
          "name": "stdout",
          "text": [
            "Epoch 10 - Val Accuracy: 0.6181\n",
            "Early stopping\n",
            "[[ 9  0  0 ...  0  0  0]\n",
            " [ 0 19  0 ...  0  0  1]\n",
            " [ 0  0  8 ...  0  0  0]\n",
            " ...\n",
            " [ 0  0  0 ... 17  0  0]\n",
            " [ 0  0  0 ...  0  7  0]\n",
            " [ 0  0  0 ...  0  0  8]]\n",
            "              precision    recall  f1-score   support\n",
            "\n",
            "           0       0.60      0.75      0.67        12\n",
            "           1       0.86      0.73      0.79        26\n",
            "           2       0.89      0.80      0.84        10\n",
            "           3       0.79      0.75      0.77        20\n",
            "           4       0.67      0.33      0.44        12\n",
            "           5       0.36      0.29      0.32        14\n",
            "           6       0.50      0.63      0.56        19\n",
            "           7       1.00      0.57      0.72        23\n",
            "           8       0.75      0.71      0.73        17\n",
            "           9       0.65      0.55      0.59        20\n",
            "          10       0.62      0.87      0.72        15\n",
            "          11       0.77      0.81      0.79        21\n",
            "          12       0.73      0.50      0.59        16\n",
            "          13       0.91      0.91      0.91        23\n",
            "          14       0.64      0.74      0.68        19\n",
            "          15       0.67      0.47      0.55        17\n",
            "          16       0.50      0.71      0.59        17\n",
            "          17       0.83      0.71      0.77        14\n",
            "          18       0.50      0.81      0.62        16\n",
            "          19       0.54      0.79      0.64        19\n",
            "          20       0.62      0.75      0.68        20\n",
            "          21       0.56      0.67      0.61        15\n",
            "          22       0.89      0.67      0.76        12\n",
            "          23       0.30      0.81      0.44        16\n",
            "          24       0.69      0.65      0.67        17\n",
            "          25       0.65      0.87      0.74        15\n",
            "          26       0.67      0.70      0.68        20\n",
            "          27       0.30      0.54      0.39        13\n",
            "          28       0.44      0.64      0.52        11\n",
            "          29       0.56      0.42      0.48        12\n",
            "          30       0.80      0.60      0.69        20\n",
            "          31       0.81      0.93      0.87        14\n",
            "          32       0.78      0.64      0.70        11\n",
            "          33       0.83      0.24      0.37        21\n",
            "          34       0.65      0.79      0.71        14\n",
            "          35       0.85      0.65      0.73        17\n",
            "          36       0.39      0.92      0.55        12\n",
            "          37       0.50      0.73      0.59        11\n",
            "          38       0.47      0.53      0.50        15\n",
            "          39       0.78      0.32      0.45        22\n",
            "          40       0.85      0.61      0.71        18\n",
            "          41       0.69      0.69      0.69        13\n",
            "          42       0.45      0.58      0.51        26\n",
            "          43       0.38      0.38      0.38        13\n",
            "          44       0.65      0.71      0.68        21\n",
            "          45       0.70      0.44      0.54        16\n",
            "          46       0.67      0.57      0.62        14\n",
            "          47       0.43      0.71      0.54        14\n",
            "          48       0.38      0.38      0.38         8\n",
            "          49       0.75      0.67      0.71         9\n",
            "          50       0.94      0.81      0.87        21\n",
            "          51       0.17      0.09      0.12        11\n",
            "          52       0.61      0.67      0.64        21\n",
            "          53       1.00      0.33      0.50        18\n",
            "          54       0.64      0.94      0.76        17\n",
            "          55       0.82      0.60      0.69        15\n",
            "          56       0.62      1.00      0.77        15\n",
            "          57       0.80      0.57      0.67        21\n",
            "          58       0.83      0.77      0.80        13\n",
            "          59       0.45      0.71      0.56        21\n",
            "          60       0.50      0.43      0.46        21\n",
            "          61       0.80      0.80      0.80        20\n",
            "          62       0.94      0.89      0.92        19\n",
            "          63       0.67      0.42      0.51        24\n",
            "          64       0.73      0.57      0.64        14\n",
            "          65       0.67      0.57      0.62        14\n",
            "          66       0.58      0.65      0.61        17\n",
            "          67       0.42      0.57      0.48        14\n",
            "          68       0.60      0.75      0.67        12\n",
            "          69       0.81      0.81      0.81        21\n",
            "          70       0.46      0.60      0.52        20\n",
            "          71       0.40      0.89      0.56        19\n",
            "          72       0.67      0.46      0.55        13\n",
            "          73       0.67      0.35      0.46        17\n",
            "          74       0.45      0.71      0.56        14\n",
            "          75       0.69      0.53      0.60        17\n",
            "          76       0.62      0.29      0.40        17\n",
            "          77       0.60      0.40      0.48        15\n",
            "          78       0.41      0.50      0.45        18\n",
            "          79       0.80      0.22      0.35        18\n",
            "          80       0.77      0.92      0.84        25\n",
            "          81       0.43      0.53      0.47        17\n",
            "          82       0.80      0.67      0.73        24\n",
            "          83       0.62      0.50      0.56        10\n",
            "          84       0.50      0.77      0.61        13\n",
            "          85       0.78      0.82      0.80        17\n",
            "          86       0.80      0.63      0.71        19\n",
            "          87       0.82      0.70      0.76        20\n",
            "          88       1.00      0.68      0.81        19\n",
            "          89       0.58      0.44      0.50        16\n",
            "          90       0.56      0.65      0.60        23\n",
            "          91       0.52      0.76      0.62        21\n",
            "          92       0.85      0.79      0.81        14\n",
            "          93       0.83      0.53      0.65        19\n",
            "          94       0.93      0.59      0.72        22\n",
            "          95       0.69      0.56      0.62        16\n",
            "          96       0.87      0.76      0.81        17\n",
            "          97       0.84      0.57      0.68        28\n",
            "          98       0.56      0.82      0.67        17\n",
            "          99       0.55      0.52      0.54        21\n",
            "         100       0.73      0.58      0.65        19\n",
            "         101       0.75      0.14      0.23        22\n",
            "         102       0.62      0.43      0.51        23\n",
            "         103       0.50      0.38      0.43        13\n",
            "         104       0.88      0.35      0.50        20\n",
            "         105       0.71      0.38      0.50        13\n",
            "         106       0.29      0.56      0.38         9\n",
            "         107       0.80      0.75      0.77        16\n",
            "         108       0.80      0.44      0.57        18\n",
            "         109       0.57      0.44      0.50        18\n",
            "         110       0.42      0.48      0.44        21\n",
            "         111       0.50      0.54      0.52        13\n",
            "         112       0.50      0.67      0.57        12\n",
            "         113       0.20      0.40      0.27        10\n",
            "         114       0.71      0.67      0.69        18\n",
            "         115       0.79      0.71      0.75        21\n",
            "         116       0.73      0.84      0.78        19\n",
            "         117       0.34      0.81      0.48        21\n",
            "         118       0.78      0.41      0.54        17\n",
            "         119       0.57      0.47      0.52        17\n",
            "\n",
            "    accuracy                           0.62      2045\n",
            "   macro avg       0.65      0.62      0.61      2045\n",
            "weighted avg       0.67      0.62      0.62      2045\n",
            "\n",
            "Fold 3/5\n"
          ]
        },
        {
          "output_type": "stream",
          "name": "stderr",
          "text": [
            "/usr/local/lib/python3.11/dist-packages/torchvision/models/_utils.py:208: UserWarning: The parameter 'pretrained' is deprecated since 0.13 and may be removed in the future, please use 'weights' instead.\n",
            "  warnings.warn(\n",
            "/usr/local/lib/python3.11/dist-packages/torchvision/models/_utils.py:223: UserWarning: Arguments other than a weight enum or `None` for 'weights' are deprecated since 0.13 and may be removed in the future. The current behavior is equivalent to passing `weights=VGG16_Weights.IMAGENET1K_V1`. You can also use `weights=VGG16_Weights.DEFAULT` to get the most up-to-date weights.\n",
            "  warnings.warn(msg)\n",
            "100%|██████████| 64/64 [00:53<00:00,  1.20it/s]\n"
          ]
        },
        {
          "output_type": "stream",
          "name": "stdout",
          "text": [
            "Epoch 1 - Val Accuracy: 0.4163\n",
            "Model saved\n"
          ]
        },
        {
          "output_type": "stream",
          "name": "stderr",
          "text": [
            "100%|██████████| 64/64 [00:52<00:00,  1.22it/s]\n"
          ]
        },
        {
          "output_type": "stream",
          "name": "stdout",
          "text": [
            "Epoch 2 - Val Accuracy: 0.5543\n",
            "Model saved\n"
          ]
        },
        {
          "output_type": "stream",
          "name": "stderr",
          "text": [
            "100%|██████████| 64/64 [00:51<00:00,  1.24it/s]\n"
          ]
        },
        {
          "output_type": "stream",
          "name": "stdout",
          "text": [
            "Epoch 3 - Val Accuracy: 0.5675\n",
            "Model saved\n"
          ]
        },
        {
          "output_type": "stream",
          "name": "stderr",
          "text": [
            "100%|██████████| 64/64 [00:52<00:00,  1.22it/s]\n"
          ]
        },
        {
          "output_type": "stream",
          "name": "stdout",
          "text": [
            "Epoch 4 - Val Accuracy: 0.6370\n",
            "Model saved\n"
          ]
        },
        {
          "output_type": "stream",
          "name": "stderr",
          "text": [
            "100%|██████████| 64/64 [00:53<00:00,  1.20it/s]\n"
          ]
        },
        {
          "output_type": "stream",
          "name": "stdout",
          "text": [
            "Epoch 5 - Val Accuracy: 0.6316\n"
          ]
        },
        {
          "output_type": "stream",
          "name": "stderr",
          "text": [
            "100%|██████████| 64/64 [00:52<00:00,  1.23it/s]\n"
          ]
        },
        {
          "output_type": "stream",
          "name": "stdout",
          "text": [
            "Epoch 6 - Val Accuracy: 0.6115\n"
          ]
        },
        {
          "output_type": "stream",
          "name": "stderr",
          "text": [
            "100%|██████████| 64/64 [00:51<00:00,  1.25it/s]\n"
          ]
        },
        {
          "output_type": "stream",
          "name": "stdout",
          "text": [
            "Epoch 7 - Val Accuracy: 0.6252\n"
          ]
        },
        {
          "output_type": "stream",
          "name": "stderr",
          "text": [
            "100%|██████████| 64/64 [00:50<00:00,  1.26it/s]\n"
          ]
        },
        {
          "output_type": "stream",
          "name": "stdout",
          "text": [
            "Epoch 8 - Val Accuracy: 0.6140\n"
          ]
        },
        {
          "output_type": "stream",
          "name": "stderr",
          "text": [
            "100%|██████████| 64/64 [00:50<00:00,  1.27it/s]\n"
          ]
        },
        {
          "output_type": "stream",
          "name": "stdout",
          "text": [
            "Epoch 9 - Val Accuracy: 0.6287\n",
            "Early stopping\n",
            "[[13  0  0 ...  0  0  2]\n",
            " [ 0 14  1 ...  0  0  0]\n",
            " [ 0  0 19 ...  0  0  0]\n",
            " ...\n",
            " [ 0  0  0 ...  9  0  0]\n",
            " [ 0  0  0 ...  0 10  0]\n",
            " [ 0  0  0 ...  0  0 11]]\n",
            "              precision    recall  f1-score   support\n",
            "\n",
            "           0       0.48      0.72      0.58        18\n",
            "           1       0.78      0.70      0.74        20\n",
            "           2       0.73      0.86      0.79        22\n",
            "           3       0.75      0.75      0.75        20\n",
            "           4       0.71      0.33      0.45        15\n",
            "           5       0.35      0.40      0.38        15\n",
            "           6       0.53      0.50      0.51        18\n",
            "           7       0.65      0.62      0.64        24\n",
            "           8       0.80      0.53      0.64        15\n",
            "           9       0.70      0.83      0.76        23\n",
            "          10       0.78      0.64      0.70        11\n",
            "          11       0.88      0.73      0.80        30\n",
            "          12       0.35      0.58      0.44        12\n",
            "          13       0.89      0.62      0.73        13\n",
            "          14       0.61      0.79      0.69        14\n",
            "          15       0.58      1.00      0.73        11\n",
            "          16       0.40      0.60      0.48        10\n",
            "          17       0.73      0.79      0.76        14\n",
            "          18       0.60      0.43      0.50        14\n",
            "          19       0.71      0.89      0.79        19\n",
            "          20       0.65      0.65      0.65        17\n",
            "          21       0.67      0.67      0.67        15\n",
            "          22       0.92      0.73      0.81        15\n",
            "          23       0.67      0.38      0.48        16\n",
            "          24       0.80      0.25      0.38        16\n",
            "          25       0.75      0.63      0.69        19\n",
            "          26       1.00      0.39      0.56        18\n",
            "          27       0.62      0.67      0.65        15\n",
            "          28       0.67      0.74      0.70        19\n",
            "          29       0.36      0.57      0.44        14\n",
            "          30       0.84      0.94      0.89        17\n",
            "          31       0.57      0.77      0.65        22\n",
            "          32       0.82      0.60      0.69        15\n",
            "          33       0.46      0.57      0.51        23\n",
            "          34       0.81      0.72      0.76        18\n",
            "          35       0.62      0.56      0.59        18\n",
            "          36       0.70      0.74      0.72        19\n",
            "          37       0.59      0.53      0.56        19\n",
            "          38       0.85      0.79      0.81        14\n",
            "          39       0.70      0.54      0.61        13\n",
            "          40       0.80      0.24      0.36        17\n",
            "          41       0.82      0.64      0.72        14\n",
            "          42       0.76      0.62      0.68        21\n",
            "          43       0.25      0.25      0.25         8\n",
            "          44       0.67      0.57      0.62        14\n",
            "          45       0.58      0.47      0.52        15\n",
            "          46       0.40      0.31      0.35        13\n",
            "          47       0.59      0.67      0.62        15\n",
            "          48       0.57      0.80      0.67        10\n",
            "          49       0.67      0.50      0.57         8\n",
            "          50       0.67      0.80      0.73        15\n",
            "          51       0.65      0.61      0.63        18\n",
            "          52       0.70      0.73      0.71        22\n",
            "          53       0.69      0.75      0.72        12\n",
            "          54       1.00      0.62      0.76        13\n",
            "          55       0.75      0.45      0.56        20\n",
            "          56       0.79      0.73      0.76        15\n",
            "          57       0.42      0.91      0.57        11\n",
            "          58       0.73      0.85      0.79        13\n",
            "          59       0.38      0.71      0.49        24\n",
            "          60       0.52      0.55      0.54        20\n",
            "          61       0.76      0.84      0.80        19\n",
            "          62       0.86      1.00      0.92        18\n",
            "          63       0.40      0.14      0.21        14\n",
            "          64       0.67      0.67      0.67        15\n",
            "          65       0.90      0.56      0.69        16\n",
            "          66       0.56      0.56      0.56        16\n",
            "          67       0.42      0.78      0.55        18\n",
            "          68       0.50      0.57      0.53        23\n",
            "          69       0.77      0.77      0.77        22\n",
            "          70       0.38      0.36      0.37        22\n",
            "          71       0.80      0.40      0.53        20\n",
            "          72       0.62      0.76      0.68        17\n",
            "          73       0.73      0.76      0.74        21\n",
            "          74       0.64      0.82      0.72        17\n",
            "          75       0.68      0.71      0.70        21\n",
            "          76       0.75      0.15      0.25        20\n",
            "          77       0.70      0.70      0.70        20\n",
            "          78       0.46      0.68      0.55        19\n",
            "          79       1.00      0.25      0.40        12\n",
            "          80       0.79      0.95      0.86        20\n",
            "          81       0.50      0.73      0.59        15\n",
            "          82       0.62      0.83      0.71        12\n",
            "          83       0.83      0.59      0.69        17\n",
            "          84       0.73      0.85      0.79        13\n",
            "          85       1.00      0.44      0.62        18\n",
            "          86       0.70      0.84      0.76        25\n",
            "          87       0.84      0.81      0.82        26\n",
            "          88       0.73      0.70      0.71        23\n",
            "          89       0.29      0.46      0.35        13\n",
            "          90       0.67      0.33      0.44        18\n",
            "          91       0.86      0.63      0.73        19\n",
            "          92       0.77      0.83      0.80        24\n",
            "          93       0.50      0.78      0.61        18\n",
            "          94       0.82      0.64      0.72        22\n",
            "          95       0.48      0.77      0.59        13\n",
            "          96       0.76      0.87      0.81        15\n",
            "          97       0.68      0.52      0.59        25\n",
            "          98       0.63      0.71      0.67        24\n",
            "          99       0.86      0.33      0.48        18\n",
            "         100       0.57      0.48      0.52        25\n",
            "         101       0.39      0.71      0.50        24\n",
            "         102       0.83      0.28      0.42        18\n",
            "         103       0.33      0.62      0.43        13\n",
            "         104       0.46      0.46      0.46        13\n",
            "         105       0.54      0.44      0.48        16\n",
            "         106       0.55      0.35      0.43        17\n",
            "         107       1.00      0.85      0.92        13\n",
            "         108       1.00      0.50      0.67        16\n",
            "         109       0.69      0.55      0.61        20\n",
            "         110       0.53      0.60      0.56        15\n",
            "         111       0.54      0.41      0.47        17\n",
            "         112       0.62      0.45      0.53        11\n",
            "         113       0.40      0.18      0.25        11\n",
            "         114       0.71      0.56      0.62        18\n",
            "         115       0.46      0.87      0.60        15\n",
            "         116       0.56      0.82      0.67        11\n",
            "         117       0.69      0.60      0.64        15\n",
            "         118       0.67      0.71      0.69        14\n",
            "         119       0.39      0.69      0.50        16\n",
            "\n",
            "    accuracy                           0.63      2044\n",
            "   macro avg       0.66      0.62      0.62      2044\n",
            "weighted avg       0.67      0.63      0.62      2044\n",
            "\n",
            "Fold 4/5\n"
          ]
        },
        {
          "output_type": "stream",
          "name": "stderr",
          "text": [
            "/usr/local/lib/python3.11/dist-packages/torchvision/models/_utils.py:208: UserWarning: The parameter 'pretrained' is deprecated since 0.13 and may be removed in the future, please use 'weights' instead.\n",
            "  warnings.warn(\n",
            "/usr/local/lib/python3.11/dist-packages/torchvision/models/_utils.py:223: UserWarning: Arguments other than a weight enum or `None` for 'weights' are deprecated since 0.13 and may be removed in the future. The current behavior is equivalent to passing `weights=VGG16_Weights.IMAGENET1K_V1`. You can also use `weights=VGG16_Weights.DEFAULT` to get the most up-to-date weights.\n",
            "  warnings.warn(msg)\n",
            "100%|██████████| 64/64 [00:50<00:00,  1.26it/s]\n"
          ]
        },
        {
          "output_type": "stream",
          "name": "stdout",
          "text": [
            "Epoch 1 - Val Accuracy: 0.4291\n",
            "Model saved\n"
          ]
        },
        {
          "output_type": "stream",
          "name": "stderr",
          "text": [
            "100%|██████████| 64/64 [00:51<00:00,  1.25it/s]\n"
          ]
        },
        {
          "output_type": "stream",
          "name": "stdout",
          "text": [
            "Epoch 2 - Val Accuracy: 0.5289\n",
            "Model saved\n"
          ]
        },
        {
          "output_type": "stream",
          "name": "stderr",
          "text": [
            "100%|██████████| 64/64 [00:51<00:00,  1.25it/s]\n"
          ]
        },
        {
          "output_type": "stream",
          "name": "stdout",
          "text": [
            "Epoch 3 - Val Accuracy: 0.5856\n",
            "Model saved\n"
          ]
        },
        {
          "output_type": "stream",
          "name": "stderr",
          "text": [
            "100%|██████████| 64/64 [00:50<00:00,  1.27it/s]\n"
          ]
        },
        {
          "output_type": "stream",
          "name": "stdout",
          "text": [
            "Epoch 4 - Val Accuracy: 0.6282\n",
            "Model saved\n"
          ]
        },
        {
          "output_type": "stream",
          "name": "stderr",
          "text": [
            "100%|██████████| 64/64 [00:51<00:00,  1.25it/s]\n"
          ]
        },
        {
          "output_type": "stream",
          "name": "stdout",
          "text": [
            "Epoch 5 - Val Accuracy: 0.6306\n",
            "Model saved\n"
          ]
        },
        {
          "output_type": "stream",
          "name": "stderr",
          "text": [
            "100%|██████████| 64/64 [00:51<00:00,  1.24it/s]\n"
          ]
        },
        {
          "output_type": "stream",
          "name": "stdout",
          "text": [
            "Epoch 6 - Val Accuracy: 0.5900\n"
          ]
        },
        {
          "output_type": "stream",
          "name": "stderr",
          "text": [
            "100%|██████████| 64/64 [00:51<00:00,  1.24it/s]\n"
          ]
        },
        {
          "output_type": "stream",
          "name": "stdout",
          "text": [
            "Epoch 7 - Val Accuracy: 0.6140\n"
          ]
        },
        {
          "output_type": "stream",
          "name": "stderr",
          "text": [
            "100%|██████████| 64/64 [00:52<00:00,  1.21it/s]\n"
          ]
        },
        {
          "output_type": "stream",
          "name": "stdout",
          "text": [
            "Epoch 8 - Val Accuracy: 0.6301\n"
          ]
        },
        {
          "output_type": "stream",
          "name": "stderr",
          "text": [
            "100%|██████████| 64/64 [00:53<00:00,  1.19it/s]\n"
          ]
        },
        {
          "output_type": "stream",
          "name": "stdout",
          "text": [
            "Epoch 9 - Val Accuracy: 0.6233\n"
          ]
        },
        {
          "output_type": "stream",
          "name": "stderr",
          "text": [
            "100%|██████████| 64/64 [00:51<00:00,  1.24it/s]\n"
          ]
        },
        {
          "output_type": "stream",
          "name": "stdout",
          "text": [
            "Epoch 10 - Val Accuracy: 0.6326\n",
            "Model saved\n"
          ]
        },
        {
          "output_type": "stream",
          "name": "stderr",
          "text": [
            "100%|██████████| 64/64 [00:52<00:00,  1.21it/s]\n"
          ]
        },
        {
          "output_type": "stream",
          "name": "stdout",
          "text": [
            "Epoch 11 - Val Accuracy: 0.6570\n",
            "Model saved\n"
          ]
        },
        {
          "output_type": "stream",
          "name": "stderr",
          "text": [
            "100%|██████████| 64/64 [00:51<00:00,  1.23it/s]\n"
          ]
        },
        {
          "output_type": "stream",
          "name": "stdout",
          "text": [
            "Epoch 12 - Val Accuracy: 0.6541\n"
          ]
        },
        {
          "output_type": "stream",
          "name": "stderr",
          "text": [
            "100%|██████████| 64/64 [00:50<00:00,  1.26it/s]\n"
          ]
        },
        {
          "output_type": "stream",
          "name": "stdout",
          "text": [
            "Epoch 13 - Val Accuracy: 0.6639\n",
            "Model saved\n"
          ]
        },
        {
          "output_type": "stream",
          "name": "stderr",
          "text": [
            "100%|██████████| 64/64 [00:51<00:00,  1.23it/s]\n"
          ]
        },
        {
          "output_type": "stream",
          "name": "stdout",
          "text": [
            "Epoch 14 - Val Accuracy: 0.6649\n",
            "Model saved\n"
          ]
        },
        {
          "output_type": "stream",
          "name": "stderr",
          "text": [
            "100%|██████████| 64/64 [00:52<00:00,  1.23it/s]\n"
          ]
        },
        {
          "output_type": "stream",
          "name": "stdout",
          "text": [
            "Epoch 15 - Val Accuracy: 0.6585\n"
          ]
        },
        {
          "output_type": "stream",
          "name": "stderr",
          "text": [
            "100%|██████████| 64/64 [00:52<00:00,  1.23it/s]\n"
          ]
        },
        {
          "output_type": "stream",
          "name": "stdout",
          "text": [
            "Epoch 16 - Val Accuracy: 0.6477\n"
          ]
        },
        {
          "output_type": "stream",
          "name": "stderr",
          "text": [
            "100%|██████████| 64/64 [00:51<00:00,  1.25it/s]\n"
          ]
        },
        {
          "output_type": "stream",
          "name": "stdout",
          "text": [
            "Epoch 17 - Val Accuracy: 0.6463\n"
          ]
        },
        {
          "output_type": "stream",
          "name": "stderr",
          "text": [
            "100%|██████████| 64/64 [00:52<00:00,  1.23it/s]\n"
          ]
        },
        {
          "output_type": "stream",
          "name": "stdout",
          "text": [
            "Epoch 18 - Val Accuracy: 0.6507\n"
          ]
        },
        {
          "output_type": "stream",
          "name": "stderr",
          "text": [
            "100%|██████████| 64/64 [00:51<00:00,  1.23it/s]\n"
          ]
        },
        {
          "output_type": "stream",
          "name": "stdout",
          "text": [
            "Epoch 19 - Val Accuracy: 0.6248\n",
            "Early stopping\n",
            "[[12  0  0 ...  0  0  0]\n",
            " [ 0 23  0 ...  0  0  0]\n",
            " [ 0  0 12 ...  0  0  0]\n",
            " ...\n",
            " [ 0  0  1 ... 11  0  0]\n",
            " [ 0  0  0 ...  0  5  0]\n",
            " [ 0  0  0 ...  0  0  9]]\n",
            "              precision    recall  f1-score   support\n",
            "\n",
            "           0       0.63      0.92      0.75        13\n",
            "           1       0.72      0.96      0.82        24\n",
            "           2       0.86      0.92      0.89        13\n",
            "           3       0.70      0.84      0.76        19\n",
            "           4       0.31      0.31      0.31        16\n",
            "           5       0.33      0.32      0.32        19\n",
            "           6       0.57      0.65      0.60        20\n",
            "           7       0.54      0.68      0.60        22\n",
            "           8       0.61      0.73      0.67        15\n",
            "           9       0.64      0.39      0.48        18\n",
            "          10       0.67      0.59      0.62        17\n",
            "          11       0.64      0.88      0.74        16\n",
            "          12       0.65      0.79      0.71        19\n",
            "          13       0.81      0.81      0.81        21\n",
            "          14       0.76      0.81      0.79        16\n",
            "          15       0.80      0.63      0.71        19\n",
            "          16       0.50      0.57      0.53        14\n",
            "          17       0.86      0.96      0.91        25\n",
            "          18       0.67      0.64      0.65        22\n",
            "          19       0.57      0.71      0.63        17\n",
            "          20       0.71      0.38      0.50        13\n",
            "          21       1.00      0.56      0.71        18\n",
            "          22       0.50      0.77      0.61        13\n",
            "          23       0.50      0.20      0.29        10\n",
            "          24       0.47      0.73      0.57        11\n",
            "          25       0.56      0.83      0.67        12\n",
            "          26       0.42      0.56      0.48        18\n",
            "          27       0.50      0.45      0.48        11\n",
            "          28       0.68      0.75      0.71        20\n",
            "          29       0.75      0.46      0.57        13\n",
            "          30       0.85      0.79      0.81        14\n",
            "          31       0.75      0.86      0.80        14\n",
            "          32       0.57      0.57      0.57        14\n",
            "          33       0.67      0.44      0.53        18\n",
            "          34       0.44      0.70      0.54        10\n",
            "          35       0.67      0.70      0.68        20\n",
            "          36       0.52      1.00      0.68        17\n",
            "          37       0.62      0.65      0.63        20\n",
            "          38       0.69      0.56      0.62        16\n",
            "          39       0.57      0.81      0.67        21\n",
            "          40       0.80      0.29      0.42        14\n",
            "          41       0.75      0.71      0.73        17\n",
            "          42       0.67      0.38      0.48        16\n",
            "          43       0.20      0.15      0.17        20\n",
            "          44       0.53      0.67      0.59        15\n",
            "          45       0.43      0.53      0.47        17\n",
            "          46       0.46      0.55      0.50        11\n",
            "          47       0.67      0.73      0.70        11\n",
            "          48       0.64      0.60      0.62        15\n",
            "          49       0.81      0.62      0.70        21\n",
            "          50       0.75      0.95      0.84        19\n",
            "          51       0.50      0.15      0.24        13\n",
            "          52       0.55      0.69      0.61        26\n",
            "          53       0.71      0.56      0.62        18\n",
            "          54       0.57      0.71      0.63        17\n",
            "          55       0.67      0.38      0.48        16\n",
            "          56       0.85      0.85      0.85        20\n",
            "          57       0.77      0.53      0.62        19\n",
            "          58       0.88      0.64      0.74        22\n",
            "          59       0.59      0.50      0.54        20\n",
            "          60       0.48      0.55      0.51        20\n",
            "          61       0.85      0.76      0.80        29\n",
            "          62       0.76      1.00      0.87        13\n",
            "          63       0.65      0.57      0.60        23\n",
            "          64       0.52      0.72      0.60        18\n",
            "          65       0.43      0.86      0.57         7\n",
            "          66       0.64      0.60      0.62        15\n",
            "          67       0.59      0.48      0.53        21\n",
            "          68       0.50      0.58      0.54        12\n",
            "          69       0.76      0.86      0.81        22\n",
            "          70       0.47      0.62      0.53        13\n",
            "          71       0.30      0.33      0.32         9\n",
            "          72       0.71      0.63      0.67        19\n",
            "          73       0.82      0.56      0.67        32\n",
            "          74       0.42      0.93      0.58        15\n",
            "          75       0.94      0.74      0.83        23\n",
            "          76       0.33      0.14      0.20        14\n",
            "          77       0.62      0.80      0.70        10\n",
            "          78       0.75      0.50      0.60        18\n",
            "          79       0.53      0.62      0.57        16\n",
            "          80       0.62      0.95      0.75        21\n",
            "          81       0.62      0.29      0.40        17\n",
            "          82       0.42      0.82      0.56        17\n",
            "          83       0.67      0.44      0.53        18\n",
            "          84       0.65      0.75      0.70        20\n",
            "          85       0.89      0.57      0.70        14\n",
            "          86       0.67      0.91      0.77        11\n",
            "          87       0.79      0.76      0.77        29\n",
            "          88       0.68      0.65      0.67        20\n",
            "          89       0.41      0.58      0.48        12\n",
            "          90       0.82      0.43      0.56        21\n",
            "          91       0.67      0.62      0.64        13\n",
            "          92       0.71      0.83      0.77        12\n",
            "          93       0.92      0.55      0.69        20\n",
            "          94       0.77      0.77      0.77        22\n",
            "          95       0.65      0.65      0.65        17\n",
            "          96       0.67      0.57      0.62        14\n",
            "          97       0.55      0.75      0.63        16\n",
            "          98       0.71      0.67      0.69        18\n",
            "          99       0.67      0.50      0.57        12\n",
            "         100       0.59      0.45      0.51        22\n",
            "         101       0.27      0.29      0.28        14\n",
            "         102       0.69      0.60      0.64        15\n",
            "         103       0.42      0.58      0.49        19\n",
            "         104       0.67      0.29      0.40        14\n",
            "         105       0.37      0.54      0.44        13\n",
            "         106       0.82      0.39      0.53        23\n",
            "         107       0.83      0.79      0.81        24\n",
            "         108       0.62      0.73      0.67        11\n",
            "         109       0.65      0.52      0.58        21\n",
            "         110       0.25      0.22      0.24         9\n",
            "         111       0.50      0.60      0.55        15\n",
            "         112       0.47      0.58      0.52        12\n",
            "         113       0.43      0.25      0.32        12\n",
            "         114       0.82      0.74      0.78        19\n",
            "         115       0.87      0.72      0.79        18\n",
            "         116       0.75      0.50      0.60        18\n",
            "         117       0.69      0.39      0.50        28\n",
            "         118       0.62      0.45      0.53        11\n",
            "         119       0.43      0.50      0.46        18\n",
            "\n",
            "    accuracy                           0.62      2044\n",
            "   macro avg       0.63      0.62      0.61      2044\n",
            "weighted avg       0.65      0.62      0.62      2044\n",
            "\n",
            "Fold 5/5\n"
          ]
        },
        {
          "output_type": "stream",
          "name": "stderr",
          "text": [
            "/usr/local/lib/python3.11/dist-packages/torchvision/models/_utils.py:208: UserWarning: The parameter 'pretrained' is deprecated since 0.13 and may be removed in the future, please use 'weights' instead.\n",
            "  warnings.warn(\n",
            "/usr/local/lib/python3.11/dist-packages/torchvision/models/_utils.py:223: UserWarning: Arguments other than a weight enum or `None` for 'weights' are deprecated since 0.13 and may be removed in the future. The current behavior is equivalent to passing `weights=VGG16_Weights.IMAGENET1K_V1`. You can also use `weights=VGG16_Weights.DEFAULT` to get the most up-to-date weights.\n",
            "  warnings.warn(msg)\n",
            "100%|██████████| 64/64 [00:50<00:00,  1.26it/s]\n"
          ]
        },
        {
          "output_type": "stream",
          "name": "stdout",
          "text": [
            "Epoch 1 - Val Accuracy: 0.4105\n",
            "Model saved\n"
          ]
        },
        {
          "output_type": "stream",
          "name": "stderr",
          "text": [
            "100%|██████████| 64/64 [00:54<00:00,  1.18it/s]\n"
          ]
        },
        {
          "output_type": "stream",
          "name": "stdout",
          "text": [
            "Epoch 2 - Val Accuracy: 0.5440\n",
            "Model saved\n"
          ]
        },
        {
          "output_type": "stream",
          "name": "stderr",
          "text": [
            "100%|██████████| 64/64 [00:52<00:00,  1.22it/s]\n"
          ]
        },
        {
          "output_type": "stream",
          "name": "stdout",
          "text": [
            "Epoch 3 - Val Accuracy: 0.5753\n",
            "Model saved\n"
          ]
        },
        {
          "output_type": "stream",
          "name": "stderr",
          "text": [
            "100%|██████████| 64/64 [00:52<00:00,  1.22it/s]\n"
          ]
        },
        {
          "output_type": "stream",
          "name": "stdout",
          "text": [
            "Epoch 4 - Val Accuracy: 0.6257\n",
            "Model saved\n"
          ]
        },
        {
          "output_type": "stream",
          "name": "stderr",
          "text": [
            "100%|██████████| 64/64 [00:51<00:00,  1.24it/s]\n"
          ]
        },
        {
          "output_type": "stream",
          "name": "stdout",
          "text": [
            "Epoch 5 - Val Accuracy: 0.6419\n",
            "Model saved\n"
          ]
        },
        {
          "output_type": "stream",
          "name": "stderr",
          "text": [
            "100%|██████████| 64/64 [00:52<00:00,  1.23it/s]\n"
          ]
        },
        {
          "output_type": "stream",
          "name": "stdout",
          "text": [
            "Epoch 6 - Val Accuracy: 0.5905\n"
          ]
        },
        {
          "output_type": "stream",
          "name": "stderr",
          "text": [
            "100%|██████████| 64/64 [00:51<00:00,  1.24it/s]\n"
          ]
        },
        {
          "output_type": "stream",
          "name": "stdout",
          "text": [
            "Epoch 7 - Val Accuracy: 0.5905\n"
          ]
        },
        {
          "output_type": "stream",
          "name": "stderr",
          "text": [
            "100%|██████████| 64/64 [00:51<00:00,  1.25it/s]\n"
          ]
        },
        {
          "output_type": "stream",
          "name": "stdout",
          "text": [
            "Epoch 8 - Val Accuracy: 0.6150\n"
          ]
        },
        {
          "output_type": "stream",
          "name": "stderr",
          "text": [
            "100%|██████████| 64/64 [00:51<00:00,  1.24it/s]\n"
          ]
        },
        {
          "output_type": "stream",
          "name": "stdout",
          "text": [
            "Epoch 9 - Val Accuracy: 0.6243\n"
          ]
        },
        {
          "output_type": "stream",
          "name": "stderr",
          "text": [
            "100%|██████████| 64/64 [00:52<00:00,  1.22it/s]\n"
          ]
        },
        {
          "output_type": "stream",
          "name": "stdout",
          "text": [
            "Epoch 10 - Val Accuracy: 0.6204\n",
            "Early stopping\n",
            "[[10  1  0 ...  0  0  1]\n",
            " [ 0 15  0 ...  0  0  0]\n",
            " [ 0  0 13 ...  0  0  0]\n",
            " ...\n",
            " [ 0  0  1 ...  9  0  0]\n",
            " [ 0  0  0 ...  0 20  0]\n",
            " [ 1  0  0 ...  0  0  7]]\n",
            "              precision    recall  f1-score   support\n",
            "\n",
            "           0       0.45      0.59      0.51        17\n",
            "           1       0.88      0.62      0.73        24\n",
            "           2       0.93      0.87      0.90        15\n",
            "           3       0.89      0.38      0.53        21\n",
            "           4       0.56      0.53      0.54        19\n",
            "           5       0.50      0.45      0.48        11\n",
            "           6       0.73      0.58      0.65        19\n",
            "           7       0.60      0.71      0.65        21\n",
            "           8       0.68      0.65      0.67        20\n",
            "           9       0.63      0.76      0.69        25\n",
            "          10       0.76      0.76      0.76        17\n",
            "          11       0.76      0.62      0.68        21\n",
            "          12       0.48      0.81      0.60        16\n",
            "          13       0.59      0.89      0.71        19\n",
            "          14       0.48      0.80      0.60        15\n",
            "          15       1.00      0.71      0.83        21\n",
            "          16       0.63      0.63      0.63        19\n",
            "          17       1.00      0.54      0.70        13\n",
            "          18       0.67      0.67      0.67        12\n",
            "          19       0.62      0.28      0.38        18\n",
            "          20       0.67      0.24      0.35        17\n",
            "          21       0.60      0.27      0.38        11\n",
            "          22       0.71      0.92      0.80        13\n",
            "          23       0.44      0.64      0.52        11\n",
            "          24       0.62      0.57      0.59        14\n",
            "          25       0.75      0.80      0.77        15\n",
            "          26       0.73      0.59      0.65        27\n",
            "          27       0.83      0.53      0.65        19\n",
            "          28       0.59      0.67      0.62        15\n",
            "          29       0.38      0.50      0.43        16\n",
            "          30       0.82      0.67      0.74        21\n",
            "          31       0.69      0.73      0.71        15\n",
            "          32       0.83      0.83      0.83        12\n",
            "          33       1.00      0.14      0.25        14\n",
            "          34       0.55      0.60      0.57        10\n",
            "          35       0.45      0.77      0.57        13\n",
            "          36       0.43      0.71      0.54        14\n",
            "          37       0.68      0.81      0.74        16\n",
            "          38       0.80      0.53      0.64        15\n",
            "          39       0.50      0.71      0.59        17\n",
            "          40       0.75      0.53      0.62        17\n",
            "          41       0.60      0.64      0.62        14\n",
            "          42       0.76      0.70      0.73        23\n",
            "          43       0.16      0.30      0.21        10\n",
            "          44       0.80      0.50      0.62         8\n",
            "          45       0.30      0.91      0.45        11\n",
            "          46       0.80      0.67      0.73        12\n",
            "          47       0.70      0.74      0.72        19\n",
            "          48       0.73      0.47      0.57        17\n",
            "          49       0.73      0.69      0.71        16\n",
            "          50       0.78      0.70      0.74        10\n",
            "          51       0.73      0.47      0.57        17\n",
            "          52       0.60      0.71      0.65        17\n",
            "          53       0.92      0.57      0.71        21\n",
            "          54       0.45      0.93      0.61        15\n",
            "          55       0.64      0.50      0.56        18\n",
            "          56       0.83      0.75      0.79        20\n",
            "          57       0.62      0.89      0.73        18\n",
            "          58       0.60      0.80      0.69        15\n",
            "          59       0.41      0.84      0.55        19\n",
            "          60       0.73      0.65      0.69        17\n",
            "          61       0.53      0.69      0.60        13\n",
            "          62       1.00      0.82      0.90        17\n",
            "          63       0.44      0.36      0.40        11\n",
            "          64       0.55      0.57      0.56        21\n",
            "          65       0.81      1.00      0.90        13\n",
            "          66       0.70      0.82      0.76        17\n",
            "          67       0.58      0.54      0.56        13\n",
            "          68       0.60      0.52      0.56        23\n",
            "          69       0.67      0.87      0.75        23\n",
            "          70       0.43      0.30      0.35        20\n",
            "          71       0.70      0.44      0.54        16\n",
            "          72       0.55      0.75      0.63         8\n",
            "          73       0.54      0.70      0.61        27\n",
            "          74       0.79      0.71      0.75        21\n",
            "          75       0.67      0.74      0.70        19\n",
            "          76       0.26      0.53      0.35        15\n",
            "          77       0.64      0.37      0.47        19\n",
            "          78       0.56      0.82      0.67        22\n",
            "          79       0.46      0.63      0.53        19\n",
            "          80       0.79      0.92      0.85        12\n",
            "          81       0.56      0.53      0.54        19\n",
            "          82       0.93      0.81      0.87        16\n",
            "          83       0.44      1.00      0.62         8\n",
            "          84       0.80      0.73      0.76        22\n",
            "          85       0.53      0.64      0.58        14\n",
            "          86       0.62      0.88      0.73        17\n",
            "          87       0.43      0.87      0.58        15\n",
            "          88       0.79      0.61      0.69        18\n",
            "          89       0.53      0.45      0.49        20\n",
            "          90       0.38      0.31      0.34        16\n",
            "          91       0.67      0.50      0.57        12\n",
            "          92       0.95      0.83      0.89        24\n",
            "          93       0.80      0.57      0.67        21\n",
            "          94       0.79      0.92      0.85        24\n",
            "          95       0.77      0.62      0.69        16\n",
            "          96       0.66      0.70      0.68        27\n",
            "          97       0.80      0.38      0.52        21\n",
            "          98       0.59      0.68      0.63        19\n",
            "          99       0.45      0.75      0.56        12\n",
            "         100       0.60      0.38      0.46        24\n",
            "         101       0.75      0.18      0.29        17\n",
            "         102       0.71      0.59      0.65        17\n",
            "         103       0.86      0.43      0.57        14\n",
            "         104       0.54      0.41      0.47        17\n",
            "         105       0.60      0.18      0.27        17\n",
            "         106       0.43      0.46      0.44        13\n",
            "         107       0.69      0.82      0.75        11\n",
            "         108       0.78      0.47      0.58        15\n",
            "         109       0.70      0.55      0.62        29\n",
            "         110       0.62      0.26      0.37        19\n",
            "         111       0.62      0.40      0.48        20\n",
            "         112       0.77      0.67      0.71        15\n",
            "         113       0.55      0.26      0.35        23\n",
            "         114       0.73      0.85      0.79        13\n",
            "         115       0.60      0.25      0.35        12\n",
            "         116       0.68      0.68      0.68        19\n",
            "         117       0.43      0.56      0.49        16\n",
            "         118       0.56      0.77      0.65        26\n",
            "         119       0.41      0.47      0.44        15\n",
            "\n",
            "    accuracy                           0.62      2044\n",
            "   macro avg       0.65      0.62      0.61      2044\n",
            "weighted avg       0.66      0.62      0.62      2044\n",
            "\n"
          ]
        }
      ]
    },
    {
      "cell_type": "code",
      "source": [
        "# ---------- 預測 ----------\n",
        "# Instantiate the model before loading the state dict\n",
        "# You need to determine the correct number of classes for the model\n",
        "# Based on your training code, the number of classes is derived from the unique breeds in labels_df\n",
        "labels_df = pd.read_csv(labels_path) # Make sure labels_df is accessible\n",
        "num_classes = len(labels_df['breed'].unique())\n",
        "\n",
        "model = get_model(num_classes).to(device)\n",
        "\n",
        "# Load the state dictionary of the best model from the K-Fold training\n",
        "# You might need to change \"best_model_fold0.pth\" depending on which fold performed best\n",
        "# or if you implement a different saving strategy during training.\n",
        "model.load_state_dict(torch.load(\"best_model_fold0.pth\")) # Assuming fold 0 had the best model\n",
        "model.eval()\n",
        "\n",
        "all_probs, all_img_ids = [], []\n",
        "with torch.no_grad():\n",
        "    for images, img_ids in test_loader:\n",
        "        images = images.to(device)\n",
        "        outputs = model(images)\n",
        "        probs = torch.softmax(outputs, dim=1)\n",
        "        all_probs.extend(probs.cpu().numpy())\n",
        "        all_img_ids.extend([img_id.replace(\".jpg\", \"\") for img_id in img_ids])"
      ],
      "metadata": {
        "colab": {
          "base_uri": "https://localhost:8080/"
        },
        "id": "5k_yE075HsmG",
        "outputId": "3fd26364-28a3-487d-8eb4-637dc80dd365"
      },
      "id": "5k_yE075HsmG",
      "execution_count": 17,
      "outputs": [
        {
          "output_type": "stream",
          "name": "stderr",
          "text": [
            "/usr/local/lib/python3.11/dist-packages/torchvision/models/_utils.py:208: UserWarning: The parameter 'pretrained' is deprecated since 0.13 and may be removed in the future, please use 'weights' instead.\n",
            "  warnings.warn(\n",
            "/usr/local/lib/python3.11/dist-packages/torchvision/models/_utils.py:223: UserWarning: Arguments other than a weight enum or `None` for 'weights' are deprecated since 0.13 and may be removed in the future. The current behavior is equivalent to passing `weights=VGG16_Weights.IMAGENET1K_V1`. You can also use `weights=VGG16_Weights.DEFAULT` to get the most up-to-date weights.\n",
            "  warnings.warn(msg)\n"
          ]
        }
      ]
    },
    {
      "cell_type": "code",
      "source": [
        "# ---------- Submission ----------\n",
        "class_names = sorted(labels_df['breed'].unique())\n",
        "submission = pd.DataFrame(all_probs, columns=class_names)\n",
        "submission.insert(0, \"id\", all_img_ids)\n",
        "submission.to_csv(\"submission.csv\", index=False)\n",
        "print(\"✅ submission.csv 已儲存\")"
      ],
      "metadata": {
        "colab": {
          "base_uri": "https://localhost:8080/"
        },
        "id": "mEjPQufAHvUE",
        "outputId": "c730493e-44d3-48e7-a781-d6a97b25fc9e"
      },
      "id": "mEjPQufAHvUE",
      "execution_count": 18,
      "outputs": [
        {
          "output_type": "stream",
          "name": "stdout",
          "text": [
            "✅ submission.csv 已儲存\n"
          ]
        }
      ]
    },
    {
      "cell_type": "markdown",
      "source": [],
      "metadata": {
        "id": "BCUhu4_XfoRk"
      },
      "id": "BCUhu4_XfoRk"
    },
    {
      "cell_type": "code",
      "source": [
        "!pip freeze"
      ],
      "metadata": {
        "colab": {
          "base_uri": "https://localhost:8080/"
        },
        "id": "B8qoxSLkLZGr",
        "outputId": "cd62bc25-9fc9-4a72-9ad6-552d8beff11c"
      },
      "id": "B8qoxSLkLZGr",
      "execution_count": 72,
      "outputs": [
        {
          "output_type": "stream",
          "name": "stdout",
          "text": [
            "absl-py==1.4.0\n",
            "accelerate==1.7.0\n",
            "aiofiles==24.1.0\n",
            "aiohappyeyeballs==2.6.1\n",
            "aiohttp==3.11.15\n",
            "aiosignal==1.3.2\n",
            "alabaster==1.0.0\n",
            "albucore==0.0.24\n",
            "albumentations==2.0.8\n",
            "ale-py==0.11.1\n",
            "altair==5.5.0\n",
            "annotated-types==0.7.0\n",
            "antlr4-python3-runtime==4.9.3\n",
            "anyio==4.9.0\n",
            "argon2-cffi==25.1.0\n",
            "argon2-cffi-bindings==21.2.0\n",
            "array_record==0.7.2\n",
            "arviz==0.21.0\n",
            "astropy==7.1.0\n",
            "astropy-iers-data==0.2025.6.2.0.38.23\n",
            "astunparse==1.6.3\n",
            "atpublic==5.1\n",
            "attrs==25.3.0\n",
            "audioread==3.0.1\n",
            "autograd==1.8.0\n",
            "babel==2.17.0\n",
            "backcall==0.2.0\n",
            "backports.tarfile==1.2.0\n",
            "beautifulsoup4==4.13.4\n",
            "betterproto==2.0.0b6\n",
            "bigframes==2.5.0\n",
            "bigquery-magics==0.9.0\n",
            "bleach==6.2.0\n",
            "blinker==1.9.0\n",
            "blis==1.3.0\n",
            "blobfile==3.0.0\n",
            "blosc2==3.3.4\n",
            "bokeh==3.7.3\n",
            "Bottleneck==1.4.2\n",
            "bqplot==0.12.45\n",
            "branca==0.8.1\n",
            "build==1.2.2.post1\n",
            "CacheControl==0.14.3\n",
            "cachetools==5.5.2\n",
            "catalogue==2.0.10\n",
            "certifi==2025.4.26\n",
            "cffi==1.17.1\n",
            "chardet==5.2.0\n",
            "charset-normalizer==3.4.2\n",
            "chex==0.1.89\n",
            "clarabel==0.11.0\n",
            "click==8.2.1\n",
            "cloudpathlib==0.21.1\n",
            "cloudpickle==3.1.1\n",
            "cmake==3.31.6\n",
            "cmdstanpy==1.2.5\n",
            "colorcet==3.1.0\n",
            "colorlover==0.3.0\n",
            "colour==0.1.5\n",
            "community==1.0.0b1\n",
            "confection==0.1.5\n",
            "cons==0.4.6\n",
            "contourpy==1.3.2\n",
            "cramjam==2.10.0\n",
            "cryptography==43.0.3\n",
            "cuda-python==12.6.2.post1\n",
            "cudf-cu12 @ https://pypi.nvidia.com/cudf-cu12/cudf_cu12-25.2.1-cp311-cp311-manylinux_2_24_x86_64.manylinux_2_28_x86_64.whl\n",
            "cudf-polars-cu12==25.2.2\n",
            "cufflinks==0.17.3\n",
            "cuml-cu12==25.2.1\n",
            "cupy-cuda12x==13.3.0\n",
            "curl_cffi==0.11.1\n",
            "cuvs-cu12==25.2.1\n",
            "cvxopt==1.3.2\n",
            "cvxpy==1.6.5\n",
            "cycler==0.12.1\n",
            "cyipopt==1.5.0\n",
            "cymem==2.0.11\n",
            "Cython==3.0.12\n",
            "dask==2024.12.1\n",
            "dask-cuda==25.2.0\n",
            "dask-cudf-cu12==25.2.2\n",
            "dask-expr==1.1.21\n",
            "dataproc-spark-connect==0.7.5\n",
            "datascience==0.17.6\n",
            "datasets==2.14.4\n",
            "db-dtypes==1.4.3\n",
            "dbus-python==1.2.18\n",
            "debugpy==1.8.0\n",
            "decorator==4.4.2\n",
            "defusedxml==0.7.1\n",
            "diffusers==0.33.1\n",
            "dill==0.3.7\n",
            "distributed==2024.12.1\n",
            "distributed-ucxx-cu12==0.42.0\n",
            "distro==1.9.0\n",
            "dlib==19.24.6\n",
            "dm-tree==0.1.9\n",
            "docker-pycreds==0.4.0\n",
            "docstring_parser==0.16\n",
            "docutils==0.21.2\n",
            "dopamine_rl==4.1.2\n",
            "duckdb==1.2.2\n",
            "earthengine-api==1.5.18\n",
            "easydict==1.13\n",
            "editdistance==0.8.1\n",
            "eerepr==0.1.2\n",
            "einops==0.8.1\n",
            "en_core_web_sm @ https://github.com/explosion/spacy-models/releases/download/en_core_web_sm-3.8.0/en_core_web_sm-3.8.0-py3-none-any.whl#sha256=1932429db727d4bff3deed6b34cfc05df17794f4a52eeb26cf8928f7c1a0fb85\n",
            "entrypoints==0.4\n",
            "et_xmlfile==2.0.0\n",
            "etils==1.12.2\n",
            "etuples==0.3.9\n",
            "Farama-Notifications==0.0.4\n",
            "fastai==2.7.19\n",
            "fastapi==0.115.12\n",
            "fastcore==1.7.29\n",
            "fastdownload==0.0.7\n",
            "fastjsonschema==2.21.1\n",
            "fastprogress==1.0.3\n",
            "fastrlock==0.8.3\n",
            "ffmpy==0.6.0\n",
            "filelock==3.18.0\n",
            "firebase-admin==6.8.0\n",
            "Flask==3.1.1\n",
            "flatbuffers==25.2.10\n",
            "flax==0.10.6\n",
            "folium==0.19.7\n",
            "fonttools==4.58.1\n",
            "frozendict==2.4.6\n",
            "frozenlist==1.6.0\n",
            "fsspec==2025.3.2\n",
            "future==1.0.0\n",
            "gast==0.6.0\n",
            "gcsfs==2025.3.2\n",
            "GDAL==3.8.4\n",
            "gdown==5.2.0\n",
            "geemap==0.35.3\n",
            "geocoder==1.38.1\n",
            "geographiclib==2.0\n",
            "geopandas==1.0.1\n",
            "geopy==2.4.1\n",
            "gin-config==0.5.0\n",
            "gitdb==4.0.12\n",
            "GitPython==3.1.44\n",
            "glob2==0.7\n",
            "google==2.0.3\n",
            "google-ai-generativelanguage==0.6.15\n",
            "google-api-core==2.25.0\n",
            "google-api-python-client==2.171.0\n",
            "google-auth==2.38.0\n",
            "google-auth-httplib2==0.2.0\n",
            "google-auth-oauthlib==1.2.2\n",
            "google-cloud-aiplatform==1.95.1\n",
            "google-cloud-bigquery==3.34.0\n",
            "google-cloud-bigquery-connection==1.18.2\n",
            "google-cloud-bigquery-storage==2.32.0\n",
            "google-cloud-core==2.4.3\n",
            "google-cloud-dataproc==5.18.1\n",
            "google-cloud-datastore==2.21.0\n",
            "google-cloud-firestore==2.21.0\n",
            "google-cloud-functions==1.20.3\n",
            "google-cloud-iam==2.19.0\n",
            "google-cloud-language==2.17.1\n",
            "google-cloud-resource-manager==1.14.2\n",
            "google-cloud-spanner==3.55.0\n",
            "google-cloud-storage==2.19.0\n",
            "google-cloud-translate==3.20.2\n",
            "google-colab @ file:///colabtools/dist/google_colab-1.0.0.tar.gz\n",
            "google-crc32c==1.7.1\n",
            "google-genai==1.18.0\n",
            "google-generativeai==0.8.5\n",
            "google-pasta==0.2.0\n",
            "google-resumable-media==2.7.2\n",
            "googleapis-common-protos==1.70.0\n",
            "googledrivedownloader==1.1.0\n",
            "gradio==5.31.0\n",
            "gradio_client==1.10.1\n",
            "graphviz==0.20.3\n",
            "greenlet==3.2.2\n",
            "groovy==0.1.2\n",
            "grpc-google-iam-v1==0.14.2\n",
            "grpc-interceptor==0.15.4\n",
            "grpcio==1.72.1\n",
            "grpcio-status==1.71.0\n",
            "grpclib==0.4.8\n",
            "gspread==6.2.1\n",
            "gspread-dataframe==4.0.0\n",
            "gym==0.25.2\n",
            "gym-notices==0.0.8\n",
            "gymnasium==1.1.1\n",
            "h11==0.16.0\n",
            "h2==4.2.0\n",
            "h5netcdf==1.6.1\n",
            "h5py==3.13.0\n",
            "hdbscan==0.8.40\n",
            "hf-xet==1.1.2\n",
            "hf_transfer==0.1.9\n",
            "highspy==1.10.0\n",
            "holidays==0.74\n",
            "holoviews==1.20.2\n",
            "hpack==4.1.0\n",
            "html5lib==1.1\n",
            "httpcore==1.0.9\n",
            "httpimport==1.4.1\n",
            "httplib2==0.22.0\n",
            "httpx==0.28.1\n",
            "huggingface-hub==0.32.4\n",
            "humanize==4.12.3\n",
            "hyperframe==6.1.0\n",
            "hyperopt==0.2.7\n",
            "ibis-framework==9.5.0\n",
            "idna==3.10\n",
            "imageio==2.37.0\n",
            "imageio-ffmpeg==0.6.0\n",
            "imagesize==1.4.1\n",
            "imbalanced-learn==0.13.0\n",
            "immutabledict==4.2.1\n",
            "importlib_metadata==8.7.0\n",
            "importlib_resources==6.5.2\n",
            "imutils==0.5.4\n",
            "inflect==7.5.0\n",
            "iniconfig==2.1.0\n",
            "intel-cmplr-lib-ur==2025.1.1\n",
            "intel-openmp==2025.1.1\n",
            "ipyevents==2.0.2\n",
            "ipyfilechooser==0.6.0\n",
            "ipykernel==6.17.1\n",
            "ipyleaflet==0.19.2\n",
            "ipyparallel==8.8.0\n",
            "ipython==7.34.0\n",
            "ipython-genutils==0.2.0\n",
            "ipython-sql==0.5.0\n",
            "ipytree==0.2.2\n",
            "ipywidgets==7.7.1\n",
            "itsdangerous==2.2.0\n",
            "jaraco.classes==3.4.0\n",
            "jaraco.context==6.0.1\n",
            "jaraco.functools==4.1.0\n",
            "jax==0.5.2\n",
            "jax-cuda12-pjrt==0.5.1\n",
            "jax-cuda12-plugin==0.5.1\n",
            "jaxlib==0.5.1\n",
            "jeepney==0.9.0\n",
            "jieba==0.42.1\n",
            "Jinja2==3.1.6\n",
            "jiter==0.10.0\n",
            "joblib==1.5.1\n",
            "jsonpatch==1.33\n",
            "jsonpickle==4.1.1\n",
            "jsonpointer==3.0.0\n",
            "jsonschema==4.24.0\n",
            "jsonschema-specifications==2025.4.1\n",
            "jupyter-client==6.1.12\n",
            "jupyter-console==6.1.0\n",
            "jupyter-leaflet==0.19.2\n",
            "jupyter-server==1.16.0\n",
            "jupyter_core==5.8.1\n",
            "jupyter_kernel_gateway @ git+https://github.com/googlecolab/kernel_gateway@b134e9945df25c2dcb98ade9129399be10788671\n",
            "jupyterlab_pygments==0.3.0\n",
            "jupyterlab_widgets==3.0.15\n",
            "jupytext==1.17.2\n",
            "kaggle==1.7.4.5\n",
            "kagglehub==0.3.12\n",
            "keras==3.8.0\n",
            "keras-hub==0.18.1\n",
            "keras-nlp==0.18.1\n",
            "keyring==25.6.0\n",
            "keyrings.google-artifactregistry-auth==1.1.2\n",
            "kiwisolver==1.4.8\n",
            "langchain==0.3.25\n",
            "langchain-core==0.3.63\n",
            "langchain-text-splitters==0.3.8\n",
            "langcodes==3.5.0\n",
            "langsmith==0.3.44\n",
            "language_data==1.3.0\n",
            "launchpadlib==1.10.16\n",
            "lazr.restfulclient==0.14.4\n",
            "lazr.uri==1.0.6\n",
            "lazy_loader==0.4\n",
            "libclang==18.1.1\n",
            "libcudf-cu12 @ https://pypi.nvidia.com/libcudf-cu12/libcudf_cu12-25.2.1-py3-none-manylinux_2_28_x86_64.whl\n",
            "libcugraph-cu12==25.2.0\n",
            "libcuml-cu12==25.2.1\n",
            "libcuvs-cu12==25.2.1\n",
            "libkvikio-cu12==25.2.1\n",
            "libpysal==4.13.0\n",
            "libraft-cu12==25.2.0\n",
            "librosa==0.11.0\n",
            "libucx-cu12==1.18.1\n",
            "libucxx-cu12==0.42.0\n",
            "lightgbm @ file:///tmp/lightgbm/LightGBM/dist/lightgbm-4.5.0-py3-none-linux_x86_64.whl\n",
            "linkify-it-py==2.0.3\n",
            "llvmlite==0.43.0\n",
            "locket==1.0.0\n",
            "logical-unification==0.4.6\n",
            "lxml==5.4.0\n",
            "Mako==1.1.3\n",
            "marisa-trie==1.2.1\n",
            "Markdown==3.8\n",
            "markdown-it-py==3.0.0\n",
            "MarkupSafe==3.0.2\n",
            "matplotlib==3.10.0\n",
            "matplotlib-inline==0.1.7\n",
            "matplotlib-venn==1.1.2\n",
            "mdit-py-plugins==0.4.2\n",
            "mdurl==0.1.2\n",
            "miniKanren==1.0.3\n",
            "missingno==0.5.2\n",
            "mistune==3.1.3\n",
            "mizani==0.13.5\n",
            "mkl==2025.0.1\n",
            "ml-dtypes==0.4.1\n",
            "mlxtend==0.23.4\n",
            "more-itertools==10.7.0\n",
            "moviepy==1.0.3\n",
            "mpmath==1.3.0\n",
            "msgpack==1.1.0\n",
            "multidict==6.4.4\n",
            "multipledispatch==1.0.0\n",
            "multiprocess==0.70.15\n",
            "multitasking==0.0.11\n",
            "murmurhash==1.0.13\n",
            "music21==9.3.0\n",
            "namex==0.1.0\n",
            "narwhals==1.41.0\n",
            "natsort==8.4.0\n",
            "nbclassic==1.3.1\n",
            "nbclient==0.10.2\n",
            "nbconvert==7.16.6\n",
            "nbformat==5.10.4\n",
            "ndindex==1.10.0\n",
            "nest-asyncio==1.6.0\n",
            "networkx==3.5\n",
            "nibabel==5.3.2\n",
            "nltk==3.9.1\n",
            "notebook==6.5.7\n",
            "notebook_shim==0.2.4\n",
            "numba==0.60.0\n",
            "numba-cuda==0.2.0\n",
            "numexpr==2.10.2\n",
            "numpy==2.0.2\n",
            "nvidia-cublas-cu12==12.5.3.2\n",
            "nvidia-cuda-cupti-cu12==12.5.82\n",
            "nvidia-cuda-nvcc-cu12==12.5.82\n",
            "nvidia-cuda-nvrtc-cu12==12.5.82\n",
            "nvidia-cuda-runtime-cu12==12.5.82\n",
            "nvidia-cudnn-cu12==9.3.0.75\n",
            "nvidia-cufft-cu12==11.2.3.61\n",
            "nvidia-curand-cu12==10.3.6.82\n",
            "nvidia-cusolver-cu12==11.6.3.83\n",
            "nvidia-cusparse-cu12==12.5.1.3\n",
            "nvidia-cusparselt-cu12==0.6.2\n",
            "nvidia-ml-py==12.575.51\n",
            "nvidia-nccl-cu12==2.21.5\n",
            "nvidia-nvcomp-cu12==4.2.0.11\n",
            "nvidia-nvjitlink-cu12==12.5.82\n",
            "nvidia-nvtx-cu12==12.4.127\n",
            "nvtx==0.2.12\n",
            "nx-cugraph-cu12 @ https://pypi.nvidia.com/nx-cugraph-cu12/nx_cugraph_cu12-25.2.0-py3-none-any.whl\n",
            "oauth2client==4.1.3\n",
            "oauthlib==3.2.2\n",
            "omegaconf==2.3.0\n",
            "openai==1.84.0\n",
            "opencv-contrib-python==4.11.0.86\n",
            "opencv-python==4.11.0.86\n",
            "opencv-python-headless==4.11.0.86\n",
            "openpyxl==3.1.5\n",
            "opt_einsum==3.4.0\n",
            "optax==0.2.4\n",
            "optree==0.16.0\n",
            "orbax-checkpoint==0.11.13\n",
            "orjson==3.10.18\n",
            "osqp==1.0.4\n",
            "packaging==24.2\n",
            "pandas==2.3.0\n",
            "pandas-datareader==0.10.0\n",
            "pandas-gbq==0.29.0\n",
            "pandas-stubs==2.2.2.240909\n",
            "pandocfilters==1.5.1\n",
            "panel==1.7.1\n",
            "param==2.2.0\n",
            "parso==0.8.4\n",
            "parsy==2.1\n",
            "partd==1.4.2\n",
            "pathlib==1.0.1\n",
            "patsy==1.0.1\n",
            "peewee==3.18.1\n",
            "peft==0.15.2\n",
            "pexpect==4.9.0\n",
            "pickleshare==0.7.5\n",
            "pillow==11.2.1\n",
            "platformdirs==4.3.8\n",
            "plotly==5.24.1\n",
            "plotnine==0.14.5\n",
            "pluggy==1.6.0\n",
            "ply==3.11\n",
            "polars==1.21.0\n",
            "pooch==1.8.2\n",
            "portpicker==1.5.2\n",
            "preshed==3.0.10\n",
            "prettytable==3.16.0\n",
            "proglog==0.1.12\n",
            "progressbar2==4.5.0\n",
            "prometheus_client==0.22.1\n",
            "promise==2.3\n",
            "prompt_toolkit==3.0.51\n",
            "propcache==0.3.1\n",
            "prophet==1.1.7\n",
            "proto-plus==1.26.1\n",
            "protobuf==5.29.5\n",
            "psutil==5.9.5\n",
            "psycopg2==2.9.10\n",
            "ptyprocess==0.7.0\n",
            "py-cpuinfo==9.0.0\n",
            "py4j==0.10.9.7\n",
            "pyarrow==18.1.0\n",
            "pyasn1==0.6.1\n",
            "pyasn1_modules==0.4.2\n",
            "pycairo==1.28.0\n",
            "pycocotools==2.0.9\n",
            "pycparser==2.22\n",
            "pycryptodomex==3.23.0\n",
            "pydantic==2.11.5\n",
            "pydantic_core==2.33.2\n",
            "pydata-google-auth==1.9.1\n",
            "pydot==3.0.4\n",
            "pydotplus==2.0.2\n",
            "PyDrive==1.3.1\n",
            "PyDrive2==1.21.3\n",
            "pydub==0.25.1\n",
            "pyerfa==2.0.1.5\n",
            "pygame==2.6.1\n",
            "pygit2==1.18.0\n",
            "Pygments==2.19.1\n",
            "PyGObject==3.42.0\n",
            "PyJWT==2.10.1\n",
            "pylibcudf-cu12 @ https://pypi.nvidia.com/pylibcudf-cu12/pylibcudf_cu12-25.2.1-cp311-cp311-manylinux_2_24_x86_64.manylinux_2_28_x86_64.whl\n",
            "pylibcugraph-cu12==25.2.0\n",
            "pylibraft-cu12==25.2.0\n",
            "pymc==5.23.0\n",
            "pymystem3==0.2.0\n",
            "pynndescent==0.5.13\n",
            "pynvjitlink-cu12==0.6.0\n",
            "pynvml==12.0.0\n",
            "pyogrio==0.11.0\n",
            "pyomo==6.9.2\n",
            "PyOpenGL==3.1.9\n",
            "pyOpenSSL==24.2.1\n",
            "pyparsing==3.2.3\n",
            "pyperclip==1.9.0\n",
            "pyproj==3.7.1\n",
            "pyproject_hooks==1.2.0\n",
            "pyshp==2.3.1\n",
            "PySocks==1.7.1\n",
            "pyspark==3.5.1\n",
            "pytensor==2.31.3\n",
            "pytest==8.3.5\n",
            "python-apt==0.0.0\n",
            "python-box==7.3.2\n",
            "python-dateutil==2.9.0.post0\n",
            "python-louvain==0.16\n",
            "python-multipart==0.0.20\n",
            "python-slugify==8.0.4\n",
            "python-snappy==0.7.3\n",
            "python-utils==3.9.1\n",
            "pytz==2025.2\n",
            "pyviz_comms==3.0.4\n",
            "PyWavelets==1.8.0\n",
            "PyYAML==6.0.2\n",
            "pyzmq==24.0.1\n",
            "raft-dask-cu12==25.2.0\n",
            "rapids-dask-dependency==25.2.0\n",
            "ratelim==0.1.6\n",
            "referencing==0.36.2\n",
            "regex==2024.11.6\n",
            "requests==2.32.3\n",
            "requests-oauthlib==2.0.0\n",
            "requests-toolbelt==1.0.0\n",
            "requirements-parser==0.9.0\n",
            "rich==13.9.4\n",
            "rmm-cu12==25.2.0\n",
            "roman-numerals-py==3.1.0\n",
            "rpds-py==0.25.1\n",
            "rpy2==3.5.17\n",
            "rsa==4.9.1\n",
            "ruff==0.11.12\n",
            "safehttpx==0.1.6\n",
            "safetensors==0.5.3\n",
            "scikit-image==0.25.2\n",
            "scikit-learn==1.6.1\n",
            "scipy==1.15.3\n",
            "scooby==0.10.1\n",
            "scs==3.2.7.post2\n",
            "seaborn==0.13.2\n",
            "SecretStorage==3.3.3\n",
            "semantic-version==2.10.0\n",
            "Send2Trash==1.8.3\n",
            "sentence-transformers==4.1.0\n",
            "sentencepiece==0.2.0\n",
            "sentry-sdk==2.29.1\n",
            "setproctitle==1.3.6\n",
            "shap==0.47.2\n",
            "shapely==2.1.1\n",
            "shellingham==1.5.4\n",
            "simple-parsing==0.1.7\n",
            "simplejson==3.20.1\n",
            "simsimd==6.4.7\n",
            "six==1.17.0\n",
            "sklearn-compat==0.1.3\n",
            "sklearn-pandas==2.2.0\n",
            "slicer==0.0.8\n",
            "smart-open==7.1.0\n",
            "smmap==5.0.2\n",
            "sniffio==1.3.1\n",
            "snowballstemmer==3.0.1\n",
            "sortedcontainers==2.4.0\n",
            "soundfile==0.13.1\n",
            "soupsieve==2.7\n",
            "soxr==0.5.0.post1\n",
            "spacy==3.8.7\n",
            "spacy-legacy==3.0.12\n",
            "spacy-loggers==1.0.5\n",
            "spanner-graph-notebook==1.1.6\n",
            "Sphinx==8.2.3\n",
            "sphinxcontrib-applehelp==2.0.0\n",
            "sphinxcontrib-devhelp==2.0.0\n",
            "sphinxcontrib-htmlhelp==2.1.0\n",
            "sphinxcontrib-jsmath==1.0.1\n",
            "sphinxcontrib-qthelp==2.0.0\n",
            "sphinxcontrib-serializinghtml==2.0.0\n",
            "SQLAlchemy==2.0.41\n",
            "sqlglot==25.20.2\n",
            "sqlparse==0.5.3\n",
            "srsly==2.5.1\n",
            "stanio==0.5.1\n",
            "starlette==0.46.2\n",
            "statsmodels==0.14.4\n",
            "stringzilla==3.12.5\n",
            "stumpy==1.13.0\n",
            "sympy==1.13.1\n",
            "tables==3.10.2\n",
            "tabulate==0.9.0\n",
            "tbb==2022.1.0\n",
            "tblib==3.1.0\n",
            "tcmlib==1.3.0\n",
            "tenacity==9.1.2\n",
            "tensorboard==2.18.0\n",
            "tensorboard-data-server==0.7.2\n",
            "tensorflow==2.18.0\n",
            "tensorflow-datasets==4.9.9\n",
            "tensorflow-hub==0.16.1\n",
            "tensorflow-io-gcs-filesystem==0.37.1\n",
            "tensorflow-metadata==1.17.1\n",
            "tensorflow-probability==0.25.0\n",
            "tensorflow-text==2.18.1\n",
            "tensorflow_decision_forests==1.11.0\n",
            "tensorstore==0.1.74\n",
            "termcolor==3.1.0\n",
            "terminado==0.18.1\n",
            "text-unidecode==1.3\n",
            "textblob==0.19.0\n",
            "tf-slim==1.1.0\n",
            "tf_keras==2.18.0\n",
            "thinc==8.3.6\n",
            "threadpoolctl==3.6.0\n",
            "tifffile==2025.6.1\n",
            "tiktoken==0.9.0\n",
            "timm==1.0.15\n",
            "tinycss2==1.4.0\n",
            "tokenizers==0.21.1\n",
            "toml==0.10.2\n",
            "tomlkit==0.13.2\n",
            "toolz==0.12.1\n",
            "torch @ https://download.pytorch.org/whl/cu124/torch-2.6.0%2Bcu124-cp311-cp311-linux_x86_64.whl\n",
            "torchao==0.10.0\n",
            "torchaudio @ https://download.pytorch.org/whl/cu124/torchaudio-2.6.0%2Bcu124-cp311-cp311-linux_x86_64.whl\n",
            "torchdata==0.11.0\n",
            "torchsummary==1.5.1\n",
            "torchtune==0.6.1\n",
            "torchvision @ https://download.pytorch.org/whl/cu124/torchvision-0.21.0%2Bcu124-cp311-cp311-linux_x86_64.whl\n",
            "tornado==6.4.2\n",
            "tqdm==4.67.1\n",
            "traitlets==5.7.1\n",
            "traittypes==0.2.1\n",
            "transformers==4.52.4\n",
            "treelite==4.4.1\n",
            "treescope==0.1.9\n",
            "triton==3.2.0\n",
            "tsfresh==0.21.0\n",
            "tweepy==4.15.0\n",
            "typeguard==4.4.2\n",
            "typer==0.16.0\n",
            "types-pytz==2025.2.0.20250516\n",
            "types-setuptools==80.9.0.20250529\n",
            "typing-inspection==0.4.1\n",
            "typing_extensions==4.14.0\n",
            "tzdata==2025.2\n",
            "tzlocal==5.3.1\n",
            "uc-micro-py==1.0.3\n",
            "ucx-py-cu12==0.42.0\n",
            "ucxx-cu12==0.42.0\n",
            "umap-learn==0.5.7\n",
            "umf==0.10.0\n",
            "uritemplate==4.2.0\n",
            "urllib3==2.4.0\n",
            "uvicorn==0.34.3\n",
            "vega-datasets==0.9.0\n",
            "wadllib==1.3.6\n",
            "wandb==0.19.11\n",
            "wasabi==1.1.3\n",
            "wcwidth==0.2.13\n",
            "weasel==0.4.1\n",
            "webcolors==24.11.1\n",
            "webencodings==0.5.1\n",
            "websocket-client==1.8.0\n",
            "websockets==15.0.1\n",
            "Werkzeug==3.1.3\n",
            "widgetsnbextension==3.6.10\n",
            "wordcloud==1.9.4\n",
            "wrapt==1.17.2\n",
            "wurlitzer==3.1.1\n",
            "xarray==2025.3.1\n",
            "xarray-einstats==0.9.0\n",
            "xgboost==2.1.4\n",
            "xlrd==2.0.1\n",
            "xxhash==3.5.0\n",
            "xyzservices==2025.4.0\n",
            "yarl==1.20.0\n",
            "ydf==0.12.0\n",
            "yellowbrick==1.5\n",
            "yfinance==0.2.61\n",
            "zict==3.0.0\n",
            "zipp==3.22.0\n",
            "zstandard==0.23.0\n"
          ]
        }
      ]
    },
    {
      "cell_type": "code",
      "source": [
        "import torch\n",
        "print(\"GPU 是否可用：\", torch.cuda.is_available())\n",
        "print(\"可用 GPU 數量：\", torch.cuda.device_count())\n",
        "print(\"GPU 名稱：\", torch.cuda.get_device_name(0) if torch.cuda.is_available() else \"無\")"
      ],
      "metadata": {
        "colab": {
          "base_uri": "https://localhost:8080/"
        },
        "id": "U7NHcGC1LbMg",
        "outputId": "94d86d04-a338-4f0b-b511-6b6a3812562d"
      },
      "id": "U7NHcGC1LbMg",
      "execution_count": 73,
      "outputs": [
        {
          "output_type": "stream",
          "name": "stdout",
          "text": [
            "GPU 是否可用： True\n",
            "可用 GPU 數量： 1\n",
            "GPU 名稱： Tesla T4\n"
          ]
        }
      ]
    }
  ],
  "metadata": {
    "kernelspec": {
      "display_name": "Python 3",
      "name": "python3"
    },
    "language_info": {
      "codemirror_mode": {
        "name": "ipython",
        "version": 3
      },
      "file_extension": ".py",
      "mimetype": "text/x-python",
      "name": "python",
      "nbconvert_exporter": "python",
      "pygments_lexer": "ipython3",
      "version": "3.9.13"
    },
    "colab": {
      "provenance": [],
      "gpuType": "T4"
    },
    "accelerator": "GPU",
    "widgets": {
      "application/vnd.jupyter.widget-state+json": {
        "b807c14e44ea40d6a966b2c85b9be475": {
          "model_module": "@jupyter-widgets/controls",
          "model_name": "FileUploadModel",
          "model_module_version": "1.5.0",
          "state": {
            "_counter": 1,
            "_dom_classes": [],
            "_model_module": "@jupyter-widgets/controls",
            "_model_module_version": "1.5.0",
            "_model_name": "FileUploadModel",
            "_view_count": null,
            "_view_module": "@jupyter-widgets/controls",
            "_view_module_version": "1.5.0",
            "_view_name": "FileUploadView",
            "accept": "",
            "button_style": "",
            "data": [
              null
            ],
            "description": "Upload",
            "description_tooltip": null,
            "disabled": false,
            "error": "",
            "icon": "upload",
            "layout": "IPY_MODEL_782b4ae18f59407c93a6b5452d162f4b",
            "metadata": [
              {
                "name": "kaggle.json",
                "type": "application/json",
                "size": 64,
                "lastModified": 1745215961986
              }
            ],
            "multiple": false,
            "style": "IPY_MODEL_df0e1638cc3148a2abcaf3e64f9fc2cf"
          }
        },
        "782b4ae18f59407c93a6b5452d162f4b": {
          "model_module": "@jupyter-widgets/base",
          "model_name": "LayoutModel",
          "model_module_version": "1.2.0",
          "state": {
            "_model_module": "@jupyter-widgets/base",
            "_model_module_version": "1.2.0",
            "_model_name": "LayoutModel",
            "_view_count": null,
            "_view_module": "@jupyter-widgets/base",
            "_view_module_version": "1.2.0",
            "_view_name": "LayoutView",
            "align_content": null,
            "align_items": null,
            "align_self": null,
            "border": null,
            "bottom": null,
            "display": null,
            "flex": null,
            "flex_flow": null,
            "grid_area": null,
            "grid_auto_columns": null,
            "grid_auto_flow": null,
            "grid_auto_rows": null,
            "grid_column": null,
            "grid_gap": null,
            "grid_row": null,
            "grid_template_areas": null,
            "grid_template_columns": null,
            "grid_template_rows": null,
            "height": null,
            "justify_content": null,
            "justify_items": null,
            "left": null,
            "margin": null,
            "max_height": null,
            "max_width": null,
            "min_height": null,
            "min_width": null,
            "object_fit": null,
            "object_position": null,
            "order": null,
            "overflow": null,
            "overflow_x": null,
            "overflow_y": null,
            "padding": null,
            "right": null,
            "top": null,
            "visibility": null,
            "width": null
          }
        },
        "df0e1638cc3148a2abcaf3e64f9fc2cf": {
          "model_module": "@jupyter-widgets/controls",
          "model_name": "ButtonStyleModel",
          "model_module_version": "1.5.0",
          "state": {
            "_model_module": "@jupyter-widgets/controls",
            "_model_module_version": "1.5.0",
            "_model_name": "ButtonStyleModel",
            "_view_count": null,
            "_view_module": "@jupyter-widgets/base",
            "_view_module_version": "1.2.0",
            "_view_name": "StyleView",
            "button_color": null,
            "font_weight": ""
          }
        }
      }
    }
  },
  "nbformat": 4,
  "nbformat_minor": 5
}