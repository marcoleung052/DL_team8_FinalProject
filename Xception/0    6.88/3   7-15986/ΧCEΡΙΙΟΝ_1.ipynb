{
 "cells": [
  {
   "cell_type": "code",
   "execution_count": 1,
   "id": "19dd142d-af4f-4cc4-a737-cb5cf859e92e",
   "metadata": {
    "execution": {
     "iopub.execute_input": "2025-05-20T17:36:05.606504Z",
     "iopub.status.busy": "2025-05-20T17:36:05.606201Z",
     "iopub.status.idle": "2025-05-20T17:36:05.686090Z",
     "shell.execute_reply": "2025-05-20T17:36:05.685241Z",
     "shell.execute_reply.started": "2025-05-20T17:36:05.606479Z"
    },
    "tags": []
   },
   "outputs": [
    {
     "data": {
      "application/vnd.jupyter.widget-view+json": {
       "model_id": "d82079b3c4ad4b93bd70a30508f471fb",
       "version_major": 2,
       "version_minor": 0
      },
      "text/plain": [
       "FileUpload(value=(), description='Upload')"
      ]
     },
     "metadata": {},
     "output_type": "display_data"
    }
   ],
   "source": [
    "from IPython.display import display\n",
    "import os\n",
    "\n",
    "# 上傳檔案（會跳出檔案選擇器）\n",
    "from ipywidgets import FileUpload\n",
    "\n",
    "upload = FileUpload()\n",
    "display(upload)"
   ]
  },
  {
   "cell_type": "code",
   "execution_count": 2,
   "id": "172906a3-1dd5-4484-a903-2877d1e50ebc",
   "metadata": {
    "execution": {
     "iopub.execute_input": "2025-05-20T17:36:40.774199Z",
     "iopub.status.busy": "2025-05-20T17:36:40.773903Z",
     "iopub.status.idle": "2025-05-20T17:36:40.788249Z",
     "shell.execute_reply": "2025-05-20T17:36:40.787463Z",
     "shell.execute_reply.started": "2025-05-20T17:36:40.774176Z"
    },
    "tags": []
   },
   "outputs": [
    {
     "name": "stdout",
     "output_type": "stream",
     "text": [
      "{'name': 'kaggle.json', 'type': 'application/json', 'size': 64, 'content': <memory at 0x7aca44ba4d00>, 'last_modified': datetime.datetime(2025, 4, 21, 6, 7, 11, 972000, tzinfo=datetime.timezone.utc)}\n",
      "kaggle.json 已成功儲存至 /home/jovyan/.kaggle/kaggle.json\n"
     ]
    }
   ],
   "source": [
    "import os\n",
    "from pathlib import Path\n",
    "\n",
    "# 假設你只上傳了一個檔案\n",
    "fileinfo = upload.value[0]  # 通常是一個 dict，含 'name' 和 'content'\n",
    "\n",
    "# 顯示內容結構（除錯用）\n",
    "print(fileinfo)\n",
    "\n",
    "# 儲存 kaggle.json\n",
    "filename = fileinfo['name']\n",
    "content = fileinfo['content']\n",
    "\n",
    "kaggle_dir = Path.home() / \".kaggle\"\n",
    "kaggle_dir.mkdir(exist_ok=True)\n",
    "\n",
    "kaggle_json_path = kaggle_dir / \"kaggle.json\"\n",
    "with open(kaggle_json_path, \"wb\") as f:\n",
    "    f.write(content)\n",
    "\n",
    "# 設定權限（Linux/macOS 建議）\n",
    "os.chmod(kaggle_json_path, 0o600)\n",
    "\n",
    "print(f\"{filename} 已成功儲存至 {kaggle_json_path}\")"
   ]
  },
  {
   "cell_type": "code",
   "execution_count": 3,
   "id": "e13e384c-f12d-4c02-b891-80542dd9a6db",
   "metadata": {
    "execution": {
     "iopub.execute_input": "2025-05-20T17:36:43.528667Z",
     "iopub.status.busy": "2025-05-20T17:36:43.527968Z",
     "iopub.status.idle": "2025-05-20T17:36:43.839694Z",
     "shell.execute_reply": "2025-05-20T17:36:43.838737Z",
     "shell.execute_reply.started": "2025-05-20T17:36:43.528640Z"
    },
    "tags": []
   },
   "outputs": [
    {
     "name": "stdout",
     "output_type": "stream",
     "text": [
      "/bin/bash: line 1: kaggle: command not found\n"
     ]
    }
   ],
   "source": [
    "!kaggle datasets list -s cifar\n"
   ]
  },
  {
   "cell_type": "code",
   "execution_count": 4,
   "id": "2e5fb396-b2e8-4b41-a76c-81dcd0626c01",
   "metadata": {
    "execution": {
     "iopub.execute_input": "2025-05-20T17:36:43.841260Z",
     "iopub.status.busy": "2025-05-20T17:36:43.841021Z",
     "iopub.status.idle": "2025-05-20T17:41:10.742996Z",
     "shell.execute_reply": "2025-05-20T17:41:10.742057Z",
     "shell.execute_reply.started": "2025-05-20T17:36:43.841237Z"
    },
    "tags": []
   },
   "outputs": [
    {
     "name": "stdout",
     "output_type": "stream",
     "text": [
      "Collecting kaggle\n",
      "  Using cached kaggle-1.7.4.5-py3-none-any.whl (181 kB)\n",
      "Requirement already satisfied: idna in /opt/conda/lib/python3.9/site-packages (from kaggle) (3.4)\n",
      "Requirement already satisfied: urllib3>=1.15.1 in /opt/conda/lib/python3.9/site-packages (from kaggle) (2.4.0)\n",
      "Requirement already satisfied: certifi>=14.05.14 in /opt/conda/lib/python3.9/site-packages (from kaggle) (2025.1.31)\n",
      "Requirement already satisfied: python-dateutil>=2.5.3 in /opt/conda/lib/python3.9/site-packages (from kaggle) (2.8.2)\n",
      "Collecting python-slugify\n",
      "  Using cached python_slugify-8.0.4-py2.py3-none-any.whl (10 kB)\n",
      "Requirement already satisfied: webencodings in /opt/conda/lib/python3.9/site-packages (from kaggle) (0.5.1)\n",
      "Requirement already satisfied: bleach in /opt/conda/lib/python3.9/site-packages (from kaggle) (5.0.1)\n",
      "Collecting text-unidecode\n",
      "  Using cached text_unidecode-1.3-py2.py3-none-any.whl (78 kB)\n",
      "Requirement already satisfied: charset-normalizer in /opt/conda/lib/python3.9/site-packages (from kaggle) (2.1.1)\n",
      "Requirement already satisfied: protobuf in /opt/conda/lib/python3.9/site-packages (from kaggle) (4.21.7)\n",
      "Requirement already satisfied: requests in /opt/conda/lib/python3.9/site-packages (from kaggle) (2.32.3)\n",
      "Requirement already satisfied: six>=1.10 in /opt/conda/lib/python3.9/site-packages (from kaggle) (1.16.0)\n",
      "Requirement already satisfied: tqdm in /opt/conda/lib/python3.9/site-packages (from kaggle) (4.64.1)\n",
      "Requirement already satisfied: setuptools>=21.0.0 in /opt/conda/lib/python3.9/site-packages (from kaggle) (65.4.1)\n",
      "Installing collected packages: text-unidecode, python-slugify, kaggle\n",
      "Successfully installed kaggle-1.7.4.5 python-slugify-8.0.4 text-unidecode-1.3\n",
      "\u001b[33mWARNING: Running pip as the 'root' user can result in broken permissions and conflicting behaviour with the system package manager. It is recommended to use a virtual environment instead: https://pip.pypa.io/warnings/venv\u001b[0m\u001b[33m\n",
      "\u001b[0mRequirement already satisfied: pandas in /opt/conda/lib/python3.9/site-packages (1.5.0)\n",
      "Collecting pandas\n",
      "  Using cached pandas-2.2.3-cp39-cp39-manylinux_2_17_x86_64.manylinux2014_x86_64.whl (13.1 MB)\n",
      "Requirement already satisfied: numpy>=1.22.4 in /opt/conda/lib/python3.9/site-packages (from pandas) (1.23.3)\n",
      "Collecting tzdata>=2022.7\n",
      "  Using cached tzdata-2025.2-py2.py3-none-any.whl (347 kB)\n",
      "Requirement already satisfied: pytz>=2020.1 in /opt/conda/lib/python3.9/site-packages (from pandas) (2022.4)\n",
      "Requirement already satisfied: python-dateutil>=2.8.2 in /opt/conda/lib/python3.9/site-packages (from pandas) (2.8.2)\n",
      "Requirement already satisfied: six>=1.5 in /opt/conda/lib/python3.9/site-packages (from python-dateutil>=2.8.2->pandas) (1.16.0)\n",
      "Installing collected packages: tzdata, pandas\n",
      "  Attempting uninstall: tzdata\n",
      "    Found existing installation: tzdata 2022.4\n",
      "    Uninstalling tzdata-2022.4:\n",
      "      Successfully uninstalled tzdata-2022.4\n",
      "  Attempting uninstall: pandas\n",
      "    Found existing installation: pandas 1.5.0\n",
      "    Uninstalling pandas-1.5.0:\n",
      "      Successfully uninstalled pandas-1.5.0\n",
      "Successfully installed pandas-2.2.3 tzdata-2025.2\n",
      "\u001b[33mWARNING: Running pip as the 'root' user can result in broken permissions and conflicting behaviour with the system package manager. It is recommended to use a virtual environment instead: https://pip.pypa.io/warnings/venv\u001b[0m\u001b[33m\n",
      "\u001b[0mcp: cannot stat 'kaggle.json': No such file or directory\n",
      "Downloading dog-breed-identification.zip to /home/jovyan\n",
      " 98%|████████████████████████████████████████ | 675M/691M [00:03<00:00, 199MB/s]\n",
      "100%|█████████████████████████████████████████| 691M/691M [00:03<00:00, 193MB/s]\n"
     ]
    },
    {
     "name": "stderr",
     "output_type": "stream",
     "text": [
      "/opt/conda/lib/python3.9/site-packages/pandas/core/computation/expressions.py:21: UserWarning: Pandas requires version '2.8.4' or newer of 'numexpr' (version '2.8.3' currently installed).\n",
      "  from pandas.core.computation.check import NUMEXPR_INSTALLED\n",
      "/opt/conda/lib/python3.9/site-packages/pandas/core/arrays/masked.py:60: UserWarning: Pandas requires version '1.3.6' or newer of 'bottleneck' (version '1.3.5' currently installed).\n",
      "  from pandas.core import (\n"
     ]
    }
   ],
   "source": [
    "!pip install -U kaggle\n",
    "!pip install --upgrade pandas\n",
    "import os\n",
    "import zipfile\n",
    "\n",
    "# 建立 Kaggle 資料夾\n",
    "!mkdir -p ~/.kaggle\n",
    "!cp kaggle.json ~/.kaggle/\n",
    "!chmod 600 ~/.kaggle/kaggle.json\n",
    "\n",
    "# 下載 Dog Breed Identification 資料集\n",
    "!kaggle competitions download -c dog-breed-identification --force\n",
    "!unzip -oq dog-breed-identification.zip -d dog-breed-identification\n",
    "\n",
    "\n",
    "import pandas as pd\n",
    "import numpy as np\n",
    "\n",
    "labels = pd.read_csv('dog-breed-identification/labels.csv')\n"
   ]
  },
  {
   "cell_type": "code",
   "execution_count": 5,
   "id": "730c9a46-2b61-48be-b907-137ded3ab21d",
   "metadata": {
    "execution": {
     "iopub.execute_input": "2025-05-20T17:41:10.744106Z",
     "iopub.status.busy": "2025-05-20T17:41:10.743952Z",
     "iopub.status.idle": "2025-05-20T17:42:06.252729Z",
     "shell.execute_reply": "2025-05-20T17:42:06.251693Z",
     "shell.execute_reply.started": "2025-05-20T17:41:10.744092Z"
    },
    "tags": []
   },
   "outputs": [
    {
     "name": "stderr",
     "output_type": "stream",
     "text": [
      "100%|██████████| 10222/10222 [00:55<00:00, 184.30it/s]\n"
     ]
    }
   ],
   "source": [
    "import os\n",
    "import shutil\n",
    "import pandas as pd\n",
    "from PIL import Image\n",
    "from tqdm import tqdm\n",
    "# 讀取標籤\n",
    "labels = pd.read_csv('dog-breed-identification/labels.csv')\n",
    "# 建立目標輸出資料夾\n",
    "output_dir = \"dog_images\"\n",
    "train_dir = os.path.join(output_dir, \"train\")\n",
    "os.makedirs(train_dir, exist_ok=True)\n",
    "\n",
    "# 根據標籤將圖片存入對應資料夾\n",
    "def organize_train_images(labels): # Pass labels as an argument\n",
    "    src_img_dir = \"dog-breed-identification/train\"\n",
    "    for idx, row in tqdm(labels.iterrows(), total=len(labels)):\n",
    "        img_id = row['id']\n",
    "        breed = row['breed']\n",
    "        src_path = os.path.join(src_img_dir, img_id + \".jpg\")\n",
    "\n",
    "        # 建立品種對應資料夾\n",
    "        breed_dir = os.path.join(train_dir, breed)\n",
    "        os.makedirs(breed_dir, exist_ok=True)\n",
    "\n",
    "        dst_path = os.path.join(breed_dir, img_id + \".jpg\")\n",
    "        shutil.copyfile(src_path, dst_path)\n",
    "\n",
    "# Load labels outside the function\n",
    "labels = pd.read_csv('dog-breed-identification/labels.csv')\n",
    "organize_train_images(labels) # Call the function with labels argument"
   ]
  },
  {
   "cell_type": "code",
   "execution_count": 6,
   "id": "53fafafb-66d1-417b-9603-84097d9b4686",
   "metadata": {
    "execution": {
     "iopub.execute_input": "2025-05-20T17:42:06.253945Z",
     "iopub.status.busy": "2025-05-20T17:42:06.253702Z",
     "iopub.status.idle": "2025-05-20T17:42:07.394832Z",
     "shell.execute_reply": "2025-05-20T17:42:07.393964Z",
     "shell.execute_reply.started": "2025-05-20T17:42:06.253921Z"
    },
    "tags": []
   },
   "outputs": [],
   "source": [
    " #自定義 Dataset 類別\n",
    "import torch\n",
    "from torch.utils.data import Dataset\n",
    "from torchvision import transforms\n",
    "from PIL import Image\n",
    "import os\n",
    "\n",
    "from PIL import UnidentifiedImageError\n",
    "class DogBreedImageFolder(Dataset):\n",
    "    def __init__(self, root_dir, transform=None):\n",
    "        self.root_dir = root_dir\n",
    "        self.transform = transform\n",
    "        self.image_paths = []\n",
    "        self.labels = []\n",
    "\n",
    "        # 建立類別對應表：品種 → 數值 label\n",
    "        class_names = sorted(os.listdir(root_dir))\n",
    "        self.class_to_idx = {class_name: idx for idx, class_name in enumerate(class_names)}\n",
    "\n",
    "        for class_name in class_names:\n",
    "            class_folder = os.path.join(root_dir, class_name)\n",
    "            if not os.path.isdir(class_folder):\n",
    "                continue\n",
    "            for filename in os.listdir(class_folder):\n",
    "                if filename.endswith(('.jpg', '.png')):\n",
    "                    self.image_paths.append(os.path.join(class_folder, filename))\n",
    "                    self.labels.append(self.class_to_idx[class_name])\n",
    "\n",
    "    def __len__(self):\n",
    "        return len(self.image_paths)\n",
    "\n",
    "    def __getitem__(self, idx):\n",
    "        img_path = self.image_paths[idx]\n",
    "        label = self.labels[idx]\n",
    "        image = Image.open(img_path).convert(\"RGB\")\n",
    "        if self.transform:\n",
    "            image = self.transform(image)\n",
    "        return image, label"
   ]
  },
  {
   "cell_type": "code",
   "execution_count": 7,
   "id": "dbbeeba0-bf0d-4bd6-9a0d-970074bdae22",
   "metadata": {
    "execution": {
     "iopub.execute_input": "2025-05-20T17:42:07.396354Z",
     "iopub.status.busy": "2025-05-20T17:42:07.396122Z",
     "iopub.status.idle": "2025-05-20T17:42:07.401980Z",
     "shell.execute_reply": "2025-05-20T17:42:07.401422Z",
     "shell.execute_reply.started": "2025-05-20T17:42:07.396338Z"
    },
    "tags": []
   },
   "outputs": [],
   "source": [
    "# 定義 Transform\n",
    "from torchvision.transforms import RandomResizedCrop, RandomHorizontalFlip, ColorJitter, RandomRotation, ToTensor, Normalize\n",
    "\n",
    "train_transform = transforms.Compose([\n",
    "    transforms.RandomResizedCrop(224, scale=(0.6, 1.0)),\n",
    "    transforms.RandomHorizontalFlip(p=0.5),\n",
    "    transforms.RandomRotation(20),\n",
    "    transforms.ColorJitter(brightness=0.4, contrast=0.4, saturation=0.4, hue=0.1),\n",
    "    transforms.RandomAffine(degrees=10, translate=(0.1, 0.1)),\n",
    "    transforms.ToTensor(),\n",
    "    transforms.Normalize((0.485, 0.456, 0.406),\n",
    "                         (0.229, 0.224, 0.225)),\n",
    "])\n",
    "\n",
    "\n",
    "\n",
    "test_transform = transforms.Compose([\n",
    "    transforms.Resize((224, 224)),\n",
    "    transforms.ToTensor(),\n",
    "    transforms.Normalize((0.5,)*3, (0.5,)*3),\n",
    "])"
   ]
  },
  {
   "cell_type": "code",
   "execution_count": 8,
   "id": "23347d9e-a207-46c7-991b-7b7c9043c443",
   "metadata": {
    "execution": {
     "iopub.execute_input": "2025-05-20T17:42:07.402637Z",
     "iopub.status.busy": "2025-05-20T17:42:07.402479Z",
     "iopub.status.idle": "2025-05-20T17:42:07.442074Z",
     "shell.execute_reply": "2025-05-20T17:42:07.441260Z",
     "shell.execute_reply.started": "2025-05-20T17:42:07.402622Z"
    },
    "tags": []
   },
   "outputs": [
    {
     "name": "stdout",
     "output_type": "stream",
     "text": [
      "Train label distribution: Counter({97: 107, 11: 98, 42: 94, 73: 92, 1: 92, 87: 92, 94: 91, 100: 91, 75: 90, 13: 87, 69: 86, 52: 86, 3: 85, 9: 84, 7: 84, 61: 83, 109: 81, 117: 81, 26: 80, 6: 80, 68: 80, 93: 79, 88: 79, 59: 79, 101: 77, 30: 77, 60: 77, 2: 75, 55: 74, 80: 73, 84: 73, 70: 73, 67: 73, 90: 73, 19: 72, 78: 72, 10: 72, 82: 72, 102: 71, 14: 71, 15: 71, 17: 71, 71: 71, 56: 71, 64: 71, 62: 70, 20: 70, 79: 70, 104: 69, 35: 69, 91: 68, 28: 68, 37: 68, 110: 68, 54: 67, 39: 67, 107: 67, 33: 66, 5: 66, 40: 66, 95: 65, 63: 65, 116: 65, 111: 65, 86: 65, 4: 64, 115: 64, 57: 64, 25: 64, 118: 64, 8: 64, 114: 63, 77: 63, 53: 63, 76: 63, 92: 63, 58: 63, 119: 62, 74: 62, 51: 62, 50: 62, 72: 62, 0: 61, 89: 61, 21: 61, 96: 60, 36: 60, 18: 60, 24: 60, 27: 60, 98: 60, 12: 60, 41: 59, 16: 59, 31: 59, 66: 59, 81: 59, 34: 59, 47: 58, 44: 58, 105: 57, 108: 57, 112: 57, 103: 56, 45: 56, 46: 56, 83: 56, 32: 56, 106: 55, 99: 54, 38: 54, 85: 54, 22: 54, 43: 53, 48: 53, 29: 52, 49: 52, 23: 50, 113: 50, 65: 46})\n",
      "Val label distribution: Counter({98: 28, 86: 27, 109: 26, 7: 26, 26: 26, 73: 25, 52: 25, 1: 24, 84: 23, 96: 22, 114: 22, 61: 22, 99: 22, 6: 22, 3: 22, 80: 22, 59: 22, 105: 22, 42: 21, 95: 21, 63: 21, 9: 21, 33: 21, 65: 21, 85: 21, 92: 21, 31: 21, 100: 21, 119: 20, 17: 20, 93: 20, 69: 20, 35: 20, 38: 20, 53: 19, 97: 19, 113: 19, 29: 19, 87: 19, 102: 19, 50: 19, 68: 19, 39: 19, 78: 19, 81: 19, 0: 19, 118: 18, 101: 18, 57: 18, 94: 18, 74: 18, 32: 18, 8: 18, 12: 17, 55: 17, 47: 17, 70: 17, 40: 17, 106: 17, 56: 17, 10: 17, 20: 16, 27: 16, 48: 16, 30: 16, 76: 16, 36: 16, 23: 16, 116: 16, 41: 16, 11: 16, 13: 15, 115: 15, 88: 15, 90: 15, 54: 15, 28: 15, 18: 15, 103: 15, 58: 15, 60: 15, 19: 15, 49: 15, 77: 15, 82: 15, 111: 14, 44: 14, 117: 14, 45: 14, 15: 14, 14: 14, 21: 14, 24: 13, 43: 13, 112: 13, 46: 13, 34: 13, 83: 13, 51: 13, 22: 13, 79: 13, 16: 13, 110: 12, 5: 12, 108: 12, 75: 12, 66: 12, 37: 12, 72: 11, 89: 11, 62: 11, 25: 11, 107: 11, 64: 11, 67: 11, 2: 11, 104: 10, 4: 10, 71: 10, 91: 8})\n"
     ]
    }
   ],
   "source": [
    "# 建立 Dataset 與切分\n",
    "from torch.utils.data import random_split, DataLoader, WeightedRandomSampler\n",
    "import collections\n",
    "from collections import Counter\n",
    "\n",
    "# 讀取分類後資料\n",
    "dataset = DogBreedImageFolder(\"dog_images/train\", transform=train_transform)\n",
    "\n",
    "# 計算資料數量與切分比例\n",
    "val_ratio = 0.2\n",
    "val_size = int(len(dataset) * val_ratio)\n",
    "train_size = len(dataset) - val_size\n",
    "train_dataset, val_dataset = random_split(dataset, [train_size, val_size])\n",
    "\n",
    "# 取得 training set 的原始 indices\n",
    "train_indices = train_dataset.indices  # 是 dataset 中對應的索引\n",
    "train_labels = [dataset.labels[i] for i in train_indices]\n",
    "\n",
    "# 計算類別樣本數與每個 sample 權重\n",
    "label_counts = Counter(train_labels)\n",
    "class_sample_counts = [label_counts[i] for i in range(len(label_counts))]\n",
    "sample_weights = [1.0 / class_sample_counts[label] for label in train_labels]\n",
    "\n",
    "# 建立 WeightedRandomSampler\n",
    "sampler = WeightedRandomSampler(weights=sample_weights, num_samples=len(sample_weights), replacement=True)\n",
    "\n",
    "train_loader = DataLoader(train_dataset, batch_size=32, shuffle=True, num_workers=2)\n",
    "val_loader = DataLoader(val_dataset, batch_size=32, shuffle=False, num_workers=2)\n",
    "\n",
    "# 顯示類別分布（驗證分布仍可看是否合理）\n",
    "val_labels = [dataset.labels[i] for i in val_dataset.indices]\n",
    "print(\"Train label distribution:\", Counter(train_labels))\n",
    "print(\"Val label distribution:\", Counter(val_labels))\n"
   ]
  },
  {
   "cell_type": "code",
   "execution_count": 9,
   "id": "642563ca-8cb7-4029-a485-77bd5307ced0",
   "metadata": {
    "execution": {
     "iopub.execute_input": "2025-05-20T17:42:07.442743Z",
     "iopub.status.busy": "2025-05-20T17:42:07.442575Z",
     "iopub.status.idle": "2025-05-20T17:42:08.487986Z",
     "shell.execute_reply": "2025-05-20T17:42:08.486365Z",
     "shell.execute_reply.started": "2025-05-20T17:42:07.442729Z"
    },
    "tags": []
   },
   "outputs": [
    {
     "name": "stdout",
     "output_type": "stream",
     "text": [
      "Images shape: torch.Size([32, 3, 224, 224])\n",
      "Labels shape: torch.Size([32])\n"
     ]
    }
   ],
   "source": [
    "#驗證資料載入\n",
    "# 驗證一個 batch\n",
    "for images, labels in train_loader:\n",
    "    print(\"Images shape:\", images.shape)  # [B, 3, 224, 224]\n",
    "    print(\"Labels shape:\", labels.shape)  # [B]\n",
    "    break"
   ]
  },
  {
   "cell_type": "code",
   "execution_count": 10,
   "id": "e2d5cb3c-7f1e-44bf-b0cc-5169d3d827d0",
   "metadata": {
    "execution": {
     "iopub.execute_input": "2025-05-20T17:42:08.490498Z",
     "iopub.status.busy": "2025-05-20T17:42:08.489937Z",
     "iopub.status.idle": "2025-05-20T17:42:10.200467Z",
     "shell.execute_reply": "2025-05-20T17:42:10.199624Z",
     "shell.execute_reply.started": "2025-05-20T17:42:08.490442Z"
    },
    "tags": []
   },
   "outputs": [
    {
     "name": "stderr",
     "output_type": "stream",
     "text": [
      "Clipping input data to the valid range for imshow with RGB data ([0..1] for floats or [0..255] for integers).\n"
     ]
    },
    {
     "data": {
      "image/png": "[encoded data removed]",
      "text/plain": [
       "<Figure size 640x480 with 1 Axes>"
      ]
     },
     "metadata": {},
     "output_type": "display_data"
    }
   ],
   "source": [
    "# 如果需要視覺化一個 batch\n",
    "import matplotlib.pyplot as plt\n",
    "def show_batch(loader):\n",
    "    images, labels = next(iter(loader))\n",
    "    img = images[0].permute(1, 2, 0).numpy()\n",
    "    plt.imshow(img)\n",
    "    plt.title(f\"Label: {labels[0]}\")\n",
    "    plt.show()\n",
    "\n",
    "show_batch(train_loader)"
   ]
  },
  {
   "cell_type": "code",
   "execution_count": 11,
   "id": "ec9f933f-3899-451f-acbf-7106f77d98a4",
   "metadata": {
    "execution": {
     "iopub.execute_input": "2025-05-20T17:42:10.201498Z",
     "iopub.status.busy": "2025-05-20T17:42:10.201264Z",
     "iopub.status.idle": "2025-05-20T17:42:10.275753Z",
     "shell.execute_reply": "2025-05-20T17:42:10.274915Z",
     "shell.execute_reply.started": "2025-05-20T17:42:10.201481Z"
    },
    "tags": []
   },
   "outputs": [],
   "source": [
    "import gc\n",
    "import torch\n",
    "\n",
    "gc.collect()\n",
    "torch.cuda.empty_cache()\n"
   ]
  },
  {
   "cell_type": "code",
   "execution_count": 12,
   "id": "b793fc78-ed65-466b-b81a-f2cfc6eff30b",
   "metadata": {
    "execution": {
     "iopub.execute_input": "2025-05-20T17:42:10.276472Z",
     "iopub.status.busy": "2025-05-20T17:42:10.276322Z",
     "iopub.status.idle": "2025-05-20T17:42:14.407051Z",
     "shell.execute_reply": "2025-05-20T17:42:14.405968Z",
     "shell.execute_reply.started": "2025-05-20T17:42:10.276458Z"
    },
    "tags": []
   },
   "outputs": [
    {
     "name": "stdout",
     "output_type": "stream",
     "text": [
      "Collecting timm\n",
      "  Using cached timm-1.0.15-py3-none-any.whl (2.4 MB)\n",
      "Requirement already satisfied: huggingface_hub in /opt/conda/lib/python3.9/site-packages (from timm) (0.30.2)\n",
      "Requirement already satisfied: torchvision in /opt/conda/lib/python3.9/site-packages (from timm) (0.14.1)\n",
      "Requirement already satisfied: pyyaml in /opt/conda/lib/python3.9/site-packages (from timm) (6.0)\n",
      "Collecting safetensors\n",
      "  Using cached safetensors-0.5.3-cp38-abi3-manylinux_2_17_x86_64.manylinux2014_x86_64.whl (471 kB)\n",
      "Requirement already satisfied: torch in /opt/conda/lib/python3.9/site-packages (from timm) (1.13.1)\n",
      "Requirement already satisfied: typing-extensions>=3.7.4.3 in /opt/conda/lib/python3.9/site-packages (from huggingface_hub->timm) (4.13.2)\n",
      "Requirement already satisfied: tqdm>=4.42.1 in /opt/conda/lib/python3.9/site-packages (from huggingface_hub->timm) (4.64.1)\n",
      "Requirement already satisfied: fsspec>=2023.5.0 in /opt/conda/lib/python3.9/site-packages (from huggingface_hub->timm) (2025.3.2)\n",
      "Requirement already satisfied: packaging>=20.9 in /opt/conda/lib/python3.9/site-packages (from huggingface_hub->timm) (24.2)\n",
      "Requirement already satisfied: filelock in /opt/conda/lib/python3.9/site-packages (from huggingface_hub->timm) (3.17.0)\n",
      "Requirement already satisfied: requests in /opt/conda/lib/python3.9/site-packages (from huggingface_hub->timm) (2.32.3)\n",
      "Requirement already satisfied: nvidia-cublas-cu11==11.10.3.66 in /opt/conda/lib/python3.9/site-packages (from torch->timm) (11.10.3.66)\n",
      "Requirement already satisfied: nvidia-cuda-runtime-cu11==11.7.99 in /opt/conda/lib/python3.9/site-packages (from torch->timm) (11.7.99)\n",
      "Requirement already satisfied: nvidia-cuda-nvrtc-cu11==11.7.99 in /opt/conda/lib/python3.9/site-packages (from torch->timm) (11.7.99)\n",
      "Requirement already satisfied: nvidia-cudnn-cu11==8.5.0.96 in /opt/conda/lib/python3.9/site-packages (from torch->timm) (8.5.0.96)\n",
      "Requirement already satisfied: setuptools in /opt/conda/lib/python3.9/site-packages (from nvidia-cublas-cu11==11.10.3.66->torch->timm) (65.4.1)\n",
      "Requirement already satisfied: wheel in /opt/conda/lib/python3.9/site-packages (from nvidia-cublas-cu11==11.10.3.66->torch->timm) (0.37.1)\n",
      "Requirement already satisfied: pillow!=8.3.*,>=5.3.0 in /opt/conda/lib/python3.9/site-packages (from torchvision->timm) (9.4.0)\n",
      "Requirement already satisfied: numpy in /opt/conda/lib/python3.9/site-packages (from torchvision->timm) (1.23.3)\n",
      "Requirement already satisfied: urllib3<3,>=1.21.1 in /opt/conda/lib/python3.9/site-packages (from requests->huggingface_hub->timm) (2.4.0)\n",
      "Requirement already satisfied: charset-normalizer<4,>=2 in /opt/conda/lib/python3.9/site-packages (from requests->huggingface_hub->timm) (2.1.1)\n",
      "Requirement already satisfied: idna<4,>=2.5 in /opt/conda/lib/python3.9/site-packages (from requests->huggingface_hub->timm) (3.4)\n",
      "Requirement already satisfied: certifi>=2017.4.17 in /opt/conda/lib/python3.9/site-packages (from requests->huggingface_hub->timm) (2025.1.31)\n",
      "Installing collected packages: safetensors, timm\n",
      "Successfully installed safetensors-0.5.3 timm-1.0.15\n",
      "\u001b[33mWARNING: Running pip as the 'root' user can result in broken permissions and conflicting behaviour with the system package manager. It is recommended to use a virtual environment instead: https://pip.pypa.io/warnings/venv\u001b[0m\u001b[33m\n",
      "\u001b[0m"
     ]
    }
   ],
   "source": [
    "!pip install timm\n"
   ]
  },
  {
   "cell_type": "code",
   "execution_count": 13,
   "id": "414540cd-824c-4fd0-8866-2d506f86b17c",
   "metadata": {
    "execution": {
     "iopub.execute_input": "2025-05-20T17:42:14.410177Z",
     "iopub.status.busy": "2025-05-20T17:42:14.409921Z",
     "iopub.status.idle": "2025-05-20T17:42:17.355569Z",
     "shell.execute_reply": "2025-05-20T17:42:17.354751Z",
     "shell.execute_reply.started": "2025-05-20T17:42:14.410152Z"
    },
    "tags": []
   },
   "outputs": [
    {
     "name": "stderr",
     "output_type": "stream",
     "text": [
      "/opt/conda/lib/python3.9/site-packages/timm/models/_factory.py:126: UserWarning: Mapping deprecated model name xception to current legacy_xception.\n",
      "  model = create_fn(\n"
     ]
    }
   ],
   "source": [
    "import torch\n",
    "import torch.nn as nn\n",
    "import torchvision.models as models\n",
    "\n",
    "num_classes = 120  # Dog Breed Identification 有 120 類別\n",
    "device = torch.device(\"cuda\" if torch.cuda.is_available() else \"cpu\")\n",
    "\n",
    "import timm\n",
    "\n",
    "# timm 中的 xception 模型，使用預訓練權重\n",
    "model = timm.create_model('xception', pretrained=True, num_classes=num_classes)\n",
    "\n",
    "\n",
    "# 搬移到裝置（GPU 或 CPU）\n",
    "model = model.to(device)"
   ]
  },
  {
   "cell_type": "code",
   "execution_count": 14,
   "id": "ac519f99-2c79-4f8d-bfb1-0943e5807ca6",
   "metadata": {
    "execution": {
     "iopub.execute_input": "2025-05-20T17:42:17.366459Z",
     "iopub.status.busy": "2025-05-20T17:42:17.366267Z",
     "iopub.status.idle": "2025-05-20T17:42:17.374705Z",
     "shell.execute_reply": "2025-05-20T17:42:17.374019Z",
     "shell.execute_reply.started": "2025-05-20T17:42:17.366438Z"
    },
    "tags": []
   },
   "outputs": [],
   "source": [
    "from torch.optim import AdamW\n",
    "from torch.optim.lr_scheduler import LinearLR\n",
    "num_epochs = 30\n",
    "# 1. 計算 class weights（根據整體 dataset 分布）\n",
    "from collections import Counter\n",
    "\n",
    "label_counts = Counter(dataset.labels)\n",
    "num_classes = 120\n",
    "class_counts = [label_counts[i] for i in range(num_classes)]\n",
    "\n",
    "# 權重：類別樣本越少，損失權重越高\n",
    "weights = [1.0 / c for c in class_counts]\n",
    "weights = torch.tensor(weights, dtype=torch.float).to(device)\n",
    "\n",
    "# 2. 使用 CrossEntropy + class weights + label smoothing\n",
    "criterion = nn.CrossEntropyLoss(weight=weights, label_smoothing=0.1)\n",
    "\n",
    "# 3. 使用 AdamW 優化器\n",
    "optimizer = AdamW(model.parameters(), lr=1e-4, weight_decay=1e-5)\n",
    "\n",
    "\n",
    "import torch.optim as optim\n",
    "from torch.optim.lr_scheduler import CosineAnnealingLR\n",
    "\n",
    "scheduler = CosineAnnealingLR(optimizer, T_max=10)"
   ]
  },
  {
   "cell_type": "code",
   "execution_count": 15,
   "id": "25cf8137-76e5-484b-95d2-fbf22792cd72",
   "metadata": {
    "execution": {
     "iopub.execute_input": "2025-05-20T17:42:17.375614Z",
     "iopub.status.busy": "2025-05-20T17:42:17.375395Z",
     "iopub.status.idle": "2025-05-20T18:25:28.944200Z",
     "shell.execute_reply": "2025-05-20T18:25:28.943013Z",
     "shell.execute_reply.started": "2025-05-20T17:42:17.375586Z"
    },
    "tags": []
   },
   "outputs": [
    {
     "name": "stdout",
     "output_type": "stream",
     "text": [
      "Epoch 1/30, Loss: 3.2215, Accuracy: 50.81%\n"
     ]
    },
    {
     "name": "stderr",
     "output_type": "stream",
     "text": [
      "/opt/conda/lib/python3.9/site-packages/torch/optim/lr_scheduler.py:163: UserWarning: The epoch parameter in `scheduler.step()` was not necessary and is being deprecated where possible. Please use `scheduler.step()` to step the scheduler. During the deprecation, if epoch is different from None, the closed form is used instead of the new chainable form, where available. Please open an issue if you are unable to replicate your use case: https://github.com/pytorch/pytorch/issues/new/choose.\n",
      "  warnings.warn(EPOCH_DEPRECATION_WARNING, UserWarning)\n"
     ]
    },
    {
     "name": "stdout",
     "output_type": "stream",
     "text": [
      "Validation Loss: 1.9449, Validation Accuracy: 72.70%\n",
      "Epoch 2/30, Loss: 1.6890, Accuracy: 77.62%\n",
      "Validation Loss: 1.5554, Validation Accuracy: 76.27%\n",
      "Epoch 3/30, Loss: 1.3840, Accuracy: 84.12%\n",
      "Validation Loss: 1.5191, Validation Accuracy: 76.61%\n",
      "Epoch 4/30, Loss: 1.2398, Accuracy: 88.51%\n",
      "Validation Loss: 1.4577, Validation Accuracy: 79.99%\n",
      "Epoch 5/30, Loss: 1.1456, Accuracy: 91.42%\n",
      "Validation Loss: 1.4555, Validation Accuracy: 79.70%\n",
      "Epoch 6/30, Loss: 1.0852, Accuracy: 94.12%\n",
      "Validation Loss: 1.4425, Validation Accuracy: 80.38%\n",
      "Epoch 7/30, Loss: 1.0405, Accuracy: 95.38%\n",
      "Validation Loss: 1.4516, Validation Accuracy: 79.50%\n",
      "Epoch 8/30, Loss: 1.0074, Accuracy: 96.32%\n",
      "Validation Loss: 1.4191, Validation Accuracy: 80.82%\n",
      "Epoch 9/30, Loss: 0.9811, Accuracy: 97.75%\n",
      "Validation Loss: 1.4500, Validation Accuracy: 80.33%\n",
      "Epoch 10/30, Loss: 0.9746, Accuracy: 97.59%\n",
      "Validation Loss: 1.4471, Validation Accuracy: 81.21%\n",
      "Epoch 11/30, Loss: 0.9632, Accuracy: 97.85%\n",
      "Validation Loss: 1.4424, Validation Accuracy: 80.68%\n",
      "Epoch 12/30, Loss: 0.9692, Accuracy: 97.58%\n",
      "Validation Loss: 1.4497, Validation Accuracy: 80.53%\n",
      "Epoch 13/30, Loss: 0.9634, Accuracy: 98.08%\n",
      "Validation Loss: 1.4555, Validation Accuracy: 80.04%\n",
      "Epoch 14/30, Loss: 0.9649, Accuracy: 97.81%\n",
      "Validation Loss: 1.4497, Validation Accuracy: 79.75%\n",
      "Epoch 15/30, Loss: 0.9617, Accuracy: 97.86%\n",
      "Validation Loss: 1.4397, Validation Accuracy: 81.07%\n",
      "Epoch 16/30, Loss: 0.9619, Accuracy: 97.88%\n",
      "Validation Loss: 1.4341, Validation Accuracy: 81.85%\n",
      "Epoch 17/30, Loss: 0.9518, Accuracy: 98.18%\n",
      "Validation Loss: 1.4800, Validation Accuracy: 79.50%\n",
      "Epoch 18/30, Loss: 0.9586, Accuracy: 97.91%\n",
      "Validation Loss: 1.5171, Validation Accuracy: 78.72%\n",
      "Epoch 19/30, Loss: 0.9614, Accuracy: 97.71%\n",
      "Validation Loss: 1.5203, Validation Accuracy: 78.86%\n",
      "Epoch 20/30, Loss: 0.9578, Accuracy: 97.88%\n",
      "Validation Loss: 1.5337, Validation Accuracy: 78.33%\n",
      "Epoch 21/30, Loss: 0.9631, Accuracy: 97.64%\n",
      "Validation Loss: 1.5156, Validation Accuracy: 78.86%\n",
      "Epoch 22/30, Loss: 0.9558, Accuracy: 97.80%\n",
      "Validation Loss: 1.5473, Validation Accuracy: 77.64%\n",
      "Epoch 23/30, Loss: 0.9361, Accuracy: 98.48%\n",
      "Validation Loss: 1.5722, Validation Accuracy: 77.59%\n",
      "Epoch 24/30, Loss: 0.9286, Accuracy: 98.57%\n",
      "Validation Loss: 1.5462, Validation Accuracy: 78.57%\n",
      "Epoch 25/30, Loss: 0.9168, Accuracy: 98.70%\n",
      "Validation Loss: 1.5440, Validation Accuracy: 79.06%\n",
      "Epoch 26/30, Loss: 0.9022, Accuracy: 99.05%\n",
      "Validation Loss: 1.5355, Validation Accuracy: 78.72%\n",
      "Epoch 27/30, Loss: 0.8897, Accuracy: 99.41%\n",
      "Validation Loss: 1.5300, Validation Accuracy: 79.79%\n",
      "Epoch 28/30, Loss: 0.8830, Accuracy: 99.45%\n",
      "Validation Loss: 1.5075, Validation Accuracy: 79.35%\n",
      "Epoch 29/30, Loss: 0.8755, Accuracy: 99.58%\n",
      "Validation Loss: 1.5325, Validation Accuracy: 80.14%\n",
      "Epoch 30/30, Loss: 0.8703, Accuracy: 99.61%\n",
      "Validation Loss: 1.5146, Validation Accuracy: 80.19%\n"
     ]
    }
   ],
   "source": [
    "\n",
    "for epoch in range(num_epochs):\n",
    "    model.train()  # 訓練模式\n",
    "    running_loss = 0.0\n",
    "    correct = 0\n",
    "    total = 0\n",
    "\n",
    "    for images, labels in train_loader:\n",
    "        images, labels = images.to(device), labels.to(device)\n",
    "\n",
    "        # 清零梯度\n",
    "        optimizer.zero_grad()\n",
    "\n",
    "        # 前向傳播\n",
    "        outputs = model(images)\n",
    "        loss = criterion(outputs, labels)\n",
    "\n",
    "        # 反向傳播\n",
    "        loss.backward()\n",
    "        optimizer.step()\n",
    "\n",
    "        running_loss += loss.item()\n",
    "\n",
    "        # 計算準確率\n",
    "        _, predicted = torch.max(outputs, 1)\n",
    "        total += labels.size(0)\n",
    "        correct += (predicted == labels).sum().item()\n",
    "\n",
    "    # 更新學習率\n",
    "    scheduler.step(epoch)\n",
    "\n",
    "\n",
    "    epoch_loss = running_loss / len(train_loader)\n",
    "    epoch_accuracy = 100 * correct / total\n",
    "\n",
    "    print(f\"Epoch {epoch+1}/{num_epochs}, Loss: {epoch_loss:.4f}, Accuracy: {epoch_accuracy:.2f}%\")\n",
    "\n",
    "    # 在每個 epoch 結束後評估模型在驗證集上的表現\n",
    "    model.eval()  # 評估模式\n",
    "    val_loss = 0.0\n",
    "    correct = 0\n",
    "    total = 0\n",
    "\n",
    "    with torch.no_grad():\n",
    "        for images, labels in val_loader:\n",
    "            images, labels = images.to(device), labels.to(device)\n",
    "\n",
    "            outputs = model(images)\n",
    "            loss = criterion(outputs, labels)\n",
    "\n",
    "            val_loss += loss.item()\n",
    "\n",
    "            _, predicted = torch.max(outputs, 1)\n",
    "            total += labels.size(0)\n",
    "            correct += (predicted == labels).sum().item()\n",
    "\n",
    "    val_loss /= len(val_loader)\n",
    "    val_accuracy = 100 * correct / total\n",
    "\n",
    "    print(f\"Validation Loss: {val_loss:.4f}, Validation Accuracy: {val_accuracy:.2f}%\")\n"
   ]
  },
  {
   "cell_type": "code",
   "execution_count": 16,
   "id": "8d306abf-c908-4307-afa8-ffd890aee88f",
   "metadata": {
    "execution": {
     "iopub.execute_input": "2025-05-20T18:25:28.945644Z",
     "iopub.status.busy": "2025-05-20T18:25:28.945352Z",
     "iopub.status.idle": "2025-05-20T18:25:29.185456Z",
     "shell.execute_reply": "2025-05-20T18:25:29.184142Z",
     "shell.execute_reply.started": "2025-05-20T18:25:28.945619Z"
    },
    "tags": []
   },
   "outputs": [],
   "source": [
    "# 保存訓練後的模型\n",
    "torch.save(model.state_dict(), \"dog_breed_model.pth\")\n"
   ]
  },
  {
   "cell_type": "code",
   "execution_count": 17,
   "id": "bd237980-ad71-4780-8b12-3bf900b5abf9",
   "metadata": {
    "execution": {
     "iopub.execute_input": "2025-05-20T18:25:29.187284Z",
     "iopub.status.busy": "2025-05-20T18:25:29.186883Z",
     "iopub.status.idle": "2025-05-20T18:25:48.785921Z",
     "shell.execute_reply": "2025-05-20T18:25:48.784589Z",
     "shell.execute_reply.started": "2025-05-20T18:25:29.187249Z"
    },
    "tags": []
   },
   "outputs": [
    {
     "name": "stdout",
     "output_type": "stream",
     "text": [
      "Test Accuracy: 79.89%\n"
     ]
    }
   ],
   "source": [
    "# 測試集的評估\n",
    "test_accuracy = 0\n",
    "with torch.no_grad():\n",
    "    for images, labels in val_loader:\n",
    "        images, labels = images.to(device), labels.to(device)\n",
    "\n",
    "        outputs = model(images)\n",
    "        _, predicted = torch.max(outputs, 1)\n",
    "\n",
    "        test_accuracy += (predicted == labels).sum().item()\n",
    "\n",
    "test_accuracy = 100 * test_accuracy / len(val_dataset)\n",
    "print(f\"Test Accuracy: {test_accuracy:.2f}%\")\n",
    "\n",
    "import os"
   ]
  },
  {
   "cell_type": "code",
   "execution_count": 18,
   "id": "7ca7a9f2-4bb1-49ac-a672-b956ac8f78d3",
   "metadata": {
    "execution": {
     "iopub.execute_input": "2025-05-20T18:25:48.787568Z",
     "iopub.status.busy": "2025-05-20T18:25:48.787287Z",
     "iopub.status.idle": "2025-05-20T18:25:48.795891Z",
     "shell.execute_reply": "2025-05-20T18:25:48.794949Z",
     "shell.execute_reply.started": "2025-05-20T18:25:48.787542Z"
    },
    "tags": []
   },
   "outputs": [],
   "source": [
    "from PIL import Image\n",
    "from torch.utils.data import Dataset, DataLoader\n",
    "from torchvision import transforms\n",
    "\n",
    "class TestImageDataset(Dataset):\n",
    "    def __init__(self, image_folder, transform=None):\n",
    "        self.image_folder = image_folder\n",
    "        self.image_filenames = sorted(os.listdir(image_folder))\n",
    "        self.transform = transform\n",
    "\n",
    "    def __len__(self):\n",
    "        return len(self.image_filenames)\n",
    "\n",
    "    def __getitem__(self, idx):\n",
    "        img_name = self.image_filenames[idx]\n",
    "        img_path = os.path.join(self.image_folder, img_name)\n",
    "        image = Image.open(img_path).convert('RGB')\n",
    "        if self.transform:\n",
    "            image = self.transform(image)\n",
    "        return image, img_name.split('.')[0]  # 傳回 image tensor 和 id（"
   ]
  },
  {
   "cell_type": "code",
   "execution_count": 19,
   "id": "b1813979-8cf3-431f-9fad-e31e729a397a",
   "metadata": {
    "execution": {
     "iopub.execute_input": "2025-05-20T18:25:48.796918Z",
     "iopub.status.busy": "2025-05-20T18:25:48.796697Z",
     "iopub.status.idle": "2025-05-20T18:25:48.919363Z",
     "shell.execute_reply": "2025-05-20T18:25:48.917847Z",
     "shell.execute_reply.started": "2025-05-20T18:25:48.796898Z"
    },
    "tags": []
   },
   "outputs": [],
   "source": [
    "# 取得所有類別名稱，需排序以符合 submission 格式\n",
    "all_breeds = sorted(dataset.class_to_idx.keys())\n",
    "\n",
    "# 建立 mapping\n",
    "idx_to_class = {v: k for k, v in dataset.class_to_idx.items()}\n",
    "# 修正 Test transform 使用與訓練相同的 ImageNet 格式\n",
    "test_transform = transforms.Compose([\n",
    "    transforms.Resize((224, 224)),\n",
    "    transforms.ToTensor(),\n",
    "    transforms.Normalize((0.485, 0.456, 0.406),  # 與訓練相同\n",
    "                         (0.229, 0.224, 0.225))\n",
    "])\n",
    "\n",
    "\n",
    "# 設定測試資料夾路徑\n",
    "test_folder = 'dog-breed-identification/test'  # 請確認實際位置\n",
    "\n",
    "# 建立 DataLoader\n",
    "test_dataset = TestImageDataset(test_folder, transform=test_transform)\n",
    "test_loader = DataLoader(test_dataset, batch_size=64, shuffle=False)\n",
    "\n",
    "# 建立 DataFrame 儲存預測結果\n",
    "results = []"
   ]
  },
  {
   "cell_type": "code",
   "execution_count": 20,
   "id": "016331d2-68f7-459b-bdfb-ffaf026869c0",
   "metadata": {
    "execution": {
     "iopub.execute_input": "2025-05-20T18:25:48.921836Z",
     "iopub.status.busy": "2025-05-20T18:25:48.921221Z",
     "iopub.status.idle": "2025-05-20T18:42:41.886325Z",
     "shell.execute_reply": "2025-05-20T18:42:41.885248Z",
     "shell.execute_reply.started": "2025-05-20T18:25:48.921783Z"
    },
    "tags": []
   },
   "outputs": [
    {
     "name": "stdout",
     "output_type": "stream",
     "text": [
      "✅ submission1.csv 轉換完成，可上傳至 Kaggle！\n"
     ]
    }
   ],
   "source": [
    "with torch.no_grad():\n",
    "    for inputs, image_ids in test_loader:\n",
    "        inputs = inputs.to(device)\n",
    "        outputs = model(inputs)\n",
    "        _, preds = torch.max(outputs, 1)\n",
    "        for img_id, pred in zip(image_ids, preds.cpu()):\n",
    "            breed = idx_to_class[pred.item()]\n",
    "            row = {\"id\": img_id}\n",
    "            for b in all_breeds:\n",
    "                row[b] = 1 if b == breed else 0\n",
    "            results.append(row)\n",
    "\n",
    "# 輸出為符合要求的 CSV\n",
    "df = pd.DataFrame(results)\n",
    "df.to_csv(\"submission3.csv\", index=False)\n",
    "print(\"✅ submission1.csv 轉換完成，可上傳至 Kaggle！\")"
   ]
  },
  {
   "cell_type": "code",
   "execution_count": null,
   "id": "1c3d06b3-47b2-495e-a7f4-7479bdf13961",
   "metadata": {},
   "outputs": [],
   "source": []
  },
  {
   "cell_type": "code",
   "execution_count": null,
   "id": "0bb9b984-5dde-417b-b18e-729bb2a54263",
   "metadata": {},
   "outputs": [],
   "source": []
  }
 ],
 "metadata": {
  "kernelspec": {
   "display_name": "Python 3 (ipykernel)",
   "language": "python",
   "name": "python3"
  },
  "language_info": {
   "codemirror_mode": {
    "name": "ipython",
    "version": 3
   },
   "file_extension": ".py",
   "mimetype": "text/x-python",
   "name": "python",
   "nbconvert_exporter": "python",
   "pygments_lexer": "ipython3",
   "version": "3.9.13"
  }
 },
 "nbformat": 4,
 "nbformat_minor": 5
}
