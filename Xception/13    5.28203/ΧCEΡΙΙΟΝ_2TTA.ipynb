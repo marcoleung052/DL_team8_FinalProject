{
 "cells": [
  {
   "cell_type": "code",
   "execution_count": 1,
   "id": "19dd142d-af4f-4cc4-a737-cb5cf859e92e",
   "metadata": {
    "execution": {
     "iopub.execute_input": "2025-05-24T12:53:57.759930Z",
     "iopub.status.busy": "2025-05-24T12:53:57.758632Z",
     "iopub.status.idle": "2025-05-24T12:53:57.881265Z",
     "shell.execute_reply": "2025-05-24T12:53:57.879983Z",
     "shell.execute_reply.started": "2025-05-24T12:53:57.759865Z"
    },
    "tags": []
   },
   "outputs": [
    {
     "data": {
      "application/vnd.jupyter.widget-view+json": {
       "model_id": "b544b52454cf46c1b61e25c82603b5a7",
       "version_major": 2,
       "version_minor": 0
      },
      "text/plain": [
       "FileUpload(value=(), description='Upload')"
      ]
     },
     "metadata": {},
     "output_type": "display_data"
    }
   ],
   "source": [
    "from IPython.display import display\n",
    "import os\n",
    "\n",
    "# 上傳檔案（會跳出檔案選擇器）\n",
    "from ipywidgets import FileUpload\n",
    "\n",
    "upload = FileUpload()\n",
    "display(upload)"
   ]
  },
  {
   "cell_type": "code",
   "execution_count": 2,
   "id": "172906a3-1dd5-4484-a903-2877d1e50ebc",
   "metadata": {
    "execution": {
     "iopub.execute_input": "2025-05-24T12:54:04.670727Z",
     "iopub.status.busy": "2025-05-24T12:54:04.669634Z",
     "iopub.status.idle": "2025-05-24T12:54:04.690715Z",
     "shell.execute_reply": "2025-05-24T12:54:04.689280Z",
     "shell.execute_reply.started": "2025-05-24T12:54:04.670668Z"
    },
    "tags": []
   },
   "outputs": [
    {
     "name": "stdout",
     "output_type": "stream",
     "text": [
      "{'name': 'kaggle.json', 'type': 'application/json', 'size': 64, 'content': <memory at 0x75364cce5d00>, 'last_modified': datetime.datetime(2025, 4, 21, 6, 7, 11, 972000, tzinfo=datetime.timezone.utc)}\n",
      "kaggle.json 已成功儲存至 /home/jovyan/.kaggle/kaggle.json\n"
     ]
    }
   ],
   "source": [
    "import os\n",
    "from pathlib import Path\n",
    "\n",
    "# 假設你只上傳了一個檔案\n",
    "fileinfo = upload.value[0]  # 通常是一個 dict，含 'name' 和 'content'\n",
    "\n",
    "# 顯示內容結構（除錯用）\n",
    "print(fileinfo)\n",
    "\n",
    "# 儲存 kaggle.json\n",
    "filename = fileinfo['name']\n",
    "content = fileinfo['content']\n",
    "\n",
    "kaggle_dir = Path.home() / \".kaggle\"\n",
    "kaggle_dir.mkdir(exist_ok=True)\n",
    "\n",
    "kaggle_json_path = kaggle_dir / \"kaggle.json\"\n",
    "with open(kaggle_json_path, \"wb\") as f:\n",
    "    f.write(content)\n",
    "\n",
    "# 設定權限（Linux/macOS 建議）\n",
    "os.chmod(kaggle_json_path, 0o600)\n",
    "\n",
    "print(f\"{filename} 已成功儲存至 {kaggle_json_path}\")"
   ]
  },
  {
   "cell_type": "code",
   "execution_count": 3,
   "id": "e13e384c-f12d-4c02-b891-80542dd9a6db",
   "metadata": {
    "execution": {
     "iopub.execute_input": "2025-05-24T12:54:05.131303Z",
     "iopub.status.busy": "2025-05-24T12:54:05.130208Z",
     "iopub.status.idle": "2025-05-24T12:54:06.070023Z",
     "shell.execute_reply": "2025-05-24T12:54:06.068346Z",
     "shell.execute_reply.started": "2025-05-24T12:54:05.131245Z"
    },
    "tags": []
   },
   "outputs": [
    {
     "name": "stdout",
     "output_type": "stream",
     "text": [
      "ref                                                     title                                                  size  lastUpdated                 downloadCount  voteCount  usabilityRating  \n",
      "------------------------------------------------------  ----------------------------------------------  -----------  --------------------------  -------------  ---------  ---------------  \n",
      "fedesoriano/cifar100                                    CIFAR-100 Python                                  168517809  2020-12-26 08:37:10.143000          12294        176  1.0              \n",
      "pankrzysiu/cifar10-python                               CIFAR-10 Python                                   340613496  2018-01-27 13:42:40.967000          14827        252  0.75             \n",
      "petitbonney/cifar10-image-recognition                   CIFAR-10                                         1007971063  2019-10-01 12:50:23.227000           2886         27  0.8235294        \n",
      "valentynsichkar/cifar10-preprocessed                    CIFAR10 Preprocessed                             1227571899  2019-07-13 13:43:11                  3368         64  1.0              \n",
      "swaroopkml/cifar10-pngs-in-folders                      CIFAR-10 PNGs in folders                          293479104  2019-02-10 11:16:19.507000          13492         96  0.6875           \n",
      "fedesoriano/cifar10-python-in-csv                       CIFAR-10 Python in CSV                            218807675  2021-06-22 09:07:55                  7057         53  1.0              \n",
      "ayush1220/cifar10                                       CIFAR-10                                          146259525  2022-01-11 21:03:48.427000           1292         12  0.6875           \n",
      "alincijov/cifar-100                                     CIFAR-100                                         168517809  2020-09-13 13:40:25.763000            370         16  0.625            \n",
      "quanbk/cifar10                                          Cifar-10                                          170062484  2017-11-22 01:12:26                  3631         26  0.25             \n",
      "emadtolba/cifar10-comp                                  Cifar-10 comp                                     706709151  2018-09-09 02:55:22.263000            384         12  0.64705884       \n",
      "birdy654/cifake-real-and-ai-generated-synthetic-images  CIFAKE: Real and AI-Generated Synthetic Images    109625224  2023-03-28 16:00:29                 19852        150  0.875            \n",
      "amishfaldu/cifar10dataset                               Cifar-10 Dataset                                 4989376312  2020-10-07 04:30:40                   350          6  1.0              \n",
      "ibraheemmoosa/cifar100-256x256                          CIFAR100 256x256                                 2817065558  2021-04-24 17:09:57                  1035         23  0.875            \n",
      "jessicali9530/stl10                                     STL-10 Image Recognition Dataset                 2017846807  2018-06-11 03:02:24.153000           6849        125  0.75             \n",
      "oxcdcd/cifar10                                          cifar10                                           183819211  2018-08-12 09:31:35.253000           3405         35  0.1875           \n",
      "gazu468/cifar10-classification-image                    Cifar10 Classification Image                      146259525  2022-10-29 18:47:18.453000            781         14  0.5              \n",
      "pavansanagapati/cifar100                                CIFAR-100                                         337036008  2018-06-21 12:23:51.707000            416          4  0.3125           \n",
      "ekaakurniawan/the-cifar10-dataset                       The CIFAR-10 Dataset                              170063312  2021-04-06 16:57:56                   513          4  0.9375           \n",
      "pypiahmad/cifar-100                                     CIFAR-100                                         168517947  2023-10-29 09:53:59                    80         11  0.6875           \n",
      "imsparsh/musicnet-dataset                               MusicNet Dataset                                23086004822  2021-02-18 14:12:19.753000          16108        527  1.0              \n"
     ]
    }
   ],
   "source": [
    "!kaggle datasets list -s cifar\n"
   ]
  },
  {
   "cell_type": "code",
   "execution_count": 4,
   "id": "2e5fb396-b2e8-4b41-a76c-81dcd0626c01",
   "metadata": {
    "execution": {
     "iopub.execute_input": "2025-05-24T12:54:06.074264Z",
     "iopub.status.busy": "2025-05-24T12:54:06.073022Z",
     "iopub.status.idle": "2025-05-24T12:57:37.626611Z",
     "shell.execute_reply": "2025-05-24T12:57:37.625629Z",
     "shell.execute_reply.started": "2025-05-24T12:54:06.074200Z"
    },
    "tags": []
   },
   "outputs": [
    {
     "name": "stdout",
     "output_type": "stream",
     "text": [
      "Requirement already satisfied: kaggle in /opt/conda/lib/python3.9/site-packages (1.7.4.5)\n",
      "Requirement already satisfied: python-dateutil>=2.5.3 in /opt/conda/lib/python3.9/site-packages (from kaggle) (2.8.2)\n",
      "Requirement already satisfied: charset-normalizer in /opt/conda/lib/python3.9/site-packages (from kaggle) (2.1.1)\n",
      "Requirement already satisfied: bleach in /opt/conda/lib/python3.9/site-packages (from kaggle) (5.0.1)\n",
      "Requirement already satisfied: urllib3>=1.15.1 in /opt/conda/lib/python3.9/site-packages (from kaggle) (2.4.0)\n",
      "Requirement already satisfied: protobuf in /opt/conda/lib/python3.9/site-packages (from kaggle) (4.21.7)\n",
      "Requirement already satisfied: python-slugify in /opt/conda/lib/python3.9/site-packages (from kaggle) (8.0.4)\n",
      "Requirement already satisfied: tqdm in /opt/conda/lib/python3.9/site-packages (from kaggle) (4.64.1)\n",
      "Requirement already satisfied: idna in /opt/conda/lib/python3.9/site-packages (from kaggle) (3.4)\n",
      "Requirement already satisfied: setuptools>=21.0.0 in /opt/conda/lib/python3.9/site-packages (from kaggle) (65.4.1)\n",
      "Requirement already satisfied: certifi>=14.05.14 in /opt/conda/lib/python3.9/site-packages (from kaggle) (2025.1.31)\n",
      "Requirement already satisfied: six>=1.10 in /opt/conda/lib/python3.9/site-packages (from kaggle) (1.16.0)\n",
      "Requirement already satisfied: requests in /opt/conda/lib/python3.9/site-packages (from kaggle) (2.32.3)\n",
      "Requirement already satisfied: webencodings in /opt/conda/lib/python3.9/site-packages (from kaggle) (0.5.1)\n",
      "Requirement already satisfied: text-unidecode in /opt/conda/lib/python3.9/site-packages (from kaggle) (1.3)\n",
      "\u001b[33mWARNING: Running pip as the 'root' user can result in broken permissions and conflicting behaviour with the system package manager. It is recommended to use a virtual environment instead: https://pip.pypa.io/warnings/venv\u001b[0m\u001b[33m\n",
      "\u001b[0mRequirement already satisfied: pandas in /opt/conda/lib/python3.9/site-packages (2.2.3)\n",
      "Requirement already satisfied: pytz>=2020.1 in /opt/conda/lib/python3.9/site-packages (from pandas) (2022.4)\n",
      "Requirement already satisfied: python-dateutil>=2.8.2 in /opt/conda/lib/python3.9/site-packages (from pandas) (2.8.2)\n",
      "Requirement already satisfied: tzdata>=2022.7 in /opt/conda/lib/python3.9/site-packages (from pandas) (2025.2)\n",
      "Requirement already satisfied: numpy>=1.22.4 in /opt/conda/lib/python3.9/site-packages (from pandas) (1.23.3)\n",
      "Requirement already satisfied: six>=1.5 in /opt/conda/lib/python3.9/site-packages (from python-dateutil>=2.8.2->pandas) (1.16.0)\n",
      "\u001b[33mWARNING: Running pip as the 'root' user can result in broken permissions and conflicting behaviour with the system package manager. It is recommended to use a virtual environment instead: https://pip.pypa.io/warnings/venv\u001b[0m\u001b[33m\n",
      "\u001b[0mcp: cannot stat 'kaggle.json': No such file or directory\n",
      "Downloading dog-breed-identification.zip to /home/jovyan\n",
      " 99%|████████████████████████████████████████▍| 681M/691M [00:03<00:00, 192MB/s]\n",
      "100%|█████████████████████████████████████████| 691M/691M [00:03<00:00, 183MB/s]\n"
     ]
    },
    {
     "name": "stderr",
     "output_type": "stream",
     "text": [
      "/opt/conda/lib/python3.9/site-packages/pandas/core/computation/expressions.py:21: UserWarning: Pandas requires version '2.8.4' or newer of 'numexpr' (version '2.8.3' currently installed).\n",
      "  from pandas.core.computation.check import NUMEXPR_INSTALLED\n",
      "/opt/conda/lib/python3.9/site-packages/pandas/core/arrays/masked.py:60: UserWarning: Pandas requires version '1.3.6' or newer of 'bottleneck' (version '1.3.5' currently installed).\n",
      "  from pandas.core import (\n"
     ]
    }
   ],
   "source": [
    "!pip install -U kaggle\n",
    "!pip install --upgrade pandas\n",
    "import os\n",
    "import zipfile\n",
    "\n",
    "# 建立 Kaggle 資料夾\n",
    "!mkdir -p ~/.kaggle\n",
    "!cp kaggle.json ~/.kaggle/\n",
    "!chmod 600 ~/.kaggle/kaggle.json\n",
    "\n",
    "# 下載 Dog Breed Identification 資料集\n",
    "!kaggle competitions download -c dog-breed-identification --force\n",
    "!unzip -oq dog-breed-identification.zip -d dog-breed-identification\n",
    "\n",
    "\n",
    "import pandas as pd\n",
    "import numpy as np\n",
    "\n",
    "labels = pd.read_csv('dog-breed-identification/labels.csv')\n"
   ]
  },
  {
   "cell_type": "code",
   "execution_count": 5,
   "id": "730c9a46-2b61-48be-b907-137ded3ab21d",
   "metadata": {
    "execution": {
     "iopub.execute_input": "2025-05-24T12:57:37.627749Z",
     "iopub.status.busy": "2025-05-24T12:57:37.627507Z",
     "iopub.status.idle": "2025-05-24T12:58:32.121794Z",
     "shell.execute_reply": "2025-05-24T12:58:32.120531Z",
     "shell.execute_reply.started": "2025-05-24T12:57:37.627726Z"
    },
    "tags": []
   },
   "outputs": [
    {
     "name": "stderr",
     "output_type": "stream",
     "text": [
      "100%|██████████| 10222/10222 [00:54<00:00, 187.80it/s]\n"
     ]
    }
   ],
   "source": [
    "import os\n",
    "import shutil\n",
    "import pandas as pd\n",
    "from PIL import Image\n",
    "from tqdm import tqdm\n",
    "# 讀取標籤\n",
    "labels = pd.read_csv('dog-breed-identification/labels.csv')\n",
    "# 建立目標輸出資料夾\n",
    "output_dir = \"dog_images\"\n",
    "train_dir = os.path.join(output_dir, \"train\")\n",
    "os.makedirs(train_dir, exist_ok=True)\n",
    "\n",
    "# 根據標籤將圖片存入對應資料夾\n",
    "def organize_train_images(labels): # Pass labels as an argument\n",
    "    src_img_dir = \"dog-breed-identification/train\"\n",
    "    for idx, row in tqdm(labels.iterrows(), total=len(labels)):\n",
    "        img_id = row['id']\n",
    "        breed = row['breed']\n",
    "        src_path = os.path.join(src_img_dir, img_id + \".jpg\")\n",
    "\n",
    "        # 建立品種對應資料夾\n",
    "        breed_dir = os.path.join(train_dir, breed)\n",
    "        os.makedirs(breed_dir, exist_ok=True)\n",
    "\n",
    "        dst_path = os.path.join(breed_dir, img_id + \".jpg\")\n",
    "        shutil.copyfile(src_path, dst_path)\n",
    "\n",
    "# Load labels outside the function\n",
    "labels = pd.read_csv('dog-breed-identification/labels.csv')\n",
    "organize_train_images(labels) # Call the function with labels argument"
   ]
  },
  {
   "cell_type": "code",
   "execution_count": 6,
   "id": "53fafafb-66d1-417b-9603-84097d9b4686",
   "metadata": {
    "execution": {
     "iopub.execute_input": "2025-05-24T12:58:32.124155Z",
     "iopub.status.busy": "2025-05-24T12:58:32.123888Z",
     "iopub.status.idle": "2025-05-24T12:58:33.240175Z",
     "shell.execute_reply": "2025-05-24T12:58:33.239321Z",
     "shell.execute_reply.started": "2025-05-24T12:58:32.124128Z"
    },
    "tags": []
   },
   "outputs": [],
   "source": [
    " #自定義 Dataset 類別\n",
    "import torch\n",
    "from torch.utils.data import Dataset\n",
    "from torchvision import transforms\n",
    "from PIL import Image\n",
    "import os\n",
    "\n",
    "from PIL import UnidentifiedImageError\n",
    "class DogBreedImageFolder(Dataset):\n",
    "    def __init__(self, root_dir, transform=None):\n",
    "        self.root_dir = root_dir\n",
    "        self.transform = transform\n",
    "        self.image_paths = []\n",
    "        self.labels = []\n",
    "\n",
    "        # 建立類別對應表：品種 → 數值 label\n",
    "        class_names = sorted(os.listdir(root_dir))\n",
    "        self.class_to_idx = {class_name: idx for idx, class_name in enumerate(class_names)}\n",
    "\n",
    "        for class_name in class_names:\n",
    "            class_folder = os.path.join(root_dir, class_name)\n",
    "            if not os.path.isdir(class_folder):\n",
    "                continue\n",
    "            for filename in os.listdir(class_folder):\n",
    "                if filename.endswith(('.jpg', '.png')):\n",
    "                    self.image_paths.append(os.path.join(class_folder, filename))\n",
    "                    self.labels.append(self.class_to_idx[class_name])\n",
    "\n",
    "    def __len__(self):\n",
    "        return len(self.image_paths)\n",
    "\n",
    "    def __getitem__(self, idx):\n",
    "        img_path = self.image_paths[idx]\n",
    "        label = self.labels[idx]\n",
    "        image = Image.open(img_path).convert(\"RGB\")\n",
    "        if self.transform:\n",
    "            image = self.transform(image)\n",
    "        return image, label"
   ]
  },
  {
   "cell_type": "code",
   "execution_count": 7,
   "id": "dbbeeba0-bf0d-4bd6-9a0d-970074bdae22",
   "metadata": {
    "execution": {
     "iopub.execute_input": "2025-05-24T12:58:33.240820Z",
     "iopub.status.busy": "2025-05-24T12:58:33.240614Z",
     "iopub.status.idle": "2025-05-24T12:58:33.247067Z",
     "shell.execute_reply": "2025-05-24T12:58:33.246310Z",
     "shell.execute_reply.started": "2025-05-24T12:58:33.240805Z"
    },
    "tags": []
   },
   "outputs": [],
   "source": [
    "# 定義 Transform\n",
    "from torchvision.transforms import RandomResizedCrop, RandomHorizontalFlip, ColorJitter, RandomRotation, ToTensor, Normalize\n",
    "\n",
    "train_transform = transforms.Compose([\n",
    "    transforms.RandomResizedCrop(224, scale=(0.6, 1.0)),\n",
    "    transforms.RandomHorizontalFlip(p=0.5),\n",
    "    transforms.RandomRotation(20),\n",
    "    transforms.ColorJitter(brightness=0.4, contrast=0.4, saturation=0.4, hue=0.1),\n",
    "    transforms.RandomAffine(degrees=10, translate=(0.1, 0.1)),\n",
    "    transforms.ToTensor(),\n",
    "    transforms.Normalize((0.485, 0.456, 0.406),\n",
    "                         (0.229, 0.224, 0.225)),\n",
    "])\n",
    "\n",
    "\n",
    "\n",
    "test_transform = transforms.Compose([\n",
    "    transforms.Resize((224, 224)),\n",
    "    transforms.ToTensor(),\n",
    "    transforms.Normalize((0.5,)*3, (0.5,)*3),\n",
    "])"
   ]
  },
  {
   "cell_type": "code",
   "execution_count": 8,
   "id": "23347d9e-a207-46c7-991b-7b7c9043c443",
   "metadata": {
    "execution": {
     "iopub.execute_input": "2025-05-24T12:58:33.247754Z",
     "iopub.status.busy": "2025-05-24T12:58:33.247612Z",
     "iopub.status.idle": "2025-05-24T12:58:33.290500Z",
     "shell.execute_reply": "2025-05-24T12:58:33.289585Z",
     "shell.execute_reply.started": "2025-05-24T12:58:33.247740Z"
    },
    "tags": []
   },
   "outputs": [
    {
     "name": "stdout",
     "output_type": "stream",
     "text": [
      "Train label distribution: Counter({11: 97, 42: 95, 100: 93, 94: 92, 61: 92, 97: 90, 73: 89, 9: 88, 7: 88, 69: 85, 93: 85, 52: 85, 13: 84, 26: 84, 1: 84, 80: 83, 3: 82, 68: 81, 109: 81, 75: 81, 30: 80, 59: 80, 88: 78, 78: 77, 33: 77, 6: 77, 84: 77, 2: 77, 86: 77, 87: 77, 55: 76, 14: 76, 17: 76, 10: 75, 67: 74, 56: 73, 98: 73, 35: 72, 40: 72, 101: 71, 60: 71, 95: 70, 76: 70, 92: 70, 102: 69, 119: 69, 63: 69, 116: 69, 20: 68, 62: 68, 70: 68, 19: 68, 8: 68, 15: 68, 117: 68, 28: 67, 54: 67, 31: 67, 82: 67, 90: 67, 111: 66, 57: 66, 37: 66, 12: 65, 114: 65, 115: 65, 81: 64, 64: 64, 39: 64, 58: 64, 79: 64, 53: 64, 110: 63, 74: 62, 27: 62, 21: 62, 51: 62, 96: 62, 18: 62, 38: 62, 34: 61, 105: 61, 118: 61, 108: 61, 16: 60, 4: 60, 36: 60, 50: 60, 5: 60, 0: 59, 106: 59, 77: 59, 103: 59, 83: 59, 32: 59, 99: 59, 91: 58, 41: 58, 24: 58, 107: 58, 45: 58, 104: 58, 44: 58, 71: 58, 85: 58, 47: 58, 113: 57, 25: 57, 112: 56, 89: 55, 29: 55, 66: 55, 46: 54, 22: 54, 72: 54, 48: 53, 49: 51, 65: 49, 43: 49, 23: 46})\n",
      "Val label distribution: Counter({97: 36, 87: 34, 1: 32, 73: 28, 117: 27, 52: 26, 109: 26, 6: 25, 3: 25, 101: 24, 71: 23, 7: 22, 39: 22, 26: 22, 70: 22, 118: 21, 59: 21, 50: 21, 69: 21, 102: 21, 104: 21, 90: 21, 0: 21, 75: 21, 60: 21, 114: 20, 23: 20, 42: 20, 107: 20, 96: 20, 82: 20, 79: 19, 100: 19, 77: 19, 19: 19, 84: 19, 72: 19, 65: 18, 64: 18, 20: 18, 68: 18, 91: 18, 53: 18, 74: 18, 13: 18, 105: 18, 25: 18, 5: 18, 41: 17, 47: 17, 99: 17, 110: 17, 94: 17, 43: 17, 35: 17, 85: 17, 11: 17, 89: 17, 15: 17, 63: 17, 9: 17, 48: 16, 66: 16, 29: 16, 36: 16, 28: 16, 49: 16, 95: 16, 57: 16, 88: 16, 86: 15, 46: 15, 24: 15, 55: 15, 32: 15, 54: 15, 17: 15, 98: 15, 56: 15, 115: 14, 112: 14, 4: 14, 44: 14, 27: 14, 78: 14, 58: 14, 92: 14, 8: 14, 93: 14, 10: 14, 37: 14, 81: 14, 30: 13, 21: 13, 61: 13, 119: 13, 22: 13, 18: 13, 111: 13, 51: 13, 31: 13, 106: 13, 62: 13, 16: 12, 103: 12, 80: 12, 116: 12, 113: 12, 38: 12, 12: 12, 45: 12, 34: 11, 40: 11, 33: 10, 67: 10, 83: 10, 14: 9, 2: 9, 76: 9, 108: 8})\n"
     ]
    }
   ],
   "source": [
    "# 建立 Dataset 與切分\n",
    "from torch.utils.data import random_split, DataLoader, WeightedRandomSampler\n",
    "import collections\n",
    "from collections import Counter\n",
    "\n",
    "# 讀取分類後資料\n",
    "dataset = DogBreedImageFolder(\"dog_images/train\", transform=train_transform)\n",
    "\n",
    "# 計算資料數量與切分比例\n",
    "val_ratio = 0.2\n",
    "val_size = int(len(dataset) * val_ratio)\n",
    "train_size = len(dataset) - val_size\n",
    "train_dataset, val_dataset = random_split(dataset, [train_size, val_size])\n",
    "\n",
    "# 取得 training set 的原始 indices\n",
    "train_indices = train_dataset.indices  # 是 dataset 中對應的索引\n",
    "train_labels = [dataset.labels[i] for i in train_indices]\n",
    "\n",
    "# 計算類別樣本數與每個 sample 權重\n",
    "label_counts = Counter(train_labels)\n",
    "class_sample_counts = [label_counts[i] for i in range(len(label_counts))]\n",
    "sample_weights = [1.0 / class_sample_counts[label] for label in train_labels]\n",
    "\n",
    "# 建立 WeightedRandomSampler\n",
    "sampler = WeightedRandomSampler(weights=sample_weights, num_samples=len(sample_weights), replacement=True)\n",
    "\n",
    "train_loader = DataLoader(train_dataset, batch_size=32, shuffle=True, num_workers=2)\n",
    "val_loader = DataLoader(val_dataset, batch_size=32, shuffle=False, num_workers=2)\n",
    "\n",
    "# 顯示類別分布（驗證分布仍可看是否合理）\n",
    "val_labels = [dataset.labels[i] for i in val_dataset.indices]\n",
    "print(\"Train label distribution:\", Counter(train_labels))\n",
    "print(\"Val label distribution:\", Counter(val_labels))\n"
   ]
  },
  {
   "cell_type": "code",
   "execution_count": 9,
   "id": "642563ca-8cb7-4029-a485-77bd5307ced0",
   "metadata": {
    "execution": {
     "iopub.execute_input": "2025-05-24T12:58:33.291024Z",
     "iopub.status.busy": "2025-05-24T12:58:33.290872Z",
     "iopub.status.idle": "2025-05-24T12:58:34.586333Z",
     "shell.execute_reply": "2025-05-24T12:58:34.584255Z",
     "shell.execute_reply.started": "2025-05-24T12:58:33.291010Z"
    },
    "tags": []
   },
   "outputs": [
    {
     "name": "stdout",
     "output_type": "stream",
     "text": [
      "Images shape: torch.Size([32, 3, 224, 224])\n",
      "Labels shape: torch.Size([32])\n"
     ]
    }
   ],
   "source": [
    "#驗證資料載入\n",
    "# 驗證一個 batch\n",
    "for images, labels in train_loader:\n",
    "    print(\"Images shape:\", images.shape)  # [B, 3, 224, 224]\n",
    "    print(\"Labels shape:\", labels.shape)  # [B]\n",
    "    break"
   ]
  },
  {
   "cell_type": "code",
   "execution_count": 10,
   "id": "e2d5cb3c-7f1e-44bf-b0cc-5169d3d827d0",
   "metadata": {
    "execution": {
     "iopub.execute_input": "2025-05-24T12:58:34.589246Z",
     "iopub.status.busy": "2025-05-24T12:58:34.588625Z",
     "iopub.status.idle": "2025-05-24T12:58:36.553266Z",
     "shell.execute_reply": "2025-05-24T12:58:36.552414Z",
     "shell.execute_reply.started": "2025-05-24T12:58:34.589180Z"
    },
    "tags": []
   },
   "outputs": [
    {
     "name": "stderr",
     "output_type": "stream",
     "text": [
      "Clipping input data to the valid range for imshow with RGB data ([0..1] for floats or [0..255] for integers).\n"
     ]
    },
    {
     "data": {
      "image/png": "[encoded data removed]",
      "text/plain": [
       "<Figure size 640x480 with 1 Axes>"
      ]
     },
     "metadata": {},
     "output_type": "display_data"
    }
   ],
   "source": [
    "# 如果需要視覺化一個 batch\n",
    "import matplotlib.pyplot as plt\n",
    "def show_batch(loader):\n",
    "    images, labels = next(iter(loader))\n",
    "    img = images[0].permute(1, 2, 0).numpy()\n",
    "    plt.imshow(img)\n",
    "    plt.title(f\"Label: {labels[0]}\")\n",
    "    plt.show()\n",
    "\n",
    "show_batch(train_loader)"
   ]
  },
  {
   "cell_type": "code",
   "execution_count": 11,
   "id": "ec9f933f-3899-451f-acbf-7106f77d98a4",
   "metadata": {
    "execution": {
     "iopub.execute_input": "2025-05-24T12:58:36.554310Z",
     "iopub.status.busy": "2025-05-24T12:58:36.554063Z",
     "iopub.status.idle": "2025-05-24T12:58:36.624563Z",
     "shell.execute_reply": "2025-05-24T12:58:36.623754Z",
     "shell.execute_reply.started": "2025-05-24T12:58:36.554292Z"
    },
    "tags": []
   },
   "outputs": [],
   "source": [
    "import gc\n",
    "import torch\n",
    "\n",
    "gc.collect()\n",
    "torch.cuda.empty_cache()\n"
   ]
  },
  {
   "cell_type": "code",
   "execution_count": 12,
   "id": "b793fc78-ed65-466b-b81a-f2cfc6eff30b",
   "metadata": {
    "execution": {
     "iopub.execute_input": "2025-05-24T12:58:36.626328Z",
     "iopub.status.busy": "2025-05-24T12:58:36.626163Z",
     "iopub.status.idle": "2025-05-24T12:58:39.267561Z",
     "shell.execute_reply": "2025-05-24T12:58:39.265352Z",
     "shell.execute_reply.started": "2025-05-24T12:58:36.626313Z"
    },
    "tags": []
   },
   "outputs": [
    {
     "name": "stdout",
     "output_type": "stream",
     "text": [
      "Requirement already satisfied: timm in /opt/conda/lib/python3.9/site-packages (1.0.15)\n",
      "Requirement already satisfied: torch in /opt/conda/lib/python3.9/site-packages (from timm) (1.13.1)\n",
      "Requirement already satisfied: huggingface_hub in /opt/conda/lib/python3.9/site-packages (from timm) (0.30.2)\n",
      "Requirement already satisfied: safetensors in /opt/conda/lib/python3.9/site-packages (from timm) (0.5.3)\n",
      "Requirement already satisfied: torchvision in /opt/conda/lib/python3.9/site-packages (from timm) (0.14.1)\n",
      "Requirement already satisfied: pyyaml in /opt/conda/lib/python3.9/site-packages (from timm) (6.0)\n",
      "Requirement already satisfied: fsspec>=2023.5.0 in /opt/conda/lib/python3.9/site-packages (from huggingface_hub->timm) (2025.3.2)\n",
      "Requirement already satisfied: tqdm>=4.42.1 in /opt/conda/lib/python3.9/site-packages (from huggingface_hub->timm) (4.64.1)\n",
      "Requirement already satisfied: filelock in /opt/conda/lib/python3.9/site-packages (from huggingface_hub->timm) (3.17.0)\n",
      "Requirement already satisfied: requests in /opt/conda/lib/python3.9/site-packages (from huggingface_hub->timm) (2.32.3)\n",
      "Requirement already satisfied: typing-extensions>=3.7.4.3 in /opt/conda/lib/python3.9/site-packages (from huggingface_hub->timm) (4.13.2)\n",
      "Requirement already satisfied: packaging>=20.9 in /opt/conda/lib/python3.9/site-packages (from huggingface_hub->timm) (24.2)\n",
      "Requirement already satisfied: nvidia-cuda-runtime-cu11==11.7.99 in /opt/conda/lib/python3.9/site-packages (from torch->timm) (11.7.99)\n",
      "Requirement already satisfied: nvidia-cudnn-cu11==8.5.0.96 in /opt/conda/lib/python3.9/site-packages (from torch->timm) (8.5.0.96)\n",
      "Requirement already satisfied: nvidia-cuda-nvrtc-cu11==11.7.99 in /opt/conda/lib/python3.9/site-packages (from torch->timm) (11.7.99)\n",
      "Requirement already satisfied: nvidia-cublas-cu11==11.10.3.66 in /opt/conda/lib/python3.9/site-packages (from torch->timm) (11.10.3.66)\n",
      "Requirement already satisfied: setuptools in /opt/conda/lib/python3.9/site-packages (from nvidia-cublas-cu11==11.10.3.66->torch->timm) (65.4.1)\n",
      "Requirement already satisfied: wheel in /opt/conda/lib/python3.9/site-packages (from nvidia-cublas-cu11==11.10.3.66->torch->timm) (0.37.1)\n",
      "Requirement already satisfied: numpy in /opt/conda/lib/python3.9/site-packages (from torchvision->timm) (1.23.3)\n",
      "Requirement already satisfied: pillow!=8.3.*,>=5.3.0 in /opt/conda/lib/python3.9/site-packages (from torchvision->timm) (9.4.0)\n",
      "Requirement already satisfied: idna<4,>=2.5 in /opt/conda/lib/python3.9/site-packages (from requests->huggingface_hub->timm) (3.4)\n",
      "Requirement already satisfied: urllib3<3,>=1.21.1 in /opt/conda/lib/python3.9/site-packages (from requests->huggingface_hub->timm) (2.4.0)\n",
      "Requirement already satisfied: charset-normalizer<4,>=2 in /opt/conda/lib/python3.9/site-packages (from requests->huggingface_hub->timm) (2.1.1)\n",
      "Requirement already satisfied: certifi>=2017.4.17 in /opt/conda/lib/python3.9/site-packages (from requests->huggingface_hub->timm) (2025.1.31)\n",
      "\u001b[33mWARNING: Running pip as the 'root' user can result in broken permissions and conflicting behaviour with the system package manager. It is recommended to use a virtual environment instead: https://pip.pypa.io/warnings/venv\u001b[0m\u001b[33m\n",
      "\u001b[0m"
     ]
    }
   ],
   "source": [
    "!pip install timm\n"
   ]
  },
  {
   "cell_type": "code",
   "execution_count": 13,
   "id": "414540cd-824c-4fd0-8866-2d506f86b17c",
   "metadata": {
    "execution": {
     "iopub.execute_input": "2025-05-24T12:58:39.270742Z",
     "iopub.status.busy": "2025-05-24T12:58:39.270095Z",
     "iopub.status.idle": "2025-05-24T12:58:41.775938Z",
     "shell.execute_reply": "2025-05-24T12:58:41.774735Z",
     "shell.execute_reply.started": "2025-05-24T12:58:39.270674Z"
    },
    "tags": []
   },
   "outputs": [
    {
     "name": "stderr",
     "output_type": "stream",
     "text": [
      "/opt/conda/lib/python3.9/site-packages/timm/models/_factory.py:126: UserWarning: Mapping deprecated model name xception to current legacy_xception.\n",
      "  model = create_fn(\n"
     ]
    }
   ],
   "source": [
    "import torch\n",
    "import torch.nn as nn\n",
    "import torchvision.models as models\n",
    "\n",
    "num_classes = 120  # Dog Breed Identification 有 120 類別\n",
    "device = torch.device(\"cuda\" if torch.cuda.is_available() else \"cpu\")\n",
    "\n",
    "import timm\n",
    "\n",
    "# timm 中的 xception 模型，使用預訓練權重\n",
    "model = timm.create_model('xception', pretrained=True, num_classes=num_classes)\n",
    "\n",
    "\n",
    "# 搬移到裝置（GPU 或 CPU）\n",
    "model = model.to(device)"
   ]
  },
  {
   "cell_type": "code",
   "execution_count": 14,
   "id": "ac519f99-2c79-4f8d-bfb1-0943e5807ca6",
   "metadata": {
    "execution": {
     "iopub.execute_input": "2025-05-24T12:58:41.777292Z",
     "iopub.status.busy": "2025-05-24T12:58:41.777039Z",
     "iopub.status.idle": "2025-05-24T12:58:41.786704Z",
     "shell.execute_reply": "2025-05-24T12:58:41.785805Z",
     "shell.execute_reply.started": "2025-05-24T12:58:41.777267Z"
    },
    "tags": []
   },
   "outputs": [],
   "source": [
    "from torch.optim import AdamW\n",
    "from torch.optim.lr_scheduler import LinearLR\n",
    "num_epochs = 30\n",
    "# 1. 計算 class weights（根據整體 dataset 分布）\n",
    "from collections import Counter\n",
    "\n",
    "label_counts = Counter(dataset.labels)\n",
    "num_classes = 120\n",
    "class_counts = [label_counts[i] for i in range(num_classes)]\n",
    "\n",
    "# 權重：類別樣本越少，損失權重越高\n",
    "weights = [1.0 / c for c in class_counts]\n",
    "weights = torch.tensor(weights, dtype=torch.float).to(device)\n",
    "import torch.optim as optim\n",
    "from torch.optim.lr_scheduler import ReduceLROnPlateau\n",
    "# 定義損失函數與優化器\n",
    "criterion = nn.CrossEntropyLoss()\n",
    "optimizer = optim.SGD(model.parameters(), lr=0.01, momentum=0.9)\n",
    "scheduler = ReduceLROnPlateau(optimizer, mode='min', patience=2, factor=0.5)\n"
   ]
  },
  {
   "cell_type": "code",
   "execution_count": 15,
   "id": "25cf8137-76e5-484b-95d2-fbf22792cd72",
   "metadata": {
    "execution": {
     "iopub.execute_input": "2025-05-24T12:58:41.787768Z",
     "iopub.status.busy": "2025-05-24T12:58:41.787533Z",
     "iopub.status.idle": "2025-05-24T13:38:02.542001Z",
     "shell.execute_reply": "2025-05-24T13:38:02.540249Z",
     "shell.execute_reply.started": "2025-05-24T12:58:41.787747Z"
    },
    "tags": []
   },
   "outputs": [
    {
     "name": "stdout",
     "output_type": "stream",
     "text": [
      "Epoch 1/30, Loss: 2.1942, Accuracy: 54.52%\n",
      "Validation Loss: 0.9156, Validation Accuracy: 73.68%\n",
      "✅ Best model saved.\n",
      "Epoch 2/30, Loss: 0.8058, Accuracy: 77.06%\n",
      "Validation Loss: 0.8174, Validation Accuracy: 76.17%\n",
      "✅ Best model saved.\n",
      "Epoch 3/30, Loss: 0.5870, Accuracy: 82.86%\n",
      "Validation Loss: 0.8208, Validation Accuracy: 75.44%\n",
      "✅ Best model saved.\n",
      "Epoch 4/30, Loss: 0.4648, Accuracy: 86.23%\n",
      "Validation Loss: 0.8310, Validation Accuracy: 76.03%\n",
      "✅ Best model saved.\n",
      "Epoch 5/30, Loss: 0.3028, Accuracy: 91.32%\n",
      "Validation Loss: 0.6943, Validation Accuracy: 79.26%\n",
      "✅ Best model saved.\n",
      "Epoch 6/30, Loss: 0.2379, Accuracy: 93.32%\n",
      "Validation Loss: 0.7024, Validation Accuracy: 79.40%\n",
      "✅ Best model saved.\n",
      "Epoch 7/30, Loss: 0.1900, Accuracy: 95.01%\n",
      "Validation Loss: 0.7149, Validation Accuracy: 79.35%\n",
      "✅ Best model saved.\n",
      "Epoch 8/30, Loss: 0.1502, Accuracy: 96.17%\n",
      "Validation Loss: 0.6573, Validation Accuracy: 80.92%\n",
      "✅ Best model saved.\n",
      "Epoch 9/30, Loss: 0.1297, Accuracy: 96.70%\n",
      "Validation Loss: 0.6809, Validation Accuracy: 80.77%\n",
      "✅ Best model saved.\n",
      "Epoch 10/30, Loss: 0.1268, Accuracy: 96.69%\n",
      "Validation Loss: 0.6881, Validation Accuracy: 79.60%\n",
      "✅ Best model saved.\n",
      "Epoch 11/30, Loss: 0.1062, Accuracy: 97.57%\n",
      "Validation Loss: 0.6713, Validation Accuracy: 80.23%\n",
      "✅ Best model saved.\n",
      "Epoch 12/30, Loss: 0.1034, Accuracy: 97.54%\n",
      "Validation Loss: 0.6775, Validation Accuracy: 79.94%\n",
      "✅ Best model saved.\n",
      "Epoch 13/30, Loss: 0.1013, Accuracy: 97.41%\n",
      "Validation Loss: 0.6815, Validation Accuracy: 80.72%\n",
      "✅ Best model saved.\n",
      "Epoch 14/30, Loss: 0.0905, Accuracy: 98.08%\n",
      "Validation Loss: 0.6602, Validation Accuracy: 80.92%\n",
      "✅ Best model saved.\n",
      "Epoch 15/30, Loss: 0.0881, Accuracy: 98.21%\n",
      "Validation Loss: 0.6576, Validation Accuracy: 80.87%\n",
      "✅ Best model saved.\n",
      "Epoch 16/30, Loss: 0.0889, Accuracy: 98.24%\n",
      "Validation Loss: 0.6621, Validation Accuracy: 80.43%\n",
      "✅ Best model saved.\n",
      "Epoch 17/30, Loss: 0.0897, Accuracy: 98.03%\n",
      "Validation Loss: 0.6555, Validation Accuracy: 80.87%\n",
      "✅ Best model saved.\n",
      "Epoch 18/30, Loss: 0.0806, Accuracy: 98.42%\n",
      "Validation Loss: 0.6585, Validation Accuracy: 80.58%\n",
      "✅ Best model saved.\n",
      "Epoch 19/30, Loss: 0.0863, Accuracy: 98.07%\n",
      "Validation Loss: 0.6927, Validation Accuracy: 79.79%\n",
      "✅ Best model saved.\n",
      "Epoch 20/30, Loss: 0.0811, Accuracy: 98.26%\n",
      "Validation Loss: 0.6625, Validation Accuracy: 80.68%\n",
      "✅ Best model saved.\n",
      "Epoch 21/30, Loss: 0.0811, Accuracy: 98.25%\n",
      "Validation Loss: 0.6608, Validation Accuracy: 80.23%\n",
      "✅ Best model saved.\n",
      "Epoch 22/30, Loss: 0.0779, Accuracy: 98.46%\n",
      "Validation Loss: 0.6623, Validation Accuracy: 80.92%\n",
      "✅ Best model saved.\n",
      "Epoch 23/30, Loss: 0.0799, Accuracy: 98.18%\n",
      "Validation Loss: 0.6698, Validation Accuracy: 80.72%\n",
      "✅ Best model saved.\n",
      "Epoch 24/30, Loss: 0.0821, Accuracy: 98.30%\n",
      "Validation Loss: 0.6919, Validation Accuracy: 80.38%\n",
      "✅ Best model saved.\n",
      "Epoch 25/30, Loss: 0.0741, Accuracy: 98.50%\n",
      "Validation Loss: 0.6533, Validation Accuracy: 80.72%\n",
      "✅ Best model saved.\n",
      "Epoch 26/30, Loss: 0.0826, Accuracy: 98.31%\n",
      "Validation Loss: 0.6474, Validation Accuracy: 81.07%\n",
      "✅ Best model saved.\n",
      "Epoch 27/30, Loss: 0.0802, Accuracy: 98.36%\n",
      "Validation Loss: 0.6586, Validation Accuracy: 81.75%\n",
      "✅ Best model saved.\n",
      "Epoch 28/30, Loss: 0.0772, Accuracy: 98.42%\n",
      "Validation Loss: 0.6520, Validation Accuracy: 81.16%\n",
      "✅ Best model saved.\n",
      "Epoch 29/30, Loss: 0.0802, Accuracy: 98.31%\n",
      "Validation Loss: 0.6740, Validation Accuracy: 80.77%\n",
      "✅ Best model saved.\n",
      "Epoch 30/30, Loss: 0.0857, Accuracy: 98.12%\n",
      "Validation Loss: 0.6548, Validation Accuracy: 80.87%\n",
      "✅ Best model saved.\n"
     ]
    }
   ],
   "source": [
    "\n",
    "for epoch in range(num_epochs):\n",
    "    model.train()  # 訓練模式\n",
    "    running_loss = 0.0\n",
    "    correct = 0\n",
    "    total = 0\n",
    "    best_val_accuracy = 0.0\n",
    "    for images, labels in train_loader:\n",
    "        images, labels = images.to(device), labels.to(device)\n",
    "\n",
    "        # 清零梯度\n",
    "        optimizer.zero_grad()\n",
    "\n",
    "        # 前向傳播\n",
    "        outputs = model(images)\n",
    "        loss = criterion(outputs, labels)\n",
    "\n",
    "        # 反向傳播\n",
    "        loss.backward()\n",
    "        optimizer.step()\n",
    "\n",
    "        running_loss += loss.item()\n",
    "\n",
    "        # 計算準確率\n",
    "        _, predicted = torch.max(outputs, 1)\n",
    "        total += labels.size(0)\n",
    "        correct += (predicted == labels).sum().item()\n",
    "\n",
    "    # 更新學習率\n",
    "    scheduler.step(epoch)\n",
    "\n",
    "\n",
    "    epoch_loss = running_loss / len(train_loader)\n",
    "    epoch_accuracy = 100 * correct / total\n",
    "\n",
    "    print(f\"Epoch {epoch+1}/{num_epochs}, Loss: {epoch_loss:.4f}, Accuracy: {epoch_accuracy:.2f}%\")\n",
    "\n",
    "    # 在每個 epoch 結束後評估模型在驗證集上的表現\n",
    "    model.eval()\n",
    "    val_loss = 0.0\n",
    "    correct = 0\n",
    "    total = 0\n",
    "\n",
    "    with torch.no_grad():\n",
    "        for images, labels in val_loader:\n",
    "            images, labels = images.to(device), labels.to(device)\n",
    "            outputs = model(images)\n",
    "            loss = criterion(outputs, labels)\n",
    "            val_loss += loss.item()\n",
    "\n",
    "            _, predicted = torch.max(outputs, 1)\n",
    "            total += labels.size(0)\n",
    "            correct += (predicted == labels).sum().item()\n",
    "\n",
    "    val_loss /= len(val_loader)\n",
    "    val_accuracy = 100 * correct / total\n",
    "    print(f\"Validation Loss: {val_loss:.4f}, Validation Accuracy: {val_accuracy:.2f}%\")\n",
    "\n",
    "    # === 儲存最佳模型 ===\n",
    "    if val_accuracy > best_val_accuracy:\n",
    "        best_val_accuracy = val_accuracy\n",
    "        torch.save(model.state_dict(), \"best_model.pth\")\n",
    "        print(\"✅ Best model saved.\")"
   ]
  },
  {
   "cell_type": "code",
   "execution_count": 16,
   "id": "8d306abf-c908-4307-afa8-ffd890aee88f",
   "metadata": {
    "execution": {
     "iopub.execute_input": "2025-05-24T13:38:02.544060Z",
     "iopub.status.busy": "2025-05-24T13:38:02.543697Z",
     "iopub.status.idle": "2025-05-24T13:38:02.764005Z",
     "shell.execute_reply": "2025-05-24T13:38:02.762511Z",
     "shell.execute_reply.started": "2025-05-24T13:38:02.544025Z"
    },
    "tags": []
   },
   "outputs": [],
   "source": [
    "# 保存訓練後的模型\n",
    "torch.save(model.state_dict(), \"dog_breed_model.pth\")\n"
   ]
  },
  {
   "cell_type": "code",
   "execution_count": 17,
   "id": "bd237980-ad71-4780-8b12-3bf900b5abf9",
   "metadata": {
    "execution": {
     "iopub.execute_input": "2025-05-24T13:38:02.765789Z",
     "iopub.status.busy": "2025-05-24T13:38:02.765442Z",
     "iopub.status.idle": "2025-05-24T13:38:13.681672Z",
     "shell.execute_reply": "2025-05-24T13:38:13.680415Z",
     "shell.execute_reply.started": "2025-05-24T13:38:02.765756Z"
    },
    "tags": []
   },
   "outputs": [
    {
     "name": "stdout",
     "output_type": "stream",
     "text": [
      "Test Accuracy: 81.80%\n"
     ]
    }
   ],
   "source": [
    "# 測試集的評估\n",
    "test_accuracy = 0\n",
    "with torch.no_grad():\n",
    "    for images, labels in val_loader:\n",
    "        images, labels = images.to(device), labels.to(device)\n",
    "\n",
    "        outputs = model(images)\n",
    "        _, predicted = torch.max(outputs, 1)\n",
    "\n",
    "        test_accuracy += (predicted == labels).sum().item()\n",
    "\n",
    "test_accuracy = 100 * test_accuracy / len(val_dataset)\n",
    "print(f\"Test Accuracy: {test_accuracy:.2f}%\")\n",
    "\n",
    "import os"
   ]
  },
  {
   "cell_type": "code",
   "execution_count": 18,
   "id": "7ca7a9f2-4bb1-49ac-a672-b956ac8f78d3",
   "metadata": {
    "execution": {
     "iopub.execute_input": "2025-05-24T13:38:13.682837Z",
     "iopub.status.busy": "2025-05-24T13:38:13.682638Z",
     "iopub.status.idle": "2025-05-24T13:38:13.689836Z",
     "shell.execute_reply": "2025-05-24T13:38:13.688916Z",
     "shell.execute_reply.started": "2025-05-24T13:38:13.682818Z"
    },
    "tags": []
   },
   "outputs": [],
   "source": [
    "from PIL import Image\n",
    "from torch.utils.data import Dataset, DataLoader\n",
    "from torchvision import transforms\n",
    "\n",
    "class TestImageDataset(Dataset):\n",
    "    def __init__(self, image_folder, transform=None):\n",
    "        self.image_folder = image_folder\n",
    "        self.image_filenames = sorted(os.listdir(image_folder))\n",
    "        self.transform = transform\n",
    "\n",
    "    def __len__(self):\n",
    "        return len(self.image_filenames)\n",
    "\n",
    "    def __getitem__(self, idx):\n",
    "        img_name = self.image_filenames[idx]\n",
    "        img_path = os.path.join(self.image_folder, img_name)\n",
    "        image = Image.open(img_path).convert('RGB')\n",
    "        if self.transform:\n",
    "            image = self.transform(image)\n",
    "        return image, img_name.split('.')[0]  # 傳回 image tensor 和 id（"
   ]
  },
  {
   "cell_type": "code",
   "execution_count": 19,
   "id": "b1813979-8cf3-431f-9fad-e31e729a397a",
   "metadata": {
    "execution": {
     "iopub.execute_input": "2025-05-24T13:38:13.690638Z",
     "iopub.status.busy": "2025-05-24T13:38:13.690463Z",
     "iopub.status.idle": "2025-05-24T13:38:13.821052Z",
     "shell.execute_reply": "2025-05-24T13:38:13.819509Z",
     "shell.execute_reply.started": "2025-05-24T13:38:13.690621Z"
    },
    "tags": []
   },
   "outputs": [],
   "source": [
    "# 取得所有類別名稱，需排序以符合 submission 格式\n",
    "all_breeds = sorted(dataset.class_to_idx.keys())\n",
    "\n",
    "# 建立 mapping\n",
    "idx_to_class = {v: k for k, v in dataset.class_to_idx.items()}\n",
    "# 修正 Test transform 使用與訓練相同的 ImageNet 格式\n",
    "test_transform = transforms.Compose([\n",
    "    transforms.Resize((224, 224)),\n",
    "    transforms.ToTensor(),\n",
    "    transforms.Normalize((0.485, 0.456, 0.406),  # 與訓練相同\n",
    "                         (0.229, 0.224, 0.225))\n",
    "])\n",
    "\n",
    "\n",
    "# 設定測試資料夾路徑\n",
    "test_folder = 'dog-breed-identification/test'  # 請確認實際位置\n",
    "\n",
    "# 建立 DataLoader\n",
    "test_dataset = TestImageDataset(test_folder, transform=test_transform)\n",
    "test_loader = DataLoader(test_dataset, batch_size=64, shuffle=False)\n",
    "\n",
    "# 建立 DataFrame 儲存預測結果\n",
    "results = []"
   ]
  },
  {
   "cell_type": "code",
   "execution_count": 20,
   "id": "d38d7e26-db8d-4e8b-931b-d07679fe7bf5",
   "metadata": {
    "execution": {
     "iopub.execute_input": "2025-05-24T13:38:13.823412Z",
     "iopub.status.busy": "2025-05-24T13:38:13.822866Z",
     "iopub.status.idle": "2025-05-24T13:38:13.836707Z",
     "shell.execute_reply": "2025-05-24T13:38:13.835297Z",
     "shell.execute_reply.started": "2025-05-24T13:38:13.823360Z"
    },
    "tags": []
   },
   "outputs": [],
   "source": [
    "# TTA transforms\n",
    "tta_transforms = [\n",
    "    transforms.Compose([\n",
    "        transforms.Resize((224, 224)),\n",
    "        transforms.ToTensor(),\n",
    "        transforms.Normalize((0.485, 0.456, 0.406),\n",
    "                             (0.229, 0.224, 0.225))\n",
    "    ]),\n",
    "    transforms.Compose([\n",
    "        transforms.Resize((224, 224)),\n",
    "        transforms.RandomHorizontalFlip(p=1.0),\n",
    "        transforms.ToTensor(),\n",
    "        transforms.Normalize((0.485, 0.456, 0.406),\n",
    "                             (0.229, 0.224, 0.225))\n",
    "    ]),\n",
    "    transforms.Compose([\n",
    "        transforms.Resize((224, 224)),\n",
    "        transforms.RandomRotation(10),\n",
    "        transforms.ToTensor(),\n",
    "        transforms.Normalize((0.485, 0.456, 0.406),\n",
    "                             (0.229, 0.224, 0.225))\n",
    "    ])\n",
    "]\n"
   ]
  },
  {
   "cell_type": "code",
   "execution_count": 22,
   "id": "016331d2-68f7-459b-bdfb-ffaf026869c0",
   "metadata": {
    "execution": {
     "iopub.execute_input": "2025-05-24T14:02:55.213365Z",
     "iopub.status.busy": "2025-05-24T14:02:55.213046Z",
     "iopub.status.idle": "2025-05-24T14:24:05.324258Z",
     "shell.execute_reply": "2025-05-24T14:24:05.323539Z",
     "shell.execute_reply.started": "2025-05-24T14:02:55.213341Z"
    },
    "tags": []
   },
   "outputs": [
    {
     "name": "stdout",
     "output_type": "stream",
     "text": [
      "✅ 已產出 softmax 機率版 submission.csv\n"
     ]
    }
   ],
   "source": [
    "# 載入最佳模型\n",
    "model.load_state_dict(torch.load(\"best_model.pth\"))\n",
    "model.to(device)\n",
    "model.eval()\n",
    "\n",
    "# 預測開始\n",
    "submission = []\n",
    "with torch.no_grad():\n",
    "    for images, image_ids in test_loader:\n",
    "        images = [img.convert(\"RGB\") if isinstance(img, Image.Image) else transforms.ToPILImage()(img) for img in images]\n",
    "\n",
    "        preds = []\n",
    "        for tta in tta_transforms:\n",
    "            tta_images = torch.stack([tta(img) for img in images]).to(device)\n",
    "            outputs = model(tta_images)\n",
    "            probs = torch.softmax(outputs, dim=1)  # softmax 機率\n",
    "            preds.append(probs)\n",
    "\n",
    "        avg_preds = torch.mean(torch.stack(preds), dim=0)  # 平均 TTA 預測\n",
    "\n",
    "        for i in range(avg_preds.size(0)):\n",
    "            row = [image_ids[i]] + avg_preds[i].cpu().numpy().tolist()\n",
    "            submission.append(row)\n",
    "\n",
    "import csv\n",
    "# 品種名稱需照訓練資料順序填入\n",
    "with open(\"submission.csv\", \"w\", newline=\"\") as f:\n",
    "    writer = csv.writer(f)\n",
    "    writer.writerow([\"id\"] + all_breeds)  # all_breeds: list of breed labels sorted by index\n",
    "    writer.writerows(submission)\n",
    "\n",
    "print(\"✅ 已產出 softmax 機率版 submission.csv\")\n"
   ]
  },
  {
   "cell_type": "code",
   "execution_count": 24,
   "id": "1c3d06b3-47b2-495e-a7f4-7479bdf13961",
   "metadata": {
    "execution": {
     "iopub.execute_input": "2025-05-24T14:29:03.531641Z",
     "iopub.status.busy": "2025-05-24T14:29:03.530490Z",
     "iopub.status.idle": "2025-05-24T14:29:05.099514Z",
     "shell.execute_reply": "2025-05-24T14:29:05.098551Z",
     "shell.execute_reply.started": "2025-05-24T14:29:03.531613Z"
    },
    "tags": []
   },
   "outputs": [
    {
     "name": "stdout",
     "output_type": "stream",
     "text": [
      "✅ 已產出 softmax 機率版 submission.csv\n"
     ]
    }
   ],
   "source": [
    "import csv\n",
    "\n",
    "with open(\"submission.csv\", \"w\", newline=\"\") as f:\n",
    "    writer = csv.writer(f)\n",
    "    writer.writerow([\"id\"] + all_breeds)\n",
    "    writer.writerows(submission)\n",
    "\n",
    "print(\"✅ 已產出 softmax 機率版 submission.csv\")\n"
   ]
  },
  {
   "cell_type": "code",
   "execution_count": 25,
   "id": "0bb9b984-5dde-417b-b18e-729bb2a54263",
   "metadata": {
    "execution": {
     "iopub.execute_input": "2025-05-24T14:29:24.547365Z",
     "iopub.status.busy": "2025-05-24T14:29:24.546724Z",
     "iopub.status.idle": "2025-05-24T14:29:24.552841Z",
     "shell.execute_reply": "2025-05-24T14:29:24.551474Z",
     "shell.execute_reply.started": "2025-05-24T14:29:24.547337Z"
    },
    "tags": []
   },
   "outputs": [
    {
     "name": "stdout",
     "output_type": "stream",
     "text": [
      "True\n"
     ]
    }
   ],
   "source": [
    "import os\n",
    "print(os.path.exists(\"submission.csv\"))  # 如果為 True 表示存在\n"
   ]
  },
  {
   "cell_type": "code",
   "execution_count": null,
   "id": "ff1ae3de-e1c7-4756-979b-6a4309dac78b",
   "metadata": {},
   "outputs": [],
   "source": []
  }
 ],
 "metadata": {
  "kernelspec": {
   "display_name": "Python 3 (ipykernel)",
   "language": "python",
   "name": "python3"
  },
  "language_info": {
   "codemirror_mode": {
    "name": "ipython",
    "version": 3
   },
   "file_extension": ".py",
   "mimetype": "text/x-python",
   "name": "python",
   "nbconvert_exporter": "python",
   "pygments_lexer": "ipython3",
   "version": "3.9.13"
  }
 },
 "nbformat": 4,
 "nbformat_minor": 5
}
