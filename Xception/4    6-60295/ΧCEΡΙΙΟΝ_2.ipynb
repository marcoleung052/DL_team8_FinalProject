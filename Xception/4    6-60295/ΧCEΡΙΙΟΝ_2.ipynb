{
 "cells": [
  {
   "cell_type": "code",
   "execution_count": 1,
   "id": "19dd142d-af4f-4cc4-a737-cb5cf859e92e",
   "metadata": {
    "execution": {
     "iopub.execute_input": "2025-05-20T17:45:25.464583Z",
     "iopub.status.busy": "2025-05-20T17:45:25.463142Z",
     "iopub.status.idle": "2025-05-20T17:45:25.582423Z",
     "shell.execute_reply": "2025-05-20T17:45:25.581874Z",
     "shell.execute_reply.started": "2025-05-20T17:45:25.464523Z"
    },
    "tags": []
   },
   "outputs": [
    {
     "data": {
      "application/vnd.jupyter.widget-view+json": {
       "model_id": "b7942f48d9ec4a32beaab519a841f503",
       "version_major": 2,
       "version_minor": 0
      },
      "text/plain": [
       "FileUpload(value=(), description='Upload')"
      ]
     },
     "metadata": {},
     "output_type": "display_data"
    }
   ],
   "source": [
    "from IPython.display import display\n",
    "import os\n",
    "\n",
    "# 上傳檔案（會跳出檔案選擇器）\n",
    "from ipywidgets import FileUpload\n",
    "\n",
    "upload = FileUpload()\n",
    "display(upload)"
   ]
  },
  {
   "cell_type": "code",
   "execution_count": 2,
   "id": "172906a3-1dd5-4484-a903-2877d1e50ebc",
   "metadata": {
    "execution": {
     "iopub.execute_input": "2025-05-20T17:45:32.506706Z",
     "iopub.status.busy": "2025-05-20T17:45:32.505347Z",
     "iopub.status.idle": "2025-05-20T17:45:32.524856Z",
     "shell.execute_reply": "2025-05-20T17:45:32.523821Z",
     "shell.execute_reply.started": "2025-05-20T17:45:32.506647Z"
    },
    "tags": []
   },
   "outputs": [
    {
     "name": "stdout",
     "output_type": "stream",
     "text": [
      "{'name': 'kaggle.json', 'type': 'application/json', 'size': 64, 'content': <memory at 0x7a9718435d00>, 'last_modified': datetime.datetime(2025, 4, 21, 6, 7, 11, 972000, tzinfo=datetime.timezone.utc)}\n",
      "kaggle.json 已成功儲存至 /home/jovyan/.kaggle/kaggle.json\n"
     ]
    }
   ],
   "source": [
    "import os\n",
    "from pathlib import Path\n",
    "\n",
    "# 假設你只上傳了一個檔案\n",
    "fileinfo = upload.value[0]  # 通常是一個 dict，含 'name' 和 'content'\n",
    "\n",
    "# 顯示內容結構（除錯用）\n",
    "print(fileinfo)\n",
    "\n",
    "# 儲存 kaggle.json\n",
    "filename = fileinfo['name']\n",
    "content = fileinfo['content']\n",
    "\n",
    "kaggle_dir = Path.home() / \".kaggle\"\n",
    "kaggle_dir.mkdir(exist_ok=True)\n",
    "\n",
    "kaggle_json_path = kaggle_dir / \"kaggle.json\"\n",
    "with open(kaggle_json_path, \"wb\") as f:\n",
    "    f.write(content)\n",
    "\n",
    "# 設定權限（Linux/macOS 建議）\n",
    "os.chmod(kaggle_json_path, 0o600)\n",
    "\n",
    "print(f\"{filename} 已成功儲存至 {kaggle_json_path}\")"
   ]
  },
  {
   "cell_type": "code",
   "execution_count": 3,
   "id": "e13e384c-f12d-4c02-b891-80542dd9a6db",
   "metadata": {
    "execution": {
     "iopub.execute_input": "2025-05-20T17:45:33.273425Z",
     "iopub.status.busy": "2025-05-20T17:45:33.273002Z",
     "iopub.status.idle": "2025-05-20T17:45:34.132134Z",
     "shell.execute_reply": "2025-05-20T17:45:34.131160Z",
     "shell.execute_reply.started": "2025-05-20T17:45:33.273391Z"
    },
    "tags": []
   },
   "outputs": [
    {
     "name": "stdout",
     "output_type": "stream",
     "text": [
      "ref                                                     title                                                  size  lastUpdated                 downloadCount  voteCount  usabilityRating  \n",
      "------------------------------------------------------  ----------------------------------------------  -----------  --------------------------  -------------  ---------  ---------------  \n",
      "fedesoriano/cifar100                                    CIFAR-100 Python                                  168517809  2020-12-26 08:37:10.143000          12259        176  1.0              \n",
      "pankrzysiu/cifar10-python                               CIFAR-10 Python                                   340613496  2018-01-27 13:42:40.967000          14772        252  0.75             \n",
      "petitbonney/cifar10-image-recognition                   CIFAR-10                                         1007971063  2019-10-01 12:50:23.227000           2862         26  0.8235294        \n",
      "valentynsichkar/cifar10-preprocessed                    CIFAR10 Preprocessed                             1227571899  2019-07-13 13:43:11                  3352         63  1.0              \n",
      "swaroopkml/cifar10-pngs-in-folders                      CIFAR-10 PNGs in folders                          293479104  2019-02-10 11:16:19.507000          13446         96  0.6875           \n",
      "fedesoriano/cifar10-python-in-csv                       CIFAR-10 Python in CSV                            218807675  2021-06-22 09:07:55                  7031         53  1.0              \n",
      "ayush1220/cifar10                                       CIFAR-10                                          146259525  2022-01-11 21:03:48.427000           1265         12  0.6875           \n",
      "alincijov/cifar-100                                     CIFAR-100                                         168517809  2020-09-13 13:40:25.763000            370         16  0.625            \n",
      "quanbk/cifar10                                          Cifar-10                                          170062484  2017-11-22 01:12:26                  3618         26  0.25             \n",
      "emadtolba/cifar10-comp                                  Cifar-10 comp                                     706709151  2018-09-09 02:55:22.263000            384         12  0.64705884       \n",
      "birdy654/cifake-real-and-ai-generated-synthetic-images  CIFAKE: Real and AI-Generated Synthetic Images    109625224  2023-03-28 16:00:29                 19718        150  0.875            \n",
      "amishfaldu/cifar10dataset                               Cifar-10 Dataset                                 4989376312  2020-10-07 04:30:40                   344          6  1.0              \n",
      "ibraheemmoosa/cifar100-256x256                          CIFAR100 256x256                                 2817065558  2021-04-24 17:09:57                  1032         23  0.875            \n",
      "jessicali9530/stl10                                     STL-10 Image Recognition Dataset                 2017846807  2018-06-11 03:02:24.153000           6838        124  0.75             \n",
      "oxcdcd/cifar10                                          cifar10                                           183819211  2018-08-12 09:31:35.253000           3390         35  0.1875           \n",
      "gazu468/cifar10-classification-image                    Cifar10 Classification Image                      146259525  2022-10-29 18:47:18.453000            770         14  0.5              \n",
      "pavansanagapati/cifar100                                CIFAR-100                                         337036008  2018-06-21 12:23:51.707000            416          4  0.3125           \n",
      "ekaakurniawan/the-cifar10-dataset                       The CIFAR-10 Dataset                              170063312  2021-04-06 16:57:56                   510          4  0.9375           \n",
      "imsparsh/musicnet-dataset                               MusicNet Dataset                                23086004822  2021-02-18 14:12:19.753000          16093        527  1.0              \n",
      "pypiahmad/cifar-100                                     CIFAR-100                                         168517947  2023-10-29 09:53:59                    80         11  0.6875           \n"
     ]
    }
   ],
   "source": [
    "!kaggle datasets list -s cifar\n"
   ]
  },
  {
   "cell_type": "code",
   "execution_count": 4,
   "id": "2e5fb396-b2e8-4b41-a76c-81dcd0626c01",
   "metadata": {
    "execution": {
     "iopub.execute_input": "2025-05-20T17:45:34.134095Z",
     "iopub.status.busy": "2025-05-20T17:45:34.133770Z",
     "iopub.status.idle": "2025-05-20T17:49:31.736133Z",
     "shell.execute_reply": "2025-05-20T17:49:31.735116Z",
     "shell.execute_reply.started": "2025-05-20T17:45:34.134062Z"
    },
    "tags": []
   },
   "outputs": [
    {
     "name": "stdout",
     "output_type": "stream",
     "text": [
      "Requirement already satisfied: kaggle in /opt/conda/lib/python3.9/site-packages (1.7.4.5)\n",
      "Requirement already satisfied: bleach in /opt/conda/lib/python3.9/site-packages (from kaggle) (5.0.1)\n",
      "Requirement already satisfied: requests in /opt/conda/lib/python3.9/site-packages (from kaggle) (2.32.3)\n",
      "Requirement already satisfied: text-unidecode in /opt/conda/lib/python3.9/site-packages (from kaggle) (1.3)\n",
      "Requirement already satisfied: python-slugify in /opt/conda/lib/python3.9/site-packages (from kaggle) (8.0.4)\n",
      "Requirement already satisfied: webencodings in /opt/conda/lib/python3.9/site-packages (from kaggle) (0.5.1)\n",
      "Requirement already satisfied: urllib3>=1.15.1 in /opt/conda/lib/python3.9/site-packages (from kaggle) (2.4.0)\n",
      "Requirement already satisfied: certifi>=14.05.14 in /opt/conda/lib/python3.9/site-packages (from kaggle) (2025.1.31)\n",
      "Requirement already satisfied: setuptools>=21.0.0 in /opt/conda/lib/python3.9/site-packages (from kaggle) (65.4.1)\n",
      "Requirement already satisfied: python-dateutil>=2.5.3 in /opt/conda/lib/python3.9/site-packages (from kaggle) (2.8.2)\n",
      "Requirement already satisfied: six>=1.10 in /opt/conda/lib/python3.9/site-packages (from kaggle) (1.16.0)\n",
      "Requirement already satisfied: idna in /opt/conda/lib/python3.9/site-packages (from kaggle) (3.4)\n",
      "Requirement already satisfied: protobuf in /opt/conda/lib/python3.9/site-packages (from kaggle) (4.21.7)\n",
      "Requirement already satisfied: tqdm in /opt/conda/lib/python3.9/site-packages (from kaggle) (4.64.1)\n",
      "Requirement already satisfied: charset-normalizer in /opt/conda/lib/python3.9/site-packages (from kaggle) (2.1.1)\n",
      "\u001b[33mWARNING: Running pip as the 'root' user can result in broken permissions and conflicting behaviour with the system package manager. It is recommended to use a virtual environment instead: https://pip.pypa.io/warnings/venv\u001b[0m\u001b[33m\n",
      "\u001b[0mRequirement already satisfied: pandas in /opt/conda/lib/python3.9/site-packages (2.2.3)\n",
      "Requirement already satisfied: pytz>=2020.1 in /opt/conda/lib/python3.9/site-packages (from pandas) (2022.4)\n",
      "Requirement already satisfied: python-dateutil>=2.8.2 in /opt/conda/lib/python3.9/site-packages (from pandas) (2.8.2)\n",
      "Requirement already satisfied: tzdata>=2022.7 in /opt/conda/lib/python3.9/site-packages (from pandas) (2025.2)\n",
      "Requirement already satisfied: numpy>=1.22.4 in /opt/conda/lib/python3.9/site-packages (from pandas) (1.23.3)\n",
      "Requirement already satisfied: six>=1.5 in /opt/conda/lib/python3.9/site-packages (from python-dateutil>=2.8.2->pandas) (1.16.0)\n",
      "\u001b[33mWARNING: Running pip as the 'root' user can result in broken permissions and conflicting behaviour with the system package manager. It is recommended to use a virtual environment instead: https://pip.pypa.io/warnings/venv\u001b[0m\u001b[33m\n",
      "\u001b[0mcp: cannot stat 'kaggle.json': No such file or directory\n",
      "Downloading dog-breed-identification.zip to /home/jovyan\n",
      " 99%|████████████████████████████████████████▌| 684M/691M [00:03<00:00, 193MB/s]\n",
      "100%|█████████████████████████████████████████| 691M/691M [00:03<00:00, 185MB/s]\n"
     ]
    },
    {
     "name": "stderr",
     "output_type": "stream",
     "text": [
      "/opt/conda/lib/python3.9/site-packages/pandas/core/computation/expressions.py:21: UserWarning: Pandas requires version '2.8.4' or newer of 'numexpr' (version '2.8.3' currently installed).\n",
      "  from pandas.core.computation.check import NUMEXPR_INSTALLED\n",
      "/opt/conda/lib/python3.9/site-packages/pandas/core/arrays/masked.py:60: UserWarning: Pandas requires version '1.3.6' or newer of 'bottleneck' (version '1.3.5' currently installed).\n",
      "  from pandas.core import (\n"
     ]
    }
   ],
   "source": [
    "!pip install -U kaggle\n",
    "!pip install --upgrade pandas\n",
    "import os\n",
    "import zipfile\n",
    "\n",
    "# 建立 Kaggle 資料夾\n",
    "!mkdir -p ~/.kaggle\n",
    "!cp kaggle.json ~/.kaggle/\n",
    "!chmod 600 ~/.kaggle/kaggle.json\n",
    "\n",
    "# 下載 Dog Breed Identification 資料集\n",
    "!kaggle competitions download -c dog-breed-identification --force\n",
    "!unzip -oq dog-breed-identification.zip -d dog-breed-identification\n",
    "\n",
    "\n",
    "import pandas as pd\n",
    "import numpy as np\n",
    "\n",
    "labels = pd.read_csv('dog-breed-identification/labels.csv')\n"
   ]
  },
  {
   "cell_type": "code",
   "execution_count": 5,
   "id": "730c9a46-2b61-48be-b907-137ded3ab21d",
   "metadata": {
    "execution": {
     "iopub.execute_input": "2025-05-20T17:49:31.737769Z",
     "iopub.status.busy": "2025-05-20T17:49:31.737434Z",
     "iopub.status.idle": "2025-05-20T17:50:37.390233Z",
     "shell.execute_reply": "2025-05-20T17:50:37.389218Z",
     "shell.execute_reply.started": "2025-05-20T17:49:31.737746Z"
    },
    "tags": []
   },
   "outputs": [
    {
     "name": "stderr",
     "output_type": "stream",
     "text": [
      "100%|██████████| 10222/10222 [01:05<00:00, 155.84it/s]\n"
     ]
    }
   ],
   "source": [
    "import os\n",
    "import shutil\n",
    "import pandas as pd\n",
    "from PIL import Image\n",
    "from tqdm import tqdm\n",
    "# 讀取標籤\n",
    "labels = pd.read_csv('dog-breed-identification/labels.csv')\n",
    "# 建立目標輸出資料夾\n",
    "output_dir = \"dog_images\"\n",
    "train_dir = os.path.join(output_dir, \"train\")\n",
    "os.makedirs(train_dir, exist_ok=True)\n",
    "\n",
    "# 根據標籤將圖片存入對應資料夾\n",
    "def organize_train_images(labels): # Pass labels as an argument\n",
    "    src_img_dir = \"dog-breed-identification/train\"\n",
    "    for idx, row in tqdm(labels.iterrows(), total=len(labels)):\n",
    "        img_id = row['id']\n",
    "        breed = row['breed']\n",
    "        src_path = os.path.join(src_img_dir, img_id + \".jpg\")\n",
    "\n",
    "        # 建立品種對應資料夾\n",
    "        breed_dir = os.path.join(train_dir, breed)\n",
    "        os.makedirs(breed_dir, exist_ok=True)\n",
    "\n",
    "        dst_path = os.path.join(breed_dir, img_id + \".jpg\")\n",
    "        shutil.copyfile(src_path, dst_path)\n",
    "\n",
    "# Load labels outside the function\n",
    "labels = pd.read_csv('dog-breed-identification/labels.csv')\n",
    "organize_train_images(labels) # Call the function with labels argument"
   ]
  },
  {
   "cell_type": "code",
   "execution_count": 6,
   "id": "53fafafb-66d1-417b-9603-84097d9b4686",
   "metadata": {
    "execution": {
     "iopub.execute_input": "2025-05-20T17:50:37.391341Z",
     "iopub.status.busy": "2025-05-20T17:50:37.391094Z",
     "iopub.status.idle": "2025-05-20T17:50:38.725887Z",
     "shell.execute_reply": "2025-05-20T17:50:38.724922Z",
     "shell.execute_reply.started": "2025-05-20T17:50:37.391319Z"
    },
    "tags": []
   },
   "outputs": [],
   "source": [
    " #自定義 Dataset 類別\n",
    "import torch\n",
    "from torch.utils.data import Dataset\n",
    "from torchvision import transforms\n",
    "from PIL import Image\n",
    "import os\n",
    "\n",
    "from PIL import UnidentifiedImageError\n",
    "class DogBreedImageFolder(Dataset):\n",
    "    def __init__(self, root_dir, transform=None):\n",
    "        self.root_dir = root_dir\n",
    "        self.transform = transform\n",
    "        self.image_paths = []\n",
    "        self.labels = []\n",
    "\n",
    "        # 建立類別對應表：品種 → 數值 label\n",
    "        class_names = sorted(os.listdir(root_dir))\n",
    "        self.class_to_idx = {class_name: idx for idx, class_name in enumerate(class_names)}\n",
    "\n",
    "        for class_name in class_names:\n",
    "            class_folder = os.path.join(root_dir, class_name)\n",
    "            if not os.path.isdir(class_folder):\n",
    "                continue\n",
    "            for filename in os.listdir(class_folder):\n",
    "                if filename.endswith(('.jpg', '.png')):\n",
    "                    self.image_paths.append(os.path.join(class_folder, filename))\n",
    "                    self.labels.append(self.class_to_idx[class_name])\n",
    "\n",
    "    def __len__(self):\n",
    "        return len(self.image_paths)\n",
    "\n",
    "    def __getitem__(self, idx):\n",
    "        img_path = self.image_paths[idx]\n",
    "        label = self.labels[idx]\n",
    "        image = Image.open(img_path).convert(\"RGB\")\n",
    "        if self.transform:\n",
    "            image = self.transform(image)\n",
    "        return image, label"
   ]
  },
  {
   "cell_type": "code",
   "execution_count": 7,
   "id": "dbbeeba0-bf0d-4bd6-9a0d-970074bdae22",
   "metadata": {
    "execution": {
     "iopub.execute_input": "2025-05-20T17:50:38.727884Z",
     "iopub.status.busy": "2025-05-20T17:50:38.727540Z",
     "iopub.status.idle": "2025-05-20T17:50:38.735394Z",
     "shell.execute_reply": "2025-05-20T17:50:38.734366Z",
     "shell.execute_reply.started": "2025-05-20T17:50:38.727861Z"
    },
    "tags": []
   },
   "outputs": [],
   "source": [
    "# 定義 Transform\n",
    "from torchvision.transforms import RandomResizedCrop, RandomHorizontalFlip, ColorJitter, RandomRotation, ToTensor, Normalize\n",
    "\n",
    "train_transform = transforms.Compose([\n",
    "    transforms.RandomResizedCrop(224, scale=(0.6, 1.0)),\n",
    "    transforms.RandomHorizontalFlip(p=0.5),\n",
    "    transforms.RandomRotation(20),\n",
    "    transforms.ColorJitter(brightness=0.4, contrast=0.4, saturation=0.4, hue=0.1),\n",
    "    transforms.RandomAffine(degrees=10, translate=(0.1, 0.1)),\n",
    "    transforms.ToTensor(),\n",
    "    transforms.Normalize((0.485, 0.456, 0.406),\n",
    "                         (0.229, 0.224, 0.225)),\n",
    "])\n",
    "\n",
    "\n",
    "\n",
    "test_transform = transforms.Compose([\n",
    "    transforms.Resize((224, 224)),\n",
    "    transforms.ToTensor(),\n",
    "    transforms.Normalize((0.5,)*3, (0.5,)*3),\n",
    "])"
   ]
  },
  {
   "cell_type": "code",
   "execution_count": 8,
   "id": "23347d9e-a207-46c7-991b-7b7c9043c443",
   "metadata": {
    "execution": {
     "iopub.execute_input": "2025-05-20T17:50:38.736724Z",
     "iopub.status.busy": "2025-05-20T17:50:38.736476Z",
     "iopub.status.idle": "2025-05-20T17:50:39.445382Z",
     "shell.execute_reply": "2025-05-20T17:50:39.444427Z",
     "shell.execute_reply.started": "2025-05-20T17:50:38.736703Z"
    },
    "tags": []
   },
   "outputs": [
    {
     "name": "stdout",
     "output_type": "stream",
     "text": [
      "Train label distribution: Counter({97: 105, 1: 97, 11: 97, 73: 96, 87: 96, 26: 93, 9: 92, 52: 91, 6: 91, 100: 90, 75: 86, 69: 86, 3: 86, 13: 83, 42: 83, 109: 82, 59: 81, 80: 81, 7: 80, 94: 79, 30: 79, 88: 78, 60: 78, 61: 77, 117: 76, 17: 76, 70: 75, 84: 75, 93: 75, 102: 74, 35: 74, 101: 74, 68: 73, 78: 73, 56: 73, 82: 71, 37: 71, 98: 71, 64: 70, 111: 70, 10: 70, 54: 70, 86: 70, 14: 69, 63: 69, 90: 69, 118: 69, 50: 69, 15: 69, 33: 69, 19: 68, 40: 68, 55: 68, 20: 68, 36: 67, 104: 67, 105: 66, 67: 66, 28: 65, 114: 65, 53: 65, 8: 65, 31: 65, 91: 65, 39: 65, 116: 64, 41: 64, 92: 64, 0: 64, 77: 64, 76: 64, 5: 64, 96: 64, 85: 64, 27: 63, 71: 63, 110: 62, 62: 62, 95: 62, 21: 61, 16: 61, 25: 61, 74: 61, 51: 61, 79: 61, 47: 60, 2: 60, 4: 60, 57: 60, 48: 60, 99: 60, 34: 59, 38: 59, 32: 59, 58: 59, 12: 58, 115: 58, 112: 58, 107: 58, 29: 58, 119: 58, 89: 57, 18: 57, 83: 57, 66: 56, 113: 56, 46: 56, 108: 56, 72: 55, 24: 55, 44: 55, 81: 55, 103: 55, 45: 54, 106: 54, 65: 53, 23: 53, 49: 51, 22: 51, 43: 50})\n",
      "Val label distribution: Counter({42: 32, 94: 30, 7: 30, 61: 28, 68: 26, 2: 26, 109: 25, 119: 24, 95: 24, 93: 24, 55: 23, 81: 23, 79: 22, 86: 22, 100: 22, 57: 22, 115: 21, 101: 21, 39: 21, 84: 21, 3: 21, 97: 21, 73: 21, 69: 20, 52: 20, 114: 20, 59: 20, 92: 20, 107: 20, 10: 19, 13: 19, 1: 19, 12: 19, 90: 19, 117: 19, 19: 19, 74: 19, 62: 19, 58: 19, 106: 18, 67: 18, 96: 18, 78: 18, 18: 18, 28: 18, 33: 18, 72: 18, 71: 18, 110: 18, 20: 18, 24: 18, 63: 17, 11: 17, 8: 17, 53: 17, 44: 17, 116: 17, 98: 17, 82: 16, 0: 16, 14: 16, 22: 16, 75: 16, 103: 16, 99: 16, 88: 16, 49: 16, 43: 16, 102: 16, 45: 16, 15: 16, 66: 15, 87: 15, 17: 15, 89: 15, 47: 15, 76: 15, 32: 15, 31: 15, 35: 15, 70: 15, 40: 15, 56: 15, 38: 15, 30: 14, 4: 14, 51: 14, 5: 14, 25: 14, 77: 14, 60: 14, 65: 14, 21: 14, 80: 14, 29: 13, 113: 13, 105: 13, 46: 13, 26: 13, 27: 13, 118: 13, 23: 13, 9: 13, 108: 13, 34: 13, 83: 12, 112: 12, 50: 12, 54: 12, 64: 12, 104: 12, 85: 11, 91: 11, 41: 11, 16: 11, 6: 11, 48: 9, 36: 9, 37: 9, 111: 9})\n"
     ]
    }
   ],
   "source": [
    "# 建立 Dataset 與切分\n",
    "from torch.utils.data import random_split, DataLoader, WeightedRandomSampler\n",
    "import collections\n",
    "from collections import Counter\n",
    "\n",
    "# 讀取分類後資料\n",
    "dataset = DogBreedImageFolder(\"dog_images/train\", transform=train_transform)\n",
    "\n",
    "# 計算資料數量與切分比例\n",
    "val_ratio = 0.2\n",
    "val_size = int(len(dataset) * val_ratio)\n",
    "train_size = len(dataset) - val_size\n",
    "train_dataset, val_dataset = random_split(dataset, [train_size, val_size])\n",
    "\n",
    "# 取得 training set 的原始 indices\n",
    "train_indices = train_dataset.indices  # 是 dataset 中對應的索引\n",
    "train_labels = [dataset.labels[i] for i in train_indices]\n",
    "\n",
    "# 計算類別樣本數與每個 sample 權重\n",
    "label_counts = Counter(train_labels)\n",
    "class_sample_counts = [label_counts[i] for i in range(len(label_counts))]\n",
    "sample_weights = [1.0 / class_sample_counts[label] for label in train_labels]\n",
    "\n",
    "# 建立 WeightedRandomSampler\n",
    "sampler = WeightedRandomSampler(weights=sample_weights, num_samples=len(sample_weights), replacement=True)\n",
    "\n",
    "train_loader = DataLoader(train_dataset, batch_size=32, shuffle=True, num_workers=2)\n",
    "val_loader = DataLoader(val_dataset, batch_size=32, shuffle=False, num_workers=2)\n",
    "\n",
    "# 顯示類別分布（驗證分布仍可看是否合理）\n",
    "val_labels = [dataset.labels[i] for i in val_dataset.indices]\n",
    "print(\"Train label distribution:\", Counter(train_labels))\n",
    "print(\"Val label distribution:\", Counter(val_labels))\n"
   ]
  },
  {
   "cell_type": "code",
   "execution_count": 9,
   "id": "642563ca-8cb7-4029-a485-77bd5307ced0",
   "metadata": {
    "execution": {
     "iopub.execute_input": "2025-05-20T17:50:39.446543Z",
     "iopub.status.busy": "2025-05-20T17:50:39.446302Z",
     "iopub.status.idle": "2025-05-20T17:50:40.463448Z",
     "shell.execute_reply": "2025-05-20T17:50:40.462034Z",
     "shell.execute_reply.started": "2025-05-20T17:50:39.446522Z"
    },
    "tags": []
   },
   "outputs": [
    {
     "name": "stdout",
     "output_type": "stream",
     "text": [
      "Images shape: torch.Size([32, 3, 224, 224])\n",
      "Labels shape: torch.Size([32])\n"
     ]
    }
   ],
   "source": [
    "#驗證資料載入\n",
    "# 驗證一個 batch\n",
    "for images, labels in train_loader:\n",
    "    print(\"Images shape:\", images.shape)  # [B, 3, 224, 224]\n",
    "    print(\"Labels shape:\", labels.shape)  # [B]\n",
    "    break"
   ]
  },
  {
   "cell_type": "code",
   "execution_count": 10,
   "id": "e2d5cb3c-7f1e-44bf-b0cc-5169d3d827d0",
   "metadata": {
    "execution": {
     "iopub.execute_input": "2025-05-20T17:50:40.465804Z",
     "iopub.status.busy": "2025-05-20T17:50:40.465328Z",
     "iopub.status.idle": "2025-05-20T17:50:42.644260Z",
     "shell.execute_reply": "2025-05-20T17:50:42.643572Z",
     "shell.execute_reply.started": "2025-05-20T17:50:40.465767Z"
    },
    "tags": []
   },
   "outputs": [
    {
     "name": "stderr",
     "output_type": "stream",
     "text": [
      "Clipping input data to the valid range for imshow with RGB data ([0..1] for floats or [0..255] for integers).\n"
     ]
    },
    {
     "data": {
      "image/png": "[encoded data removed]",
      "text/plain": [
       "<Figure size 640x480 with 1 Axes>"
      ]
     },
     "metadata": {},
     "output_type": "display_data"
    }
   ],
   "source": [
    "# 如果需要視覺化一個 batch\n",
    "import matplotlib.pyplot as plt\n",
    "def show_batch(loader):\n",
    "    images, labels = next(iter(loader))\n",
    "    img = images[0].permute(1, 2, 0).numpy()\n",
    "    plt.imshow(img)\n",
    "    plt.title(f\"Label: {labels[0]}\")\n",
    "    plt.show()\n",
    "\n",
    "show_batch(train_loader)"
   ]
  },
  {
   "cell_type": "code",
   "execution_count": 11,
   "id": "ec9f933f-3899-451f-acbf-7106f77d98a4",
   "metadata": {
    "execution": {
     "iopub.execute_input": "2025-05-20T17:50:42.645506Z",
     "iopub.status.busy": "2025-05-20T17:50:42.645179Z",
     "iopub.status.idle": "2025-05-20T17:50:42.731886Z",
     "shell.execute_reply": "2025-05-20T17:50:42.730960Z",
     "shell.execute_reply.started": "2025-05-20T17:50:42.645482Z"
    },
    "tags": []
   },
   "outputs": [],
   "source": [
    "import gc\n",
    "import torch\n",
    "\n",
    "gc.collect()\n",
    "torch.cuda.empty_cache()\n"
   ]
  },
  {
   "cell_type": "code",
   "execution_count": 12,
   "id": "b793fc78-ed65-466b-b81a-f2cfc6eff30b",
   "metadata": {
    "execution": {
     "iopub.execute_input": "2025-05-20T17:50:42.732866Z",
     "iopub.status.busy": "2025-05-20T17:50:42.732645Z",
     "iopub.status.idle": "2025-05-20T17:50:45.793775Z",
     "shell.execute_reply": "2025-05-20T17:50:45.792781Z",
     "shell.execute_reply.started": "2025-05-20T17:50:42.732846Z"
    },
    "tags": []
   },
   "outputs": [
    {
     "name": "stdout",
     "output_type": "stream",
     "text": [
      "Requirement already satisfied: timm in /opt/conda/lib/python3.9/site-packages (1.0.15)\n",
      "Requirement already satisfied: pyyaml in /opt/conda/lib/python3.9/site-packages (from timm) (6.0)\n",
      "Requirement already satisfied: torchvision in /opt/conda/lib/python3.9/site-packages (from timm) (0.14.1)\n",
      "Requirement already satisfied: huggingface_hub in /opt/conda/lib/python3.9/site-packages (from timm) (0.30.2)\n",
      "Requirement already satisfied: torch in /opt/conda/lib/python3.9/site-packages (from timm) (1.13.1)\n",
      "Requirement already satisfied: safetensors in /opt/conda/lib/python3.9/site-packages (from timm) (0.5.3)\n",
      "Requirement already satisfied: filelock in /opt/conda/lib/python3.9/site-packages (from huggingface_hub->timm) (3.17.0)\n",
      "Requirement already satisfied: requests in /opt/conda/lib/python3.9/site-packages (from huggingface_hub->timm) (2.32.3)\n",
      "Requirement already satisfied: tqdm>=4.42.1 in /opt/conda/lib/python3.9/site-packages (from huggingface_hub->timm) (4.64.1)\n",
      "Requirement already satisfied: fsspec>=2023.5.0 in /opt/conda/lib/python3.9/site-packages (from huggingface_hub->timm) (2025.3.2)\n",
      "Requirement already satisfied: typing-extensions>=3.7.4.3 in /opt/conda/lib/python3.9/site-packages (from huggingface_hub->timm) (4.13.2)\n",
      "Requirement already satisfied: packaging>=20.9 in /opt/conda/lib/python3.9/site-packages (from huggingface_hub->timm) (24.2)\n",
      "Requirement already satisfied: nvidia-cudnn-cu11==8.5.0.96 in /opt/conda/lib/python3.9/site-packages (from torch->timm) (8.5.0.96)\n",
      "Requirement already satisfied: nvidia-cuda-runtime-cu11==11.7.99 in /opt/conda/lib/python3.9/site-packages (from torch->timm) (11.7.99)\n",
      "Requirement already satisfied: nvidia-cuda-nvrtc-cu11==11.7.99 in /opt/conda/lib/python3.9/site-packages (from torch->timm) (11.7.99)\n",
      "Requirement already satisfied: nvidia-cublas-cu11==11.10.3.66 in /opt/conda/lib/python3.9/site-packages (from torch->timm) (11.10.3.66)\n",
      "Requirement already satisfied: setuptools in /opt/conda/lib/python3.9/site-packages (from nvidia-cublas-cu11==11.10.3.66->torch->timm) (65.4.1)\n",
      "Requirement already satisfied: wheel in /opt/conda/lib/python3.9/site-packages (from nvidia-cublas-cu11==11.10.3.66->torch->timm) (0.37.1)\n",
      "Requirement already satisfied: pillow!=8.3.*,>=5.3.0 in /opt/conda/lib/python3.9/site-packages (from torchvision->timm) (9.4.0)\n",
      "Requirement already satisfied: numpy in /opt/conda/lib/python3.9/site-packages (from torchvision->timm) (1.23.3)\n",
      "Requirement already satisfied: urllib3<3,>=1.21.1 in /opt/conda/lib/python3.9/site-packages (from requests->huggingface_hub->timm) (2.4.0)\n",
      "Requirement already satisfied: charset-normalizer<4,>=2 in /opt/conda/lib/python3.9/site-packages (from requests->huggingface_hub->timm) (2.1.1)\n",
      "Requirement already satisfied: certifi>=2017.4.17 in /opt/conda/lib/python3.9/site-packages (from requests->huggingface_hub->timm) (2025.1.31)\n",
      "Requirement already satisfied: idna<4,>=2.5 in /opt/conda/lib/python3.9/site-packages (from requests->huggingface_hub->timm) (3.4)\n",
      "\u001b[33mWARNING: Running pip as the 'root' user can result in broken permissions and conflicting behaviour with the system package manager. It is recommended to use a virtual environment instead: https://pip.pypa.io/warnings/venv\u001b[0m\u001b[33m\n",
      "\u001b[0m"
     ]
    }
   ],
   "source": [
    "!pip install timm\n"
   ]
  },
  {
   "cell_type": "code",
   "execution_count": 13,
   "id": "414540cd-824c-4fd0-8866-2d506f86b17c",
   "metadata": {
    "execution": {
     "iopub.execute_input": "2025-05-20T17:50:45.797941Z",
     "iopub.status.busy": "2025-05-20T17:50:45.797313Z",
     "iopub.status.idle": "2025-05-20T17:50:48.380140Z",
     "shell.execute_reply": "2025-05-20T17:50:48.379328Z",
     "shell.execute_reply.started": "2025-05-20T17:50:45.797903Z"
    },
    "tags": []
   },
   "outputs": [
    {
     "name": "stderr",
     "output_type": "stream",
     "text": [
      "/opt/conda/lib/python3.9/site-packages/timm/models/_factory.py:126: UserWarning: Mapping deprecated model name xception to current legacy_xception.\n",
      "  model = create_fn(\n"
     ]
    }
   ],
   "source": [
    "import torch\n",
    "import torch.nn as nn\n",
    "import torchvision.models as models\n",
    "\n",
    "num_classes = 120  # Dog Breed Identification 有 120 類別\n",
    "device = torch.device(\"cuda\" if torch.cuda.is_available() else \"cpu\")\n",
    "\n",
    "import timm\n",
    "\n",
    "# timm 中的 xception 模型，使用預訓練權重\n",
    "model = timm.create_model('xception', pretrained=True, num_classes=num_classes)\n",
    "\n",
    "\n",
    "# 搬移到裝置（GPU 或 CPU）\n",
    "model = model.to(device)"
   ]
  },
  {
   "cell_type": "code",
   "execution_count": 14,
   "id": "ac519f99-2c79-4f8d-bfb1-0943e5807ca6",
   "metadata": {
    "execution": {
     "iopub.execute_input": "2025-05-20T17:50:48.381315Z",
     "iopub.status.busy": "2025-05-20T17:50:48.381067Z",
     "iopub.status.idle": "2025-05-20T17:50:48.389672Z",
     "shell.execute_reply": "2025-05-20T17:50:48.389099Z",
     "shell.execute_reply.started": "2025-05-20T17:50:48.381291Z"
    },
    "tags": []
   },
   "outputs": [],
   "source": [
    "from torch.optim import AdamW\n",
    "from torch.optim.lr_scheduler import LinearLR\n",
    "num_epochs = 30\n",
    "# 1. 計算 class weights（根據整體 dataset 分布）\n",
    "from collections import Counter\n",
    "\n",
    "label_counts = Counter(dataset.labels)\n",
    "num_classes = 120\n",
    "class_counts = [label_counts[i] for i in range(num_classes)]\n",
    "\n",
    "# 權重：類別樣本越少，損失權重越高\n",
    "weights = [1.0 / c for c in class_counts]\n",
    "weights = torch.tensor(weights, dtype=torch.float).to(device)\n",
    "import torch.optim as optim\n",
    "from torch.optim.lr_scheduler import ReduceLROnPlateau\n",
    "# 定義損失函數與優化器\n",
    "criterion = nn.CrossEntropyLoss()\n",
    "optimizer = optim.SGD(model.parameters(), lr=0.01, momentum=0.9)\n",
    "scheduler = ReduceLROnPlateau(optimizer, mode='min', patience=2, factor=0.5)\n"
   ]
  },
  {
   "cell_type": "code",
   "execution_count": 15,
   "id": "25cf8137-76e5-484b-95d2-fbf22792cd72",
   "metadata": {
    "execution": {
     "iopub.execute_input": "2025-05-20T17:50:48.390540Z",
     "iopub.status.busy": "2025-05-20T17:50:48.390321Z",
     "iopub.status.idle": "2025-05-20T18:47:51.673069Z",
     "shell.execute_reply": "2025-05-20T18:47:51.671807Z",
     "shell.execute_reply.started": "2025-05-20T17:50:48.390520Z"
    },
    "tags": []
   },
   "outputs": [
    {
     "name": "stdout",
     "output_type": "stream",
     "text": [
      "Epoch 1/30, Loss: 2.1528, Accuracy: 55.26%\n",
      "Validation Loss: 0.9436, Validation Accuracy: 73.43%\n",
      "Epoch 2/30, Loss: 0.7942, Accuracy: 77.93%\n",
      "Validation Loss: 0.7749, Validation Accuracy: 76.96%\n",
      "Epoch 3/30, Loss: 0.5943, Accuracy: 82.43%\n",
      "Validation Loss: 0.8110, Validation Accuracy: 75.59%\n",
      "Epoch 4/30, Loss: 0.4804, Accuracy: 85.72%\n",
      "Validation Loss: 0.7722, Validation Accuracy: 75.98%\n",
      "Epoch 5/30, Loss: 0.3068, Accuracy: 91.07%\n",
      "Validation Loss: 0.7093, Validation Accuracy: 79.26%\n",
      "Epoch 6/30, Loss: 0.2373, Accuracy: 93.30%\n",
      "Validation Loss: 0.7055, Validation Accuracy: 79.06%\n",
      "Epoch 7/30, Loss: 0.1873, Accuracy: 94.69%\n",
      "Validation Loss: 0.6994, Validation Accuracy: 79.70%\n",
      "Epoch 8/30, Loss: 0.1457, Accuracy: 96.55%\n",
      "Validation Loss: 0.6646, Validation Accuracy: 80.63%\n",
      "Epoch 9/30, Loss: 0.1354, Accuracy: 96.55%\n",
      "Validation Loss: 0.6624, Validation Accuracy: 80.38%\n",
      "Epoch 10/30, Loss: 0.1261, Accuracy: 97.14%\n",
      "Validation Loss: 0.6994, Validation Accuracy: 79.89%\n",
      "Epoch 11/30, Loss: 0.1076, Accuracy: 97.32%\n",
      "Validation Loss: 0.6813, Validation Accuracy: 80.23%\n",
      "Epoch 12/30, Loss: 0.1025, Accuracy: 97.58%\n",
      "Validation Loss: 0.6727, Validation Accuracy: 81.26%\n",
      "Epoch 13/30, Loss: 0.1003, Accuracy: 97.65%\n",
      "Validation Loss: 0.6553, Validation Accuracy: 81.95%\n",
      "Epoch 14/30, Loss: 0.0879, Accuracy: 98.15%\n",
      "Validation Loss: 0.6664, Validation Accuracy: 81.16%\n",
      "Epoch 15/30, Loss: 0.0918, Accuracy: 98.03%\n",
      "Validation Loss: 0.6519, Validation Accuracy: 81.02%\n",
      "Epoch 16/30, Loss: 0.0890, Accuracy: 98.17%\n",
      "Validation Loss: 0.6293, Validation Accuracy: 81.12%\n",
      "Epoch 17/30, Loss: 0.0789, Accuracy: 98.46%\n",
      "Validation Loss: 0.6716, Validation Accuracy: 81.12%\n",
      "Epoch 18/30, Loss: 0.0815, Accuracy: 98.28%\n",
      "Validation Loss: 0.6488, Validation Accuracy: 81.07%\n",
      "Epoch 19/30, Loss: 0.0781, Accuracy: 98.30%\n",
      "Validation Loss: 0.6239, Validation Accuracy: 82.63%\n",
      "Epoch 20/30, Loss: 0.0774, Accuracy: 98.42%\n",
      "Validation Loss: 0.6431, Validation Accuracy: 81.46%\n",
      "Epoch 21/30, Loss: 0.0835, Accuracy: 98.32%\n",
      "Validation Loss: 0.6452, Validation Accuracy: 82.05%\n",
      "Epoch 22/30, Loss: 0.0781, Accuracy: 98.47%\n",
      "Validation Loss: 0.6664, Validation Accuracy: 81.56%\n",
      "Epoch 23/30, Loss: 0.0809, Accuracy: 98.34%\n",
      "Validation Loss: 0.6645, Validation Accuracy: 81.12%\n",
      "Epoch 24/30, Loss: 0.0754, Accuracy: 98.56%\n",
      "Validation Loss: 0.6718, Validation Accuracy: 80.68%\n",
      "Epoch 25/30, Loss: 0.0831, Accuracy: 98.29%\n",
      "Validation Loss: 0.6543, Validation Accuracy: 81.21%\n",
      "Epoch 26/30, Loss: 0.0793, Accuracy: 98.34%\n",
      "Validation Loss: 0.6885, Validation Accuracy: 80.77%\n",
      "Epoch 27/30, Loss: 0.0859, Accuracy: 98.21%\n",
      "Validation Loss: 0.6195, Validation Accuracy: 82.49%\n",
      "Epoch 28/30, Loss: 0.0805, Accuracy: 98.53%\n",
      "Validation Loss: 0.6847, Validation Accuracy: 81.75%\n",
      "Epoch 29/30, Loss: 0.0797, Accuracy: 98.32%\n",
      "Validation Loss: 0.6587, Validation Accuracy: 80.72%\n",
      "Epoch 30/30, Loss: 0.0790, Accuracy: 98.51%\n",
      "Validation Loss: 0.6775, Validation Accuracy: 81.26%\n"
     ]
    }
   ],
   "source": [
    "\n",
    "for epoch in range(num_epochs):\n",
    "    model.train()  # 訓練模式\n",
    "    running_loss = 0.0\n",
    "    correct = 0\n",
    "    total = 0\n",
    "\n",
    "    for images, labels in train_loader:\n",
    "        images, labels = images.to(device), labels.to(device)\n",
    "\n",
    "        # 清零梯度\n",
    "        optimizer.zero_grad()\n",
    "\n",
    "        # 前向傳播\n",
    "        outputs = model(images)\n",
    "        loss = criterion(outputs, labels)\n",
    "\n",
    "        # 反向傳播\n",
    "        loss.backward()\n",
    "        optimizer.step()\n",
    "\n",
    "        running_loss += loss.item()\n",
    "\n",
    "        # 計算準確率\n",
    "        _, predicted = torch.max(outputs, 1)\n",
    "        total += labels.size(0)\n",
    "        correct += (predicted == labels).sum().item()\n",
    "\n",
    "    # 更新學習率\n",
    "    scheduler.step(epoch)\n",
    "\n",
    "\n",
    "    epoch_loss = running_loss / len(train_loader)\n",
    "    epoch_accuracy = 100 * correct / total\n",
    "\n",
    "    print(f\"Epoch {epoch+1}/{num_epochs}, Loss: {epoch_loss:.4f}, Accuracy: {epoch_accuracy:.2f}%\")\n",
    "\n",
    "    # 在每個 epoch 結束後評估模型在驗證集上的表現\n",
    "    model.eval()  # 評估模式\n",
    "    val_loss = 0.0\n",
    "    correct = 0\n",
    "    total = 0\n",
    "\n",
    "    with torch.no_grad():\n",
    "        for images, labels in val_loader:\n",
    "            images, labels = images.to(device), labels.to(device)\n",
    "\n",
    "            outputs = model(images)\n",
    "            loss = criterion(outputs, labels)\n",
    "\n",
    "            val_loss += loss.item()\n",
    "\n",
    "            _, predicted = torch.max(outputs, 1)\n",
    "            total += labels.size(0)\n",
    "            correct += (predicted == labels).sum().item()\n",
    "\n",
    "    val_loss /= len(val_loader)\n",
    "    val_accuracy = 100 * correct / total\n",
    "\n",
    "    print(f\"Validation Loss: {val_loss:.4f}, Validation Accuracy: {val_accuracy:.2f}%\")\n"
   ]
  },
  {
   "cell_type": "code",
   "execution_count": 16,
   "id": "8d306abf-c908-4307-afa8-ffd890aee88f",
   "metadata": {
    "execution": {
     "iopub.execute_input": "2025-05-20T18:47:51.674581Z",
     "iopub.status.busy": "2025-05-20T18:47:51.674302Z",
     "iopub.status.idle": "2025-05-20T18:47:51.914260Z",
     "shell.execute_reply": "2025-05-20T18:47:51.913016Z",
     "shell.execute_reply.started": "2025-05-20T18:47:51.674555Z"
    },
    "tags": []
   },
   "outputs": [],
   "source": [
    "# 保存訓練後的模型\n",
    "torch.save(model.state_dict(), \"dog_breed_model.pth\")\n"
   ]
  },
  {
   "cell_type": "code",
   "execution_count": 17,
   "id": "bd237980-ad71-4780-8b12-3bf900b5abf9",
   "metadata": {
    "execution": {
     "iopub.execute_input": "2025-05-20T18:47:51.916057Z",
     "iopub.status.busy": "2025-05-20T18:47:51.915641Z",
     "iopub.status.idle": "2025-05-20T18:48:02.693500Z",
     "shell.execute_reply": "2025-05-20T18:48:02.692216Z",
     "shell.execute_reply.started": "2025-05-20T18:47:51.916020Z"
    },
    "tags": []
   },
   "outputs": [
    {
     "name": "stdout",
     "output_type": "stream",
     "text": [
      "Test Accuracy: 80.92%\n"
     ]
    }
   ],
   "source": [
    "# 測試集的評估\n",
    "test_accuracy = 0\n",
    "with torch.no_grad():\n",
    "    for images, labels in val_loader:\n",
    "        images, labels = images.to(device), labels.to(device)\n",
    "\n",
    "        outputs = model(images)\n",
    "        _, predicted = torch.max(outputs, 1)\n",
    "\n",
    "        test_accuracy += (predicted == labels).sum().item()\n",
    "\n",
    "test_accuracy = 100 * test_accuracy / len(val_dataset)\n",
    "print(f\"Test Accuracy: {test_accuracy:.2f}%\")\n",
    "\n",
    "import os"
   ]
  },
  {
   "cell_type": "code",
   "execution_count": 18,
   "id": "7ca7a9f2-4bb1-49ac-a672-b956ac8f78d3",
   "metadata": {
    "execution": {
     "iopub.execute_input": "2025-05-20T18:48:02.695115Z",
     "iopub.status.busy": "2025-05-20T18:48:02.694850Z",
     "iopub.status.idle": "2025-05-20T18:48:02.703215Z",
     "shell.execute_reply": "2025-05-20T18:48:02.702286Z",
     "shell.execute_reply.started": "2025-05-20T18:48:02.695090Z"
    },
    "tags": []
   },
   "outputs": [],
   "source": [
    "from PIL import Image\n",
    "from torch.utils.data import Dataset, DataLoader\n",
    "from torchvision import transforms\n",
    "\n",
    "class TestImageDataset(Dataset):\n",
    "    def __init__(self, image_folder, transform=None):\n",
    "        self.image_folder = image_folder\n",
    "        self.image_filenames = sorted(os.listdir(image_folder))\n",
    "        self.transform = transform\n",
    "\n",
    "    def __len__(self):\n",
    "        return len(self.image_filenames)\n",
    "\n",
    "    def __getitem__(self, idx):\n",
    "        img_name = self.image_filenames[idx]\n",
    "        img_path = os.path.join(self.image_folder, img_name)\n",
    "        image = Image.open(img_path).convert('RGB')\n",
    "        if self.transform:\n",
    "            image = self.transform(image)\n",
    "        return image, img_name.split('.')[0]  # 傳回 image tensor 和 id（"
   ]
  },
  {
   "cell_type": "code",
   "execution_count": 19,
   "id": "b1813979-8cf3-431f-9fad-e31e729a397a",
   "metadata": {
    "execution": {
     "iopub.execute_input": "2025-05-20T18:48:02.704253Z",
     "iopub.status.busy": "2025-05-20T18:48:02.704033Z",
     "iopub.status.idle": "2025-05-20T18:48:02.719632Z",
     "shell.execute_reply": "2025-05-20T18:48:02.718747Z",
     "shell.execute_reply.started": "2025-05-20T18:48:02.704233Z"
    },
    "tags": []
   },
   "outputs": [],
   "source": [
    "# 取得所有類別名稱，需排序以符合 submission 格式\n",
    "all_breeds = sorted(dataset.class_to_idx.keys())\n",
    "\n",
    "# 建立 mapping\n",
    "idx_to_class = {v: k for k, v in dataset.class_to_idx.items()}\n",
    "# 修正 Test transform 使用與訓練相同的 ImageNet 格式\n",
    "test_transform = transforms.Compose([\n",
    "    transforms.Resize((224, 224)),\n",
    "    transforms.ToTensor(),\n",
    "    transforms.Normalize((0.485, 0.456, 0.406),  # 與訓練相同\n",
    "                         (0.229, 0.224, 0.225))\n",
    "])\n",
    "\n",
    "\n",
    "# 設定測試資料夾路徑\n",
    "test_folder = 'dog-breed-identification/test'  # 請確認實際位置\n",
    "\n",
    "# 建立 DataLoader\n",
    "test_dataset = TestImageDataset(test_folder, transform=test_transform)\n",
    "test_loader = DataLoader(test_dataset, batch_size=64, shuffle=False)\n",
    "\n",
    "# 建立 DataFrame 儲存預測結果\n",
    "results = []"
   ]
  },
  {
   "cell_type": "code",
   "execution_count": 20,
   "id": "016331d2-68f7-459b-bdfb-ffaf026869c0",
   "metadata": {
    "execution": {
     "iopub.execute_input": "2025-05-20T18:48:02.720529Z",
     "iopub.status.busy": "2025-05-20T18:48:02.720312Z",
     "iopub.status.idle": "2025-05-20T19:03:01.333873Z",
     "shell.execute_reply": "2025-05-20T19:03:01.332654Z",
     "shell.execute_reply.started": "2025-05-20T18:48:02.720508Z"
    },
    "tags": []
   },
   "outputs": [
    {
     "name": "stdout",
     "output_type": "stream",
     "text": [
      "✅ submission1.csv 轉換完成，可上傳至 Kaggle！\n"
     ]
    }
   ],
   "source": [
    "with torch.no_grad():\n",
    "    for inputs, image_ids in test_loader:\n",
    "        inputs = inputs.to(device)\n",
    "        outputs = model(inputs)\n",
    "        _, preds = torch.max(outputs, 1)\n",
    "        for img_id, pred in zip(image_ids, preds.cpu()):\n",
    "            breed = idx_to_class[pred.item()]\n",
    "            row = {\"id\": img_id}\n",
    "            for b in all_breeds:\n",
    "                row[b] = 1 if b == breed else 0\n",
    "            results.append(row)\n",
    "\n",
    "# 輸出為符合要求的 CSV\n",
    "df = pd.DataFrame(results)\n",
    "df.to_csv(\"submission4.csv\", index=False)\n",
    "print(\"✅ submission1.csv 轉換完成，可上傳至 Kaggle！\")"
   ]
  },
  {
   "cell_type": "code",
   "execution_count": null,
   "id": "1c3d06b3-47b2-495e-a7f4-7479bdf13961",
   "metadata": {},
   "outputs": [],
   "source": []
  },
  {
   "cell_type": "code",
   "execution_count": null,
   "id": "0bb9b984-5dde-417b-b18e-729bb2a54263",
   "metadata": {},
   "outputs": [],
   "source": []
  }
 ],
 "metadata": {
  "kernelspec": {
   "display_name": "Python 3 (ipykernel)",
   "language": "python",
   "name": "python3"
  },
  "language_info": {
   "codemirror_mode": {
    "name": "ipython",
    "version": 3
   },
   "file_extension": ".py",
   "mimetype": "text/x-python",
   "name": "python",
   "nbconvert_exporter": "python",
   "pygments_lexer": "ipython3",
   "version": "3.9.13"
  }
 },
 "nbformat": 4,
 "nbformat_minor": 5
}
